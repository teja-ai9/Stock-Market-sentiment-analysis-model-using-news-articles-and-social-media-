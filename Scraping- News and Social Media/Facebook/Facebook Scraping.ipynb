{
 "cells": [
  {
   "cell_type": "code",
   "execution_count": 1,
   "id": "9c2375f4",
   "metadata": {},
   "outputs": [],
   "source": [
    "from facebook_scraper import get_posts\n",
    "import pandas as pd"
   ]
  },
  {
   "cell_type": "code",
   "execution_count": 2,
   "id": "8d5f8366",
   "metadata": {},
   "outputs": [
    {
     "name": "stderr",
     "output_type": "stream",
     "text": [
      "C:\\Users\\Sree Vidya\\anaconda3\\lib\\site-packages\\facebook_scraper\\facebook_scraper.py:912: UserWarning: Facebook says 'Unsupported Browser'\n",
      "  warnings.warn(f\"Facebook says 'Unsupported Browser'\")\n",
      "C:\\Users\\Sree Vidya\\anaconda3\\lib\\site-packages\\dateparser\\freshness_date_parser.py:76: PytzUsageWarning: The localize method is no longer necessary, as this time zone supports the fold attribute (PEP 495). For more details on migrating to a PEP 495-compliant implementation, see https://pytz-deprecation-shim.readthedocs.io/en/latest/migration.html\n",
      "  now = self.get_local_tz().localize(now)\n",
      "C:\\Users\\Sree Vidya\\AppData\\Local\\Temp\\ipykernel_11400\\3600050919.py:6: FutureWarning: The frame.append method is deprecated and will be removed from pandas in a future version. Use pandas.concat instead.\n",
      "  post_df_full = post_df_full.append(fb_post_df)\n"
     ]
    },
    {
     "name": "stdout",
     "output_type": "stream",
     "text": [
      "8638312616240835 get\n"
     ]
    },
    {
     "name": "stderr",
     "output_type": "stream",
     "text": [
      "C:\\Users\\Sree Vidya\\anaconda3\\lib\\site-packages\\facebook_scraper\\facebook_scraper.py:912: UserWarning: Facebook says 'Unsupported Browser'\n",
      "  warnings.warn(f\"Facebook says 'Unsupported Browser'\")\n",
      "C:\\Users\\Sree Vidya\\anaconda3\\lib\\site-packages\\dateparser\\freshness_date_parser.py:76: PytzUsageWarning: The localize method is no longer necessary, as this time zone supports the fold attribute (PEP 495). For more details on migrating to a PEP 495-compliant implementation, see https://pytz-deprecation-shim.readthedocs.io/en/latest/migration.html\n",
      "  now = self.get_local_tz().localize(now)\n",
      "C:\\Users\\Sree Vidya\\AppData\\Local\\Temp\\ipykernel_11400\\3600050919.py:6: FutureWarning: The frame.append method is deprecated and will be removed from pandas in a future version. Use pandas.concat instead.\n",
      "  post_df_full = post_df_full.append(fb_post_df)\n"
     ]
    },
    {
     "name": "stdout",
     "output_type": "stream",
     "text": [
      "8632807603458003 get\n"
     ]
    },
    {
     "name": "stderr",
     "output_type": "stream",
     "text": [
      "C:\\Users\\Sree Vidya\\anaconda3\\lib\\site-packages\\facebook_scraper\\facebook_scraper.py:912: UserWarning: Facebook says 'Unsupported Browser'\n",
      "  warnings.warn(f\"Facebook says 'Unsupported Browser'\")\n",
      "C:\\Users\\Sree Vidya\\anaconda3\\lib\\site-packages\\dateparser\\freshness_date_parser.py:76: PytzUsageWarning: The localize method is no longer necessary, as this time zone supports the fold attribute (PEP 495). For more details on migrating to a PEP 495-compliant implementation, see https://pytz-deprecation-shim.readthedocs.io/en/latest/migration.html\n",
      "  now = self.get_local_tz().localize(now)\n",
      "C:\\Users\\Sree Vidya\\AppData\\Local\\Temp\\ipykernel_11400\\3600050919.py:6: FutureWarning: The frame.append method is deprecated and will be removed from pandas in a future version. Use pandas.concat instead.\n",
      "  post_df_full = post_df_full.append(fb_post_df)\n"
     ]
    },
    {
     "name": "stdout",
     "output_type": "stream",
     "text": [
      "8629089793829784 get\n"
     ]
    },
    {
     "name": "stderr",
     "output_type": "stream",
     "text": [
      "C:\\Users\\Sree Vidya\\anaconda3\\lib\\site-packages\\facebook_scraper\\facebook_scraper.py:912: UserWarning: Facebook says 'Unsupported Browser'\n",
      "  warnings.warn(f\"Facebook says 'Unsupported Browser'\")\n",
      "C:\\Users\\Sree Vidya\\AppData\\Local\\Temp\\ipykernel_11400\\3600050919.py:6: FutureWarning: The frame.append method is deprecated and will be removed from pandas in a future version. Use pandas.concat instead.\n",
      "  post_df_full = post_df_full.append(fb_post_df)\n"
     ]
    },
    {
     "name": "stdout",
     "output_type": "stream",
     "text": [
      "8628552677216829 get\n"
     ]
    },
    {
     "name": "stderr",
     "output_type": "stream",
     "text": [
      "C:\\Users\\Sree Vidya\\anaconda3\\lib\\site-packages\\facebook_scraper\\facebook_scraper.py:912: UserWarning: Facebook says 'Unsupported Browser'\n",
      "  warnings.warn(f\"Facebook says 'Unsupported Browser'\")\n",
      "C:\\Users\\Sree Vidya\\anaconda3\\lib\\site-packages\\dateparser\\freshness_date_parser.py:76: PytzUsageWarning: The localize method is no longer necessary, as this time zone supports the fold attribute (PEP 495). For more details on migrating to a PEP 495-compliant implementation, see https://pytz-deprecation-shim.readthedocs.io/en/latest/migration.html\n",
      "  now = self.get_local_tz().localize(now)\n",
      "C:\\Users\\Sree Vidya\\AppData\\Local\\Temp\\ipykernel_11400\\3600050919.py:6: FutureWarning: The frame.append method is deprecated and will be removed from pandas in a future version. Use pandas.concat instead.\n",
      "  post_df_full = post_df_full.append(fb_post_df)\n"
     ]
    },
    {
     "name": "stdout",
     "output_type": "stream",
     "text": [
      "8628428463895917 get\n"
     ]
    },
    {
     "name": "stderr",
     "output_type": "stream",
     "text": [
      "C:\\Users\\Sree Vidya\\anaconda3\\lib\\site-packages\\facebook_scraper\\facebook_scraper.py:912: UserWarning: Facebook says 'Unsupported Browser'\n",
      "  warnings.warn(f\"Facebook says 'Unsupported Browser'\")\n",
      "C:\\Users\\Sree Vidya\\anaconda3\\lib\\site-packages\\dateparser\\freshness_date_parser.py:76: PytzUsageWarning: The localize method is no longer necessary, as this time zone supports the fold attribute (PEP 495). For more details on migrating to a PEP 495-compliant implementation, see https://pytz-deprecation-shim.readthedocs.io/en/latest/migration.html\n",
      "  now = self.get_local_tz().localize(now)\n",
      "C:\\Users\\Sree Vidya\\AppData\\Local\\Temp\\ipykernel_11400\\3600050919.py:6: FutureWarning: The frame.append method is deprecated and will be removed from pandas in a future version. Use pandas.concat instead.\n",
      "  post_df_full = post_df_full.append(fb_post_df)\n"
     ]
    },
    {
     "name": "stdout",
     "output_type": "stream",
     "text": [
      "8627759863962777 get\n"
     ]
    },
    {
     "name": "stderr",
     "output_type": "stream",
     "text": [
      "C:\\Users\\Sree Vidya\\anaconda3\\lib\\site-packages\\facebook_scraper\\facebook_scraper.py:912: UserWarning: Facebook says 'Unsupported Browser'\n",
      "  warnings.warn(f\"Facebook says 'Unsupported Browser'\")\n",
      "C:\\Users\\Sree Vidya\\anaconda3\\lib\\site-packages\\dateparser\\freshness_date_parser.py:76: PytzUsageWarning: The localize method is no longer necessary, as this time zone supports the fold attribute (PEP 495). For more details on migrating to a PEP 495-compliant implementation, see https://pytz-deprecation-shim.readthedocs.io/en/latest/migration.html\n",
      "  now = self.get_local_tz().localize(now)\n",
      "C:\\Users\\Sree Vidya\\AppData\\Local\\Temp\\ipykernel_11400\\3600050919.py:6: FutureWarning: The frame.append method is deprecated and will be removed from pandas in a future version. Use pandas.concat instead.\n",
      "  post_df_full = post_df_full.append(fb_post_df)\n"
     ]
    },
    {
     "name": "stdout",
     "output_type": "stream",
     "text": [
      "8625356227536474 get\n"
     ]
    },
    {
     "name": "stderr",
     "output_type": "stream",
     "text": [
      "C:\\Users\\Sree Vidya\\anaconda3\\lib\\site-packages\\facebook_scraper\\facebook_scraper.py:912: UserWarning: Facebook says 'Unsupported Browser'\n",
      "  warnings.warn(f\"Facebook says 'Unsupported Browser'\")\n",
      "C:\\Users\\Sree Vidya\\anaconda3\\lib\\site-packages\\dateparser\\freshness_date_parser.py:76: PytzUsageWarning: The localize method is no longer necessary, as this time zone supports the fold attribute (PEP 495). For more details on migrating to a PEP 495-compliant implementation, see https://pytz-deprecation-shim.readthedocs.io/en/latest/migration.html\n",
      "  now = self.get_local_tz().localize(now)\n",
      "C:\\Users\\Sree Vidya\\AppData\\Local\\Temp\\ipykernel_11400\\3600050919.py:6: FutureWarning: The frame.append method is deprecated and will be removed from pandas in a future version. Use pandas.concat instead.\n",
      "  post_df_full = post_df_full.append(fb_post_df)\n"
     ]
    },
    {
     "name": "stdout",
     "output_type": "stream",
     "text": [
      "8621042761301154 get\n"
     ]
    },
    {
     "name": "stderr",
     "output_type": "stream",
     "text": [
      "C:\\Users\\Sree Vidya\\anaconda3\\lib\\site-packages\\facebook_scraper\\facebook_scraper.py:912: UserWarning: Facebook says 'Unsupported Browser'\n",
      "  warnings.warn(f\"Facebook says 'Unsupported Browser'\")\n",
      "C:\\Users\\Sree Vidya\\anaconda3\\lib\\site-packages\\dateparser\\freshness_date_parser.py:76: PytzUsageWarning: The localize method is no longer necessary, as this time zone supports the fold attribute (PEP 495). For more details on migrating to a PEP 495-compliant implementation, see https://pytz-deprecation-shim.readthedocs.io/en/latest/migration.html\n",
      "  now = self.get_local_tz().localize(now)\n",
      "C:\\Users\\Sree Vidya\\AppData\\Local\\Temp\\ipykernel_11400\\3600050919.py:6: FutureWarning: The frame.append method is deprecated and will be removed from pandas in a future version. Use pandas.concat instead.\n",
      "  post_df_full = post_df_full.append(fb_post_df)\n"
     ]
    },
    {
     "name": "stdout",
     "output_type": "stream",
     "text": [
      "8620937174645046 get\n"
     ]
    },
    {
     "name": "stderr",
     "output_type": "stream",
     "text": [
      "C:\\Users\\Sree Vidya\\anaconda3\\lib\\site-packages\\facebook_scraper\\facebook_scraper.py:912: UserWarning: Facebook says 'Unsupported Browser'\n",
      "  warnings.warn(f\"Facebook says 'Unsupported Browser'\")\n",
      "C:\\Users\\Sree Vidya\\anaconda3\\lib\\site-packages\\dateparser\\freshness_date_parser.py:76: PytzUsageWarning: The localize method is no longer necessary, as this time zone supports the fold attribute (PEP 495). For more details on migrating to a PEP 495-compliant implementation, see https://pytz-deprecation-shim.readthedocs.io/en/latest/migration.html\n",
      "  now = self.get_local_tz().localize(now)\n",
      "C:\\Users\\Sree Vidya\\AppData\\Local\\Temp\\ipykernel_11400\\3600050919.py:6: FutureWarning: The frame.append method is deprecated and will be removed from pandas in a future version. Use pandas.concat instead.\n",
      "  post_df_full = post_df_full.append(fb_post_df)\n"
     ]
    },
    {
     "name": "stdout",
     "output_type": "stream",
     "text": [
      "8620302151375215 get\n"
     ]
    },
    {
     "name": "stderr",
     "output_type": "stream",
     "text": [
      "C:\\Users\\Sree Vidya\\anaconda3\\lib\\site-packages\\facebook_scraper\\facebook_scraper.py:912: UserWarning: Facebook says 'Unsupported Browser'\n",
      "  warnings.warn(f\"Facebook says 'Unsupported Browser'\")\n",
      "C:\\Users\\Sree Vidya\\anaconda3\\lib\\site-packages\\dateparser\\freshness_date_parser.py:76: PytzUsageWarning: The localize method is no longer necessary, as this time zone supports the fold attribute (PEP 495). For more details on migrating to a PEP 495-compliant implementation, see https://pytz-deprecation-shim.readthedocs.io/en/latest/migration.html\n",
      "  now = self.get_local_tz().localize(now)\n",
      "C:\\Users\\Sree Vidya\\AppData\\Local\\Temp\\ipykernel_11400\\3600050919.py:6: FutureWarning: The frame.append method is deprecated and will be removed from pandas in a future version. Use pandas.concat instead.\n",
      "  post_df_full = post_df_full.append(fb_post_df)\n"
     ]
    },
    {
     "name": "stdout",
     "output_type": "stream",
     "text": [
      "8618521688219928 get\n"
     ]
    },
    {
     "name": "stderr",
     "output_type": "stream",
     "text": [
      "C:\\Users\\Sree Vidya\\anaconda3\\lib\\site-packages\\facebook_scraper\\facebook_scraper.py:912: UserWarning: Facebook says 'Unsupported Browser'\n",
      "  warnings.warn(f\"Facebook says 'Unsupported Browser'\")\n",
      "C:\\Users\\Sree Vidya\\anaconda3\\lib\\site-packages\\dateparser\\freshness_date_parser.py:76: PytzUsageWarning: The localize method is no longer necessary, as this time zone supports the fold attribute (PEP 495). For more details on migrating to a PEP 495-compliant implementation, see https://pytz-deprecation-shim.readthedocs.io/en/latest/migration.html\n",
      "  now = self.get_local_tz().localize(now)\n",
      "C:\\Users\\Sree Vidya\\AppData\\Local\\Temp\\ipykernel_11400\\3600050919.py:6: FutureWarning: The frame.append method is deprecated and will be removed from pandas in a future version. Use pandas.concat instead.\n",
      "  post_df_full = post_df_full.append(fb_post_df)\n"
     ]
    },
    {
     "name": "stdout",
     "output_type": "stream",
     "text": [
      "8616231468448950 get\n"
     ]
    },
    {
     "name": "stderr",
     "output_type": "stream",
     "text": [
      "C:\\Users\\Sree Vidya\\anaconda3\\lib\\site-packages\\facebook_scraper\\facebook_scraper.py:912: UserWarning: Facebook says 'Unsupported Browser'\n",
      "  warnings.warn(f\"Facebook says 'Unsupported Browser'\")\n",
      "C:\\Users\\Sree Vidya\\AppData\\Local\\Temp\\ipykernel_11400\\3600050919.py:6: FutureWarning: The frame.append method is deprecated and will be removed from pandas in a future version. Use pandas.concat instead.\n",
      "  post_df_full = post_df_full.append(fb_post_df)\n"
     ]
    },
    {
     "name": "stdout",
     "output_type": "stream",
     "text": [
      "8610145869057510 get\n"
     ]
    },
    {
     "name": "stderr",
     "output_type": "stream",
     "text": [
      "C:\\Users\\Sree Vidya\\anaconda3\\lib\\site-packages\\facebook_scraper\\facebook_scraper.py:912: UserWarning: Facebook says 'Unsupported Browser'\n",
      "  warnings.warn(f\"Facebook says 'Unsupported Browser'\")\n",
      "C:\\Users\\Sree Vidya\\anaconda3\\lib\\site-packages\\dateparser\\freshness_date_parser.py:76: PytzUsageWarning: The localize method is no longer necessary, as this time zone supports the fold attribute (PEP 495). For more details on migrating to a PEP 495-compliant implementation, see https://pytz-deprecation-shim.readthedocs.io/en/latest/migration.html\n",
      "  now = self.get_local_tz().localize(now)\n",
      "C:\\Users\\Sree Vidya\\AppData\\Local\\Temp\\ipykernel_11400\\3600050919.py:6: FutureWarning: The frame.append method is deprecated and will be removed from pandas in a future version. Use pandas.concat instead.\n",
      "  post_df_full = post_df_full.append(fb_post_df)\n"
     ]
    },
    {
     "name": "stdout",
     "output_type": "stream",
     "text": [
      "8605833066155457 get\n"
     ]
    },
    {
     "name": "stderr",
     "output_type": "stream",
     "text": [
      "C:\\Users\\Sree Vidya\\anaconda3\\lib\\site-packages\\facebook_scraper\\facebook_scraper.py:912: UserWarning: Facebook says 'Unsupported Browser'\n",
      "  warnings.warn(f\"Facebook says 'Unsupported Browser'\")\n",
      "C:\\Users\\Sree Vidya\\anaconda3\\lib\\site-packages\\dateparser\\freshness_date_parser.py:76: PytzUsageWarning: The localize method is no longer necessary, as this time zone supports the fold attribute (PEP 495). For more details on migrating to a PEP 495-compliant implementation, see https://pytz-deprecation-shim.readthedocs.io/en/latest/migration.html\n",
      "  now = self.get_local_tz().localize(now)\n",
      "C:\\Users\\Sree Vidya\\AppData\\Local\\Temp\\ipykernel_11400\\3600050919.py:6: FutureWarning: The frame.append method is deprecated and will be removed from pandas in a future version. Use pandas.concat instead.\n",
      "  post_df_full = post_df_full.append(fb_post_df)\n"
     ]
    },
    {
     "name": "stdout",
     "output_type": "stream",
     "text": [
      "8604456616293102 get\n"
     ]
    },
    {
     "name": "stderr",
     "output_type": "stream",
     "text": [
      "C:\\Users\\Sree Vidya\\anaconda3\\lib\\site-packages\\facebook_scraper\\facebook_scraper.py:912: UserWarning: Facebook says 'Unsupported Browser'\n",
      "  warnings.warn(f\"Facebook says 'Unsupported Browser'\")\n",
      "C:\\Users\\Sree Vidya\\anaconda3\\lib\\site-packages\\dateparser\\freshness_date_parser.py:76: PytzUsageWarning: The localize method is no longer necessary, as this time zone supports the fold attribute (PEP 495). For more details on migrating to a PEP 495-compliant implementation, see https://pytz-deprecation-shim.readthedocs.io/en/latest/migration.html\n",
      "  now = self.get_local_tz().localize(now)\n",
      "C:\\Users\\Sree Vidya\\AppData\\Local\\Temp\\ipykernel_11400\\3600050919.py:6: FutureWarning: The frame.append method is deprecated and will be removed from pandas in a future version. Use pandas.concat instead.\n",
      "  post_df_full = post_df_full.append(fb_post_df)\n"
     ]
    },
    {
     "name": "stdout",
     "output_type": "stream",
     "text": [
      "8598112810260816 get\n"
     ]
    },
    {
     "name": "stderr",
     "output_type": "stream",
     "text": [
      "C:\\Users\\Sree Vidya\\anaconda3\\lib\\site-packages\\facebook_scraper\\facebook_scraper.py:912: UserWarning: Facebook says 'Unsupported Browser'\n",
      "  warnings.warn(f\"Facebook says 'Unsupported Browser'\")\n",
      "C:\\Users\\Sree Vidya\\anaconda3\\lib\\site-packages\\dateparser\\freshness_date_parser.py:76: PytzUsageWarning: The localize method is no longer necessary, as this time zone supports the fold attribute (PEP 495). For more details on migrating to a PEP 495-compliant implementation, see https://pytz-deprecation-shim.readthedocs.io/en/latest/migration.html\n",
      "  now = self.get_local_tz().localize(now)\n",
      "C:\\Users\\Sree Vidya\\AppData\\Local\\Temp\\ipykernel_11400\\3600050919.py:6: FutureWarning: The frame.append method is deprecated and will be removed from pandas in a future version. Use pandas.concat instead.\n",
      "  post_df_full = post_df_full.append(fb_post_df)\n"
     ]
    },
    {
     "name": "stdout",
     "output_type": "stream",
     "text": [
      "8597661040305993 get\n"
     ]
    },
    {
     "name": "stderr",
     "output_type": "stream",
     "text": [
      "C:\\Users\\Sree Vidya\\anaconda3\\lib\\site-packages\\facebook_scraper\\facebook_scraper.py:912: UserWarning: Facebook says 'Unsupported Browser'\n",
      "  warnings.warn(f\"Facebook says 'Unsupported Browser'\")\n",
      "C:\\Users\\Sree Vidya\\anaconda3\\lib\\site-packages\\dateparser\\freshness_date_parser.py:76: PytzUsageWarning: The localize method is no longer necessary, as this time zone supports the fold attribute (PEP 495). For more details on migrating to a PEP 495-compliant implementation, see https://pytz-deprecation-shim.readthedocs.io/en/latest/migration.html\n",
      "  now = self.get_local_tz().localize(now)\n",
      "C:\\Users\\Sree Vidya\\AppData\\Local\\Temp\\ipykernel_11400\\3600050919.py:6: FutureWarning: The frame.append method is deprecated and will be removed from pandas in a future version. Use pandas.concat instead.\n",
      "  post_df_full = post_df_full.append(fb_post_df)\n"
     ]
    },
    {
     "name": "stdout",
     "output_type": "stream",
     "text": [
      "8597327673672663 get\n"
     ]
    },
    {
     "name": "stderr",
     "output_type": "stream",
     "text": [
      "C:\\Users\\Sree Vidya\\anaconda3\\lib\\site-packages\\facebook_scraper\\facebook_scraper.py:912: UserWarning: Facebook says 'Unsupported Browser'\n",
      "  warnings.warn(f\"Facebook says 'Unsupported Browser'\")\n",
      "C:\\Users\\Sree Vidya\\anaconda3\\lib\\site-packages\\dateparser\\freshness_date_parser.py:76: PytzUsageWarning: The localize method is no longer necessary, as this time zone supports the fold attribute (PEP 495). For more details on migrating to a PEP 495-compliant implementation, see https://pytz-deprecation-shim.readthedocs.io/en/latest/migration.html\n",
      "  now = self.get_local_tz().localize(now)\n",
      "C:\\Users\\Sree Vidya\\AppData\\Local\\Temp\\ipykernel_11400\\3600050919.py:6: FutureWarning: The frame.append method is deprecated and will be removed from pandas in a future version. Use pandas.concat instead.\n",
      "  post_df_full = post_df_full.append(fb_post_df)\n"
     ]
    },
    {
     "name": "stdout",
     "output_type": "stream",
     "text": [
      "8596994743705956 get\n"
     ]
    },
    {
     "name": "stderr",
     "output_type": "stream",
     "text": [
      "C:\\Users\\Sree Vidya\\anaconda3\\lib\\site-packages\\facebook_scraper\\facebook_scraper.py:912: UserWarning: Facebook says 'Unsupported Browser'\n",
      "  warnings.warn(f\"Facebook says 'Unsupported Browser'\")\n",
      "C:\\Users\\Sree Vidya\\anaconda3\\lib\\site-packages\\dateparser\\freshness_date_parser.py:76: PytzUsageWarning: The localize method is no longer necessary, as this time zone supports the fold attribute (PEP 495). For more details on migrating to a PEP 495-compliant implementation, see https://pytz-deprecation-shim.readthedocs.io/en/latest/migration.html\n",
      "  now = self.get_local_tz().localize(now)\n",
      "C:\\Users\\Sree Vidya\\AppData\\Local\\Temp\\ipykernel_11400\\3600050919.py:6: FutureWarning: The frame.append method is deprecated and will be removed from pandas in a future version. Use pandas.concat instead.\n",
      "  post_df_full = post_df_full.append(fb_post_df)\n"
     ]
    },
    {
     "name": "stdout",
     "output_type": "stream",
     "text": [
      "8596660233739407 get\n"
     ]
    },
    {
     "name": "stderr",
     "output_type": "stream",
     "text": [
      "C:\\Users\\Sree Vidya\\anaconda3\\lib\\site-packages\\facebook_scraper\\facebook_scraper.py:855: UserWarning: Facebook language detected as en_GB - for best results, set to en_US\n",
      "  warnings.warn(\n",
      "C:\\Users\\Sree Vidya\\anaconda3\\lib\\site-packages\\facebook_scraper\\facebook_scraper.py:912: UserWarning: Facebook says 'Unsupported Browser'\n",
      "  warnings.warn(f\"Facebook says 'Unsupported Browser'\")\n",
      "C:\\Users\\Sree Vidya\\anaconda3\\lib\\site-packages\\dateparser\\freshness_date_parser.py:76: PytzUsageWarning: The localize method is no longer necessary, as this time zone supports the fold attribute (PEP 495). For more details on migrating to a PEP 495-compliant implementation, see https://pytz-deprecation-shim.readthedocs.io/en/latest/migration.html\n",
      "  now = self.get_local_tz().localize(now)\n",
      "C:\\Users\\Sree Vidya\\AppData\\Local\\Temp\\ipykernel_11400\\3600050919.py:6: FutureWarning: The frame.append method is deprecated and will be removed from pandas in a future version. Use pandas.concat instead.\n",
      "  post_df_full = post_df_full.append(fb_post_df)\n"
     ]
    },
    {
     "name": "stdout",
     "output_type": "stream",
     "text": [
      "8596653293740101 get\n"
     ]
    },
    {
     "name": "stderr",
     "output_type": "stream",
     "text": [
      "C:\\Users\\Sree Vidya\\anaconda3\\lib\\site-packages\\facebook_scraper\\facebook_scraper.py:912: UserWarning: Facebook says 'Unsupported Browser'\n",
      "  warnings.warn(f\"Facebook says 'Unsupported Browser'\")\n",
      "C:\\Users\\Sree Vidya\\anaconda3\\lib\\site-packages\\dateparser\\freshness_date_parser.py:76: PytzUsageWarning: The localize method is no longer necessary, as this time zone supports the fold attribute (PEP 495). For more details on migrating to a PEP 495-compliant implementation, see https://pytz-deprecation-shim.readthedocs.io/en/latest/migration.html\n",
      "  now = self.get_local_tz().localize(now)\n",
      "C:\\Users\\Sree Vidya\\AppData\\Local\\Temp\\ipykernel_11400\\3600050919.py:6: FutureWarning: The frame.append method is deprecated and will be removed from pandas in a future version. Use pandas.concat instead.\n",
      "  post_df_full = post_df_full.append(fb_post_df)\n"
     ]
    },
    {
     "name": "stdout",
     "output_type": "stream",
     "text": [
      "8596276667111097 get\n"
     ]
    },
    {
     "name": "stderr",
     "output_type": "stream",
     "text": [
      "C:\\Users\\Sree Vidya\\anaconda3\\lib\\site-packages\\facebook_scraper\\facebook_scraper.py:912: UserWarning: Facebook says 'Unsupported Browser'\n",
      "  warnings.warn(f\"Facebook says 'Unsupported Browser'\")\n",
      "C:\\Users\\Sree Vidya\\anaconda3\\lib\\site-packages\\dateparser\\freshness_date_parser.py:76: PytzUsageWarning: The localize method is no longer necessary, as this time zone supports the fold attribute (PEP 495). For more details on migrating to a PEP 495-compliant implementation, see https://pytz-deprecation-shim.readthedocs.io/en/latest/migration.html\n",
      "  now = self.get_local_tz().localize(now)\n",
      "C:\\Users\\Sree Vidya\\AppData\\Local\\Temp\\ipykernel_11400\\3600050919.py:6: FutureWarning: The frame.append method is deprecated and will be removed from pandas in a future version. Use pandas.concat instead.\n",
      "  post_df_full = post_df_full.append(fb_post_df)\n"
     ]
    },
    {
     "name": "stdout",
     "output_type": "stream",
     "text": [
      "8596153727123391 get\n"
     ]
    },
    {
     "name": "stderr",
     "output_type": "stream",
     "text": [
      "C:\\Users\\Sree Vidya\\anaconda3\\lib\\site-packages\\facebook_scraper\\facebook_scraper.py:912: UserWarning: Facebook says 'Unsupported Browser'\n",
      "  warnings.warn(f\"Facebook says 'Unsupported Browser'\")\n",
      "C:\\Users\\Sree Vidya\\anaconda3\\lib\\site-packages\\dateparser\\freshness_date_parser.py:76: PytzUsageWarning: The localize method is no longer necessary, as this time zone supports the fold attribute (PEP 495). For more details on migrating to a PEP 495-compliant implementation, see https://pytz-deprecation-shim.readthedocs.io/en/latest/migration.html\n",
      "  now = self.get_local_tz().localize(now)\n",
      "C:\\Users\\Sree Vidya\\AppData\\Local\\Temp\\ipykernel_11400\\3600050919.py:6: FutureWarning: The frame.append method is deprecated and will be removed from pandas in a future version. Use pandas.concat instead.\n",
      "  post_df_full = post_df_full.append(fb_post_df)\n"
     ]
    },
    {
     "name": "stdout",
     "output_type": "stream",
     "text": [
      "8592838107454953 get\n"
     ]
    },
    {
     "name": "stderr",
     "output_type": "stream",
     "text": [
      "C:\\Users\\Sree Vidya\\anaconda3\\lib\\site-packages\\facebook_scraper\\facebook_scraper.py:912: UserWarning: Facebook says 'Unsupported Browser'\n",
      "  warnings.warn(f\"Facebook says 'Unsupported Browser'\")\n",
      "C:\\Users\\Sree Vidya\\anaconda3\\lib\\site-packages\\dateparser\\freshness_date_parser.py:76: PytzUsageWarning: The localize method is no longer necessary, as this time zone supports the fold attribute (PEP 495). For more details on migrating to a PEP 495-compliant implementation, see https://pytz-deprecation-shim.readthedocs.io/en/latest/migration.html\n",
      "  now = self.get_local_tz().localize(now)\n",
      "C:\\Users\\Sree Vidya\\AppData\\Local\\Temp\\ipykernel_11400\\3600050919.py:6: FutureWarning: The frame.append method is deprecated and will be removed from pandas in a future version. Use pandas.concat instead.\n",
      "  post_df_full = post_df_full.append(fb_post_df)\n"
     ]
    },
    {
     "name": "stdout",
     "output_type": "stream",
     "text": [
      "8592689544136476 get\n"
     ]
    },
    {
     "name": "stderr",
     "output_type": "stream",
     "text": [
      "C:\\Users\\Sree Vidya\\anaconda3\\lib\\site-packages\\facebook_scraper\\facebook_scraper.py:912: UserWarning: Facebook says 'Unsupported Browser'\n",
      "  warnings.warn(f\"Facebook says 'Unsupported Browser'\")\n",
      "C:\\Users\\Sree Vidya\\anaconda3\\lib\\site-packages\\dateparser\\freshness_date_parser.py:76: PytzUsageWarning: The localize method is no longer necessary, as this time zone supports the fold attribute (PEP 495). For more details on migrating to a PEP 495-compliant implementation, see https://pytz-deprecation-shim.readthedocs.io/en/latest/migration.html\n",
      "  now = self.get_local_tz().localize(now)\n",
      "C:\\Users\\Sree Vidya\\AppData\\Local\\Temp\\ipykernel_11400\\3600050919.py:6: FutureWarning: The frame.append method is deprecated and will be removed from pandas in a future version. Use pandas.concat instead.\n",
      "  post_df_full = post_df_full.append(fb_post_df)\n"
     ]
    },
    {
     "name": "stdout",
     "output_type": "stream",
     "text": [
      "8592544040817693 get\n"
     ]
    },
    {
     "name": "stderr",
     "output_type": "stream",
     "text": [
      "C:\\Users\\Sree Vidya\\anaconda3\\lib\\site-packages\\facebook_scraper\\facebook_scraper.py:912: UserWarning: Facebook says 'Unsupported Browser'\n",
      "  warnings.warn(f\"Facebook says 'Unsupported Browser'\")\n",
      "C:\\Users\\Sree Vidya\\anaconda3\\lib\\site-packages\\dateparser\\freshness_date_parser.py:76: PytzUsageWarning: The localize method is no longer necessary, as this time zone supports the fold attribute (PEP 495). For more details on migrating to a PEP 495-compliant implementation, see https://pytz-deprecation-shim.readthedocs.io/en/latest/migration.html\n",
      "  now = self.get_local_tz().localize(now)\n",
      "C:\\Users\\Sree Vidya\\AppData\\Local\\Temp\\ipykernel_11400\\3600050919.py:6: FutureWarning: The frame.append method is deprecated and will be removed from pandas in a future version. Use pandas.concat instead.\n",
      "  post_df_full = post_df_full.append(fb_post_df)\n"
     ]
    },
    {
     "name": "stdout",
     "output_type": "stream",
     "text": [
      "8588537927884971 get\n"
     ]
    },
    {
     "name": "stderr",
     "output_type": "stream",
     "text": [
      "C:\\Users\\Sree Vidya\\anaconda3\\lib\\site-packages\\facebook_scraper\\facebook_scraper.py:912: UserWarning: Facebook says 'Unsupported Browser'\n",
      "  warnings.warn(f\"Facebook says 'Unsupported Browser'\")\n",
      "C:\\Users\\Sree Vidya\\anaconda3\\lib\\site-packages\\dateparser\\freshness_date_parser.py:76: PytzUsageWarning: The localize method is no longer necessary, as this time zone supports the fold attribute (PEP 495). For more details on migrating to a PEP 495-compliant implementation, see https://pytz-deprecation-shim.readthedocs.io/en/latest/migration.html\n",
      "  now = self.get_local_tz().localize(now)\n",
      "C:\\Users\\Sree Vidya\\AppData\\Local\\Temp\\ipykernel_11400\\3600050919.py:6: FutureWarning: The frame.append method is deprecated and will be removed from pandas in a future version. Use pandas.concat instead.\n",
      "  post_df_full = post_df_full.append(fb_post_df)\n"
     ]
    },
    {
     "name": "stdout",
     "output_type": "stream",
     "text": [
      "8582053438533420 get\n"
     ]
    },
    {
     "name": "stderr",
     "output_type": "stream",
     "text": [
      "C:\\Users\\Sree Vidya\\anaconda3\\lib\\site-packages\\facebook_scraper\\facebook_scraper.py:912: UserWarning: Facebook says 'Unsupported Browser'\n",
      "  warnings.warn(f\"Facebook says 'Unsupported Browser'\")\n",
      "C:\\Users\\Sree Vidya\\AppData\\Local\\Temp\\ipykernel_11400\\3600050919.py:6: FutureWarning: The frame.append method is deprecated and will be removed from pandas in a future version. Use pandas.concat instead.\n",
      "  post_df_full = post_df_full.append(fb_post_df)\n"
     ]
    },
    {
     "name": "stdout",
     "output_type": "stream",
     "text": [
      "8578696122202485 get\n"
     ]
    },
    {
     "name": "stderr",
     "output_type": "stream",
     "text": [
      "C:\\Users\\Sree Vidya\\anaconda3\\lib\\site-packages\\facebook_scraper\\facebook_scraper.py:912: UserWarning: Facebook says 'Unsupported Browser'\n",
      "  warnings.warn(f\"Facebook says 'Unsupported Browser'\")\n",
      "C:\\Users\\Sree Vidya\\AppData\\Local\\Temp\\ipykernel_11400\\3600050919.py:6: FutureWarning: The frame.append method is deprecated and will be removed from pandas in a future version. Use pandas.concat instead.\n",
      "  post_df_full = post_df_full.append(fb_post_df)\n"
     ]
    },
    {
     "name": "stdout",
     "output_type": "stream",
     "text": [
      "8577888035616627 get\n"
     ]
    },
    {
     "name": "stderr",
     "output_type": "stream",
     "text": [
      "C:\\Users\\Sree Vidya\\anaconda3\\lib\\site-packages\\facebook_scraper\\facebook_scraper.py:912: UserWarning: Facebook says 'Unsupported Browser'\n",
      "  warnings.warn(f\"Facebook says 'Unsupported Browser'\")\n",
      "C:\\Users\\Sree Vidya\\AppData\\Local\\Temp\\ipykernel_11400\\3600050919.py:6: FutureWarning: The frame.append method is deprecated and will be removed from pandas in a future version. Use pandas.concat instead.\n",
      "  post_df_full = post_df_full.append(fb_post_df)\n"
     ]
    },
    {
     "name": "stdout",
     "output_type": "stream",
     "text": [
      "8577626745642756 get\n"
     ]
    },
    {
     "name": "stderr",
     "output_type": "stream",
     "text": [
      "C:\\Users\\Sree Vidya\\anaconda3\\lib\\site-packages\\facebook_scraper\\facebook_scraper.py:912: UserWarning: Facebook says 'Unsupported Browser'\n",
      "  warnings.warn(f\"Facebook says 'Unsupported Browser'\")\n",
      "C:\\Users\\Sree Vidya\\anaconda3\\lib\\site-packages\\dateparser\\freshness_date_parser.py:76: PytzUsageWarning: The localize method is no longer necessary, as this time zone supports the fold attribute (PEP 495). For more details on migrating to a PEP 495-compliant implementation, see https://pytz-deprecation-shim.readthedocs.io/en/latest/migration.html\n",
      "  now = self.get_local_tz().localize(now)\n",
      "C:\\Users\\Sree Vidya\\AppData\\Local\\Temp\\ipykernel_11400\\3600050919.py:6: FutureWarning: The frame.append method is deprecated and will be removed from pandas in a future version. Use pandas.concat instead.\n",
      "  post_df_full = post_df_full.append(fb_post_df)\n"
     ]
    },
    {
     "name": "stdout",
     "output_type": "stream",
     "text": [
      "8573006342771463 get\n"
     ]
    },
    {
     "name": "stderr",
     "output_type": "stream",
     "text": [
      "C:\\Users\\Sree Vidya\\anaconda3\\lib\\site-packages\\facebook_scraper\\facebook_scraper.py:912: UserWarning: Facebook says 'Unsupported Browser'\n",
      "  warnings.warn(f\"Facebook says 'Unsupported Browser'\")\n",
      "C:\\Users\\Sree Vidya\\anaconda3\\lib\\site-packages\\dateparser\\freshness_date_parser.py:76: PytzUsageWarning: The localize method is no longer necessary, as this time zone supports the fold attribute (PEP 495). For more details on migrating to a PEP 495-compliant implementation, see https://pytz-deprecation-shim.readthedocs.io/en/latest/migration.html\n",
      "  now = self.get_local_tz().localize(now)\n",
      "C:\\Users\\Sree Vidya\\AppData\\Local\\Temp\\ipykernel_11400\\3600050919.py:6: FutureWarning: The frame.append method is deprecated and will be removed from pandas in a future version. Use pandas.concat instead.\n",
      "  post_df_full = post_df_full.append(fb_post_df)\n"
     ]
    },
    {
     "name": "stdout",
     "output_type": "stream",
     "text": [
      "8570011029737661 get\n"
     ]
    },
    {
     "name": "stderr",
     "output_type": "stream",
     "text": [
      "C:\\Users\\Sree Vidya\\anaconda3\\lib\\site-packages\\facebook_scraper\\facebook_scraper.py:912: UserWarning: Facebook says 'Unsupported Browser'\n",
      "  warnings.warn(f\"Facebook says 'Unsupported Browser'\")\n",
      "C:\\Users\\Sree Vidya\\anaconda3\\lib\\site-packages\\dateparser\\freshness_date_parser.py:76: PytzUsageWarning: The localize method is no longer necessary, as this time zone supports the fold attribute (PEP 495). For more details on migrating to a PEP 495-compliant implementation, see https://pytz-deprecation-shim.readthedocs.io/en/latest/migration.html\n",
      "  now = self.get_local_tz().localize(now)\n",
      "C:\\Users\\Sree Vidya\\AppData\\Local\\Temp\\ipykernel_11400\\3600050919.py:6: FutureWarning: The frame.append method is deprecated and will be removed from pandas in a future version. Use pandas.concat instead.\n",
      "  post_df_full = post_df_full.append(fb_post_df)\n"
     ]
    },
    {
     "name": "stdout",
     "output_type": "stream",
     "text": [
      "8569026986502732 get\n"
     ]
    },
    {
     "name": "stderr",
     "output_type": "stream",
     "text": [
      "C:\\Users\\Sree Vidya\\anaconda3\\lib\\site-packages\\facebook_scraper\\facebook_scraper.py:912: UserWarning: Facebook says 'Unsupported Browser'\n",
      "  warnings.warn(f\"Facebook says 'Unsupported Browser'\")\n",
      "C:\\Users\\Sree Vidya\\anaconda3\\lib\\site-packages\\dateparser\\freshness_date_parser.py:76: PytzUsageWarning: The localize method is no longer necessary, as this time zone supports the fold attribute (PEP 495). For more details on migrating to a PEP 495-compliant implementation, see https://pytz-deprecation-shim.readthedocs.io/en/latest/migration.html\n",
      "  now = self.get_local_tz().localize(now)\n",
      "C:\\Users\\Sree Vidya\\AppData\\Local\\Temp\\ipykernel_11400\\3600050919.py:6: FutureWarning: The frame.append method is deprecated and will be removed from pandas in a future version. Use pandas.concat instead.\n",
      "  post_df_full = post_df_full.append(fb_post_df)\n"
     ]
    },
    {
     "name": "stdout",
     "output_type": "stream",
     "text": [
      "8566089413463156 get\n"
     ]
    },
    {
     "name": "stderr",
     "output_type": "stream",
     "text": [
      "C:\\Users\\Sree Vidya\\anaconda3\\lib\\site-packages\\facebook_scraper\\facebook_scraper.py:912: UserWarning: Facebook says 'Unsupported Browser'\n",
      "  warnings.warn(f\"Facebook says 'Unsupported Browser'\")\n",
      "C:\\Users\\Sree Vidya\\anaconda3\\lib\\site-packages\\dateparser\\freshness_date_parser.py:76: PytzUsageWarning: The localize method is no longer necessary, as this time zone supports the fold attribute (PEP 495). For more details on migrating to a PEP 495-compliant implementation, see https://pytz-deprecation-shim.readthedocs.io/en/latest/migration.html\n",
      "  now = self.get_local_tz().localize(now)\n",
      "C:\\Users\\Sree Vidya\\AppData\\Local\\Temp\\ipykernel_11400\\3600050919.py:6: FutureWarning: The frame.append method is deprecated and will be removed from pandas in a future version. Use pandas.concat instead.\n",
      "  post_df_full = post_df_full.append(fb_post_df)\n"
     ]
    },
    {
     "name": "stdout",
     "output_type": "stream",
     "text": [
      "8564915620247202 get\n"
     ]
    },
    {
     "name": "stderr",
     "output_type": "stream",
     "text": [
      "C:\\Users\\Sree Vidya\\anaconda3\\lib\\site-packages\\facebook_scraper\\facebook_scraper.py:912: UserWarning: Facebook says 'Unsupported Browser'\n",
      "  warnings.warn(f\"Facebook says 'Unsupported Browser'\")\n",
      "C:\\Users\\Sree Vidya\\anaconda3\\lib\\site-packages\\dateparser\\freshness_date_parser.py:76: PytzUsageWarning: The localize method is no longer necessary, as this time zone supports the fold attribute (PEP 495). For more details on migrating to a PEP 495-compliant implementation, see https://pytz-deprecation-shim.readthedocs.io/en/latest/migration.html\n",
      "  now = self.get_local_tz().localize(now)\n",
      "C:\\Users\\Sree Vidya\\AppData\\Local\\Temp\\ipykernel_11400\\3600050919.py:6: FutureWarning: The frame.append method is deprecated and will be removed from pandas in a future version. Use pandas.concat instead.\n",
      "  post_df_full = post_df_full.append(fb_post_df)\n"
     ]
    },
    {
     "name": "stdout",
     "output_type": "stream",
     "text": [
      "8563382453733852 get\n"
     ]
    },
    {
     "name": "stderr",
     "output_type": "stream",
     "text": [
      "C:\\Users\\Sree Vidya\\anaconda3\\lib\\site-packages\\facebook_scraper\\facebook_scraper.py:912: UserWarning: Facebook says 'Unsupported Browser'\n",
      "  warnings.warn(f\"Facebook says 'Unsupported Browser'\")\n",
      "C:\\Users\\Sree Vidya\\anaconda3\\lib\\site-packages\\dateparser\\freshness_date_parser.py:76: PytzUsageWarning: The localize method is no longer necessary, as this time zone supports the fold attribute (PEP 495). For more details on migrating to a PEP 495-compliant implementation, see https://pytz-deprecation-shim.readthedocs.io/en/latest/migration.html\n",
      "  now = self.get_local_tz().localize(now)\n",
      "C:\\Users\\Sree Vidya\\AppData\\Local\\Temp\\ipykernel_11400\\3600050919.py:6: FutureWarning: The frame.append method is deprecated and will be removed from pandas in a future version. Use pandas.concat instead.\n",
      "  post_df_full = post_df_full.append(fb_post_df)\n"
     ]
    },
    {
     "name": "stdout",
     "output_type": "stream",
     "text": [
      "8559203147485116 get\n"
     ]
    },
    {
     "name": "stderr",
     "output_type": "stream",
     "text": [
      "C:\\Users\\Sree Vidya\\anaconda3\\lib\\site-packages\\facebook_scraper\\facebook_scraper.py:912: UserWarning: Facebook says 'Unsupported Browser'\n",
      "  warnings.warn(f\"Facebook says 'Unsupported Browser'\")\n",
      "C:\\Users\\Sree Vidya\\anaconda3\\lib\\site-packages\\dateparser\\freshness_date_parser.py:76: PytzUsageWarning: The localize method is no longer necessary, as this time zone supports the fold attribute (PEP 495). For more details on migrating to a PEP 495-compliant implementation, see https://pytz-deprecation-shim.readthedocs.io/en/latest/migration.html\n",
      "  now = self.get_local_tz().localize(now)\n",
      "C:\\Users\\Sree Vidya\\AppData\\Local\\Temp\\ipykernel_11400\\3600050919.py:6: FutureWarning: The frame.append method is deprecated and will be removed from pandas in a future version. Use pandas.concat instead.\n",
      "  post_df_full = post_df_full.append(fb_post_df)\n"
     ]
    },
    {
     "name": "stdout",
     "output_type": "stream",
     "text": [
      "8555095894562508 get\n"
     ]
    },
    {
     "name": "stderr",
     "output_type": "stream",
     "text": [
      "C:\\Users\\Sree Vidya\\anaconda3\\lib\\site-packages\\facebook_scraper\\facebook_scraper.py:912: UserWarning: Facebook says 'Unsupported Browser'\n",
      "  warnings.warn(f\"Facebook says 'Unsupported Browser'\")\n",
      "C:\\Users\\Sree Vidya\\anaconda3\\lib\\site-packages\\dateparser\\freshness_date_parser.py:76: PytzUsageWarning: The localize method is no longer necessary, as this time zone supports the fold attribute (PEP 495). For more details on migrating to a PEP 495-compliant implementation, see https://pytz-deprecation-shim.readthedocs.io/en/latest/migration.html\n",
      "  now = self.get_local_tz().localize(now)\n",
      "C:\\Users\\Sree Vidya\\AppData\\Local\\Temp\\ipykernel_11400\\3600050919.py:6: FutureWarning: The frame.append method is deprecated and will be removed from pandas in a future version. Use pandas.concat instead.\n",
      "  post_df_full = post_df_full.append(fb_post_df)\n"
     ]
    },
    {
     "name": "stdout",
     "output_type": "stream",
     "text": [
      "8554479291290835 get\n"
     ]
    },
    {
     "name": "stderr",
     "output_type": "stream",
     "text": [
      "C:\\Users\\Sree Vidya\\anaconda3\\lib\\site-packages\\facebook_scraper\\facebook_scraper.py:912: UserWarning: Facebook says 'Unsupported Browser'\n",
      "  warnings.warn(f\"Facebook says 'Unsupported Browser'\")\n",
      "C:\\Users\\Sree Vidya\\AppData\\Local\\Temp\\ipykernel_11400\\3600050919.py:6: FutureWarning: The frame.append method is deprecated and will be removed from pandas in a future version. Use pandas.concat instead.\n",
      "  post_df_full = post_df_full.append(fb_post_df)\n"
     ]
    },
    {
     "name": "stdout",
     "output_type": "stream",
     "text": [
      "8537391172999647 get\n"
     ]
    },
    {
     "name": "stderr",
     "output_type": "stream",
     "text": [
      "C:\\Users\\Sree Vidya\\anaconda3\\lib\\site-packages\\facebook_scraper\\facebook_scraper.py:912: UserWarning: Facebook says 'Unsupported Browser'\n",
      "  warnings.warn(f\"Facebook says 'Unsupported Browser'\")\n",
      "C:\\Users\\Sree Vidya\\anaconda3\\lib\\site-packages\\dateparser\\freshness_date_parser.py:76: PytzUsageWarning: The localize method is no longer necessary, as this time zone supports the fold attribute (PEP 495). For more details on migrating to a PEP 495-compliant implementation, see https://pytz-deprecation-shim.readthedocs.io/en/latest/migration.html\n",
      "  now = self.get_local_tz().localize(now)\n",
      "C:\\Users\\Sree Vidya\\AppData\\Local\\Temp\\ipykernel_11400\\3600050919.py:6: FutureWarning: The frame.append method is deprecated and will be removed from pandas in a future version. Use pandas.concat instead.\n",
      "  post_df_full = post_df_full.append(fb_post_df)\n"
     ]
    },
    {
     "name": "stdout",
     "output_type": "stream",
     "text": [
      "8535725669832864 get\n"
     ]
    },
    {
     "name": "stderr",
     "output_type": "stream",
     "text": [
      "C:\\Users\\Sree Vidya\\anaconda3\\lib\\site-packages\\facebook_scraper\\facebook_scraper.py:912: UserWarning: Facebook says 'Unsupported Browser'\n",
      "  warnings.warn(f\"Facebook says 'Unsupported Browser'\")\n",
      "C:\\Users\\Sree Vidya\\anaconda3\\lib\\site-packages\\dateparser\\freshness_date_parser.py:76: PytzUsageWarning: The localize method is no longer necessary, as this time zone supports the fold attribute (PEP 495). For more details on migrating to a PEP 495-compliant implementation, see https://pytz-deprecation-shim.readthedocs.io/en/latest/migration.html\n",
      "  now = self.get_local_tz().localize(now)\n",
      "C:\\Users\\Sree Vidya\\AppData\\Local\\Temp\\ipykernel_11400\\3600050919.py:6: FutureWarning: The frame.append method is deprecated and will be removed from pandas in a future version. Use pandas.concat instead.\n",
      "  post_df_full = post_df_full.append(fb_post_df)\n"
     ]
    },
    {
     "name": "stdout",
     "output_type": "stream",
     "text": [
      "8535157913222973 get\n"
     ]
    },
    {
     "name": "stderr",
     "output_type": "stream",
     "text": [
      "C:\\Users\\Sree Vidya\\anaconda3\\lib\\site-packages\\facebook_scraper\\facebook_scraper.py:912: UserWarning: Facebook says 'Unsupported Browser'\n",
      "  warnings.warn(f\"Facebook says 'Unsupported Browser'\")\n",
      "C:\\Users\\Sree Vidya\\anaconda3\\lib\\site-packages\\dateparser\\freshness_date_parser.py:76: PytzUsageWarning: The localize method is no longer necessary, as this time zone supports the fold attribute (PEP 495). For more details on migrating to a PEP 495-compliant implementation, see https://pytz-deprecation-shim.readthedocs.io/en/latest/migration.html\n",
      "  now = self.get_local_tz().localize(now)\n",
      "C:\\Users\\Sree Vidya\\AppData\\Local\\Temp\\ipykernel_11400\\3600050919.py:6: FutureWarning: The frame.append method is deprecated and will be removed from pandas in a future version. Use pandas.concat instead.\n",
      "  post_df_full = post_df_full.append(fb_post_df)\n"
     ]
    },
    {
     "name": "stdout",
     "output_type": "stream",
     "text": [
      "8531739410231490 get\n"
     ]
    },
    {
     "name": "stderr",
     "output_type": "stream",
     "text": [
      "C:\\Users\\Sree Vidya\\anaconda3\\lib\\site-packages\\facebook_scraper\\facebook_scraper.py:912: UserWarning: Facebook says 'Unsupported Browser'\n",
      "  warnings.warn(f\"Facebook says 'Unsupported Browser'\")\n",
      "C:\\Users\\Sree Vidya\\anaconda3\\lib\\site-packages\\dateparser\\freshness_date_parser.py:76: PytzUsageWarning: The localize method is no longer necessary, as this time zone supports the fold attribute (PEP 495). For more details on migrating to a PEP 495-compliant implementation, see https://pytz-deprecation-shim.readthedocs.io/en/latest/migration.html\n",
      "  now = self.get_local_tz().localize(now)\n",
      "C:\\Users\\Sree Vidya\\AppData\\Local\\Temp\\ipykernel_11400\\3600050919.py:6: FutureWarning: The frame.append method is deprecated and will be removed from pandas in a future version. Use pandas.concat instead.\n",
      "  post_df_full = post_df_full.append(fb_post_df)\n"
     ]
    },
    {
     "name": "stdout",
     "output_type": "stream",
     "text": [
      "8531387616933336 get\n"
     ]
    },
    {
     "name": "stderr",
     "output_type": "stream",
     "text": [
      "C:\\Users\\Sree Vidya\\anaconda3\\lib\\site-packages\\facebook_scraper\\facebook_scraper.py:912: UserWarning: Facebook says 'Unsupported Browser'\n",
      "  warnings.warn(f\"Facebook says 'Unsupported Browser'\")\n",
      "C:\\Users\\Sree Vidya\\AppData\\Local\\Temp\\ipykernel_11400\\3600050919.py:6: FutureWarning: The frame.append method is deprecated and will be removed from pandas in a future version. Use pandas.concat instead.\n",
      "  post_df_full = post_df_full.append(fb_post_df)\n"
     ]
    },
    {
     "name": "stdout",
     "output_type": "stream",
     "text": [
      "8527348610670570 get\n"
     ]
    },
    {
     "name": "stderr",
     "output_type": "stream",
     "text": [
      "C:\\Users\\Sree Vidya\\anaconda3\\lib\\site-packages\\facebook_scraper\\facebook_scraper.py:912: UserWarning: Facebook says 'Unsupported Browser'\n",
      "  warnings.warn(f\"Facebook says 'Unsupported Browser'\")\n",
      "C:\\Users\\Sree Vidya\\anaconda3\\lib\\site-packages\\dateparser\\freshness_date_parser.py:76: PytzUsageWarning: The localize method is no longer necessary, as this time zone supports the fold attribute (PEP 495). For more details on migrating to a PEP 495-compliant implementation, see https://pytz-deprecation-shim.readthedocs.io/en/latest/migration.html\n",
      "  now = self.get_local_tz().localize(now)\n",
      "C:\\Users\\Sree Vidya\\AppData\\Local\\Temp\\ipykernel_11400\\3600050919.py:6: FutureWarning: The frame.append method is deprecated and will be removed from pandas in a future version. Use pandas.concat instead.\n",
      "  post_df_full = post_df_full.append(fb_post_df)\n"
     ]
    },
    {
     "name": "stdout",
     "output_type": "stream",
     "text": [
      "8527307617341336 get\n"
     ]
    },
    {
     "name": "stderr",
     "output_type": "stream",
     "text": [
      "C:\\Users\\Sree Vidya\\anaconda3\\lib\\site-packages\\facebook_scraper\\facebook_scraper.py:912: UserWarning: Facebook says 'Unsupported Browser'\n",
      "  warnings.warn(f\"Facebook says 'Unsupported Browser'\")\n",
      "C:\\Users\\Sree Vidya\\AppData\\Local\\Temp\\ipykernel_11400\\3600050919.py:6: FutureWarning: The frame.append method is deprecated and will be removed from pandas in a future version. Use pandas.concat instead.\n",
      "  post_df_full = post_df_full.append(fb_post_df)\n"
     ]
    },
    {
     "name": "stdout",
     "output_type": "stream",
     "text": [
      "8525460770859354 get\n"
     ]
    },
    {
     "name": "stderr",
     "output_type": "stream",
     "text": [
      "C:\\Users\\Sree Vidya\\anaconda3\\lib\\site-packages\\facebook_scraper\\facebook_scraper.py:912: UserWarning: Facebook says 'Unsupported Browser'\n",
      "  warnings.warn(f\"Facebook says 'Unsupported Browser'\")\n",
      "C:\\Users\\Sree Vidya\\anaconda3\\lib\\site-packages\\dateparser\\freshness_date_parser.py:76: PytzUsageWarning: The localize method is no longer necessary, as this time zone supports the fold attribute (PEP 495). For more details on migrating to a PEP 495-compliant implementation, see https://pytz-deprecation-shim.readthedocs.io/en/latest/migration.html\n",
      "  now = self.get_local_tz().localize(now)\n",
      "C:\\Users\\Sree Vidya\\AppData\\Local\\Temp\\ipykernel_11400\\3600050919.py:6: FutureWarning: The frame.append method is deprecated and will be removed from pandas in a future version. Use pandas.concat instead.\n",
      "  post_df_full = post_df_full.append(fb_post_df)\n"
     ]
    },
    {
     "name": "stdout",
     "output_type": "stream",
     "text": [
      "8521589804579784 get\n"
     ]
    },
    {
     "name": "stderr",
     "output_type": "stream",
     "text": [
      "C:\\Users\\Sree Vidya\\anaconda3\\lib\\site-packages\\facebook_scraper\\facebook_scraper.py:912: UserWarning: Facebook says 'Unsupported Browser'\n",
      "  warnings.warn(f\"Facebook says 'Unsupported Browser'\")\n",
      "C:\\Users\\Sree Vidya\\anaconda3\\lib\\site-packages\\dateparser\\freshness_date_parser.py:76: PytzUsageWarning: The localize method is no longer necessary, as this time zone supports the fold attribute (PEP 495). For more details on migrating to a PEP 495-compliant implementation, see https://pytz-deprecation-shim.readthedocs.io/en/latest/migration.html\n",
      "  now = self.get_local_tz().localize(now)\n",
      "C:\\Users\\Sree Vidya\\AppData\\Local\\Temp\\ipykernel_11400\\3600050919.py:6: FutureWarning: The frame.append method is deprecated and will be removed from pandas in a future version. Use pandas.concat instead.\n",
      "  post_df_full = post_df_full.append(fb_post_df)\n"
     ]
    },
    {
     "name": "stdout",
     "output_type": "stream",
     "text": [
      "8520397634699001 get\n"
     ]
    },
    {
     "name": "stderr",
     "output_type": "stream",
     "text": [
      "C:\\Users\\Sree Vidya\\anaconda3\\lib\\site-packages\\facebook_scraper\\facebook_scraper.py:912: UserWarning: Facebook says 'Unsupported Browser'\n",
      "  warnings.warn(f\"Facebook says 'Unsupported Browser'\")\n",
      "C:\\Users\\Sree Vidya\\AppData\\Local\\Temp\\ipykernel_11400\\3600050919.py:6: FutureWarning: The frame.append method is deprecated and will be removed from pandas in a future version. Use pandas.concat instead.\n",
      "  post_df_full = post_df_full.append(fb_post_df)\n"
     ]
    },
    {
     "name": "stdout",
     "output_type": "stream",
     "text": [
      "8519692378102860 get\n"
     ]
    },
    {
     "name": "stderr",
     "output_type": "stream",
     "text": [
      "C:\\Users\\Sree Vidya\\anaconda3\\lib\\site-packages\\facebook_scraper\\facebook_scraper.py:912: UserWarning: Facebook says 'Unsupported Browser'\n",
      "  warnings.warn(f\"Facebook says 'Unsupported Browser'\")\n",
      "C:\\Users\\Sree Vidya\\anaconda3\\lib\\site-packages\\dateparser\\freshness_date_parser.py:76: PytzUsageWarning: The localize method is no longer necessary, as this time zone supports the fold attribute (PEP 495). For more details on migrating to a PEP 495-compliant implementation, see https://pytz-deprecation-shim.readthedocs.io/en/latest/migration.html\n",
      "  now = self.get_local_tz().localize(now)\n",
      "C:\\Users\\Sree Vidya\\AppData\\Local\\Temp\\ipykernel_11400\\3600050919.py:6: FutureWarning: The frame.append method is deprecated and will be removed from pandas in a future version. Use pandas.concat instead.\n",
      "  post_df_full = post_df_full.append(fb_post_df)\n"
     ]
    },
    {
     "name": "stdout",
     "output_type": "stream",
     "text": [
      "8515339411871490 get\n"
     ]
    },
    {
     "name": "stderr",
     "output_type": "stream",
     "text": [
      "C:\\Users\\Sree Vidya\\anaconda3\\lib\\site-packages\\facebook_scraper\\facebook_scraper.py:912: UserWarning: Facebook says 'Unsupported Browser'\n",
      "  warnings.warn(f\"Facebook says 'Unsupported Browser'\")\n",
      "C:\\Users\\Sree Vidya\\anaconda3\\lib\\site-packages\\dateparser\\freshness_date_parser.py:76: PytzUsageWarning: The localize method is no longer necessary, as this time zone supports the fold attribute (PEP 495). For more details on migrating to a PEP 495-compliant implementation, see https://pytz-deprecation-shim.readthedocs.io/en/latest/migration.html\n",
      "  now = self.get_local_tz().localize(now)\n",
      "C:\\Users\\Sree Vidya\\AppData\\Local\\Temp\\ipykernel_11400\\3600050919.py:6: FutureWarning: The frame.append method is deprecated and will be removed from pandas in a future version. Use pandas.concat instead.\n",
      "  post_df_full = post_df_full.append(fb_post_df)\n"
     ]
    },
    {
     "name": "stdout",
     "output_type": "stream",
     "text": [
      "8504048129667285 get\n"
     ]
    },
    {
     "name": "stderr",
     "output_type": "stream",
     "text": [
      "C:\\Users\\Sree Vidya\\anaconda3\\lib\\site-packages\\facebook_scraper\\facebook_scraper.py:912: UserWarning: Facebook says 'Unsupported Browser'\n",
      "  warnings.warn(f\"Facebook says 'Unsupported Browser'\")\n",
      "C:\\Users\\Sree Vidya\\anaconda3\\lib\\site-packages\\dateparser\\freshness_date_parser.py:76: PytzUsageWarning: The localize method is no longer necessary, as this time zone supports the fold attribute (PEP 495). For more details on migrating to a PEP 495-compliant implementation, see https://pytz-deprecation-shim.readthedocs.io/en/latest/migration.html\n",
      "  now = self.get_local_tz().localize(now)\n",
      "C:\\Users\\Sree Vidya\\AppData\\Local\\Temp\\ipykernel_11400\\3600050919.py:6: FutureWarning: The frame.append method is deprecated and will be removed from pandas in a future version. Use pandas.concat instead.\n",
      "  post_df_full = post_df_full.append(fb_post_df)\n"
     ]
    },
    {
     "name": "stdout",
     "output_type": "stream",
     "text": [
      "8493727894032642 get\n"
     ]
    },
    {
     "name": "stderr",
     "output_type": "stream",
     "text": [
      "C:\\Users\\Sree Vidya\\anaconda3\\lib\\site-packages\\facebook_scraper\\facebook_scraper.py:912: UserWarning: Facebook says 'Unsupported Browser'\n",
      "  warnings.warn(f\"Facebook says 'Unsupported Browser'\")\n",
      "C:\\Users\\Sree Vidya\\AppData\\Local\\Temp\\ipykernel_11400\\3600050919.py:6: FutureWarning: The frame.append method is deprecated and will be removed from pandas in a future version. Use pandas.concat instead.\n",
      "  post_df_full = post_df_full.append(fb_post_df)\n"
     ]
    },
    {
     "name": "stdout",
     "output_type": "stream",
     "text": [
      "8485074431564655 get\n"
     ]
    },
    {
     "name": "stderr",
     "output_type": "stream",
     "text": [
      "C:\\Users\\Sree Vidya\\anaconda3\\lib\\site-packages\\facebook_scraper\\facebook_scraper.py:912: UserWarning: Facebook says 'Unsupported Browser'\n",
      "  warnings.warn(f\"Facebook says 'Unsupported Browser'\")\n",
      "C:\\Users\\Sree Vidya\\anaconda3\\lib\\site-packages\\dateparser\\freshness_date_parser.py:76: PytzUsageWarning: The localize method is no longer necessary, as this time zone supports the fold attribute (PEP 495). For more details on migrating to a PEP 495-compliant implementation, see https://pytz-deprecation-shim.readthedocs.io/en/latest/migration.html\n",
      "  now = self.get_local_tz().localize(now)\n",
      "C:\\Users\\Sree Vidya\\AppData\\Local\\Temp\\ipykernel_11400\\3600050919.py:6: FutureWarning: The frame.append method is deprecated and will be removed from pandas in a future version. Use pandas.concat instead.\n",
      "  post_df_full = post_df_full.append(fb_post_df)\n"
     ]
    },
    {
     "name": "stdout",
     "output_type": "stream",
     "text": [
      "8484109384994493 get\n"
     ]
    },
    {
     "name": "stderr",
     "output_type": "stream",
     "text": [
      "C:\\Users\\Sree Vidya\\anaconda3\\lib\\site-packages\\facebook_scraper\\facebook_scraper.py:912: UserWarning: Facebook says 'Unsupported Browser'\n",
      "  warnings.warn(f\"Facebook says 'Unsupported Browser'\")\n",
      "C:\\Users\\Sree Vidya\\anaconda3\\lib\\site-packages\\dateparser\\freshness_date_parser.py:76: PytzUsageWarning: The localize method is no longer necessary, as this time zone supports the fold attribute (PEP 495). For more details on migrating to a PEP 495-compliant implementation, see https://pytz-deprecation-shim.readthedocs.io/en/latest/migration.html\n",
      "  now = self.get_local_tz().localize(now)\n",
      "C:\\Users\\Sree Vidya\\AppData\\Local\\Temp\\ipykernel_11400\\3600050919.py:6: FutureWarning: The frame.append method is deprecated and will be removed from pandas in a future version. Use pandas.concat instead.\n",
      "  post_df_full = post_df_full.append(fb_post_df)\n"
     ]
    },
    {
     "name": "stdout",
     "output_type": "stream",
     "text": [
      "8481666558572109 get\n"
     ]
    },
    {
     "name": "stderr",
     "output_type": "stream",
     "text": [
      "C:\\Users\\Sree Vidya\\anaconda3\\lib\\site-packages\\facebook_scraper\\facebook_scraper.py:912: UserWarning: Facebook says 'Unsupported Browser'\n",
      "  warnings.warn(f\"Facebook says 'Unsupported Browser'\")\n",
      "C:\\Users\\Sree Vidya\\anaconda3\\lib\\site-packages\\dateparser\\freshness_date_parser.py:76: PytzUsageWarning: The localize method is no longer necessary, as this time zone supports the fold attribute (PEP 495). For more details on migrating to a PEP 495-compliant implementation, see https://pytz-deprecation-shim.readthedocs.io/en/latest/migration.html\n",
      "  now = self.get_local_tz().localize(now)\n",
      "C:\\Users\\Sree Vidya\\AppData\\Local\\Temp\\ipykernel_11400\\3600050919.py:6: FutureWarning: The frame.append method is deprecated and will be removed from pandas in a future version. Use pandas.concat instead.\n",
      "  post_df_full = post_df_full.append(fb_post_df)\n"
     ]
    },
    {
     "name": "stdout",
     "output_type": "stream",
     "text": [
      "8467646759974089 get\n"
     ]
    },
    {
     "name": "stderr",
     "output_type": "stream",
     "text": [
      "C:\\Users\\Sree Vidya\\anaconda3\\lib\\site-packages\\facebook_scraper\\facebook_scraper.py:912: UserWarning: Facebook says 'Unsupported Browser'\n",
      "  warnings.warn(f\"Facebook says 'Unsupported Browser'\")\n",
      "C:\\Users\\Sree Vidya\\anaconda3\\lib\\site-packages\\dateparser\\freshness_date_parser.py:76: PytzUsageWarning: The localize method is no longer necessary, as this time zone supports the fold attribute (PEP 495). For more details on migrating to a PEP 495-compliant implementation, see https://pytz-deprecation-shim.readthedocs.io/en/latest/migration.html\n",
      "  now = self.get_local_tz().localize(now)\n",
      "C:\\Users\\Sree Vidya\\AppData\\Local\\Temp\\ipykernel_11400\\3600050919.py:6: FutureWarning: The frame.append method is deprecated and will be removed from pandas in a future version. Use pandas.concat instead.\n",
      "  post_df_full = post_df_full.append(fb_post_df)\n"
     ]
    },
    {
     "name": "stdout",
     "output_type": "stream",
     "text": [
      "8463305873741511 get\n"
     ]
    },
    {
     "name": "stderr",
     "output_type": "stream",
     "text": [
      "C:\\Users\\Sree Vidya\\anaconda3\\lib\\site-packages\\facebook_scraper\\facebook_scraper.py:912: UserWarning: Facebook says 'Unsupported Browser'\n",
      "  warnings.warn(f\"Facebook says 'Unsupported Browser'\")\n",
      "C:\\Users\\Sree Vidya\\anaconda3\\lib\\site-packages\\dateparser\\freshness_date_parser.py:76: PytzUsageWarning: The localize method is no longer necessary, as this time zone supports the fold attribute (PEP 495). For more details on migrating to a PEP 495-compliant implementation, see https://pytz-deprecation-shim.readthedocs.io/en/latest/migration.html\n",
      "  now = self.get_local_tz().localize(now)\n",
      "C:\\Users\\Sree Vidya\\AppData\\Local\\Temp\\ipykernel_11400\\3600050919.py:6: FutureWarning: The frame.append method is deprecated and will be removed from pandas in a future version. Use pandas.concat instead.\n",
      "  post_df_full = post_df_full.append(fb_post_df)\n"
     ]
    },
    {
     "name": "stdout",
     "output_type": "stream",
     "text": [
      "8461829230555842 get\n"
     ]
    },
    {
     "name": "stderr",
     "output_type": "stream",
     "text": [
      "C:\\Users\\Sree Vidya\\anaconda3\\lib\\site-packages\\facebook_scraper\\facebook_scraper.py:912: UserWarning: Facebook says 'Unsupported Browser'\n",
      "  warnings.warn(f\"Facebook says 'Unsupported Browser'\")\n",
      "C:\\Users\\Sree Vidya\\anaconda3\\lib\\site-packages\\dateparser\\freshness_date_parser.py:76: PytzUsageWarning: The localize method is no longer necessary, as this time zone supports the fold attribute (PEP 495). For more details on migrating to a PEP 495-compliant implementation, see https://pytz-deprecation-shim.readthedocs.io/en/latest/migration.html\n",
      "  now = self.get_local_tz().localize(now)\n",
      "C:\\Users\\Sree Vidya\\AppData\\Local\\Temp\\ipykernel_11400\\3600050919.py:6: FutureWarning: The frame.append method is deprecated and will be removed from pandas in a future version. Use pandas.concat instead.\n",
      "  post_df_full = post_df_full.append(fb_post_df)\n"
     ]
    },
    {
     "name": "stdout",
     "output_type": "stream",
     "text": [
      "8449265821812183 get\n"
     ]
    },
    {
     "name": "stderr",
     "output_type": "stream",
     "text": [
      "C:\\Users\\Sree Vidya\\anaconda3\\lib\\site-packages\\facebook_scraper\\facebook_scraper.py:912: UserWarning: Facebook says 'Unsupported Browser'\n",
      "  warnings.warn(f\"Facebook says 'Unsupported Browser'\")\n",
      "C:\\Users\\Sree Vidya\\anaconda3\\lib\\site-packages\\dateparser\\freshness_date_parser.py:76: PytzUsageWarning: The localize method is no longer necessary, as this time zone supports the fold attribute (PEP 495). For more details on migrating to a PEP 495-compliant implementation, see https://pytz-deprecation-shim.readthedocs.io/en/latest/migration.html\n",
      "  now = self.get_local_tz().localize(now)\n",
      "C:\\Users\\Sree Vidya\\AppData\\Local\\Temp\\ipykernel_11400\\3600050919.py:6: FutureWarning: The frame.append method is deprecated and will be removed from pandas in a future version. Use pandas.concat instead.\n",
      "  post_df_full = post_df_full.append(fb_post_df)\n"
     ]
    },
    {
     "name": "stdout",
     "output_type": "stream",
     "text": [
      "8449001435171955 get\n"
     ]
    },
    {
     "name": "stderr",
     "output_type": "stream",
     "text": [
      "C:\\Users\\Sree Vidya\\anaconda3\\lib\\site-packages\\facebook_scraper\\facebook_scraper.py:912: UserWarning: Facebook says 'Unsupported Browser'\n",
      "  warnings.warn(f\"Facebook says 'Unsupported Browser'\")\n",
      "C:\\Users\\Sree Vidya\\AppData\\Local\\Temp\\ipykernel_11400\\3600050919.py:6: FutureWarning: The frame.append method is deprecated and will be removed from pandas in a future version. Use pandas.concat instead.\n",
      "  post_df_full = post_df_full.append(fb_post_df)\n"
     ]
    },
    {
     "name": "stdout",
     "output_type": "stream",
     "text": [
      "8448583108547121 get\n"
     ]
    },
    {
     "name": "stderr",
     "output_type": "stream",
     "text": [
      "C:\\Users\\Sree Vidya\\anaconda3\\lib\\site-packages\\facebook_scraper\\facebook_scraper.py:912: UserWarning: Facebook says 'Unsupported Browser'\n",
      "  warnings.warn(f\"Facebook says 'Unsupported Browser'\")\n",
      "C:\\Users\\Sree Vidya\\AppData\\Local\\Temp\\ipykernel_11400\\3600050919.py:6: FutureWarning: The frame.append method is deprecated and will be removed from pandas in a future version. Use pandas.concat instead.\n",
      "  post_df_full = post_df_full.append(fb_post_df)\n"
     ]
    },
    {
     "name": "stdout",
     "output_type": "stream",
     "text": [
      "8443733055698793 get\n"
     ]
    },
    {
     "name": "stderr",
     "output_type": "stream",
     "text": [
      "C:\\Users\\Sree Vidya\\anaconda3\\lib\\site-packages\\facebook_scraper\\facebook_scraper.py:912: UserWarning: Facebook says 'Unsupported Browser'\n",
      "  warnings.warn(f\"Facebook says 'Unsupported Browser'\")\n",
      "C:\\Users\\Sree Vidya\\AppData\\Local\\Temp\\ipykernel_11400\\3600050919.py:6: FutureWarning: The frame.append method is deprecated and will be removed from pandas in a future version. Use pandas.concat instead.\n",
      "  post_df_full = post_df_full.append(fb_post_df)\n"
     ]
    },
    {
     "name": "stdout",
     "output_type": "stream",
     "text": [
      "8439033239502108 get\n"
     ]
    },
    {
     "name": "stderr",
     "output_type": "stream",
     "text": [
      "C:\\Users\\Sree Vidya\\anaconda3\\lib\\site-packages\\facebook_scraper\\facebook_scraper.py:912: UserWarning: Facebook says 'Unsupported Browser'\n",
      "  warnings.warn(f\"Facebook says 'Unsupported Browser'\")\n",
      "C:\\Users\\Sree Vidya\\AppData\\Local\\Temp\\ipykernel_11400\\3600050919.py:6: FutureWarning: The frame.append method is deprecated and will be removed from pandas in a future version. Use pandas.concat instead.\n",
      "  post_df_full = post_df_full.append(fb_post_df)\n"
     ]
    },
    {
     "name": "stdout",
     "output_type": "stream",
     "text": [
      "8434227486649350 get\n"
     ]
    },
    {
     "name": "stderr",
     "output_type": "stream",
     "text": [
      "C:\\Users\\Sree Vidya\\anaconda3\\lib\\site-packages\\facebook_scraper\\facebook_scraper.py:912: UserWarning: Facebook says 'Unsupported Browser'\n",
      "  warnings.warn(f\"Facebook says 'Unsupported Browser'\")\n",
      "C:\\Users\\Sree Vidya\\AppData\\Local\\Temp\\ipykernel_11400\\3600050919.py:6: FutureWarning: The frame.append method is deprecated and will be removed from pandas in a future version. Use pandas.concat instead.\n",
      "  post_df_full = post_df_full.append(fb_post_df)\n"
     ]
    },
    {
     "name": "stdout",
     "output_type": "stream",
     "text": [
      "8429970603741705 get\n"
     ]
    },
    {
     "name": "stderr",
     "output_type": "stream",
     "text": [
      "C:\\Users\\Sree Vidya\\anaconda3\\lib\\site-packages\\facebook_scraper\\facebook_scraper.py:912: UserWarning: Facebook says 'Unsupported Browser'\n",
      "  warnings.warn(f\"Facebook says 'Unsupported Browser'\")\n",
      "C:\\Users\\Sree Vidya\\AppData\\Local\\Temp\\ipykernel_11400\\3600050919.py:6: FutureWarning: The frame.append method is deprecated and will be removed from pandas in a future version. Use pandas.concat instead.\n",
      "  post_df_full = post_df_full.append(fb_post_df)\n"
     ]
    },
    {
     "name": "stdout",
     "output_type": "stream",
     "text": [
      "8427126920692740 get\n"
     ]
    },
    {
     "name": "stderr",
     "output_type": "stream",
     "text": [
      "C:\\Users\\Sree Vidya\\anaconda3\\lib\\site-packages\\facebook_scraper\\facebook_scraper.py:912: UserWarning: Facebook says 'Unsupported Browser'\n",
      "  warnings.warn(f\"Facebook says 'Unsupported Browser'\")\n",
      "C:\\Users\\Sree Vidya\\AppData\\Local\\Temp\\ipykernel_11400\\3600050919.py:6: FutureWarning: The frame.append method is deprecated and will be removed from pandas in a future version. Use pandas.concat instead.\n",
      "  post_df_full = post_df_full.append(fb_post_df)\n"
     ]
    },
    {
     "name": "stdout",
     "output_type": "stream",
     "text": [
      "8420542001351232 get\n"
     ]
    },
    {
     "name": "stderr",
     "output_type": "stream",
     "text": [
      "C:\\Users\\Sree Vidya\\anaconda3\\lib\\site-packages\\facebook_scraper\\facebook_scraper.py:912: UserWarning: Facebook says 'Unsupported Browser'\n",
      "  warnings.warn(f\"Facebook says 'Unsupported Browser'\")\n",
      "C:\\Users\\Sree Vidya\\anaconda3\\lib\\site-packages\\dateparser\\freshness_date_parser.py:76: PytzUsageWarning: The localize method is no longer necessary, as this time zone supports the fold attribute (PEP 495). For more details on migrating to a PEP 495-compliant implementation, see https://pytz-deprecation-shim.readthedocs.io/en/latest/migration.html\n",
      "  now = self.get_local_tz().localize(now)\n",
      "C:\\Users\\Sree Vidya\\AppData\\Local\\Temp\\ipykernel_11400\\3600050919.py:6: FutureWarning: The frame.append method is deprecated and will be removed from pandas in a future version. Use pandas.concat instead.\n",
      "  post_df_full = post_df_full.append(fb_post_df)\n"
     ]
    },
    {
     "name": "stdout",
     "output_type": "stream",
     "text": [
      "8417038275034938 get\n"
     ]
    },
    {
     "name": "stderr",
     "output_type": "stream",
     "text": [
      "C:\\Users\\Sree Vidya\\anaconda3\\lib\\site-packages\\facebook_scraper\\facebook_scraper.py:912: UserWarning: Facebook says 'Unsupported Browser'\n",
      "  warnings.warn(f\"Facebook says 'Unsupported Browser'\")\n",
      "C:\\Users\\Sree Vidya\\anaconda3\\lib\\site-packages\\dateparser\\freshness_date_parser.py:76: PytzUsageWarning: The localize method is no longer necessary, as this time zone supports the fold attribute (PEP 495). For more details on migrating to a PEP 495-compliant implementation, see https://pytz-deprecation-shim.readthedocs.io/en/latest/migration.html\n",
      "  now = self.get_local_tz().localize(now)\n",
      "C:\\Users\\Sree Vidya\\AppData\\Local\\Temp\\ipykernel_11400\\3600050919.py:6: FutureWarning: The frame.append method is deprecated and will be removed from pandas in a future version. Use pandas.concat instead.\n",
      "  post_df_full = post_df_full.append(fb_post_df)\n"
     ]
    },
    {
     "name": "stdout",
     "output_type": "stream",
     "text": [
      "8416438531761579 get\n"
     ]
    },
    {
     "name": "stderr",
     "output_type": "stream",
     "text": [
      "C:\\Users\\Sree Vidya\\anaconda3\\lib\\site-packages\\facebook_scraper\\facebook_scraper.py:912: UserWarning: Facebook says 'Unsupported Browser'\n",
      "  warnings.warn(f\"Facebook says 'Unsupported Browser'\")\n",
      "C:\\Users\\Sree Vidya\\anaconda3\\lib\\site-packages\\dateparser\\freshness_date_parser.py:76: PytzUsageWarning: The localize method is no longer necessary, as this time zone supports the fold attribute (PEP 495). For more details on migrating to a PEP 495-compliant implementation, see https://pytz-deprecation-shim.readthedocs.io/en/latest/migration.html\n",
      "  now = self.get_local_tz().localize(now)\n",
      "C:\\Users\\Sree Vidya\\AppData\\Local\\Temp\\ipykernel_11400\\3600050919.py:6: FutureWarning: The frame.append method is deprecated and will be removed from pandas in a future version. Use pandas.concat instead.\n",
      "  post_df_full = post_df_full.append(fb_post_df)\n"
     ]
    },
    {
     "name": "stdout",
     "output_type": "stream",
     "text": [
      "8416154748456624 get\n"
     ]
    },
    {
     "name": "stderr",
     "output_type": "stream",
     "text": [
      "C:\\Users\\Sree Vidya\\anaconda3\\lib\\site-packages\\facebook_scraper\\facebook_scraper.py:912: UserWarning: Facebook says 'Unsupported Browser'\n",
      "  warnings.warn(f\"Facebook says 'Unsupported Browser'\")\n",
      "C:\\Users\\Sree Vidya\\AppData\\Local\\Temp\\ipykernel_11400\\3600050919.py:6: FutureWarning: The frame.append method is deprecated and will be removed from pandas in a future version. Use pandas.concat instead.\n",
      "  post_df_full = post_df_full.append(fb_post_df)\n"
     ]
    },
    {
     "name": "stdout",
     "output_type": "stream",
     "text": [
      "8415693751836057 get\n"
     ]
    },
    {
     "name": "stderr",
     "output_type": "stream",
     "text": [
      "C:\\Users\\Sree Vidya\\anaconda3\\lib\\site-packages\\facebook_scraper\\facebook_scraper.py:912: UserWarning: Facebook says 'Unsupported Browser'\n",
      "  warnings.warn(f\"Facebook says 'Unsupported Browser'\")\n",
      "C:\\Users\\Sree Vidya\\anaconda3\\lib\\site-packages\\dateparser\\freshness_date_parser.py:76: PytzUsageWarning: The localize method is no longer necessary, as this time zone supports the fold attribute (PEP 495). For more details on migrating to a PEP 495-compliant implementation, see https://pytz-deprecation-shim.readthedocs.io/en/latest/migration.html\n",
      "  now = self.get_local_tz().localize(now)\n",
      "C:\\Users\\Sree Vidya\\AppData\\Local\\Temp\\ipykernel_11400\\3600050919.py:6: FutureWarning: The frame.append method is deprecated and will be removed from pandas in a future version. Use pandas.concat instead.\n",
      "  post_df_full = post_df_full.append(fb_post_df)\n"
     ]
    },
    {
     "name": "stdout",
     "output_type": "stream",
     "text": [
      "8413519195386846 get\n"
     ]
    },
    {
     "name": "stderr",
     "output_type": "stream",
     "text": [
      "C:\\Users\\Sree Vidya\\anaconda3\\lib\\site-packages\\facebook_scraper\\facebook_scraper.py:912: UserWarning: Facebook says 'Unsupported Browser'\n",
      "  warnings.warn(f\"Facebook says 'Unsupported Browser'\")\n",
      "C:\\Users\\Sree Vidya\\anaconda3\\lib\\site-packages\\dateparser\\freshness_date_parser.py:76: PytzUsageWarning: The localize method is no longer necessary, as this time zone supports the fold attribute (PEP 495). For more details on migrating to a PEP 495-compliant implementation, see https://pytz-deprecation-shim.readthedocs.io/en/latest/migration.html\n",
      "  now = self.get_local_tz().localize(now)\n",
      "C:\\Users\\Sree Vidya\\AppData\\Local\\Temp\\ipykernel_11400\\3600050919.py:6: FutureWarning: The frame.append method is deprecated and will be removed from pandas in a future version. Use pandas.concat instead.\n",
      "  post_df_full = post_df_full.append(fb_post_df)\n"
     ]
    },
    {
     "name": "stdout",
     "output_type": "stream",
     "text": [
      "8407896105949155 get\n"
     ]
    },
    {
     "name": "stderr",
     "output_type": "stream",
     "text": [
      "C:\\Users\\Sree Vidya\\anaconda3\\lib\\site-packages\\facebook_scraper\\facebook_scraper.py:912: UserWarning: Facebook says 'Unsupported Browser'\n",
      "  warnings.warn(f\"Facebook says 'Unsupported Browser'\")\n",
      "C:\\Users\\Sree Vidya\\anaconda3\\lib\\site-packages\\dateparser\\freshness_date_parser.py:76: PytzUsageWarning: The localize method is no longer necessary, as this time zone supports the fold attribute (PEP 495). For more details on migrating to a PEP 495-compliant implementation, see https://pytz-deprecation-shim.readthedocs.io/en/latest/migration.html\n",
      "  now = self.get_local_tz().localize(now)\n",
      "C:\\Users\\Sree Vidya\\AppData\\Local\\Temp\\ipykernel_11400\\3600050919.py:6: FutureWarning: The frame.append method is deprecated and will be removed from pandas in a future version. Use pandas.concat instead.\n",
      "  post_df_full = post_df_full.append(fb_post_df)\n"
     ]
    },
    {
     "name": "stdout",
     "output_type": "stream",
     "text": [
      "8407808269291272 get\n"
     ]
    },
    {
     "name": "stderr",
     "output_type": "stream",
     "text": [
      "C:\\Users\\Sree Vidya\\anaconda3\\lib\\site-packages\\facebook_scraper\\facebook_scraper.py:912: UserWarning: Facebook says 'Unsupported Browser'\n",
      "  warnings.warn(f\"Facebook says 'Unsupported Browser'\")\n",
      "C:\\Users\\Sree Vidya\\AppData\\Local\\Temp\\ipykernel_11400\\3600050919.py:6: FutureWarning: The frame.append method is deprecated and will be removed from pandas in a future version. Use pandas.concat instead.\n",
      "  post_df_full = post_df_full.append(fb_post_df)\n"
     ]
    },
    {
     "name": "stdout",
     "output_type": "stream",
     "text": [
      "8407322369339862 get\n"
     ]
    },
    {
     "name": "stderr",
     "output_type": "stream",
     "text": [
      "C:\\Users\\Sree Vidya\\anaconda3\\lib\\site-packages\\facebook_scraper\\facebook_scraper.py:912: UserWarning: Facebook says 'Unsupported Browser'\n",
      "  warnings.warn(f\"Facebook says 'Unsupported Browser'\")\n",
      "C:\\Users\\Sree Vidya\\anaconda3\\lib\\site-packages\\dateparser\\freshness_date_parser.py:76: PytzUsageWarning: The localize method is no longer necessary, as this time zone supports the fold attribute (PEP 495). For more details on migrating to a PEP 495-compliant implementation, see https://pytz-deprecation-shim.readthedocs.io/en/latest/migration.html\n",
      "  now = self.get_local_tz().localize(now)\n",
      "C:\\Users\\Sree Vidya\\AppData\\Local\\Temp\\ipykernel_11400\\3600050919.py:6: FutureWarning: The frame.append method is deprecated and will be removed from pandas in a future version. Use pandas.concat instead.\n",
      "  post_df_full = post_df_full.append(fb_post_df)\n"
     ]
    },
    {
     "name": "stdout",
     "output_type": "stream",
     "text": [
      "8406300259442073 get\n"
     ]
    },
    {
     "name": "stderr",
     "output_type": "stream",
     "text": [
      "C:\\Users\\Sree Vidya\\anaconda3\\lib\\site-packages\\facebook_scraper\\facebook_scraper.py:912: UserWarning: Facebook says 'Unsupported Browser'\n",
      "  warnings.warn(f\"Facebook says 'Unsupported Browser'\")\n",
      "C:\\Users\\Sree Vidya\\anaconda3\\lib\\site-packages\\dateparser\\freshness_date_parser.py:76: PytzUsageWarning: The localize method is no longer necessary, as this time zone supports the fold attribute (PEP 495). For more details on migrating to a PEP 495-compliant implementation, see https://pytz-deprecation-shim.readthedocs.io/en/latest/migration.html\n",
      "  now = self.get_local_tz().localize(now)\n",
      "C:\\Users\\Sree Vidya\\AppData\\Local\\Temp\\ipykernel_11400\\3600050919.py:6: FutureWarning: The frame.append method is deprecated and will be removed from pandas in a future version. Use pandas.concat instead.\n",
      "  post_df_full = post_df_full.append(fb_post_df)\n"
     ]
    },
    {
     "name": "stdout",
     "output_type": "stream",
     "text": [
      "8404382452967187 get\n"
     ]
    },
    {
     "name": "stderr",
     "output_type": "stream",
     "text": [
      "C:\\Users\\Sree Vidya\\anaconda3\\lib\\site-packages\\facebook_scraper\\facebook_scraper.py:912: UserWarning: Facebook says 'Unsupported Browser'\n",
      "  warnings.warn(f\"Facebook says 'Unsupported Browser'\")\n",
      "C:\\Users\\Sree Vidya\\anaconda3\\lib\\site-packages\\dateparser\\freshness_date_parser.py:76: PytzUsageWarning: The localize method is no longer necessary, as this time zone supports the fold attribute (PEP 495). For more details on migrating to a PEP 495-compliant implementation, see https://pytz-deprecation-shim.readthedocs.io/en/latest/migration.html\n",
      "  now = self.get_local_tz().localize(now)\n",
      "C:\\Users\\Sree Vidya\\AppData\\Local\\Temp\\ipykernel_11400\\3600050919.py:6: FutureWarning: The frame.append method is deprecated and will be removed from pandas in a future version. Use pandas.concat instead.\n",
      "  post_df_full = post_df_full.append(fb_post_df)\n"
     ]
    },
    {
     "name": "stdout",
     "output_type": "stream",
     "text": [
      "8403714783033954 get\n"
     ]
    },
    {
     "name": "stderr",
     "output_type": "stream",
     "text": [
      "C:\\Users\\Sree Vidya\\anaconda3\\lib\\site-packages\\facebook_scraper\\facebook_scraper.py:912: UserWarning: Facebook says 'Unsupported Browser'\n",
      "  warnings.warn(f\"Facebook says 'Unsupported Browser'\")\n",
      "C:\\Users\\Sree Vidya\\AppData\\Local\\Temp\\ipykernel_11400\\3600050919.py:6: FutureWarning: The frame.append method is deprecated and will be removed from pandas in a future version. Use pandas.concat instead.\n",
      "  post_df_full = post_df_full.append(fb_post_df)\n"
     ]
    },
    {
     "name": "stdout",
     "output_type": "stream",
     "text": [
      "8397077797030986 get\n"
     ]
    },
    {
     "name": "stderr",
     "output_type": "stream",
     "text": [
      "C:\\Users\\Sree Vidya\\anaconda3\\lib\\site-packages\\facebook_scraper\\facebook_scraper.py:912: UserWarning: Facebook says 'Unsupported Browser'\n",
      "  warnings.warn(f\"Facebook says 'Unsupported Browser'\")\n",
      "C:\\Users\\Sree Vidya\\anaconda3\\lib\\site-packages\\dateparser\\freshness_date_parser.py:76: PytzUsageWarning: The localize method is no longer necessary, as this time zone supports the fold attribute (PEP 495). For more details on migrating to a PEP 495-compliant implementation, see https://pytz-deprecation-shim.readthedocs.io/en/latest/migration.html\n",
      "  now = self.get_local_tz().localize(now)\n",
      "C:\\Users\\Sree Vidya\\AppData\\Local\\Temp\\ipykernel_11400\\3600050919.py:6: FutureWarning: The frame.append method is deprecated and will be removed from pandas in a future version. Use pandas.concat instead.\n",
      "  post_df_full = post_df_full.append(fb_post_df)\n"
     ]
    },
    {
     "name": "stdout",
     "output_type": "stream",
     "text": [
      "8395234333881999 get\n"
     ]
    },
    {
     "name": "stderr",
     "output_type": "stream",
     "text": [
      "C:\\Users\\Sree Vidya\\anaconda3\\lib\\site-packages\\facebook_scraper\\facebook_scraper.py:912: UserWarning: Facebook says 'Unsupported Browser'\n",
      "  warnings.warn(f\"Facebook says 'Unsupported Browser'\")\n",
      "C:\\Users\\Sree Vidya\\AppData\\Local\\Temp\\ipykernel_11400\\3600050919.py:6: FutureWarning: The frame.append method is deprecated and will be removed from pandas in a future version. Use pandas.concat instead.\n",
      "  post_df_full = post_df_full.append(fb_post_df)\n"
     ]
    },
    {
     "name": "stdout",
     "output_type": "stream",
     "text": [
      "8387920411280058 get\n"
     ]
    },
    {
     "name": "stderr",
     "output_type": "stream",
     "text": [
      "C:\\Users\\Sree Vidya\\anaconda3\\lib\\site-packages\\facebook_scraper\\facebook_scraper.py:912: UserWarning: Facebook says 'Unsupported Browser'\n",
      "  warnings.warn(f\"Facebook says 'Unsupported Browser'\")\n",
      "C:\\Users\\Sree Vidya\\anaconda3\\lib\\site-packages\\dateparser\\freshness_date_parser.py:76: PytzUsageWarning: The localize method is no longer necessary, as this time zone supports the fold attribute (PEP 495). For more details on migrating to a PEP 495-compliant implementation, see https://pytz-deprecation-shim.readthedocs.io/en/latest/migration.html\n",
      "  now = self.get_local_tz().localize(now)\n",
      "C:\\Users\\Sree Vidya\\AppData\\Local\\Temp\\ipykernel_11400\\3600050919.py:6: FutureWarning: The frame.append method is deprecated and will be removed from pandas in a future version. Use pandas.concat instead.\n",
      "  post_df_full = post_df_full.append(fb_post_df)\n"
     ]
    },
    {
     "name": "stdout",
     "output_type": "stream",
     "text": [
      "8383801555025277 get\n"
     ]
    },
    {
     "name": "stderr",
     "output_type": "stream",
     "text": [
      "C:\\Users\\Sree Vidya\\anaconda3\\lib\\site-packages\\facebook_scraper\\facebook_scraper.py:912: UserWarning: Facebook says 'Unsupported Browser'\n",
      "  warnings.warn(f\"Facebook says 'Unsupported Browser'\")\n",
      "C:\\Users\\Sree Vidya\\AppData\\Local\\Temp\\ipykernel_11400\\3600050919.py:6: FutureWarning: The frame.append method is deprecated and will be removed from pandas in a future version. Use pandas.concat instead.\n",
      "  post_df_full = post_df_full.append(fb_post_df)\n"
     ]
    },
    {
     "name": "stdout",
     "output_type": "stream",
     "text": [
      "8383503538388412 get\n"
     ]
    },
    {
     "name": "stderr",
     "output_type": "stream",
     "text": [
      "C:\\Users\\Sree Vidya\\anaconda3\\lib\\site-packages\\facebook_scraper\\facebook_scraper.py:912: UserWarning: Facebook says 'Unsupported Browser'\n",
      "  warnings.warn(f\"Facebook says 'Unsupported Browser'\")\n",
      "C:\\Users\\Sree Vidya\\AppData\\Local\\Temp\\ipykernel_11400\\3600050919.py:6: FutureWarning: The frame.append method is deprecated and will be removed from pandas in a future version. Use pandas.concat instead.\n",
      "  post_df_full = post_df_full.append(fb_post_df)\n"
     ]
    },
    {
     "name": "stdout",
     "output_type": "stream",
     "text": [
      "8382909801781119 get\n"
     ]
    },
    {
     "name": "stderr",
     "output_type": "stream",
     "text": [
      "C:\\Users\\Sree Vidya\\anaconda3\\lib\\site-packages\\facebook_scraper\\facebook_scraper.py:912: UserWarning: Facebook says 'Unsupported Browser'\n",
      "  warnings.warn(f\"Facebook says 'Unsupported Browser'\")\n",
      "C:\\Users\\Sree Vidya\\anaconda3\\lib\\site-packages\\dateparser\\freshness_date_parser.py:76: PytzUsageWarning: The localize method is no longer necessary, as this time zone supports the fold attribute (PEP 495). For more details on migrating to a PEP 495-compliant implementation, see https://pytz-deprecation-shim.readthedocs.io/en/latest/migration.html\n",
      "  now = self.get_local_tz().localize(now)\n",
      "C:\\Users\\Sree Vidya\\AppData\\Local\\Temp\\ipykernel_11400\\3600050919.py:6: FutureWarning: The frame.append method is deprecated and will be removed from pandas in a future version. Use pandas.concat instead.\n",
      "  post_df_full = post_df_full.append(fb_post_df)\n"
     ]
    },
    {
     "name": "stdout",
     "output_type": "stream",
     "text": [
      "8380257968712969 get\n"
     ]
    },
    {
     "name": "stderr",
     "output_type": "stream",
     "text": [
      "C:\\Users\\Sree Vidya\\anaconda3\\lib\\site-packages\\facebook_scraper\\facebook_scraper.py:912: UserWarning: Facebook says 'Unsupported Browser'\n",
      "  warnings.warn(f\"Facebook says 'Unsupported Browser'\")\n",
      "C:\\Users\\Sree Vidya\\AppData\\Local\\Temp\\ipykernel_11400\\3600050919.py:6: FutureWarning: The frame.append method is deprecated and will be removed from pandas in a future version. Use pandas.concat instead.\n",
      "  post_df_full = post_df_full.append(fb_post_df)\n"
     ]
    },
    {
     "name": "stdout",
     "output_type": "stream",
     "text": [
      "8379476628791103 get\n"
     ]
    },
    {
     "name": "stderr",
     "output_type": "stream",
     "text": [
      "C:\\Users\\Sree Vidya\\anaconda3\\lib\\site-packages\\facebook_scraper\\facebook_scraper.py:912: UserWarning: Facebook says 'Unsupported Browser'\n",
      "  warnings.warn(f\"Facebook says 'Unsupported Browser'\")\n",
      "C:\\Users\\Sree Vidya\\anaconda3\\lib\\site-packages\\dateparser\\freshness_date_parser.py:76: PytzUsageWarning: The localize method is no longer necessary, as this time zone supports the fold attribute (PEP 495). For more details on migrating to a PEP 495-compliant implementation, see https://pytz-deprecation-shim.readthedocs.io/en/latest/migration.html\n",
      "  now = self.get_local_tz().localize(now)\n",
      "C:\\Users\\Sree Vidya\\AppData\\Local\\Temp\\ipykernel_11400\\3600050919.py:6: FutureWarning: The frame.append method is deprecated and will be removed from pandas in a future version. Use pandas.concat instead.\n",
      "  post_df_full = post_df_full.append(fb_post_df)\n"
     ]
    },
    {
     "name": "stdout",
     "output_type": "stream",
     "text": [
      "8377673082304791 get\n"
     ]
    },
    {
     "name": "stderr",
     "output_type": "stream",
     "text": [
      "C:\\Users\\Sree Vidya\\anaconda3\\lib\\site-packages\\facebook_scraper\\facebook_scraper.py:912: UserWarning: Facebook says 'Unsupported Browser'\n",
      "  warnings.warn(f\"Facebook says 'Unsupported Browser'\")\n",
      "C:\\Users\\Sree Vidya\\anaconda3\\lib\\site-packages\\dateparser\\freshness_date_parser.py:76: PytzUsageWarning: The localize method is no longer necessary, as this time zone supports the fold attribute (PEP 495). For more details on migrating to a PEP 495-compliant implementation, see https://pytz-deprecation-shim.readthedocs.io/en/latest/migration.html\n",
      "  now = self.get_local_tz().localize(now)\n",
      "C:\\Users\\Sree Vidya\\AppData\\Local\\Temp\\ipykernel_11400\\3600050919.py:6: FutureWarning: The frame.append method is deprecated and will be removed from pandas in a future version. Use pandas.concat instead.\n",
      "  post_df_full = post_df_full.append(fb_post_df)\n"
     ]
    },
    {
     "name": "stdout",
     "output_type": "stream",
     "text": [
      "8374235299315236 get\n"
     ]
    },
    {
     "name": "stderr",
     "output_type": "stream",
     "text": [
      "C:\\Users\\Sree Vidya\\anaconda3\\lib\\site-packages\\facebook_scraper\\facebook_scraper.py:912: UserWarning: Facebook says 'Unsupported Browser'\n",
      "  warnings.warn(f\"Facebook says 'Unsupported Browser'\")\n",
      "C:\\Users\\Sree Vidya\\anaconda3\\lib\\site-packages\\dateparser\\freshness_date_parser.py:76: PytzUsageWarning: The localize method is no longer necessary, as this time zone supports the fold attribute (PEP 495). For more details on migrating to a PEP 495-compliant implementation, see https://pytz-deprecation-shim.readthedocs.io/en/latest/migration.html\n",
      "  now = self.get_local_tz().localize(now)\n",
      "C:\\Users\\Sree Vidya\\AppData\\Local\\Temp\\ipykernel_11400\\3600050919.py:6: FutureWarning: The frame.append method is deprecated and will be removed from pandas in a future version. Use pandas.concat instead.\n",
      "  post_df_full = post_df_full.append(fb_post_df)\n"
     ]
    },
    {
     "name": "stdout",
     "output_type": "stream",
     "text": [
      "8373405666064866 get\n"
     ]
    },
    {
     "name": "stderr",
     "output_type": "stream",
     "text": [
      "C:\\Users\\Sree Vidya\\anaconda3\\lib\\site-packages\\facebook_scraper\\facebook_scraper.py:912: UserWarning: Facebook says 'Unsupported Browser'\n",
      "  warnings.warn(f\"Facebook says 'Unsupported Browser'\")\n",
      "C:\\Users\\Sree Vidya\\anaconda3\\lib\\site-packages\\dateparser\\freshness_date_parser.py:76: PytzUsageWarning: The localize method is no longer necessary, as this time zone supports the fold attribute (PEP 495). For more details on migrating to a PEP 495-compliant implementation, see https://pytz-deprecation-shim.readthedocs.io/en/latest/migration.html\n",
      "  now = self.get_local_tz().localize(now)\n",
      "C:\\Users\\Sree Vidya\\AppData\\Local\\Temp\\ipykernel_11400\\3600050919.py:6: FutureWarning: The frame.append method is deprecated and will be removed from pandas in a future version. Use pandas.concat instead.\n",
      "  post_df_full = post_df_full.append(fb_post_df)\n"
     ]
    },
    {
     "name": "stdout",
     "output_type": "stream",
     "text": [
      "8371272816278151 get\n"
     ]
    },
    {
     "name": "stderr",
     "output_type": "stream",
     "text": [
      "C:\\Users\\Sree Vidya\\anaconda3\\lib\\site-packages\\facebook_scraper\\facebook_scraper.py:912: UserWarning: Facebook says 'Unsupported Browser'\n",
      "  warnings.warn(f\"Facebook says 'Unsupported Browser'\")\n",
      "C:\\Users\\Sree Vidya\\anaconda3\\lib\\site-packages\\dateparser\\freshness_date_parser.py:76: PytzUsageWarning: The localize method is no longer necessary, as this time zone supports the fold attribute (PEP 495). For more details on migrating to a PEP 495-compliant implementation, see https://pytz-deprecation-shim.readthedocs.io/en/latest/migration.html\n",
      "  now = self.get_local_tz().localize(now)\n",
      "C:\\Users\\Sree Vidya\\AppData\\Local\\Temp\\ipykernel_11400\\3600050919.py:6: FutureWarning: The frame.append method is deprecated and will be removed from pandas in a future version. Use pandas.concat instead.\n",
      "  post_df_full = post_df_full.append(fb_post_df)\n"
     ]
    },
    {
     "name": "stdout",
     "output_type": "stream",
     "text": [
      "8369995936405839 get\n"
     ]
    },
    {
     "name": "stderr",
     "output_type": "stream",
     "text": [
      "C:\\Users\\Sree Vidya\\anaconda3\\lib\\site-packages\\facebook_scraper\\facebook_scraper.py:912: UserWarning: Facebook says 'Unsupported Browser'\n",
      "  warnings.warn(f\"Facebook says 'Unsupported Browser'\")\n",
      "C:\\Users\\Sree Vidya\\anaconda3\\lib\\site-packages\\dateparser\\freshness_date_parser.py:76: PytzUsageWarning: The localize method is no longer necessary, as this time zone supports the fold attribute (PEP 495). For more details on migrating to a PEP 495-compliant implementation, see https://pytz-deprecation-shim.readthedocs.io/en/latest/migration.html\n",
      "  now = self.get_local_tz().localize(now)\n",
      "C:\\Users\\Sree Vidya\\AppData\\Local\\Temp\\ipykernel_11400\\3600050919.py:6: FutureWarning: The frame.append method is deprecated and will be removed from pandas in a future version. Use pandas.concat instead.\n",
      "  post_df_full = post_df_full.append(fb_post_df)\n"
     ]
    },
    {
     "name": "stdout",
     "output_type": "stream",
     "text": [
      "8369340119804754 get\n"
     ]
    },
    {
     "name": "stderr",
     "output_type": "stream",
     "text": [
      "C:\\Users\\Sree Vidya\\anaconda3\\lib\\site-packages\\facebook_scraper\\facebook_scraper.py:912: UserWarning: Facebook says 'Unsupported Browser'\n",
      "  warnings.warn(f\"Facebook says 'Unsupported Browser'\")\n",
      "C:\\Users\\Sree Vidya\\anaconda3\\lib\\site-packages\\dateparser\\freshness_date_parser.py:76: PytzUsageWarning: The localize method is no longer necessary, as this time zone supports the fold attribute (PEP 495). For more details on migrating to a PEP 495-compliant implementation, see https://pytz-deprecation-shim.readthedocs.io/en/latest/migration.html\n",
      "  now = self.get_local_tz().localize(now)\n",
      "C:\\Users\\Sree Vidya\\AppData\\Local\\Temp\\ipykernel_11400\\3600050919.py:6: FutureWarning: The frame.append method is deprecated and will be removed from pandas in a future version. Use pandas.concat instead.\n",
      "  post_df_full = post_df_full.append(fb_post_df)\n"
     ]
    },
    {
     "name": "stdout",
     "output_type": "stream",
     "text": [
      "8366213100117456 get\n"
     ]
    },
    {
     "name": "stderr",
     "output_type": "stream",
     "text": [
      "C:\\Users\\Sree Vidya\\anaconda3\\lib\\site-packages\\facebook_scraper\\facebook_scraper.py:912: UserWarning: Facebook says 'Unsupported Browser'\n",
      "  warnings.warn(f\"Facebook says 'Unsupported Browser'\")\n",
      "C:\\Users\\Sree Vidya\\anaconda3\\lib\\site-packages\\dateparser\\freshness_date_parser.py:76: PytzUsageWarning: The localize method is no longer necessary, as this time zone supports the fold attribute (PEP 495). For more details on migrating to a PEP 495-compliant implementation, see https://pytz-deprecation-shim.readthedocs.io/en/latest/migration.html\n",
      "  now = self.get_local_tz().localize(now)\n",
      "C:\\Users\\Sree Vidya\\AppData\\Local\\Temp\\ipykernel_11400\\3600050919.py:6: FutureWarning: The frame.append method is deprecated and will be removed from pandas in a future version. Use pandas.concat instead.\n",
      "  post_df_full = post_df_full.append(fb_post_df)\n"
     ]
    },
    {
     "name": "stdout",
     "output_type": "stream",
     "text": [
      "8365906530148113 get\n"
     ]
    },
    {
     "name": "stderr",
     "output_type": "stream",
     "text": [
      "C:\\Users\\Sree Vidya\\anaconda3\\lib\\site-packages\\facebook_scraper\\facebook_scraper.py:912: UserWarning: Facebook says 'Unsupported Browser'\n",
      "  warnings.warn(f\"Facebook says 'Unsupported Browser'\")\n",
      "C:\\Users\\Sree Vidya\\AppData\\Local\\Temp\\ipykernel_11400\\3600050919.py:6: FutureWarning: The frame.append method is deprecated and will be removed from pandas in a future version. Use pandas.concat instead.\n",
      "  post_df_full = post_df_full.append(fb_post_df)\n"
     ]
    },
    {
     "name": "stdout",
     "output_type": "stream",
     "text": [
      "8364803856925047 get\n"
     ]
    },
    {
     "name": "stderr",
     "output_type": "stream",
     "text": [
      "C:\\Users\\Sree Vidya\\anaconda3\\lib\\site-packages\\facebook_scraper\\facebook_scraper.py:912: UserWarning: Facebook says 'Unsupported Browser'\n",
      "  warnings.warn(f\"Facebook says 'Unsupported Browser'\")\n",
      "C:\\Users\\Sree Vidya\\AppData\\Local\\Temp\\ipykernel_11400\\3600050919.py:6: FutureWarning: The frame.append method is deprecated and will be removed from pandas in a future version. Use pandas.concat instead.\n",
      "  post_df_full = post_df_full.append(fb_post_df)\n"
     ]
    },
    {
     "name": "stdout",
     "output_type": "stream",
     "text": [
      "8364067813665318 get\n"
     ]
    },
    {
     "name": "stderr",
     "output_type": "stream",
     "text": [
      "C:\\Users\\Sree Vidya\\anaconda3\\lib\\site-packages\\facebook_scraper\\facebook_scraper.py:912: UserWarning: Facebook says 'Unsupported Browser'\n",
      "  warnings.warn(f\"Facebook says 'Unsupported Browser'\")\n",
      "C:\\Users\\Sree Vidya\\anaconda3\\lib\\site-packages\\dateparser\\freshness_date_parser.py:76: PytzUsageWarning: The localize method is no longer necessary, as this time zone supports the fold attribute (PEP 495). For more details on migrating to a PEP 495-compliant implementation, see https://pytz-deprecation-shim.readthedocs.io/en/latest/migration.html\n",
      "  now = self.get_local_tz().localize(now)\n",
      "C:\\Users\\Sree Vidya\\AppData\\Local\\Temp\\ipykernel_11400\\3600050919.py:6: FutureWarning: The frame.append method is deprecated and will be removed from pandas in a future version. Use pandas.concat instead.\n",
      "  post_df_full = post_df_full.append(fb_post_df)\n"
     ]
    },
    {
     "name": "stdout",
     "output_type": "stream",
     "text": [
      "8362188797186553 get\n"
     ]
    },
    {
     "name": "stderr",
     "output_type": "stream",
     "text": [
      "C:\\Users\\Sree Vidya\\anaconda3\\lib\\site-packages\\facebook_scraper\\facebook_scraper.py:912: UserWarning: Facebook says 'Unsupported Browser'\n",
      "  warnings.warn(f\"Facebook says 'Unsupported Browser'\")\n",
      "C:\\Users\\Sree Vidya\\anaconda3\\lib\\site-packages\\dateparser\\freshness_date_parser.py:76: PytzUsageWarning: The localize method is no longer necessary, as this time zone supports the fold attribute (PEP 495). For more details on migrating to a PEP 495-compliant implementation, see https://pytz-deprecation-shim.readthedocs.io/en/latest/migration.html\n",
      "  now = self.get_local_tz().localize(now)\n",
      "C:\\Users\\Sree Vidya\\AppData\\Local\\Temp\\ipykernel_11400\\3600050919.py:6: FutureWarning: The frame.append method is deprecated and will be removed from pandas in a future version. Use pandas.concat instead.\n",
      "  post_df_full = post_df_full.append(fb_post_df)\n"
     ]
    },
    {
     "name": "stdout",
     "output_type": "stream",
     "text": [
      "8358289754243124 get\n"
     ]
    },
    {
     "name": "stderr",
     "output_type": "stream",
     "text": [
      "C:\\Users\\Sree Vidya\\anaconda3\\lib\\site-packages\\facebook_scraper\\facebook_scraper.py:912: UserWarning: Facebook says 'Unsupported Browser'\n",
      "  warnings.warn(f\"Facebook says 'Unsupported Browser'\")\n",
      "C:\\Users\\Sree Vidya\\anaconda3\\lib\\site-packages\\dateparser\\freshness_date_parser.py:76: PytzUsageWarning: The localize method is no longer necessary, as this time zone supports the fold attribute (PEP 495). For more details on migrating to a PEP 495-compliant implementation, see https://pytz-deprecation-shim.readthedocs.io/en/latest/migration.html\n",
      "  now = self.get_local_tz().localize(now)\n",
      "C:\\Users\\Sree Vidya\\AppData\\Local\\Temp\\ipykernel_11400\\3600050919.py:6: FutureWarning: The frame.append method is deprecated and will be removed from pandas in a future version. Use pandas.concat instead.\n",
      "  post_df_full = post_df_full.append(fb_post_df)\n"
     ]
    },
    {
     "name": "stdout",
     "output_type": "stream",
     "text": [
      "8355185841220182 get\n"
     ]
    },
    {
     "name": "stderr",
     "output_type": "stream",
     "text": [
      "C:\\Users\\Sree Vidya\\anaconda3\\lib\\site-packages\\facebook_scraper\\facebook_scraper.py:912: UserWarning: Facebook says 'Unsupported Browser'\n",
      "  warnings.warn(f\"Facebook says 'Unsupported Browser'\")\n",
      "C:\\Users\\Sree Vidya\\anaconda3\\lib\\site-packages\\dateparser\\freshness_date_parser.py:76: PytzUsageWarning: The localize method is no longer necessary, as this time zone supports the fold attribute (PEP 495). For more details on migrating to a PEP 495-compliant implementation, see https://pytz-deprecation-shim.readthedocs.io/en/latest/migration.html\n",
      "  now = self.get_local_tz().localize(now)\n",
      "C:\\Users\\Sree Vidya\\AppData\\Local\\Temp\\ipykernel_11400\\3600050919.py:6: FutureWarning: The frame.append method is deprecated and will be removed from pandas in a future version. Use pandas.concat instead.\n",
      "  post_df_full = post_df_full.append(fb_post_df)\n"
     ]
    },
    {
     "name": "stdout",
     "output_type": "stream",
     "text": [
      "8353054788099954 get\n"
     ]
    },
    {
     "name": "stderr",
     "output_type": "stream",
     "text": [
      "C:\\Users\\Sree Vidya\\anaconda3\\lib\\site-packages\\facebook_scraper\\facebook_scraper.py:912: UserWarning: Facebook says 'Unsupported Browser'\n",
      "  warnings.warn(f\"Facebook says 'Unsupported Browser'\")\n",
      "C:\\Users\\Sree Vidya\\anaconda3\\lib\\site-packages\\dateparser\\freshness_date_parser.py:76: PytzUsageWarning: The localize method is no longer necessary, as this time zone supports the fold attribute (PEP 495). For more details on migrating to a PEP 495-compliant implementation, see https://pytz-deprecation-shim.readthedocs.io/en/latest/migration.html\n",
      "  now = self.get_local_tz().localize(now)\n",
      "C:\\Users\\Sree Vidya\\AppData\\Local\\Temp\\ipykernel_11400\\3600050919.py:6: FutureWarning: The frame.append method is deprecated and will be removed from pandas in a future version. Use pandas.concat instead.\n",
      "  post_df_full = post_df_full.append(fb_post_df)\n"
     ]
    },
    {
     "name": "stdout",
     "output_type": "stream",
     "text": [
      "8352431661495600 get\n"
     ]
    },
    {
     "name": "stderr",
     "output_type": "stream",
     "text": [
      "C:\\Users\\Sree Vidya\\anaconda3\\lib\\site-packages\\facebook_scraper\\facebook_scraper.py:912: UserWarning: Facebook says 'Unsupported Browser'\n",
      "  warnings.warn(f\"Facebook says 'Unsupported Browser'\")\n",
      "C:\\Users\\Sree Vidya\\anaconda3\\lib\\site-packages\\dateparser\\freshness_date_parser.py:76: PytzUsageWarning: The localize method is no longer necessary, as this time zone supports the fold attribute (PEP 495). For more details on migrating to a PEP 495-compliant implementation, see https://pytz-deprecation-shim.readthedocs.io/en/latest/migration.html\n",
      "  now = self.get_local_tz().localize(now)\n",
      "C:\\Users\\Sree Vidya\\AppData\\Local\\Temp\\ipykernel_11400\\3600050919.py:6: FutureWarning: The frame.append method is deprecated and will be removed from pandas in a future version. Use pandas.concat instead.\n",
      "  post_df_full = post_df_full.append(fb_post_df)\n"
     ]
    },
    {
     "name": "stdout",
     "output_type": "stream",
     "text": [
      "8347215232017243 get\n"
     ]
    },
    {
     "name": "stderr",
     "output_type": "stream",
     "text": [
      "C:\\Users\\Sree Vidya\\anaconda3\\lib\\site-packages\\facebook_scraper\\facebook_scraper.py:912: UserWarning: Facebook says 'Unsupported Browser'\n",
      "  warnings.warn(f\"Facebook says 'Unsupported Browser'\")\n",
      "C:\\Users\\Sree Vidya\\anaconda3\\lib\\site-packages\\dateparser\\freshness_date_parser.py:76: PytzUsageWarning: The localize method is no longer necessary, as this time zone supports the fold attribute (PEP 495). For more details on migrating to a PEP 495-compliant implementation, see https://pytz-deprecation-shim.readthedocs.io/en/latest/migration.html\n",
      "  now = self.get_local_tz().localize(now)\n",
      "C:\\Users\\Sree Vidya\\AppData\\Local\\Temp\\ipykernel_11400\\3600050919.py:6: FutureWarning: The frame.append method is deprecated and will be removed from pandas in a future version. Use pandas.concat instead.\n",
      "  post_df_full = post_df_full.append(fb_post_df)\n"
     ]
    },
    {
     "name": "stdout",
     "output_type": "stream",
     "text": [
      "8347008545371245 get\n"
     ]
    },
    {
     "name": "stderr",
     "output_type": "stream",
     "text": [
      "C:\\Users\\Sree Vidya\\anaconda3\\lib\\site-packages\\facebook_scraper\\facebook_scraper.py:912: UserWarning: Facebook says 'Unsupported Browser'\n",
      "  warnings.warn(f\"Facebook says 'Unsupported Browser'\")\n",
      "C:\\Users\\Sree Vidya\\anaconda3\\lib\\site-packages\\dateparser\\freshness_date_parser.py:76: PytzUsageWarning: The localize method is no longer necessary, as this time zone supports the fold attribute (PEP 495). For more details on migrating to a PEP 495-compliant implementation, see https://pytz-deprecation-shim.readthedocs.io/en/latest/migration.html\n",
      "  now = self.get_local_tz().localize(now)\n",
      "C:\\Users\\Sree Vidya\\AppData\\Local\\Temp\\ipykernel_11400\\3600050919.py:6: FutureWarning: The frame.append method is deprecated and will be removed from pandas in a future version. Use pandas.concat instead.\n",
      "  post_df_full = post_df_full.append(fb_post_df)\n"
     ]
    },
    {
     "name": "stdout",
     "output_type": "stream",
     "text": [
      "8345203055551794 get\n"
     ]
    },
    {
     "name": "stderr",
     "output_type": "stream",
     "text": [
      "C:\\Users\\Sree Vidya\\anaconda3\\lib\\site-packages\\facebook_scraper\\facebook_scraper.py:912: UserWarning: Facebook says 'Unsupported Browser'\n",
      "  warnings.warn(f\"Facebook says 'Unsupported Browser'\")\n",
      "C:\\Users\\Sree Vidya\\AppData\\Local\\Temp\\ipykernel_11400\\3600050919.py:6: FutureWarning: The frame.append method is deprecated and will be removed from pandas in a future version. Use pandas.concat instead.\n",
      "  post_df_full = post_df_full.append(fb_post_df)\n"
     ]
    },
    {
     "name": "stdout",
     "output_type": "stream",
     "text": [
      "8337520226320077 get\n"
     ]
    },
    {
     "name": "stderr",
     "output_type": "stream",
     "text": [
      "C:\\Users\\Sree Vidya\\anaconda3\\lib\\site-packages\\facebook_scraper\\facebook_scraper.py:912: UserWarning: Facebook says 'Unsupported Browser'\n",
      "  warnings.warn(f\"Facebook says 'Unsupported Browser'\")\n",
      "C:\\Users\\Sree Vidya\\anaconda3\\lib\\site-packages\\dateparser\\freshness_date_parser.py:76: PytzUsageWarning: The localize method is no longer necessary, as this time zone supports the fold attribute (PEP 495). For more details on migrating to a PEP 495-compliant implementation, see https://pytz-deprecation-shim.readthedocs.io/en/latest/migration.html\n",
      "  now = self.get_local_tz().localize(now)\n",
      "C:\\Users\\Sree Vidya\\AppData\\Local\\Temp\\ipykernel_11400\\3600050919.py:6: FutureWarning: The frame.append method is deprecated and will be removed from pandas in a future version. Use pandas.concat instead.\n",
      "  post_df_full = post_df_full.append(fb_post_df)\n"
     ]
    },
    {
     "name": "stdout",
     "output_type": "stream",
     "text": [
      "8337370173001749 get\n"
     ]
    },
    {
     "name": "stderr",
     "output_type": "stream",
     "text": [
      "C:\\Users\\Sree Vidya\\anaconda3\\lib\\site-packages\\facebook_scraper\\facebook_scraper.py:912: UserWarning: Facebook says 'Unsupported Browser'\n",
      "  warnings.warn(f\"Facebook says 'Unsupported Browser'\")\n",
      "C:\\Users\\Sree Vidya\\anaconda3\\lib\\site-packages\\dateparser\\freshness_date_parser.py:76: PytzUsageWarning: The localize method is no longer necessary, as this time zone supports the fold attribute (PEP 495). For more details on migrating to a PEP 495-compliant implementation, see https://pytz-deprecation-shim.readthedocs.io/en/latest/migration.html\n",
      "  now = self.get_local_tz().localize(now)\n",
      "C:\\Users\\Sree Vidya\\AppData\\Local\\Temp\\ipykernel_11400\\3600050919.py:6: FutureWarning: The frame.append method is deprecated and will be removed from pandas in a future version. Use pandas.concat instead.\n",
      "  post_df_full = post_df_full.append(fb_post_df)\n"
     ]
    },
    {
     "name": "stdout",
     "output_type": "stream",
     "text": [
      "8337119493026817 get\n"
     ]
    },
    {
     "name": "stderr",
     "output_type": "stream",
     "text": [
      "C:\\Users\\Sree Vidya\\anaconda3\\lib\\site-packages\\facebook_scraper\\facebook_scraper.py:912: UserWarning: Facebook says 'Unsupported Browser'\n",
      "  warnings.warn(f\"Facebook says 'Unsupported Browser'\")\n",
      "C:\\Users\\Sree Vidya\\AppData\\Local\\Temp\\ipykernel_11400\\3600050919.py:6: FutureWarning: The frame.append method is deprecated and will be removed from pandas in a future version. Use pandas.concat instead.\n",
      "  post_df_full = post_df_full.append(fb_post_df)\n"
     ]
    },
    {
     "name": "stdout",
     "output_type": "stream",
     "text": [
      "8336094353129331 get\n"
     ]
    },
    {
     "name": "stderr",
     "output_type": "stream",
     "text": [
      "C:\\Users\\Sree Vidya\\anaconda3\\lib\\site-packages\\facebook_scraper\\facebook_scraper.py:912: UserWarning: Facebook says 'Unsupported Browser'\n",
      "  warnings.warn(f\"Facebook says 'Unsupported Browser'\")\n",
      "C:\\Users\\Sree Vidya\\AppData\\Local\\Temp\\ipykernel_11400\\3600050919.py:6: FutureWarning: The frame.append method is deprecated and will be removed from pandas in a future version. Use pandas.concat instead.\n",
      "  post_df_full = post_df_full.append(fb_post_df)\n"
     ]
    },
    {
     "name": "stdout",
     "output_type": "stream",
     "text": [
      "8332621930143240 get\n"
     ]
    },
    {
     "name": "stderr",
     "output_type": "stream",
     "text": [
      "C:\\Users\\Sree Vidya\\anaconda3\\lib\\site-packages\\facebook_scraper\\facebook_scraper.py:912: UserWarning: Facebook says 'Unsupported Browser'\n",
      "  warnings.warn(f\"Facebook says 'Unsupported Browser'\")\n",
      "C:\\Users\\Sree Vidya\\anaconda3\\lib\\site-packages\\dateparser\\freshness_date_parser.py:76: PytzUsageWarning: The localize method is no longer necessary, as this time zone supports the fold attribute (PEP 495). For more details on migrating to a PEP 495-compliant implementation, see https://pytz-deprecation-shim.readthedocs.io/en/latest/migration.html\n",
      "  now = self.get_local_tz().localize(now)\n",
      "C:\\Users\\Sree Vidya\\AppData\\Local\\Temp\\ipykernel_11400\\3600050919.py:6: FutureWarning: The frame.append method is deprecated and will be removed from pandas in a future version. Use pandas.concat instead.\n",
      "  post_df_full = post_df_full.append(fb_post_df)\n"
     ]
    },
    {
     "name": "stdout",
     "output_type": "stream",
     "text": [
      "8324400714298695 get\n"
     ]
    },
    {
     "name": "stderr",
     "output_type": "stream",
     "text": [
      "C:\\Users\\Sree Vidya\\anaconda3\\lib\\site-packages\\facebook_scraper\\facebook_scraper.py:912: UserWarning: Facebook says 'Unsupported Browser'\n",
      "  warnings.warn(f\"Facebook says 'Unsupported Browser'\")\n",
      "C:\\Users\\Sree Vidya\\anaconda3\\lib\\site-packages\\dateparser\\freshness_date_parser.py:76: PytzUsageWarning: The localize method is no longer necessary, as this time zone supports the fold attribute (PEP 495). For more details on migrating to a PEP 495-compliant implementation, see https://pytz-deprecation-shim.readthedocs.io/en/latest/migration.html\n",
      "  now = self.get_local_tz().localize(now)\n",
      "C:\\Users\\Sree Vidya\\AppData\\Local\\Temp\\ipykernel_11400\\3600050919.py:6: FutureWarning: The frame.append method is deprecated and will be removed from pandas in a future version. Use pandas.concat instead.\n",
      "  post_df_full = post_df_full.append(fb_post_df)\n"
     ]
    },
    {
     "name": "stdout",
     "output_type": "stream",
     "text": [
      "8324392250966208 get\n"
     ]
    },
    {
     "name": "stderr",
     "output_type": "stream",
     "text": [
      "C:\\Users\\Sree Vidya\\anaconda3\\lib\\site-packages\\facebook_scraper\\facebook_scraper.py:912: UserWarning: Facebook says 'Unsupported Browser'\n",
      "  warnings.warn(f\"Facebook says 'Unsupported Browser'\")\n",
      "C:\\Users\\Sree Vidya\\anaconda3\\lib\\site-packages\\dateparser\\freshness_date_parser.py:76: PytzUsageWarning: The localize method is no longer necessary, as this time zone supports the fold attribute (PEP 495). For more details on migrating to a PEP 495-compliant implementation, see https://pytz-deprecation-shim.readthedocs.io/en/latest/migration.html\n",
      "  now = self.get_local_tz().localize(now)\n",
      "C:\\Users\\Sree Vidya\\AppData\\Local\\Temp\\ipykernel_11400\\3600050919.py:6: FutureWarning: The frame.append method is deprecated and will be removed from pandas in a future version. Use pandas.concat instead.\n",
      "  post_df_full = post_df_full.append(fb_post_df)\n"
     ]
    },
    {
     "name": "stdout",
     "output_type": "stream",
     "text": [
      "8323460187726081 get\n"
     ]
    },
    {
     "name": "stderr",
     "output_type": "stream",
     "text": [
      "C:\\Users\\Sree Vidya\\anaconda3\\lib\\site-packages\\facebook_scraper\\facebook_scraper.py:912: UserWarning: Facebook says 'Unsupported Browser'\n",
      "  warnings.warn(f\"Facebook says 'Unsupported Browser'\")\n",
      "C:\\Users\\Sree Vidya\\anaconda3\\lib\\site-packages\\dateparser\\freshness_date_parser.py:76: PytzUsageWarning: The localize method is no longer necessary, as this time zone supports the fold attribute (PEP 495). For more details on migrating to a PEP 495-compliant implementation, see https://pytz-deprecation-shim.readthedocs.io/en/latest/migration.html\n",
      "  now = self.get_local_tz().localize(now)\n",
      "C:\\Users\\Sree Vidya\\AppData\\Local\\Temp\\ipykernel_11400\\3600050919.py:6: FutureWarning: The frame.append method is deprecated and will be removed from pandas in a future version. Use pandas.concat instead.\n",
      "  post_df_full = post_df_full.append(fb_post_df)\n"
     ]
    },
    {
     "name": "stdout",
     "output_type": "stream",
     "text": [
      "8323375571067876 get\n"
     ]
    },
    {
     "name": "stderr",
     "output_type": "stream",
     "text": [
      "C:\\Users\\Sree Vidya\\anaconda3\\lib\\site-packages\\facebook_scraper\\facebook_scraper.py:912: UserWarning: Facebook says 'Unsupported Browser'\n",
      "  warnings.warn(f\"Facebook says 'Unsupported Browser'\")\n",
      "C:\\Users\\Sree Vidya\\anaconda3\\lib\\site-packages\\dateparser\\freshness_date_parser.py:76: PytzUsageWarning: The localize method is no longer necessary, as this time zone supports the fold attribute (PEP 495). For more details on migrating to a PEP 495-compliant implementation, see https://pytz-deprecation-shim.readthedocs.io/en/latest/migration.html\n",
      "  now = self.get_local_tz().localize(now)\n",
      "C:\\Users\\Sree Vidya\\AppData\\Local\\Temp\\ipykernel_11400\\3600050919.py:6: FutureWarning: The frame.append method is deprecated and will be removed from pandas in a future version. Use pandas.concat instead.\n",
      "  post_df_full = post_df_full.append(fb_post_df)\n"
     ]
    },
    {
     "name": "stdout",
     "output_type": "stream",
     "text": [
      "8322525854486181 get\n"
     ]
    },
    {
     "name": "stderr",
     "output_type": "stream",
     "text": [
      "C:\\Users\\Sree Vidya\\anaconda3\\lib\\site-packages\\facebook_scraper\\facebook_scraper.py:912: UserWarning: Facebook says 'Unsupported Browser'\n",
      "  warnings.warn(f\"Facebook says 'Unsupported Browser'\")\n",
      "C:\\Users\\Sree Vidya\\anaconda3\\lib\\site-packages\\dateparser\\freshness_date_parser.py:76: PytzUsageWarning: The localize method is no longer necessary, as this time zone supports the fold attribute (PEP 495). For more details on migrating to a PEP 495-compliant implementation, see https://pytz-deprecation-shim.readthedocs.io/en/latest/migration.html\n",
      "  now = self.get_local_tz().localize(now)\n",
      "C:\\Users\\Sree Vidya\\AppData\\Local\\Temp\\ipykernel_11400\\3600050919.py:6: FutureWarning: The frame.append method is deprecated and will be removed from pandas in a future version. Use pandas.concat instead.\n",
      "  post_df_full = post_df_full.append(fb_post_df)\n"
     ]
    },
    {
     "name": "stdout",
     "output_type": "stream",
     "text": [
      "8318429378229162 get\n"
     ]
    },
    {
     "name": "stderr",
     "output_type": "stream",
     "text": [
      "C:\\Users\\Sree Vidya\\anaconda3\\lib\\site-packages\\facebook_scraper\\facebook_scraper.py:912: UserWarning: Facebook says 'Unsupported Browser'\n",
      "  warnings.warn(f\"Facebook says 'Unsupported Browser'\")\n",
      "C:\\Users\\Sree Vidya\\anaconda3\\lib\\site-packages\\dateparser\\freshness_date_parser.py:76: PytzUsageWarning: The localize method is no longer necessary, as this time zone supports the fold attribute (PEP 495). For more details on migrating to a PEP 495-compliant implementation, see https://pytz-deprecation-shim.readthedocs.io/en/latest/migration.html\n",
      "  now = self.get_local_tz().localize(now)\n",
      "C:\\Users\\Sree Vidya\\AppData\\Local\\Temp\\ipykernel_11400\\3600050919.py:6: FutureWarning: The frame.append method is deprecated and will be removed from pandas in a future version. Use pandas.concat instead.\n",
      "  post_df_full = post_df_full.append(fb_post_df)\n"
     ]
    },
    {
     "name": "stdout",
     "output_type": "stream",
     "text": [
      "8315558911849542 get\n"
     ]
    },
    {
     "name": "stderr",
     "output_type": "stream",
     "text": [
      "C:\\Users\\Sree Vidya\\anaconda3\\lib\\site-packages\\facebook_scraper\\facebook_scraper.py:912: UserWarning: Facebook says 'Unsupported Browser'\n",
      "  warnings.warn(f\"Facebook says 'Unsupported Browser'\")\n"
     ]
    },
    {
     "name": "stdout",
     "output_type": "stream",
     "text": [
      "8314131248658975 get\n"
     ]
    },
    {
     "name": "stderr",
     "output_type": "stream",
     "text": [
      "C:\\Users\\Sree Vidya\\AppData\\Local\\Temp\\ipykernel_11400\\3600050919.py:6: FutureWarning: The frame.append method is deprecated and will be removed from pandas in a future version. Use pandas.concat instead.\n",
      "  post_df_full = post_df_full.append(fb_post_df)\n",
      "C:\\Users\\Sree Vidya\\anaconda3\\lib\\site-packages\\facebook_scraper\\facebook_scraper.py:912: UserWarning: Facebook says 'Unsupported Browser'\n",
      "  warnings.warn(f\"Facebook says 'Unsupported Browser'\")\n",
      "C:\\Users\\Sree Vidya\\anaconda3\\lib\\site-packages\\dateparser\\freshness_date_parser.py:76: PytzUsageWarning: The localize method is no longer necessary, as this time zone supports the fold attribute (PEP 495). For more details on migrating to a PEP 495-compliant implementation, see https://pytz-deprecation-shim.readthedocs.io/en/latest/migration.html\n",
      "  now = self.get_local_tz().localize(now)\n",
      "C:\\Users\\Sree Vidya\\AppData\\Local\\Temp\\ipykernel_11400\\3600050919.py:6: FutureWarning: The frame.append method is deprecated and will be removed from pandas in a future version. Use pandas.concat instead.\n",
      "  post_df_full = post_df_full.append(fb_post_df)\n"
     ]
    },
    {
     "name": "stdout",
     "output_type": "stream",
     "text": [
      "8313219998750100 get\n"
     ]
    },
    {
     "name": "stderr",
     "output_type": "stream",
     "text": [
      "C:\\Users\\Sree Vidya\\anaconda3\\lib\\site-packages\\facebook_scraper\\facebook_scraper.py:912: UserWarning: Facebook says 'Unsupported Browser'\n",
      "  warnings.warn(f\"Facebook says 'Unsupported Browser'\")\n",
      "C:\\Users\\Sree Vidya\\anaconda3\\lib\\site-packages\\dateparser\\freshness_date_parser.py:76: PytzUsageWarning: The localize method is no longer necessary, as this time zone supports the fold attribute (PEP 495). For more details on migrating to a PEP 495-compliant implementation, see https://pytz-deprecation-shim.readthedocs.io/en/latest/migration.html\n",
      "  now = self.get_local_tz().localize(now)\n",
      "C:\\Users\\Sree Vidya\\AppData\\Local\\Temp\\ipykernel_11400\\3600050919.py:6: FutureWarning: The frame.append method is deprecated and will be removed from pandas in a future version. Use pandas.concat instead.\n",
      "  post_df_full = post_df_full.append(fb_post_df)\n"
     ]
    },
    {
     "name": "stdout",
     "output_type": "stream",
     "text": [
      "8312939122111521 get\n"
     ]
    },
    {
     "name": "stderr",
     "output_type": "stream",
     "text": [
      "C:\\Users\\Sree Vidya\\anaconda3\\lib\\site-packages\\facebook_scraper\\facebook_scraper.py:912: UserWarning: Facebook says 'Unsupported Browser'\n",
      "  warnings.warn(f\"Facebook says 'Unsupported Browser'\")\n",
      "C:\\Users\\Sree Vidya\\anaconda3\\lib\\site-packages\\dateparser\\freshness_date_parser.py:76: PytzUsageWarning: The localize method is no longer necessary, as this time zone supports the fold attribute (PEP 495). For more details on migrating to a PEP 495-compliant implementation, see https://pytz-deprecation-shim.readthedocs.io/en/latest/migration.html\n",
      "  now = self.get_local_tz().localize(now)\n",
      "C:\\Users\\Sree Vidya\\AppData\\Local\\Temp\\ipykernel_11400\\3600050919.py:6: FutureWarning: The frame.append method is deprecated and will be removed from pandas in a future version. Use pandas.concat instead.\n",
      "  post_df_full = post_df_full.append(fb_post_df)\n"
     ]
    },
    {
     "name": "stdout",
     "output_type": "stream",
     "text": [
      "8309856075753159 get\n"
     ]
    },
    {
     "name": "stderr",
     "output_type": "stream",
     "text": [
      "C:\\Users\\Sree Vidya\\anaconda3\\lib\\site-packages\\facebook_scraper\\facebook_scraper.py:912: UserWarning: Facebook says 'Unsupported Browser'\n",
      "  warnings.warn(f\"Facebook says 'Unsupported Browser'\")\n",
      "C:\\Users\\Sree Vidya\\anaconda3\\lib\\site-packages\\dateparser\\freshness_date_parser.py:76: PytzUsageWarning: The localize method is no longer necessary, as this time zone supports the fold attribute (PEP 495). For more details on migrating to a PEP 495-compliant implementation, see https://pytz-deprecation-shim.readthedocs.io/en/latest/migration.html\n",
      "  now = self.get_local_tz().localize(now)\n",
      "C:\\Users\\Sree Vidya\\AppData\\Local\\Temp\\ipykernel_11400\\3600050919.py:6: FutureWarning: The frame.append method is deprecated and will be removed from pandas in a future version. Use pandas.concat instead.\n",
      "  post_df_full = post_df_full.append(fb_post_df)\n"
     ]
    },
    {
     "name": "stdout",
     "output_type": "stream",
     "text": [
      "8304831572922276 get\n"
     ]
    },
    {
     "name": "stderr",
     "output_type": "stream",
     "text": [
      "C:\\Users\\Sree Vidya\\anaconda3\\lib\\site-packages\\facebook_scraper\\facebook_scraper.py:912: UserWarning: Facebook says 'Unsupported Browser'\n",
      "  warnings.warn(f\"Facebook says 'Unsupported Browser'\")\n",
      "C:\\Users\\Sree Vidya\\AppData\\Local\\Temp\\ipykernel_11400\\3600050919.py:6: FutureWarning: The frame.append method is deprecated and will be removed from pandas in a future version. Use pandas.concat instead.\n",
      "  post_df_full = post_df_full.append(fb_post_df)\n"
     ]
    },
    {
     "name": "stdout",
     "output_type": "stream",
     "text": [
      "8303545353050898 get\n"
     ]
    },
    {
     "name": "stderr",
     "output_type": "stream",
     "text": [
      "C:\\Users\\Sree Vidya\\anaconda3\\lib\\site-packages\\facebook_scraper\\facebook_scraper.py:912: UserWarning: Facebook says 'Unsupported Browser'\n",
      "  warnings.warn(f\"Facebook says 'Unsupported Browser'\")\n",
      "C:\\Users\\Sree Vidya\\anaconda3\\lib\\site-packages\\dateparser\\freshness_date_parser.py:76: PytzUsageWarning: The localize method is no longer necessary, as this time zone supports the fold attribute (PEP 495). For more details on migrating to a PEP 495-compliant implementation, see https://pytz-deprecation-shim.readthedocs.io/en/latest/migration.html\n",
      "  now = self.get_local_tz().localize(now)\n",
      "C:\\Users\\Sree Vidya\\AppData\\Local\\Temp\\ipykernel_11400\\3600050919.py:6: FutureWarning: The frame.append method is deprecated and will be removed from pandas in a future version. Use pandas.concat instead.\n",
      "  post_df_full = post_df_full.append(fb_post_df)\n"
     ]
    },
    {
     "name": "stdout",
     "output_type": "stream",
     "text": [
      "8301146439957456 get\n"
     ]
    },
    {
     "name": "stderr",
     "output_type": "stream",
     "text": [
      "C:\\Users\\Sree Vidya\\anaconda3\\lib\\site-packages\\facebook_scraper\\facebook_scraper.py:912: UserWarning: Facebook says 'Unsupported Browser'\n",
      "  warnings.warn(f\"Facebook says 'Unsupported Browser'\")\n",
      "C:\\Users\\Sree Vidya\\anaconda3\\lib\\site-packages\\dateparser\\freshness_date_parser.py:76: PytzUsageWarning: The localize method is no longer necessary, as this time zone supports the fold attribute (PEP 495). For more details on migrating to a PEP 495-compliant implementation, see https://pytz-deprecation-shim.readthedocs.io/en/latest/migration.html\n",
      "  now = self.get_local_tz().localize(now)\n",
      "C:\\Users\\Sree Vidya\\AppData\\Local\\Temp\\ipykernel_11400\\3600050919.py:6: FutureWarning: The frame.append method is deprecated and will be removed from pandas in a future version. Use pandas.concat instead.\n",
      "  post_df_full = post_df_full.append(fb_post_df)\n"
     ]
    },
    {
     "name": "stdout",
     "output_type": "stream",
     "text": [
      "8300852956653471 get\n"
     ]
    },
    {
     "name": "stderr",
     "output_type": "stream",
     "text": [
      "C:\\Users\\Sree Vidya\\anaconda3\\lib\\site-packages\\facebook_scraper\\facebook_scraper.py:912: UserWarning: Facebook says 'Unsupported Browser'\n",
      "  warnings.warn(f\"Facebook says 'Unsupported Browser'\")\n",
      "C:\\Users\\Sree Vidya\\anaconda3\\lib\\site-packages\\dateparser\\freshness_date_parser.py:76: PytzUsageWarning: The localize method is no longer necessary, as this time zone supports the fold attribute (PEP 495). For more details on migrating to a PEP 495-compliant implementation, see https://pytz-deprecation-shim.readthedocs.io/en/latest/migration.html\n",
      "  now = self.get_local_tz().localize(now)\n",
      "C:\\Users\\Sree Vidya\\AppData\\Local\\Temp\\ipykernel_11400\\3600050919.py:6: FutureWarning: The frame.append method is deprecated and will be removed from pandas in a future version. Use pandas.concat instead.\n",
      "  post_df_full = post_df_full.append(fb_post_df)\n"
     ]
    },
    {
     "name": "stdout",
     "output_type": "stream",
     "text": [
      "8300730553332378 get\n"
     ]
    },
    {
     "name": "stderr",
     "output_type": "stream",
     "text": [
      "C:\\Users\\Sree Vidya\\anaconda3\\lib\\site-packages\\facebook_scraper\\facebook_scraper.py:912: UserWarning: Facebook says 'Unsupported Browser'\n",
      "  warnings.warn(f\"Facebook says 'Unsupported Browser'\")\n",
      "C:\\Users\\Sree Vidya\\anaconda3\\lib\\site-packages\\dateparser\\freshness_date_parser.py:76: PytzUsageWarning: The localize method is no longer necessary, as this time zone supports the fold attribute (PEP 495). For more details on migrating to a PEP 495-compliant implementation, see https://pytz-deprecation-shim.readthedocs.io/en/latest/migration.html\n",
      "  now = self.get_local_tz().localize(now)\n",
      "C:\\Users\\Sree Vidya\\AppData\\Local\\Temp\\ipykernel_11400\\3600050919.py:6: FutureWarning: The frame.append method is deprecated and will be removed from pandas in a future version. Use pandas.concat instead.\n",
      "  post_df_full = post_df_full.append(fb_post_df)\n"
     ]
    },
    {
     "name": "stdout",
     "output_type": "stream",
     "text": [
      "8299914213414012 get\n"
     ]
    },
    {
     "name": "stderr",
     "output_type": "stream",
     "text": [
      "C:\\Users\\Sree Vidya\\anaconda3\\lib\\site-packages\\facebook_scraper\\facebook_scraper.py:912: UserWarning: Facebook says 'Unsupported Browser'\n",
      "  warnings.warn(f\"Facebook says 'Unsupported Browser'\")\n",
      "C:\\Users\\Sree Vidya\\anaconda3\\lib\\site-packages\\dateparser\\freshness_date_parser.py:76: PytzUsageWarning: The localize method is no longer necessary, as this time zone supports the fold attribute (PEP 495). For more details on migrating to a PEP 495-compliant implementation, see https://pytz-deprecation-shim.readthedocs.io/en/latest/migration.html\n",
      "  now = self.get_local_tz().localize(now)\n",
      "C:\\Users\\Sree Vidya\\AppData\\Local\\Temp\\ipykernel_11400\\3600050919.py:6: FutureWarning: The frame.append method is deprecated and will be removed from pandas in a future version. Use pandas.concat instead.\n",
      "  post_df_full = post_df_full.append(fb_post_df)\n"
     ]
    },
    {
     "name": "stdout",
     "output_type": "stream",
     "text": [
      "8295083677230399 get\n"
     ]
    },
    {
     "name": "stderr",
     "output_type": "stream",
     "text": [
      "C:\\Users\\Sree Vidya\\anaconda3\\lib\\site-packages\\facebook_scraper\\facebook_scraper.py:912: UserWarning: Facebook says 'Unsupported Browser'\n",
      "  warnings.warn(f\"Facebook says 'Unsupported Browser'\")\n",
      "C:\\Users\\Sree Vidya\\anaconda3\\lib\\site-packages\\dateparser\\freshness_date_parser.py:76: PytzUsageWarning: The localize method is no longer necessary, as this time zone supports the fold attribute (PEP 495). For more details on migrating to a PEP 495-compliant implementation, see https://pytz-deprecation-shim.readthedocs.io/en/latest/migration.html\n",
      "  now = self.get_local_tz().localize(now)\n",
      "C:\\Users\\Sree Vidya\\AppData\\Local\\Temp\\ipykernel_11400\\3600050919.py:6: FutureWarning: The frame.append method is deprecated and will be removed from pandas in a future version. Use pandas.concat instead.\n",
      "  post_df_full = post_df_full.append(fb_post_df)\n"
     ]
    },
    {
     "name": "stdout",
     "output_type": "stream",
     "text": [
      "8270453629693404 get\n"
     ]
    },
    {
     "name": "stderr",
     "output_type": "stream",
     "text": [
      "C:\\Users\\Sree Vidya\\anaconda3\\lib\\site-packages\\facebook_scraper\\facebook_scraper.py:912: UserWarning: Facebook says 'Unsupported Browser'\n",
      "  warnings.warn(f\"Facebook says 'Unsupported Browser'\")\n",
      "C:\\Users\\Sree Vidya\\AppData\\Local\\Temp\\ipykernel_11400\\3600050919.py:6: FutureWarning: The frame.append method is deprecated and will be removed from pandas in a future version. Use pandas.concat instead.\n",
      "  post_df_full = post_df_full.append(fb_post_df)\n"
     ]
    },
    {
     "name": "stdout",
     "output_type": "stream",
     "text": [
      "8268252029913564 get\n"
     ]
    },
    {
     "name": "stderr",
     "output_type": "stream",
     "text": [
      "C:\\Users\\Sree Vidya\\anaconda3\\lib\\site-packages\\facebook_scraper\\facebook_scraper.py:912: UserWarning: Facebook says 'Unsupported Browser'\n",
      "  warnings.warn(f\"Facebook says 'Unsupported Browser'\")\n",
      "C:\\Users\\Sree Vidya\\AppData\\Local\\Temp\\ipykernel_11400\\3600050919.py:6: FutureWarning: The frame.append method is deprecated and will be removed from pandas in a future version. Use pandas.concat instead.\n",
      "  post_df_full = post_df_full.append(fb_post_df)\n"
     ]
    },
    {
     "name": "stdout",
     "output_type": "stream",
     "text": [
      "8267958526609581 get\n"
     ]
    },
    {
     "name": "stderr",
     "output_type": "stream",
     "text": [
      "C:\\Users\\Sree Vidya\\anaconda3\\lib\\site-packages\\facebook_scraper\\facebook_scraper.py:912: UserWarning: Facebook says 'Unsupported Browser'\n",
      "  warnings.warn(f\"Facebook says 'Unsupported Browser'\")\n",
      "C:\\Users\\Sree Vidya\\anaconda3\\lib\\site-packages\\dateparser\\freshness_date_parser.py:76: PytzUsageWarning: The localize method is no longer necessary, as this time zone supports the fold attribute (PEP 495). For more details on migrating to a PEP 495-compliant implementation, see https://pytz-deprecation-shim.readthedocs.io/en/latest/migration.html\n",
      "  now = self.get_local_tz().localize(now)\n",
      "C:\\Users\\Sree Vidya\\AppData\\Local\\Temp\\ipykernel_11400\\3600050919.py:6: FutureWarning: The frame.append method is deprecated and will be removed from pandas in a future version. Use pandas.concat instead.\n",
      "  post_df_full = post_df_full.append(fb_post_df)\n"
     ]
    },
    {
     "name": "stdout",
     "output_type": "stream",
     "text": [
      "8259798774092223 get\n"
     ]
    },
    {
     "name": "stderr",
     "output_type": "stream",
     "text": [
      "C:\\Users\\Sree Vidya\\anaconda3\\lib\\site-packages\\facebook_scraper\\facebook_scraper.py:912: UserWarning: Facebook says 'Unsupported Browser'\n",
      "  warnings.warn(f\"Facebook says 'Unsupported Browser'\")\n",
      "C:\\Users\\Sree Vidya\\anaconda3\\lib\\site-packages\\dateparser\\freshness_date_parser.py:76: PytzUsageWarning: The localize method is no longer necessary, as this time zone supports the fold attribute (PEP 495). For more details on migrating to a PEP 495-compliant implementation, see https://pytz-deprecation-shim.readthedocs.io/en/latest/migration.html\n",
      "  now = self.get_local_tz().localize(now)\n",
      "C:\\Users\\Sree Vidya\\AppData\\Local\\Temp\\ipykernel_11400\\3600050919.py:6: FutureWarning: The frame.append method is deprecated and will be removed from pandas in a future version. Use pandas.concat instead.\n",
      "  post_df_full = post_df_full.append(fb_post_df)\n"
     ]
    },
    {
     "name": "stdout",
     "output_type": "stream",
     "text": [
      "8259606260778141 get\n"
     ]
    },
    {
     "name": "stderr",
     "output_type": "stream",
     "text": [
      "C:\\Users\\Sree Vidya\\anaconda3\\lib\\site-packages\\facebook_scraper\\facebook_scraper.py:912: UserWarning: Facebook says 'Unsupported Browser'\n",
      "  warnings.warn(f\"Facebook says 'Unsupported Browser'\")\n",
      "C:\\Users\\Sree Vidya\\anaconda3\\lib\\site-packages\\dateparser\\freshness_date_parser.py:76: PytzUsageWarning: The localize method is no longer necessary, as this time zone supports the fold attribute (PEP 495). For more details on migrating to a PEP 495-compliant implementation, see https://pytz-deprecation-shim.readthedocs.io/en/latest/migration.html\n",
      "  now = self.get_local_tz().localize(now)\n",
      "C:\\Users\\Sree Vidya\\AppData\\Local\\Temp\\ipykernel_11400\\3600050919.py:6: FutureWarning: The frame.append method is deprecated and will be removed from pandas in a future version. Use pandas.concat instead.\n",
      "  post_df_full = post_df_full.append(fb_post_df)\n"
     ]
    },
    {
     "name": "stdout",
     "output_type": "stream",
     "text": [
      "8258670364205064 get\n"
     ]
    },
    {
     "name": "stderr",
     "output_type": "stream",
     "text": [
      "C:\\Users\\Sree Vidya\\anaconda3\\lib\\site-packages\\facebook_scraper\\facebook_scraper.py:912: UserWarning: Facebook says 'Unsupported Browser'\n",
      "  warnings.warn(f\"Facebook says 'Unsupported Browser'\")\n",
      "C:\\Users\\Sree Vidya\\anaconda3\\lib\\site-packages\\dateparser\\freshness_date_parser.py:76: PytzUsageWarning: The localize method is no longer necessary, as this time zone supports the fold attribute (PEP 495). For more details on migrating to a PEP 495-compliant implementation, see https://pytz-deprecation-shim.readthedocs.io/en/latest/migration.html\n",
      "  now = self.get_local_tz().localize(now)\n",
      "C:\\Users\\Sree Vidya\\AppData\\Local\\Temp\\ipykernel_11400\\3600050919.py:6: FutureWarning: The frame.append method is deprecated and will be removed from pandas in a future version. Use pandas.concat instead.\n",
      "  post_df_full = post_df_full.append(fb_post_df)\n"
     ]
    },
    {
     "name": "stdout",
     "output_type": "stream",
     "text": [
      "8258600020878765 get\n"
     ]
    },
    {
     "name": "stderr",
     "output_type": "stream",
     "text": [
      "C:\\Users\\Sree Vidya\\anaconda3\\lib\\site-packages\\facebook_scraper\\facebook_scraper.py:912: UserWarning: Facebook says 'Unsupported Browser'\n",
      "  warnings.warn(f\"Facebook says 'Unsupported Browser'\")\n",
      "C:\\Users\\Sree Vidya\\anaconda3\\lib\\site-packages\\dateparser\\freshness_date_parser.py:76: PytzUsageWarning: The localize method is no longer necessary, as this time zone supports the fold attribute (PEP 495). For more details on migrating to a PEP 495-compliant implementation, see https://pytz-deprecation-shim.readthedocs.io/en/latest/migration.html\n",
      "  now = self.get_local_tz().localize(now)\n",
      "C:\\Users\\Sree Vidya\\AppData\\Local\\Temp\\ipykernel_11400\\3600050919.py:6: FutureWarning: The frame.append method is deprecated and will be removed from pandas in a future version. Use pandas.concat instead.\n",
      "  post_df_full = post_df_full.append(fb_post_df)\n"
     ]
    },
    {
     "name": "stdout",
     "output_type": "stream",
     "text": [
      "8256199747785459 get\n"
     ]
    },
    {
     "name": "stderr",
     "output_type": "stream",
     "text": [
      "C:\\Users\\Sree Vidya\\anaconda3\\lib\\site-packages\\facebook_scraper\\facebook_scraper.py:912: UserWarning: Facebook says 'Unsupported Browser'\n",
      "  warnings.warn(f\"Facebook says 'Unsupported Browser'\")\n",
      "C:\\Users\\Sree Vidya\\anaconda3\\lib\\site-packages\\dateparser\\freshness_date_parser.py:76: PytzUsageWarning: The localize method is no longer necessary, as this time zone supports the fold attribute (PEP 495). For more details on migrating to a PEP 495-compliant implementation, see https://pytz-deprecation-shim.readthedocs.io/en/latest/migration.html\n",
      "  now = self.get_local_tz().localize(now)\n",
      "C:\\Users\\Sree Vidya\\AppData\\Local\\Temp\\ipykernel_11400\\3600050919.py:6: FutureWarning: The frame.append method is deprecated and will be removed from pandas in a future version. Use pandas.concat instead.\n",
      "  post_df_full = post_df_full.append(fb_post_df)\n"
     ]
    },
    {
     "name": "stdout",
     "output_type": "stream",
     "text": [
      "8256159447789489 get\n"
     ]
    },
    {
     "name": "stderr",
     "output_type": "stream",
     "text": [
      "C:\\Users\\Sree Vidya\\anaconda3\\lib\\site-packages\\facebook_scraper\\facebook_scraper.py:912: UserWarning: Facebook says 'Unsupported Browser'\n",
      "  warnings.warn(f\"Facebook says 'Unsupported Browser'\")\n",
      "C:\\Users\\Sree Vidya\\anaconda3\\lib\\site-packages\\dateparser\\freshness_date_parser.py:76: PytzUsageWarning: The localize method is no longer necessary, as this time zone supports the fold attribute (PEP 495). For more details on migrating to a PEP 495-compliant implementation, see https://pytz-deprecation-shim.readthedocs.io/en/latest/migration.html\n",
      "  now = self.get_local_tz().localize(now)\n",
      "C:\\Users\\Sree Vidya\\AppData\\Local\\Temp\\ipykernel_11400\\3600050919.py:6: FutureWarning: The frame.append method is deprecated and will be removed from pandas in a future version. Use pandas.concat instead.\n",
      "  post_df_full = post_df_full.append(fb_post_df)\n"
     ]
    },
    {
     "name": "stdout",
     "output_type": "stream",
     "text": [
      "8256108647794569 get\n"
     ]
    },
    {
     "name": "stderr",
     "output_type": "stream",
     "text": [
      "C:\\Users\\Sree Vidya\\anaconda3\\lib\\site-packages\\facebook_scraper\\facebook_scraper.py:912: UserWarning: Facebook says 'Unsupported Browser'\n",
      "  warnings.warn(f\"Facebook says 'Unsupported Browser'\")\n",
      "C:\\Users\\Sree Vidya\\anaconda3\\lib\\site-packages\\dateparser\\freshness_date_parser.py:76: PytzUsageWarning: The localize method is no longer necessary, as this time zone supports the fold attribute (PEP 495). For more details on migrating to a PEP 495-compliant implementation, see https://pytz-deprecation-shim.readthedocs.io/en/latest/migration.html\n",
      "  now = self.get_local_tz().localize(now)\n",
      "C:\\Users\\Sree Vidya\\AppData\\Local\\Temp\\ipykernel_11400\\3600050919.py:6: FutureWarning: The frame.append method is deprecated and will be removed from pandas in a future version. Use pandas.concat instead.\n",
      "  post_df_full = post_df_full.append(fb_post_df)\n"
     ]
    },
    {
     "name": "stdout",
     "output_type": "stream",
     "text": [
      "8256062464465854 get\n"
     ]
    },
    {
     "name": "stderr",
     "output_type": "stream",
     "text": [
      "C:\\Users\\Sree Vidya\\anaconda3\\lib\\site-packages\\facebook_scraper\\facebook_scraper.py:912: UserWarning: Facebook says 'Unsupported Browser'\n",
      "  warnings.warn(f\"Facebook says 'Unsupported Browser'\")\n",
      "C:\\Users\\Sree Vidya\\anaconda3\\lib\\site-packages\\dateparser\\freshness_date_parser.py:76: PytzUsageWarning: The localize method is no longer necessary, as this time zone supports the fold attribute (PEP 495). For more details on migrating to a PEP 495-compliant implementation, see https://pytz-deprecation-shim.readthedocs.io/en/latest/migration.html\n",
      "  now = self.get_local_tz().localize(now)\n",
      "C:\\Users\\Sree Vidya\\AppData\\Local\\Temp\\ipykernel_11400\\3600050919.py:6: FutureWarning: The frame.append method is deprecated and will be removed from pandas in a future version. Use pandas.concat instead.\n",
      "  post_df_full = post_df_full.append(fb_post_df)\n"
     ]
    },
    {
     "name": "stdout",
     "output_type": "stream",
     "text": [
      "8255873037818130 get\n"
     ]
    },
    {
     "name": "stderr",
     "output_type": "stream",
     "text": [
      "C:\\Users\\Sree Vidya\\anaconda3\\lib\\site-packages\\facebook_scraper\\facebook_scraper.py:912: UserWarning: Facebook says 'Unsupported Browser'\n",
      "  warnings.warn(f\"Facebook says 'Unsupported Browser'\")\n",
      "C:\\Users\\Sree Vidya\\anaconda3\\lib\\site-packages\\dateparser\\freshness_date_parser.py:76: PytzUsageWarning: The localize method is no longer necessary, as this time zone supports the fold attribute (PEP 495). For more details on migrating to a PEP 495-compliant implementation, see https://pytz-deprecation-shim.readthedocs.io/en/latest/migration.html\n",
      "  now = self.get_local_tz().localize(now)\n",
      "C:\\Users\\Sree Vidya\\AppData\\Local\\Temp\\ipykernel_11400\\3600050919.py:6: FutureWarning: The frame.append method is deprecated and will be removed from pandas in a future version. Use pandas.concat instead.\n",
      "  post_df_full = post_df_full.append(fb_post_df)\n"
     ]
    },
    {
     "name": "stdout",
     "output_type": "stream",
     "text": [
      "8255851937820240 get\n"
     ]
    },
    {
     "name": "stderr",
     "output_type": "stream",
     "text": [
      "C:\\Users\\Sree Vidya\\anaconda3\\lib\\site-packages\\facebook_scraper\\facebook_scraper.py:912: UserWarning: Facebook says 'Unsupported Browser'\n",
      "  warnings.warn(f\"Facebook says 'Unsupported Browser'\")\n",
      "C:\\Users\\Sree Vidya\\anaconda3\\lib\\site-packages\\dateparser\\freshness_date_parser.py:76: PytzUsageWarning: The localize method is no longer necessary, as this time zone supports the fold attribute (PEP 495). For more details on migrating to a PEP 495-compliant implementation, see https://pytz-deprecation-shim.readthedocs.io/en/latest/migration.html\n",
      "  now = self.get_local_tz().localize(now)\n",
      "C:\\Users\\Sree Vidya\\AppData\\Local\\Temp\\ipykernel_11400\\3600050919.py:6: FutureWarning: The frame.append method is deprecated and will be removed from pandas in a future version. Use pandas.concat instead.\n",
      "  post_df_full = post_df_full.append(fb_post_df)\n"
     ]
    },
    {
     "name": "stdout",
     "output_type": "stream",
     "text": [
      "8251453024926798 get\n"
     ]
    },
    {
     "name": "stderr",
     "output_type": "stream",
     "text": [
      "C:\\Users\\Sree Vidya\\anaconda3\\lib\\site-packages\\facebook_scraper\\facebook_scraper.py:912: UserWarning: Facebook says 'Unsupported Browser'\n",
      "  warnings.warn(f\"Facebook says 'Unsupported Browser'\")\n",
      "C:\\Users\\Sree Vidya\\anaconda3\\lib\\site-packages\\dateparser\\freshness_date_parser.py:76: PytzUsageWarning: The localize method is no longer necessary, as this time zone supports the fold attribute (PEP 495). For more details on migrating to a PEP 495-compliant implementation, see https://pytz-deprecation-shim.readthedocs.io/en/latest/migration.html\n",
      "  now = self.get_local_tz().localize(now)\n",
      "C:\\Users\\Sree Vidya\\AppData\\Local\\Temp\\ipykernel_11400\\3600050919.py:6: FutureWarning: The frame.append method is deprecated and will be removed from pandas in a future version. Use pandas.concat instead.\n",
      "  post_df_full = post_df_full.append(fb_post_df)\n"
     ]
    },
    {
     "name": "stdout",
     "output_type": "stream",
     "text": [
      "8245634532175314 get\n"
     ]
    },
    {
     "name": "stderr",
     "output_type": "stream",
     "text": [
      "C:\\Users\\Sree Vidya\\anaconda3\\lib\\site-packages\\facebook_scraper\\facebook_scraper.py:912: UserWarning: Facebook says 'Unsupported Browser'\n",
      "  warnings.warn(f\"Facebook says 'Unsupported Browser'\")\n",
      "C:\\Users\\Sree Vidya\\anaconda3\\lib\\site-packages\\dateparser\\freshness_date_parser.py:76: PytzUsageWarning: The localize method is no longer necessary, as this time zone supports the fold attribute (PEP 495). For more details on migrating to a PEP 495-compliant implementation, see https://pytz-deprecation-shim.readthedocs.io/en/latest/migration.html\n",
      "  now = self.get_local_tz().localize(now)\n",
      "C:\\Users\\Sree Vidya\\AppData\\Local\\Temp\\ipykernel_11400\\3600050919.py:6: FutureWarning: The frame.append method is deprecated and will be removed from pandas in a future version. Use pandas.concat instead.\n",
      "  post_df_full = post_df_full.append(fb_post_df)\n"
     ]
    },
    {
     "name": "stdout",
     "output_type": "stream",
     "text": [
      "8243879042350863 get\n"
     ]
    },
    {
     "name": "stderr",
     "output_type": "stream",
     "text": [
      "C:\\Users\\Sree Vidya\\anaconda3\\lib\\site-packages\\facebook_scraper\\facebook_scraper.py:912: UserWarning: Facebook says 'Unsupported Browser'\n",
      "  warnings.warn(f\"Facebook says 'Unsupported Browser'\")\n",
      "C:\\Users\\Sree Vidya\\AppData\\Local\\Temp\\ipykernel_11400\\3600050919.py:6: FutureWarning: The frame.append method is deprecated and will be removed from pandas in a future version. Use pandas.concat instead.\n",
      "  post_df_full = post_df_full.append(fb_post_df)\n"
     ]
    },
    {
     "name": "stdout",
     "output_type": "stream",
     "text": [
      "8239155656156535 get\n"
     ]
    },
    {
     "name": "stderr",
     "output_type": "stream",
     "text": [
      "C:\\Users\\Sree Vidya\\anaconda3\\lib\\site-packages\\facebook_scraper\\facebook_scraper.py:912: UserWarning: Facebook says 'Unsupported Browser'\n",
      "  warnings.warn(f\"Facebook says 'Unsupported Browser'\")\n",
      "C:\\Users\\Sree Vidya\\anaconda3\\lib\\site-packages\\dateparser\\freshness_date_parser.py:76: PytzUsageWarning: The localize method is no longer necessary, as this time zone supports the fold attribute (PEP 495). For more details on migrating to a PEP 495-compliant implementation, see https://pytz-deprecation-shim.readthedocs.io/en/latest/migration.html\n",
      "  now = self.get_local_tz().localize(now)\n",
      "C:\\Users\\Sree Vidya\\AppData\\Local\\Temp\\ipykernel_11400\\3600050919.py:6: FutureWarning: The frame.append method is deprecated and will be removed from pandas in a future version. Use pandas.concat instead.\n",
      "  post_df_full = post_df_full.append(fb_post_df)\n"
     ]
    },
    {
     "name": "stdout",
     "output_type": "stream",
     "text": [
      "8236694786402622 get\n"
     ]
    },
    {
     "name": "stderr",
     "output_type": "stream",
     "text": [
      "C:\\Users\\Sree Vidya\\anaconda3\\lib\\site-packages\\facebook_scraper\\facebook_scraper.py:912: UserWarning: Facebook says 'Unsupported Browser'\n",
      "  warnings.warn(f\"Facebook says 'Unsupported Browser'\")\n",
      "C:\\Users\\Sree Vidya\\AppData\\Local\\Temp\\ipykernel_11400\\3600050919.py:6: FutureWarning: The frame.append method is deprecated and will be removed from pandas in a future version. Use pandas.concat instead.\n",
      "  post_df_full = post_df_full.append(fb_post_df)\n"
     ]
    },
    {
     "name": "stdout",
     "output_type": "stream",
     "text": [
      "8233978806674220 get\n"
     ]
    },
    {
     "name": "stderr",
     "output_type": "stream",
     "text": [
      "C:\\Users\\Sree Vidya\\anaconda3\\lib\\site-packages\\facebook_scraper\\facebook_scraper.py:912: UserWarning: Facebook says 'Unsupported Browser'\n",
      "  warnings.warn(f\"Facebook says 'Unsupported Browser'\")\n",
      "C:\\Users\\Sree Vidya\\anaconda3\\lib\\site-packages\\dateparser\\freshness_date_parser.py:76: PytzUsageWarning: The localize method is no longer necessary, as this time zone supports the fold attribute (PEP 495). For more details on migrating to a PEP 495-compliant implementation, see https://pytz-deprecation-shim.readthedocs.io/en/latest/migration.html\n",
      "  now = self.get_local_tz().localize(now)\n",
      "C:\\Users\\Sree Vidya\\AppData\\Local\\Temp\\ipykernel_11400\\3600050919.py:6: FutureWarning: The frame.append method is deprecated and will be removed from pandas in a future version. Use pandas.concat instead.\n",
      "  post_df_full = post_df_full.append(fb_post_df)\n"
     ]
    },
    {
     "name": "stdout",
     "output_type": "stream",
     "text": [
      "8226968527375248 get\n"
     ]
    },
    {
     "name": "stderr",
     "output_type": "stream",
     "text": [
      "C:\\Users\\Sree Vidya\\anaconda3\\lib\\site-packages\\facebook_scraper\\facebook_scraper.py:912: UserWarning: Facebook says 'Unsupported Browser'\n",
      "  warnings.warn(f\"Facebook says 'Unsupported Browser'\")\n",
      "C:\\Users\\Sree Vidya\\anaconda3\\lib\\site-packages\\dateparser\\freshness_date_parser.py:76: PytzUsageWarning: The localize method is no longer necessary, as this time zone supports the fold attribute (PEP 495). For more details on migrating to a PEP 495-compliant implementation, see https://pytz-deprecation-shim.readthedocs.io/en/latest/migration.html\n",
      "  now = self.get_local_tz().localize(now)\n",
      "C:\\Users\\Sree Vidya\\AppData\\Local\\Temp\\ipykernel_11400\\3600050919.py:6: FutureWarning: The frame.append method is deprecated and will be removed from pandas in a future version. Use pandas.concat instead.\n",
      "  post_df_full = post_df_full.append(fb_post_df)\n"
     ]
    },
    {
     "name": "stdout",
     "output_type": "stream",
     "text": [
      "8221179397954161 get\n"
     ]
    },
    {
     "name": "stderr",
     "output_type": "stream",
     "text": [
      "C:\\Users\\Sree Vidya\\anaconda3\\lib\\site-packages\\facebook_scraper\\facebook_scraper.py:912: UserWarning: Facebook says 'Unsupported Browser'\n",
      "  warnings.warn(f\"Facebook says 'Unsupported Browser'\")\n",
      "C:\\Users\\Sree Vidya\\AppData\\Local\\Temp\\ipykernel_11400\\3600050919.py:6: FutureWarning: The frame.append method is deprecated and will be removed from pandas in a future version. Use pandas.concat instead.\n",
      "  post_df_full = post_df_full.append(fb_post_df)\n"
     ]
    },
    {
     "name": "stdout",
     "output_type": "stream",
     "text": [
      "8220550361350398 get\n"
     ]
    },
    {
     "name": "stderr",
     "output_type": "stream",
     "text": [
      "C:\\Users\\Sree Vidya\\anaconda3\\lib\\site-packages\\facebook_scraper\\facebook_scraper.py:912: UserWarning: Facebook says 'Unsupported Browser'\n",
      "  warnings.warn(f\"Facebook says 'Unsupported Browser'\")\n",
      "C:\\Users\\Sree Vidya\\anaconda3\\lib\\site-packages\\dateparser\\freshness_date_parser.py:76: PytzUsageWarning: The localize method is no longer necessary, as this time zone supports the fold attribute (PEP 495). For more details on migrating to a PEP 495-compliant implementation, see https://pytz-deprecation-shim.readthedocs.io/en/latest/migration.html\n",
      "  now = self.get_local_tz().localize(now)\n",
      "C:\\Users\\Sree Vidya\\AppData\\Local\\Temp\\ipykernel_11400\\3600050919.py:6: FutureWarning: The frame.append method is deprecated and will be removed from pandas in a future version. Use pandas.concat instead.\n",
      "  post_df_full = post_df_full.append(fb_post_df)\n"
     ]
    },
    {
     "name": "stdout",
     "output_type": "stream",
     "text": [
      "8219931304745637 get\n"
     ]
    },
    {
     "name": "stderr",
     "output_type": "stream",
     "text": [
      "C:\\Users\\Sree Vidya\\anaconda3\\lib\\site-packages\\facebook_scraper\\facebook_scraper.py:912: UserWarning: Facebook says 'Unsupported Browser'\n",
      "  warnings.warn(f\"Facebook says 'Unsupported Browser'\")\n",
      "C:\\Users\\Sree Vidya\\AppData\\Local\\Temp\\ipykernel_11400\\3600050919.py:6: FutureWarning: The frame.append method is deprecated and will be removed from pandas in a future version. Use pandas.concat instead.\n",
      "  post_df_full = post_df_full.append(fb_post_df)\n"
     ]
    },
    {
     "name": "stdout",
     "output_type": "stream",
     "text": [
      "8216890898383011 get\n"
     ]
    },
    {
     "name": "stderr",
     "output_type": "stream",
     "text": [
      "C:\\Users\\Sree Vidya\\anaconda3\\lib\\site-packages\\facebook_scraper\\facebook_scraper.py:912: UserWarning: Facebook says 'Unsupported Browser'\n",
      "  warnings.warn(f\"Facebook says 'Unsupported Browser'\")\n",
      "C:\\Users\\Sree Vidya\\anaconda3\\lib\\site-packages\\dateparser\\freshness_date_parser.py:76: PytzUsageWarning: The localize method is no longer necessary, as this time zone supports the fold attribute (PEP 495). For more details on migrating to a PEP 495-compliant implementation, see https://pytz-deprecation-shim.readthedocs.io/en/latest/migration.html\n",
      "  now = self.get_local_tz().localize(now)\n",
      "C:\\Users\\Sree Vidya\\AppData\\Local\\Temp\\ipykernel_11400\\3600050919.py:6: FutureWarning: The frame.append method is deprecated and will be removed from pandas in a future version. Use pandas.concat instead.\n",
      "  post_df_full = post_df_full.append(fb_post_df)\n"
     ]
    },
    {
     "name": "stdout",
     "output_type": "stream",
     "text": [
      "8216377468434354 get\n"
     ]
    },
    {
     "name": "stderr",
     "output_type": "stream",
     "text": [
      "C:\\Users\\Sree Vidya\\anaconda3\\lib\\site-packages\\facebook_scraper\\facebook_scraper.py:912: UserWarning: Facebook says 'Unsupported Browser'\n",
      "  warnings.warn(f\"Facebook says 'Unsupported Browser'\")\n",
      "C:\\Users\\Sree Vidya\\anaconda3\\lib\\site-packages\\dateparser\\freshness_date_parser.py:76: PytzUsageWarning: The localize method is no longer necessary, as this time zone supports the fold attribute (PEP 495). For more details on migrating to a PEP 495-compliant implementation, see https://pytz-deprecation-shim.readthedocs.io/en/latest/migration.html\n",
      "  now = self.get_local_tz().localize(now)\n",
      "C:\\Users\\Sree Vidya\\AppData\\Local\\Temp\\ipykernel_11400\\3600050919.py:6: FutureWarning: The frame.append method is deprecated and will be removed from pandas in a future version. Use pandas.concat instead.\n",
      "  post_df_full = post_df_full.append(fb_post_df)\n"
     ]
    },
    {
     "name": "stdout",
     "output_type": "stream",
     "text": [
      "8214638598608241 get\n"
     ]
    },
    {
     "name": "stderr",
     "output_type": "stream",
     "text": [
      "C:\\Users\\Sree Vidya\\anaconda3\\lib\\site-packages\\facebook_scraper\\facebook_scraper.py:912: UserWarning: Facebook says 'Unsupported Browser'\n",
      "  warnings.warn(f\"Facebook says 'Unsupported Browser'\")\n",
      "C:\\Users\\Sree Vidya\\anaconda3\\lib\\site-packages\\dateparser\\freshness_date_parser.py:76: PytzUsageWarning: The localize method is no longer necessary, as this time zone supports the fold attribute (PEP 495). For more details on migrating to a PEP 495-compliant implementation, see https://pytz-deprecation-shim.readthedocs.io/en/latest/migration.html\n",
      "  now = self.get_local_tz().localize(now)\n",
      "C:\\Users\\Sree Vidya\\AppData\\Local\\Temp\\ipykernel_11400\\3600050919.py:6: FutureWarning: The frame.append method is deprecated and will be removed from pandas in a future version. Use pandas.concat instead.\n",
      "  post_df_full = post_df_full.append(fb_post_df)\n"
     ]
    },
    {
     "name": "stdout",
     "output_type": "stream",
     "text": [
      "8211522408919860 get\n"
     ]
    },
    {
     "name": "stderr",
     "output_type": "stream",
     "text": [
      "C:\\Users\\Sree Vidya\\anaconda3\\lib\\site-packages\\facebook_scraper\\facebook_scraper.py:912: UserWarning: Facebook says 'Unsupported Browser'\n",
      "  warnings.warn(f\"Facebook says 'Unsupported Browser'\")\n",
      "C:\\Users\\Sree Vidya\\anaconda3\\lib\\site-packages\\dateparser\\freshness_date_parser.py:76: PytzUsageWarning: The localize method is no longer necessary, as this time zone supports the fold attribute (PEP 495). For more details on migrating to a PEP 495-compliant implementation, see https://pytz-deprecation-shim.readthedocs.io/en/latest/migration.html\n",
      "  now = self.get_local_tz().localize(now)\n",
      "C:\\Users\\Sree Vidya\\AppData\\Local\\Temp\\ipykernel_11400\\3600050919.py:6: FutureWarning: The frame.append method is deprecated and will be removed from pandas in a future version. Use pandas.concat instead.\n",
      "  post_df_full = post_df_full.append(fb_post_df)\n"
     ]
    },
    {
     "name": "stdout",
     "output_type": "stream",
     "text": [
      "8210980865640681 get\n"
     ]
    },
    {
     "name": "stderr",
     "output_type": "stream",
     "text": [
      "C:\\Users\\Sree Vidya\\anaconda3\\lib\\site-packages\\facebook_scraper\\facebook_scraper.py:912: UserWarning: Facebook says 'Unsupported Browser'\n",
      "  warnings.warn(f\"Facebook says 'Unsupported Browser'\")\n",
      "C:\\Users\\Sree Vidya\\anaconda3\\lib\\site-packages\\dateparser\\freshness_date_parser.py:76: PytzUsageWarning: The localize method is no longer necessary, as this time zone supports the fold attribute (PEP 495). For more details on migrating to a PEP 495-compliant implementation, see https://pytz-deprecation-shim.readthedocs.io/en/latest/migration.html\n",
      "  now = self.get_local_tz().localize(now)\n",
      "C:\\Users\\Sree Vidya\\AppData\\Local\\Temp\\ipykernel_11400\\3600050919.py:6: FutureWarning: The frame.append method is deprecated and will be removed from pandas in a future version. Use pandas.concat instead.\n",
      "  post_df_full = post_df_full.append(fb_post_df)\n"
     ]
    },
    {
     "name": "stdout",
     "output_type": "stream",
     "text": [
      "8207377836000984 get\n"
     ]
    },
    {
     "name": "stderr",
     "output_type": "stream",
     "text": [
      "C:\\Users\\Sree Vidya\\anaconda3\\lib\\site-packages\\facebook_scraper\\facebook_scraper.py:912: UserWarning: Facebook says 'Unsupported Browser'\n",
      "  warnings.warn(f\"Facebook says 'Unsupported Browser'\")\n",
      "C:\\Users\\Sree Vidya\\anaconda3\\lib\\site-packages\\dateparser\\freshness_date_parser.py:76: PytzUsageWarning: The localize method is no longer necessary, as this time zone supports the fold attribute (PEP 495). For more details on migrating to a PEP 495-compliant implementation, see https://pytz-deprecation-shim.readthedocs.io/en/latest/migration.html\n",
      "  now = self.get_local_tz().localize(now)\n",
      "C:\\Users\\Sree Vidya\\AppData\\Local\\Temp\\ipykernel_11400\\3600050919.py:6: FutureWarning: The frame.append method is deprecated and will be removed from pandas in a future version. Use pandas.concat instead.\n",
      "  post_df_full = post_df_full.append(fb_post_df)\n"
     ]
    },
    {
     "name": "stdout",
     "output_type": "stream",
     "text": [
      "8206256426113125 get\n"
     ]
    },
    {
     "name": "stderr",
     "output_type": "stream",
     "text": [
      "C:\\Users\\Sree Vidya\\anaconda3\\lib\\site-packages\\facebook_scraper\\facebook_scraper.py:912: UserWarning: Facebook says 'Unsupported Browser'\n",
      "  warnings.warn(f\"Facebook says 'Unsupported Browser'\")\n",
      "C:\\Users\\Sree Vidya\\anaconda3\\lib\\site-packages\\dateparser\\freshness_date_parser.py:76: PytzUsageWarning: The localize method is no longer necessary, as this time zone supports the fold attribute (PEP 495). For more details on migrating to a PEP 495-compliant implementation, see https://pytz-deprecation-shim.readthedocs.io/en/latest/migration.html\n",
      "  now = self.get_local_tz().localize(now)\n"
     ]
    },
    {
     "name": "stdout",
     "output_type": "stream",
     "text": [
      "8187314234674011 get\n"
     ]
    },
    {
     "name": "stderr",
     "output_type": "stream",
     "text": [
      "C:\\Users\\Sree Vidya\\AppData\\Local\\Temp\\ipykernel_11400\\3600050919.py:6: FutureWarning: The frame.append method is deprecated and will be removed from pandas in a future version. Use pandas.concat instead.\n",
      "  post_df_full = post_df_full.append(fb_post_df)\n",
      "C:\\Users\\Sree Vidya\\anaconda3\\lib\\site-packages\\facebook_scraper\\facebook_scraper.py:912: UserWarning: Facebook says 'Unsupported Browser'\n",
      "  warnings.warn(f\"Facebook says 'Unsupported Browser'\")\n",
      "C:\\Users\\Sree Vidya\\AppData\\Local\\Temp\\ipykernel_11400\\3600050919.py:6: FutureWarning: The frame.append method is deprecated and will be removed from pandas in a future version. Use pandas.concat instead.\n",
      "  post_df_full = post_df_full.append(fb_post_df)\n"
     ]
    },
    {
     "name": "stdout",
     "output_type": "stream",
     "text": [
      "8186261664779268 get\n"
     ]
    },
    {
     "name": "stderr",
     "output_type": "stream",
     "text": [
      "C:\\Users\\Sree Vidya\\anaconda3\\lib\\site-packages\\facebook_scraper\\facebook_scraper.py:912: UserWarning: Facebook says 'Unsupported Browser'\n",
      "  warnings.warn(f\"Facebook says 'Unsupported Browser'\")\n",
      "C:\\Users\\Sree Vidya\\AppData\\Local\\Temp\\ipykernel_11400\\3600050919.py:6: FutureWarning: The frame.append method is deprecated and will be removed from pandas in a future version. Use pandas.concat instead.\n",
      "  post_df_full = post_df_full.append(fb_post_df)\n"
     ]
    },
    {
     "name": "stdout",
     "output_type": "stream",
     "text": [
      "8185797941492307 get\n"
     ]
    },
    {
     "name": "stderr",
     "output_type": "stream",
     "text": [
      "C:\\Users\\Sree Vidya\\anaconda3\\lib\\site-packages\\facebook_scraper\\facebook_scraper.py:912: UserWarning: Facebook says 'Unsupported Browser'\n",
      "  warnings.warn(f\"Facebook says 'Unsupported Browser'\")\n",
      "C:\\Users\\Sree Vidya\\anaconda3\\lib\\site-packages\\dateparser\\freshness_date_parser.py:76: PytzUsageWarning: The localize method is no longer necessary, as this time zone supports the fold attribute (PEP 495). For more details on migrating to a PEP 495-compliant implementation, see https://pytz-deprecation-shim.readthedocs.io/en/latest/migration.html\n",
      "  now = self.get_local_tz().localize(now)\n",
      "C:\\Users\\Sree Vidya\\AppData\\Local\\Temp\\ipykernel_11400\\3600050919.py:6: FutureWarning: The frame.append method is deprecated and will be removed from pandas in a future version. Use pandas.concat instead.\n",
      "  post_df_full = post_df_full.append(fb_post_df)\n"
     ]
    },
    {
     "name": "stdout",
     "output_type": "stream",
     "text": [
      "8183739571698144 get\n"
     ]
    },
    {
     "name": "stderr",
     "output_type": "stream",
     "text": [
      "C:\\Users\\Sree Vidya\\anaconda3\\lib\\site-packages\\facebook_scraper\\facebook_scraper.py:912: UserWarning: Facebook says 'Unsupported Browser'\n",
      "  warnings.warn(f\"Facebook says 'Unsupported Browser'\")\n",
      "C:\\Users\\Sree Vidya\\AppData\\Local\\Temp\\ipykernel_11400\\3600050919.py:6: FutureWarning: The frame.append method is deprecated and will be removed from pandas in a future version. Use pandas.concat instead.\n",
      "  post_df_full = post_df_full.append(fb_post_df)\n"
     ]
    },
    {
     "name": "stdout",
     "output_type": "stream",
     "text": [
      "8183638215041613 get\n"
     ]
    },
    {
     "name": "stderr",
     "output_type": "stream",
     "text": [
      "C:\\Users\\Sree Vidya\\anaconda3\\lib\\site-packages\\facebook_scraper\\facebook_scraper.py:912: UserWarning: Facebook says 'Unsupported Browser'\n",
      "  warnings.warn(f\"Facebook says 'Unsupported Browser'\")\n",
      "C:\\Users\\Sree Vidya\\anaconda3\\lib\\site-packages\\dateparser\\freshness_date_parser.py:76: PytzUsageWarning: The localize method is no longer necessary, as this time zone supports the fold attribute (PEP 495). For more details on migrating to a PEP 495-compliant implementation, see https://pytz-deprecation-shim.readthedocs.io/en/latest/migration.html\n",
      "  now = self.get_local_tz().localize(now)\n",
      "C:\\Users\\Sree Vidya\\AppData\\Local\\Temp\\ipykernel_11400\\3600050919.py:6: FutureWarning: The frame.append method is deprecated and will be removed from pandas in a future version. Use pandas.concat instead.\n",
      "  post_df_full = post_df_full.append(fb_post_df)\n"
     ]
    },
    {
     "name": "stdout",
     "output_type": "stream",
     "text": [
      "8183311408407627 get\n"
     ]
    },
    {
     "name": "stderr",
     "output_type": "stream",
     "text": [
      "C:\\Users\\Sree Vidya\\anaconda3\\lib\\site-packages\\facebook_scraper\\facebook_scraper.py:912: UserWarning: Facebook says 'Unsupported Browser'\n",
      "  warnings.warn(f\"Facebook says 'Unsupported Browser'\")\n",
      "C:\\Users\\Sree Vidya\\AppData\\Local\\Temp\\ipykernel_11400\\3600050919.py:6: FutureWarning: The frame.append method is deprecated and will be removed from pandas in a future version. Use pandas.concat instead.\n",
      "  post_df_full = post_df_full.append(fb_post_df)\n"
     ]
    },
    {
     "name": "stdout",
     "output_type": "stream",
     "text": [
      "8182935391778562 get\n"
     ]
    },
    {
     "name": "stderr",
     "output_type": "stream",
     "text": [
      "C:\\Users\\Sree Vidya\\anaconda3\\lib\\site-packages\\facebook_scraper\\facebook_scraper.py:912: UserWarning: Facebook says 'Unsupported Browser'\n",
      "  warnings.warn(f\"Facebook says 'Unsupported Browser'\")\n",
      "C:\\Users\\Sree Vidya\\AppData\\Local\\Temp\\ipykernel_11400\\3600050919.py:6: FutureWarning: The frame.append method is deprecated and will be removed from pandas in a future version. Use pandas.concat instead.\n",
      "  post_df_full = post_df_full.append(fb_post_df)\n"
     ]
    },
    {
     "name": "stdout",
     "output_type": "stream",
     "text": [
      "8182311505174284 get\n"
     ]
    },
    {
     "name": "stderr",
     "output_type": "stream",
     "text": [
      "C:\\Users\\Sree Vidya\\anaconda3\\lib\\site-packages\\facebook_scraper\\facebook_scraper.py:912: UserWarning: Facebook says 'Unsupported Browser'\n",
      "  warnings.warn(f\"Facebook says 'Unsupported Browser'\")\n",
      "C:\\Users\\Sree Vidya\\AppData\\Local\\Temp\\ipykernel_11400\\3600050919.py:6: FutureWarning: The frame.append method is deprecated and will be removed from pandas in a future version. Use pandas.concat instead.\n",
      "  post_df_full = post_df_full.append(fb_post_df)\n"
     ]
    },
    {
     "name": "stdout",
     "output_type": "stream",
     "text": [
      "8181581568580611 get\n"
     ]
    },
    {
     "name": "stderr",
     "output_type": "stream",
     "text": [
      "C:\\Users\\Sree Vidya\\anaconda3\\lib\\site-packages\\facebook_scraper\\facebook_scraper.py:912: UserWarning: Facebook says 'Unsupported Browser'\n",
      "  warnings.warn(f\"Facebook says 'Unsupported Browser'\")\n",
      "C:\\Users\\Sree Vidya\\anaconda3\\lib\\site-packages\\dateparser\\freshness_date_parser.py:76: PytzUsageWarning: The localize method is no longer necessary, as this time zone supports the fold attribute (PEP 495). For more details on migrating to a PEP 495-compliant implementation, see https://pytz-deprecation-shim.readthedocs.io/en/latest/migration.html\n",
      "  now = self.get_local_tz().localize(now)\n",
      "C:\\Users\\Sree Vidya\\AppData\\Local\\Temp\\ipykernel_11400\\3600050919.py:6: FutureWarning: The frame.append method is deprecated and will be removed from pandas in a future version. Use pandas.concat instead.\n",
      "  post_df_full = post_df_full.append(fb_post_df)\n"
     ]
    },
    {
     "name": "stdout",
     "output_type": "stream",
     "text": [
      "8181089185296516 get\n"
     ]
    },
    {
     "name": "stderr",
     "output_type": "stream",
     "text": [
      "C:\\Users\\Sree Vidya\\anaconda3\\lib\\site-packages\\facebook_scraper\\facebook_scraper.py:912: UserWarning: Facebook says 'Unsupported Browser'\n",
      "  warnings.warn(f\"Facebook says 'Unsupported Browser'\")\n",
      "C:\\Users\\Sree Vidya\\AppData\\Local\\Temp\\ipykernel_11400\\3600050919.py:6: FutureWarning: The frame.append method is deprecated and will be removed from pandas in a future version. Use pandas.concat instead.\n",
      "  post_df_full = post_df_full.append(fb_post_df)\n"
     ]
    },
    {
     "name": "stdout",
     "output_type": "stream",
     "text": [
      "8176337802438321 get\n"
     ]
    },
    {
     "name": "stderr",
     "output_type": "stream",
     "text": [
      "C:\\Users\\Sree Vidya\\anaconda3\\lib\\site-packages\\facebook_scraper\\facebook_scraper.py:912: UserWarning: Facebook says 'Unsupported Browser'\n",
      "  warnings.warn(f\"Facebook says 'Unsupported Browser'\")\n",
      "C:\\Users\\Sree Vidya\\anaconda3\\lib\\site-packages\\dateparser\\freshness_date_parser.py:76: PytzUsageWarning: The localize method is no longer necessary, as this time zone supports the fold attribute (PEP 495). For more details on migrating to a PEP 495-compliant implementation, see https://pytz-deprecation-shim.readthedocs.io/en/latest/migration.html\n",
      "  now = self.get_local_tz().localize(now)\n",
      "C:\\Users\\Sree Vidya\\AppData\\Local\\Temp\\ipykernel_11400\\3600050919.py:6: FutureWarning: The frame.append method is deprecated and will be removed from pandas in a future version. Use pandas.concat instead.\n",
      "  post_df_full = post_df_full.append(fb_post_df)\n"
     ]
    },
    {
     "name": "stdout",
     "output_type": "stream",
     "text": [
      "8173879616017473 get\n"
     ]
    },
    {
     "name": "stderr",
     "output_type": "stream",
     "text": [
      "C:\\Users\\Sree Vidya\\anaconda3\\lib\\site-packages\\facebook_scraper\\facebook_scraper.py:912: UserWarning: Facebook says 'Unsupported Browser'\n",
      "  warnings.warn(f\"Facebook says 'Unsupported Browser'\")\n",
      "C:\\Users\\Sree Vidya\\anaconda3\\lib\\site-packages\\dateparser\\freshness_date_parser.py:76: PytzUsageWarning: The localize method is no longer necessary, as this time zone supports the fold attribute (PEP 495). For more details on migrating to a PEP 495-compliant implementation, see https://pytz-deprecation-shim.readthedocs.io/en/latest/migration.html\n",
      "  now = self.get_local_tz().localize(now)\n",
      "C:\\Users\\Sree Vidya\\AppData\\Local\\Temp\\ipykernel_11400\\3600050919.py:6: FutureWarning: The frame.append method is deprecated and will be removed from pandas in a future version. Use pandas.concat instead.\n",
      "  post_df_full = post_df_full.append(fb_post_df)\n"
     ]
    },
    {
     "name": "stdout",
     "output_type": "stream",
     "text": [
      "8173160339422734 get\n"
     ]
    },
    {
     "name": "stderr",
     "output_type": "stream",
     "text": [
      "C:\\Users\\Sree Vidya\\anaconda3\\lib\\site-packages\\facebook_scraper\\facebook_scraper.py:912: UserWarning: Facebook says 'Unsupported Browser'\n",
      "  warnings.warn(f\"Facebook says 'Unsupported Browser'\")\n",
      "C:\\Users\\Sree Vidya\\anaconda3\\lib\\site-packages\\dateparser\\freshness_date_parser.py:76: PytzUsageWarning: The localize method is no longer necessary, as this time zone supports the fold attribute (PEP 495). For more details on migrating to a PEP 495-compliant implementation, see https://pytz-deprecation-shim.readthedocs.io/en/latest/migration.html\n",
      "  now = self.get_local_tz().localize(now)\n",
      "C:\\Users\\Sree Vidya\\AppData\\Local\\Temp\\ipykernel_11400\\3600050919.py:6: FutureWarning: The frame.append method is deprecated and will be removed from pandas in a future version. Use pandas.concat instead.\n",
      "  post_df_full = post_df_full.append(fb_post_df)\n"
     ]
    },
    {
     "name": "stdout",
     "output_type": "stream",
     "text": [
      "8171633002908801 get\n"
     ]
    },
    {
     "name": "stderr",
     "output_type": "stream",
     "text": [
      "C:\\Users\\Sree Vidya\\anaconda3\\lib\\site-packages\\facebook_scraper\\facebook_scraper.py:912: UserWarning: Facebook says 'Unsupported Browser'\n",
      "  warnings.warn(f\"Facebook says 'Unsupported Browser'\")\n",
      "C:\\Users\\Sree Vidya\\anaconda3\\lib\\site-packages\\dateparser\\freshness_date_parser.py:76: PytzUsageWarning: The localize method is no longer necessary, as this time zone supports the fold attribute (PEP 495). For more details on migrating to a PEP 495-compliant implementation, see https://pytz-deprecation-shim.readthedocs.io/en/latest/migration.html\n",
      "  now = self.get_local_tz().localize(now)\n",
      "C:\\Users\\Sree Vidya\\AppData\\Local\\Temp\\ipykernel_11400\\3600050919.py:6: FutureWarning: The frame.append method is deprecated and will be removed from pandas in a future version. Use pandas.concat instead.\n",
      "  post_df_full = post_df_full.append(fb_post_df)\n"
     ]
    },
    {
     "name": "stdout",
     "output_type": "stream",
     "text": [
      "8171418299596938 get\n"
     ]
    },
    {
     "name": "stderr",
     "output_type": "stream",
     "text": [
      "C:\\Users\\Sree Vidya\\anaconda3\\lib\\site-packages\\facebook_scraper\\facebook_scraper.py:912: UserWarning: Facebook says 'Unsupported Browser'\n",
      "  warnings.warn(f\"Facebook says 'Unsupported Browser'\")\n",
      "C:\\Users\\Sree Vidya\\anaconda3\\lib\\site-packages\\dateparser\\freshness_date_parser.py:76: PytzUsageWarning: The localize method is no longer necessary, as this time zone supports the fold attribute (PEP 495). For more details on migrating to a PEP 495-compliant implementation, see https://pytz-deprecation-shim.readthedocs.io/en/latest/migration.html\n",
      "  now = self.get_local_tz().localize(now)\n",
      "C:\\Users\\Sree Vidya\\AppData\\Local\\Temp\\ipykernel_11400\\3600050919.py:6: FutureWarning: The frame.append method is deprecated and will be removed from pandas in a future version. Use pandas.concat instead.\n",
      "  post_df_full = post_df_full.append(fb_post_df)\n"
     ]
    },
    {
     "name": "stdout",
     "output_type": "stream",
     "text": [
      "8167731163298985 get\n"
     ]
    },
    {
     "name": "stderr",
     "output_type": "stream",
     "text": [
      "C:\\Users\\Sree Vidya\\anaconda3\\lib\\site-packages\\facebook_scraper\\facebook_scraper.py:912: UserWarning: Facebook says 'Unsupported Browser'\n",
      "  warnings.warn(f\"Facebook says 'Unsupported Browser'\")\n",
      "C:\\Users\\Sree Vidya\\anaconda3\\lib\\site-packages\\dateparser\\freshness_date_parser.py:76: PytzUsageWarning: The localize method is no longer necessary, as this time zone supports the fold attribute (PEP 495). For more details on migrating to a PEP 495-compliant implementation, see https://pytz-deprecation-shim.readthedocs.io/en/latest/migration.html\n",
      "  now = self.get_local_tz().localize(now)\n",
      "C:\\Users\\Sree Vidya\\AppData\\Local\\Temp\\ipykernel_11400\\3600050919.py:6: FutureWarning: The frame.append method is deprecated and will be removed from pandas in a future version. Use pandas.concat instead.\n",
      "  post_df_full = post_df_full.append(fb_post_df)\n"
     ]
    },
    {
     "name": "stdout",
     "output_type": "stream",
     "text": [
      "8166385390100229 get\n"
     ]
    },
    {
     "name": "stderr",
     "output_type": "stream",
     "text": [
      "C:\\Users\\Sree Vidya\\anaconda3\\lib\\site-packages\\facebook_scraper\\facebook_scraper.py:912: UserWarning: Facebook says 'Unsupported Browser'\n",
      "  warnings.warn(f\"Facebook says 'Unsupported Browser'\")\n",
      "C:\\Users\\Sree Vidya\\AppData\\Local\\Temp\\ipykernel_11400\\3600050919.py:6: FutureWarning: The frame.append method is deprecated and will be removed from pandas in a future version. Use pandas.concat instead.\n",
      "  post_df_full = post_df_full.append(fb_post_df)\n"
     ]
    },
    {
     "name": "stdout",
     "output_type": "stream",
     "text": [
      "8161588457246589 get\n"
     ]
    },
    {
     "name": "stderr",
     "output_type": "stream",
     "text": [
      "C:\\Users\\Sree Vidya\\anaconda3\\lib\\site-packages\\facebook_scraper\\facebook_scraper.py:912: UserWarning: Facebook says 'Unsupported Browser'\n",
      "  warnings.warn(f\"Facebook says 'Unsupported Browser'\")\n",
      "C:\\Users\\Sree Vidya\\AppData\\Local\\Temp\\ipykernel_11400\\3600050919.py:6: FutureWarning: The frame.append method is deprecated and will be removed from pandas in a future version. Use pandas.concat instead.\n",
      "  post_df_full = post_df_full.append(fb_post_df)\n"
     ]
    },
    {
     "name": "stdout",
     "output_type": "stream",
     "text": [
      "8158440374228064 get\n"
     ]
    },
    {
     "name": "stderr",
     "output_type": "stream",
     "text": [
      "C:\\Users\\Sree Vidya\\anaconda3\\lib\\site-packages\\facebook_scraper\\facebook_scraper.py:912: UserWarning: Facebook says 'Unsupported Browser'\n",
      "  warnings.warn(f\"Facebook says 'Unsupported Browser'\")\n",
      "C:\\Users\\Sree Vidya\\anaconda3\\lib\\site-packages\\dateparser\\freshness_date_parser.py:76: PytzUsageWarning: The localize method is no longer necessary, as this time zone supports the fold attribute (PEP 495). For more details on migrating to a PEP 495-compliant implementation, see https://pytz-deprecation-shim.readthedocs.io/en/latest/migration.html\n",
      "  now = self.get_local_tz().localize(now)\n",
      "C:\\Users\\Sree Vidya\\AppData\\Local\\Temp\\ipykernel_11400\\3600050919.py:6: FutureWarning: The frame.append method is deprecated and will be removed from pandas in a future version. Use pandas.concat instead.\n",
      "  post_df_full = post_df_full.append(fb_post_df)\n"
     ]
    },
    {
     "name": "stdout",
     "output_type": "stream",
     "text": [
      "8157695517635883 get\n"
     ]
    },
    {
     "name": "stderr",
     "output_type": "stream",
     "text": [
      "C:\\Users\\Sree Vidya\\anaconda3\\lib\\site-packages\\facebook_scraper\\facebook_scraper.py:912: UserWarning: Facebook says 'Unsupported Browser'\n",
      "  warnings.warn(f\"Facebook says 'Unsupported Browser'\")\n",
      "C:\\Users\\Sree Vidya\\anaconda3\\lib\\site-packages\\dateparser\\freshness_date_parser.py:76: PytzUsageWarning: The localize method is no longer necessary, as this time zone supports the fold attribute (PEP 495). For more details on migrating to a PEP 495-compliant implementation, see https://pytz-deprecation-shim.readthedocs.io/en/latest/migration.html\n",
      "  now = self.get_local_tz().localize(now)\n",
      "C:\\Users\\Sree Vidya\\AppData\\Local\\Temp\\ipykernel_11400\\3600050919.py:6: FutureWarning: The frame.append method is deprecated and will be removed from pandas in a future version. Use pandas.concat instead.\n",
      "  post_df_full = post_df_full.append(fb_post_df)\n"
     ]
    },
    {
     "name": "stdout",
     "output_type": "stream",
     "text": [
      "8157573887648046 get\n"
     ]
    },
    {
     "name": "stderr",
     "output_type": "stream",
     "text": [
      "C:\\Users\\Sree Vidya\\anaconda3\\lib\\site-packages\\facebook_scraper\\facebook_scraper.py:912: UserWarning: Facebook says 'Unsupported Browser'\n",
      "  warnings.warn(f\"Facebook says 'Unsupported Browser'\")\n",
      "C:\\Users\\Sree Vidya\\AppData\\Local\\Temp\\ipykernel_11400\\3600050919.py:6: FutureWarning: The frame.append method is deprecated and will be removed from pandas in a future version. Use pandas.concat instead.\n",
      "  post_df_full = post_df_full.append(fb_post_df)\n"
     ]
    },
    {
     "name": "stdout",
     "output_type": "stream",
     "text": [
      "8157548784317223 get\n"
     ]
    },
    {
     "name": "stderr",
     "output_type": "stream",
     "text": [
      "C:\\Users\\Sree Vidya\\anaconda3\\lib\\site-packages\\facebook_scraper\\facebook_scraper.py:912: UserWarning: Facebook says 'Unsupported Browser'\n",
      "  warnings.warn(f\"Facebook says 'Unsupported Browser'\")\n",
      "C:\\Users\\Sree Vidya\\anaconda3\\lib\\site-packages\\dateparser\\freshness_date_parser.py:76: PytzUsageWarning: The localize method is no longer necessary, as this time zone supports the fold attribute (PEP 495). For more details on migrating to a PEP 495-compliant implementation, see https://pytz-deprecation-shim.readthedocs.io/en/latest/migration.html\n",
      "  now = self.get_local_tz().localize(now)\n",
      "C:\\Users\\Sree Vidya\\AppData\\Local\\Temp\\ipykernel_11400\\3600050919.py:6: FutureWarning: The frame.append method is deprecated and will be removed from pandas in a future version. Use pandas.concat instead.\n",
      "  post_df_full = post_df_full.append(fb_post_df)\n"
     ]
    },
    {
     "name": "stdout",
     "output_type": "stream",
     "text": [
      "8157437660995002 get\n"
     ]
    },
    {
     "name": "stderr",
     "output_type": "stream",
     "text": [
      "C:\\Users\\Sree Vidya\\anaconda3\\lib\\site-packages\\facebook_scraper\\facebook_scraper.py:912: UserWarning: Facebook says 'Unsupported Browser'\n",
      "  warnings.warn(f\"Facebook says 'Unsupported Browser'\")\n",
      "C:\\Users\\Sree Vidya\\anaconda3\\lib\\site-packages\\dateparser\\freshness_date_parser.py:76: PytzUsageWarning: The localize method is no longer necessary, as this time zone supports the fold attribute (PEP 495). For more details on migrating to a PEP 495-compliant implementation, see https://pytz-deprecation-shim.readthedocs.io/en/latest/migration.html\n",
      "  now = self.get_local_tz().localize(now)\n",
      "C:\\Users\\Sree Vidya\\AppData\\Local\\Temp\\ipykernel_11400\\3600050919.py:6: FutureWarning: The frame.append method is deprecated and will be removed from pandas in a future version. Use pandas.concat instead.\n",
      "  post_df_full = post_df_full.append(fb_post_df)\n"
     ]
    },
    {
     "name": "stdout",
     "output_type": "stream",
     "text": [
      "8157320464340055 get\n"
     ]
    },
    {
     "name": "stderr",
     "output_type": "stream",
     "text": [
      "C:\\Users\\Sree Vidya\\anaconda3\\lib\\site-packages\\facebook_scraper\\facebook_scraper.py:912: UserWarning: Facebook says 'Unsupported Browser'\n",
      "  warnings.warn(f\"Facebook says 'Unsupported Browser'\")\n",
      "C:\\Users\\Sree Vidya\\anaconda3\\lib\\site-packages\\dateparser\\freshness_date_parser.py:76: PytzUsageWarning: The localize method is no longer necessary, as this time zone supports the fold attribute (PEP 495). For more details on migrating to a PEP 495-compliant implementation, see https://pytz-deprecation-shim.readthedocs.io/en/latest/migration.html\n",
      "  now = self.get_local_tz().localize(now)\n",
      "C:\\Users\\Sree Vidya\\AppData\\Local\\Temp\\ipykernel_11400\\3600050919.py:6: FutureWarning: The frame.append method is deprecated and will be removed from pandas in a future version. Use pandas.concat instead.\n",
      "  post_df_full = post_df_full.append(fb_post_df)\n"
     ]
    },
    {
     "name": "stdout",
     "output_type": "stream",
     "text": [
      "8155202561218512 get\n"
     ]
    },
    {
     "name": "stderr",
     "output_type": "stream",
     "text": [
      "C:\\Users\\Sree Vidya\\anaconda3\\lib\\site-packages\\facebook_scraper\\facebook_scraper.py:912: UserWarning: Facebook says 'Unsupported Browser'\n",
      "  warnings.warn(f\"Facebook says 'Unsupported Browser'\")\n",
      "C:\\Users\\Sree Vidya\\anaconda3\\lib\\site-packages\\dateparser\\freshness_date_parser.py:76: PytzUsageWarning: The localize method is no longer necessary, as this time zone supports the fold attribute (PEP 495). For more details on migrating to a PEP 495-compliant implementation, see https://pytz-deprecation-shim.readthedocs.io/en/latest/migration.html\n",
      "  now = self.get_local_tz().localize(now)\n",
      "C:\\Users\\Sree Vidya\\AppData\\Local\\Temp\\ipykernel_11400\\3600050919.py:6: FutureWarning: The frame.append method is deprecated and will be removed from pandas in a future version. Use pandas.concat instead.\n",
      "  post_df_full = post_df_full.append(fb_post_df)\n"
     ]
    },
    {
     "name": "stdout",
     "output_type": "stream",
     "text": [
      "8152871948118240 get\n"
     ]
    },
    {
     "name": "stderr",
     "output_type": "stream",
     "text": [
      "C:\\Users\\Sree Vidya\\anaconda3\\lib\\site-packages\\facebook_scraper\\facebook_scraper.py:912: UserWarning: Facebook says 'Unsupported Browser'\n",
      "  warnings.warn(f\"Facebook says 'Unsupported Browser'\")\n",
      "C:\\Users\\Sree Vidya\\anaconda3\\lib\\site-packages\\dateparser\\freshness_date_parser.py:76: PytzUsageWarning: The localize method is no longer necessary, as this time zone supports the fold attribute (PEP 495). For more details on migrating to a PEP 495-compliant implementation, see https://pytz-deprecation-shim.readthedocs.io/en/latest/migration.html\n",
      "  now = self.get_local_tz().localize(now)\n",
      "C:\\Users\\Sree Vidya\\AppData\\Local\\Temp\\ipykernel_11400\\3600050919.py:6: FutureWarning: The frame.append method is deprecated and will be removed from pandas in a future version. Use pandas.concat instead.\n",
      "  post_df_full = post_df_full.append(fb_post_df)\n"
     ]
    },
    {
     "name": "stdout",
     "output_type": "stream",
     "text": [
      "8151997224872379 get\n"
     ]
    },
    {
     "name": "stderr",
     "output_type": "stream",
     "text": [
      "C:\\Users\\Sree Vidya\\anaconda3\\lib\\site-packages\\facebook_scraper\\facebook_scraper.py:912: UserWarning: Facebook says 'Unsupported Browser'\n",
      "  warnings.warn(f\"Facebook says 'Unsupported Browser'\")\n",
      "C:\\Users\\Sree Vidya\\anaconda3\\lib\\site-packages\\dateparser\\freshness_date_parser.py:76: PytzUsageWarning: The localize method is no longer necessary, as this time zone supports the fold attribute (PEP 495). For more details on migrating to a PEP 495-compliant implementation, see https://pytz-deprecation-shim.readthedocs.io/en/latest/migration.html\n",
      "  now = self.get_local_tz().localize(now)\n",
      "C:\\Users\\Sree Vidya\\AppData\\Local\\Temp\\ipykernel_11400\\3600050919.py:6: FutureWarning: The frame.append method is deprecated and will be removed from pandas in a future version. Use pandas.concat instead.\n",
      "  post_df_full = post_df_full.append(fb_post_df)\n"
     ]
    },
    {
     "name": "stdout",
     "output_type": "stream",
     "text": [
      "8148728948532540 get\n"
     ]
    },
    {
     "name": "stderr",
     "output_type": "stream",
     "text": [
      "C:\\Users\\Sree Vidya\\anaconda3\\lib\\site-packages\\facebook_scraper\\facebook_scraper.py:912: UserWarning: Facebook says 'Unsupported Browser'\n",
      "  warnings.warn(f\"Facebook says 'Unsupported Browser'\")\n",
      "C:\\Users\\Sree Vidya\\anaconda3\\lib\\site-packages\\dateparser\\freshness_date_parser.py:76: PytzUsageWarning: The localize method is no longer necessary, as this time zone supports the fold attribute (PEP 495). For more details on migrating to a PEP 495-compliant implementation, see https://pytz-deprecation-shim.readthedocs.io/en/latest/migration.html\n",
      "  now = self.get_local_tz().localize(now)\n",
      "C:\\Users\\Sree Vidya\\AppData\\Local\\Temp\\ipykernel_11400\\3600050919.py:6: FutureWarning: The frame.append method is deprecated and will be removed from pandas in a future version. Use pandas.concat instead.\n",
      "  post_df_full = post_df_full.append(fb_post_df)\n"
     ]
    },
    {
     "name": "stdout",
     "output_type": "stream",
     "text": [
      "8148421778563257 get\n"
     ]
    },
    {
     "name": "stderr",
     "output_type": "stream",
     "text": [
      "C:\\Users\\Sree Vidya\\anaconda3\\lib\\site-packages\\facebook_scraper\\facebook_scraper.py:912: UserWarning: Facebook says 'Unsupported Browser'\n",
      "  warnings.warn(f\"Facebook says 'Unsupported Browser'\")\n",
      "C:\\Users\\Sree Vidya\\anaconda3\\lib\\site-packages\\dateparser\\freshness_date_parser.py:76: PytzUsageWarning: The localize method is no longer necessary, as this time zone supports the fold attribute (PEP 495). For more details on migrating to a PEP 495-compliant implementation, see https://pytz-deprecation-shim.readthedocs.io/en/latest/migration.html\n",
      "  now = self.get_local_tz().localize(now)\n",
      "C:\\Users\\Sree Vidya\\AppData\\Local\\Temp\\ipykernel_11400\\3600050919.py:6: FutureWarning: The frame.append method is deprecated and will be removed from pandas in a future version. Use pandas.concat instead.\n",
      "  post_df_full = post_df_full.append(fb_post_df)\n"
     ]
    },
    {
     "name": "stdout",
     "output_type": "stream",
     "text": [
      "8147512718654163 get\n"
     ]
    },
    {
     "name": "stderr",
     "output_type": "stream",
     "text": [
      "C:\\Users\\Sree Vidya\\anaconda3\\lib\\site-packages\\facebook_scraper\\facebook_scraper.py:912: UserWarning: Facebook says 'Unsupported Browser'\n",
      "  warnings.warn(f\"Facebook says 'Unsupported Browser'\")\n",
      "C:\\Users\\Sree Vidya\\anaconda3\\lib\\site-packages\\dateparser\\freshness_date_parser.py:76: PytzUsageWarning: The localize method is no longer necessary, as this time zone supports the fold attribute (PEP 495). For more details on migrating to a PEP 495-compliant implementation, see https://pytz-deprecation-shim.readthedocs.io/en/latest/migration.html\n",
      "  now = self.get_local_tz().localize(now)\n",
      "C:\\Users\\Sree Vidya\\AppData\\Local\\Temp\\ipykernel_11400\\3600050919.py:6: FutureWarning: The frame.append method is deprecated and will be removed from pandas in a future version. Use pandas.concat instead.\n",
      "  post_df_full = post_df_full.append(fb_post_df)\n"
     ]
    },
    {
     "name": "stdout",
     "output_type": "stream",
     "text": [
      "8145231055548996 get\n"
     ]
    },
    {
     "name": "stderr",
     "output_type": "stream",
     "text": [
      "C:\\Users\\Sree Vidya\\anaconda3\\lib\\site-packages\\facebook_scraper\\facebook_scraper.py:912: UserWarning: Facebook says 'Unsupported Browser'\n",
      "  warnings.warn(f\"Facebook says 'Unsupported Browser'\")\n",
      "C:\\Users\\Sree Vidya\\anaconda3\\lib\\site-packages\\dateparser\\freshness_date_parser.py:76: PytzUsageWarning: The localize method is no longer necessary, as this time zone supports the fold attribute (PEP 495). For more details on migrating to a PEP 495-compliant implementation, see https://pytz-deprecation-shim.readthedocs.io/en/latest/migration.html\n",
      "  now = self.get_local_tz().localize(now)\n",
      "C:\\Users\\Sree Vidya\\AppData\\Local\\Temp\\ipykernel_11400\\3600050919.py:6: FutureWarning: The frame.append method is deprecated and will be removed from pandas in a future version. Use pandas.concat instead.\n",
      "  post_df_full = post_df_full.append(fb_post_df)\n"
     ]
    },
    {
     "name": "stdout",
     "output_type": "stream",
     "text": [
      "8144177215654380 get\n"
     ]
    },
    {
     "name": "stderr",
     "output_type": "stream",
     "text": [
      "C:\\Users\\Sree Vidya\\anaconda3\\lib\\site-packages\\facebook_scraper\\facebook_scraper.py:912: UserWarning: Facebook says 'Unsupported Browser'\n",
      "  warnings.warn(f\"Facebook says 'Unsupported Browser'\")\n",
      "C:\\Users\\Sree Vidya\\anaconda3\\lib\\site-packages\\dateparser\\freshness_date_parser.py:76: PytzUsageWarning: The localize method is no longer necessary, as this time zone supports the fold attribute (PEP 495). For more details on migrating to a PEP 495-compliant implementation, see https://pytz-deprecation-shim.readthedocs.io/en/latest/migration.html\n",
      "  now = self.get_local_tz().localize(now)\n",
      "C:\\Users\\Sree Vidya\\AppData\\Local\\Temp\\ipykernel_11400\\3600050919.py:6: FutureWarning: The frame.append method is deprecated and will be removed from pandas in a future version. Use pandas.concat instead.\n",
      "  post_df_full = post_df_full.append(fb_post_df)\n"
     ]
    },
    {
     "name": "stdout",
     "output_type": "stream",
     "text": [
      "8144070028998432 get\n"
     ]
    },
    {
     "name": "stderr",
     "output_type": "stream",
     "text": [
      "C:\\Users\\Sree Vidya\\anaconda3\\lib\\site-packages\\facebook_scraper\\facebook_scraper.py:912: UserWarning: Facebook says 'Unsupported Browser'\n",
      "  warnings.warn(f\"Facebook says 'Unsupported Browser'\")\n",
      "C:\\Users\\Sree Vidya\\anaconda3\\lib\\site-packages\\dateparser\\freshness_date_parser.py:76: PytzUsageWarning: The localize method is no longer necessary, as this time zone supports the fold attribute (PEP 495). For more details on migrating to a PEP 495-compliant implementation, see https://pytz-deprecation-shim.readthedocs.io/en/latest/migration.html\n",
      "  now = self.get_local_tz().localize(now)\n",
      "C:\\Users\\Sree Vidya\\AppData\\Local\\Temp\\ipykernel_11400\\3600050919.py:6: FutureWarning: The frame.append method is deprecated and will be removed from pandas in a future version. Use pandas.concat instead.\n",
      "  post_df_full = post_df_full.append(fb_post_df)\n"
     ]
    },
    {
     "name": "stdout",
     "output_type": "stream",
     "text": [
      "8143442915727810 get\n"
     ]
    },
    {
     "name": "stderr",
     "output_type": "stream",
     "text": [
      "C:\\Users\\Sree Vidya\\anaconda3\\lib\\site-packages\\facebook_scraper\\facebook_scraper.py:912: UserWarning: Facebook says 'Unsupported Browser'\n",
      "  warnings.warn(f\"Facebook says 'Unsupported Browser'\")\n",
      "C:\\Users\\Sree Vidya\\anaconda3\\lib\\site-packages\\dateparser\\freshness_date_parser.py:76: PytzUsageWarning: The localize method is no longer necessary, as this time zone supports the fold attribute (PEP 495). For more details on migrating to a PEP 495-compliant implementation, see https://pytz-deprecation-shim.readthedocs.io/en/latest/migration.html\n",
      "  now = self.get_local_tz().localize(now)\n",
      "C:\\Users\\Sree Vidya\\AppData\\Local\\Temp\\ipykernel_11400\\3600050919.py:6: FutureWarning: The frame.append method is deprecated and will be removed from pandas in a future version. Use pandas.concat instead.\n",
      "  post_df_full = post_df_full.append(fb_post_df)\n"
     ]
    },
    {
     "name": "stdout",
     "output_type": "stream",
     "text": [
      "8142950809110354 get\n"
     ]
    },
    {
     "name": "stderr",
     "output_type": "stream",
     "text": [
      "C:\\Users\\Sree Vidya\\anaconda3\\lib\\site-packages\\facebook_scraper\\facebook_scraper.py:912: UserWarning: Facebook says 'Unsupported Browser'\n",
      "  warnings.warn(f\"Facebook says 'Unsupported Browser'\")\n",
      "C:\\Users\\Sree Vidya\\anaconda3\\lib\\site-packages\\dateparser\\freshness_date_parser.py:76: PytzUsageWarning: The localize method is no longer necessary, as this time zone supports the fold attribute (PEP 495). For more details on migrating to a PEP 495-compliant implementation, see https://pytz-deprecation-shim.readthedocs.io/en/latest/migration.html\n",
      "  now = self.get_local_tz().localize(now)\n",
      "C:\\Users\\Sree Vidya\\AppData\\Local\\Temp\\ipykernel_11400\\3600050919.py:6: FutureWarning: The frame.append method is deprecated and will be removed from pandas in a future version. Use pandas.concat instead.\n",
      "  post_df_full = post_df_full.append(fb_post_df)\n"
     ]
    },
    {
     "name": "stdout",
     "output_type": "stream",
     "text": [
      "8142425089162926 get\n"
     ]
    },
    {
     "name": "stderr",
     "output_type": "stream",
     "text": [
      "C:\\Users\\Sree Vidya\\anaconda3\\lib\\site-packages\\facebook_scraper\\facebook_scraper.py:912: UserWarning: Facebook says 'Unsupported Browser'\n",
      "  warnings.warn(f\"Facebook says 'Unsupported Browser'\")\n",
      "C:\\Users\\Sree Vidya\\anaconda3\\lib\\site-packages\\dateparser\\freshness_date_parser.py:76: PytzUsageWarning: The localize method is no longer necessary, as this time zone supports the fold attribute (PEP 495). For more details on migrating to a PEP 495-compliant implementation, see https://pytz-deprecation-shim.readthedocs.io/en/latest/migration.html\n",
      "  now = self.get_local_tz().localize(now)\n"
     ]
    },
    {
     "name": "stdout",
     "output_type": "stream",
     "text": [
      "8139743642764404 get\n"
     ]
    },
    {
     "name": "stderr",
     "output_type": "stream",
     "text": [
      "C:\\Users\\Sree Vidya\\AppData\\Local\\Temp\\ipykernel_11400\\3600050919.py:6: FutureWarning: The frame.append method is deprecated and will be removed from pandas in a future version. Use pandas.concat instead.\n",
      "  post_df_full = post_df_full.append(fb_post_df)\n",
      "C:\\Users\\Sree Vidya\\anaconda3\\lib\\site-packages\\facebook_scraper\\facebook_scraper.py:912: UserWarning: Facebook says 'Unsupported Browser'\n",
      "  warnings.warn(f\"Facebook says 'Unsupported Browser'\")\n",
      "C:\\Users\\Sree Vidya\\anaconda3\\lib\\site-packages\\dateparser\\freshness_date_parser.py:76: PytzUsageWarning: The localize method is no longer necessary, as this time zone supports the fold attribute (PEP 495). For more details on migrating to a PEP 495-compliant implementation, see https://pytz-deprecation-shim.readthedocs.io/en/latest/migration.html\n",
      "  now = self.get_local_tz().localize(now)\n",
      "C:\\Users\\Sree Vidya\\AppData\\Local\\Temp\\ipykernel_11400\\3600050919.py:6: FutureWarning: The frame.append method is deprecated and will be removed from pandas in a future version. Use pandas.concat instead.\n",
      "  post_df_full = post_df_full.append(fb_post_df)\n"
     ]
    },
    {
     "name": "stdout",
     "output_type": "stream",
     "text": [
      "8139399779465457 get\n"
     ]
    },
    {
     "name": "stderr",
     "output_type": "stream",
     "text": [
      "C:\\Users\\Sree Vidya\\anaconda3\\lib\\site-packages\\facebook_scraper\\facebook_scraper.py:912: UserWarning: Facebook says 'Unsupported Browser'\n",
      "  warnings.warn(f\"Facebook says 'Unsupported Browser'\")\n",
      "C:\\Users\\Sree Vidya\\anaconda3\\lib\\site-packages\\dateparser\\freshness_date_parser.py:76: PytzUsageWarning: The localize method is no longer necessary, as this time zone supports the fold attribute (PEP 495). For more details on migrating to a PEP 495-compliant implementation, see https://pytz-deprecation-shim.readthedocs.io/en/latest/migration.html\n",
      "  now = self.get_local_tz().localize(now)\n",
      "C:\\Users\\Sree Vidya\\AppData\\Local\\Temp\\ipykernel_11400\\3600050919.py:6: FutureWarning: The frame.append method is deprecated and will be removed from pandas in a future version. Use pandas.concat instead.\n",
      "  post_df_full = post_df_full.append(fb_post_df)\n"
     ]
    },
    {
     "name": "stdout",
     "output_type": "stream",
     "text": [
      "8138496789555756 get\n"
     ]
    },
    {
     "name": "stderr",
     "output_type": "stream",
     "text": [
      "C:\\Users\\Sree Vidya\\anaconda3\\lib\\site-packages\\facebook_scraper\\facebook_scraper.py:912: UserWarning: Facebook says 'Unsupported Browser'\n",
      "  warnings.warn(f\"Facebook says 'Unsupported Browser'\")\n",
      "C:\\Users\\Sree Vidya\\anaconda3\\lib\\site-packages\\dateparser\\freshness_date_parser.py:76: PytzUsageWarning: The localize method is no longer necessary, as this time zone supports the fold attribute (PEP 495). For more details on migrating to a PEP 495-compliant implementation, see https://pytz-deprecation-shim.readthedocs.io/en/latest/migration.html\n",
      "  now = self.get_local_tz().localize(now)\n",
      "C:\\Users\\Sree Vidya\\AppData\\Local\\Temp\\ipykernel_11400\\3600050919.py:6: FutureWarning: The frame.append method is deprecated and will be removed from pandas in a future version. Use pandas.concat instead.\n",
      "  post_df_full = post_df_full.append(fb_post_df)\n"
     ]
    },
    {
     "name": "stdout",
     "output_type": "stream",
     "text": [
      "8135970719808363 get\n"
     ]
    },
    {
     "name": "stderr",
     "output_type": "stream",
     "text": [
      "C:\\Users\\Sree Vidya\\anaconda3\\lib\\site-packages\\facebook_scraper\\facebook_scraper.py:912: UserWarning: Facebook says 'Unsupported Browser'\n",
      "  warnings.warn(f\"Facebook says 'Unsupported Browser'\")\n",
      "C:\\Users\\Sree Vidya\\anaconda3\\lib\\site-packages\\dateparser\\freshness_date_parser.py:76: PytzUsageWarning: The localize method is no longer necessary, as this time zone supports the fold attribute (PEP 495). For more details on migrating to a PEP 495-compliant implementation, see https://pytz-deprecation-shim.readthedocs.io/en/latest/migration.html\n",
      "  now = self.get_local_tz().localize(now)\n",
      "C:\\Users\\Sree Vidya\\AppData\\Local\\Temp\\ipykernel_11400\\3600050919.py:6: FutureWarning: The frame.append method is deprecated and will be removed from pandas in a future version. Use pandas.concat instead.\n",
      "  post_df_full = post_df_full.append(fb_post_df)\n"
     ]
    },
    {
     "name": "stdout",
     "output_type": "stream",
     "text": [
      "8134571889948246 get\n"
     ]
    },
    {
     "name": "stderr",
     "output_type": "stream",
     "text": [
      "C:\\Users\\Sree Vidya\\anaconda3\\lib\\site-packages\\facebook_scraper\\facebook_scraper.py:912: UserWarning: Facebook says 'Unsupported Browser'\n",
      "  warnings.warn(f\"Facebook says 'Unsupported Browser'\")\n",
      "C:\\Users\\Sree Vidya\\AppData\\Local\\Temp\\ipykernel_11400\\3600050919.py:6: FutureWarning: The frame.append method is deprecated and will be removed from pandas in a future version. Use pandas.concat instead.\n",
      "  post_df_full = post_df_full.append(fb_post_df)\n"
     ]
    },
    {
     "name": "stdout",
     "output_type": "stream",
     "text": [
      "8133675510037884 get\n"
     ]
    },
    {
     "name": "stderr",
     "output_type": "stream",
     "text": [
      "C:\\Users\\Sree Vidya\\anaconda3\\lib\\site-packages\\facebook_scraper\\facebook_scraper.py:912: UserWarning: Facebook says 'Unsupported Browser'\n",
      "  warnings.warn(f\"Facebook says 'Unsupported Browser'\")\n",
      "C:\\Users\\Sree Vidya\\anaconda3\\lib\\site-packages\\dateparser\\freshness_date_parser.py:76: PytzUsageWarning: The localize method is no longer necessary, as this time zone supports the fold attribute (PEP 495). For more details on migrating to a PEP 495-compliant implementation, see https://pytz-deprecation-shim.readthedocs.io/en/latest/migration.html\n",
      "  now = self.get_local_tz().localize(now)\n",
      "C:\\Users\\Sree Vidya\\AppData\\Local\\Temp\\ipykernel_11400\\3600050919.py:6: FutureWarning: The frame.append method is deprecated and will be removed from pandas in a future version. Use pandas.concat instead.\n",
      "  post_df_full = post_df_full.append(fb_post_df)\n"
     ]
    },
    {
     "name": "stdout",
     "output_type": "stream",
     "text": [
      "8129136523825116 get\n"
     ]
    },
    {
     "name": "stderr",
     "output_type": "stream",
     "text": [
      "C:\\Users\\Sree Vidya\\anaconda3\\lib\\site-packages\\facebook_scraper\\facebook_scraper.py:912: UserWarning: Facebook says 'Unsupported Browser'\n",
      "  warnings.warn(f\"Facebook says 'Unsupported Browser'\")\n",
      "C:\\Users\\Sree Vidya\\anaconda3\\lib\\site-packages\\dateparser\\freshness_date_parser.py:76: PytzUsageWarning: The localize method is no longer necessary, as this time zone supports the fold attribute (PEP 495). For more details on migrating to a PEP 495-compliant implementation, see https://pytz-deprecation-shim.readthedocs.io/en/latest/migration.html\n",
      "  now = self.get_local_tz().localize(now)\n",
      "C:\\Users\\Sree Vidya\\AppData\\Local\\Temp\\ipykernel_11400\\3600050919.py:6: FutureWarning: The frame.append method is deprecated and will be removed from pandas in a future version. Use pandas.concat instead.\n",
      "  post_df_full = post_df_full.append(fb_post_df)\n"
     ]
    },
    {
     "name": "stdout",
     "output_type": "stream",
     "text": [
      "8125838594154909 get\n"
     ]
    },
    {
     "name": "stderr",
     "output_type": "stream",
     "text": [
      "C:\\Users\\Sree Vidya\\anaconda3\\lib\\site-packages\\facebook_scraper\\facebook_scraper.py:912: UserWarning: Facebook says 'Unsupported Browser'\n",
      "  warnings.warn(f\"Facebook says 'Unsupported Browser'\")\n",
      "C:\\Users\\Sree Vidya\\AppData\\Local\\Temp\\ipykernel_11400\\3600050919.py:6: FutureWarning: The frame.append method is deprecated and will be removed from pandas in a future version. Use pandas.concat instead.\n",
      "  post_df_full = post_df_full.append(fb_post_df)\n"
     ]
    },
    {
     "name": "stdout",
     "output_type": "stream",
     "text": [
      "8125503117521790 get\n"
     ]
    },
    {
     "name": "stderr",
     "output_type": "stream",
     "text": [
      "C:\\Users\\Sree Vidya\\anaconda3\\lib\\site-packages\\facebook_scraper\\facebook_scraper.py:912: UserWarning: Facebook says 'Unsupported Browser'\n",
      "  warnings.warn(f\"Facebook says 'Unsupported Browser'\")\n",
      "C:\\Users\\Sree Vidya\\AppData\\Local\\Temp\\ipykernel_11400\\3600050919.py:6: FutureWarning: The frame.append method is deprecated and will be removed from pandas in a future version. Use pandas.concat instead.\n",
      "  post_df_full = post_df_full.append(fb_post_df)\n"
     ]
    },
    {
     "name": "stdout",
     "output_type": "stream",
     "text": [
      "8124674040938031 get\n"
     ]
    },
    {
     "name": "stderr",
     "output_type": "stream",
     "text": [
      "C:\\Users\\Sree Vidya\\anaconda3\\lib\\site-packages\\facebook_scraper\\facebook_scraper.py:912: UserWarning: Facebook says 'Unsupported Browser'\n",
      "  warnings.warn(f\"Facebook says 'Unsupported Browser'\")\n",
      "C:\\Users\\Sree Vidya\\anaconda3\\lib\\site-packages\\dateparser\\freshness_date_parser.py:76: PytzUsageWarning: The localize method is no longer necessary, as this time zone supports the fold attribute (PEP 495). For more details on migrating to a PEP 495-compliant implementation, see https://pytz-deprecation-shim.readthedocs.io/en/latest/migration.html\n",
      "  now = self.get_local_tz().localize(now)\n",
      "C:\\Users\\Sree Vidya\\AppData\\Local\\Temp\\ipykernel_11400\\3600050919.py:6: FutureWarning: The frame.append method is deprecated and will be removed from pandas in a future version. Use pandas.concat instead.\n",
      "  post_df_full = post_df_full.append(fb_post_df)\n"
     ]
    },
    {
     "name": "stdout",
     "output_type": "stream",
     "text": [
      "8122021654536603 get\n"
     ]
    },
    {
     "name": "stderr",
     "output_type": "stream",
     "text": [
      "C:\\Users\\Sree Vidya\\anaconda3\\lib\\site-packages\\facebook_scraper\\facebook_scraper.py:912: UserWarning: Facebook says 'Unsupported Browser'\n",
      "  warnings.warn(f\"Facebook says 'Unsupported Browser'\")\n",
      "C:\\Users\\Sree Vidya\\anaconda3\\lib\\site-packages\\dateparser\\freshness_date_parser.py:76: PytzUsageWarning: The localize method is no longer necessary, as this time zone supports the fold attribute (PEP 495). For more details on migrating to a PEP 495-compliant implementation, see https://pytz-deprecation-shim.readthedocs.io/en/latest/migration.html\n",
      "  now = self.get_local_tz().localize(now)\n",
      "C:\\Users\\Sree Vidya\\AppData\\Local\\Temp\\ipykernel_11400\\3600050919.py:6: FutureWarning: The frame.append method is deprecated and will be removed from pandas in a future version. Use pandas.concat instead.\n",
      "  post_df_full = post_df_full.append(fb_post_df)\n"
     ]
    },
    {
     "name": "stdout",
     "output_type": "stream",
     "text": [
      "8121358177936284 get\n"
     ]
    },
    {
     "name": "stderr",
     "output_type": "stream",
     "text": [
      "C:\\Users\\Sree Vidya\\anaconda3\\lib\\site-packages\\facebook_scraper\\facebook_scraper.py:912: UserWarning: Facebook says 'Unsupported Browser'\n",
      "  warnings.warn(f\"Facebook says 'Unsupported Browser'\")\n",
      "C:\\Users\\Sree Vidya\\AppData\\Local\\Temp\\ipykernel_11400\\3600050919.py:6: FutureWarning: The frame.append method is deprecated and will be removed from pandas in a future version. Use pandas.concat instead.\n",
      "  post_df_full = post_df_full.append(fb_post_df)\n"
     ]
    },
    {
     "name": "stdout",
     "output_type": "stream",
     "text": [
      "8121153751290060 get\n"
     ]
    },
    {
     "name": "stderr",
     "output_type": "stream",
     "text": [
      "C:\\Users\\Sree Vidya\\anaconda3\\lib\\site-packages\\facebook_scraper\\facebook_scraper.py:912: UserWarning: Facebook says 'Unsupported Browser'\n",
      "  warnings.warn(f\"Facebook says 'Unsupported Browser'\")\n",
      "C:\\Users\\Sree Vidya\\anaconda3\\lib\\site-packages\\dateparser\\freshness_date_parser.py:76: PytzUsageWarning: The localize method is no longer necessary, as this time zone supports the fold attribute (PEP 495). For more details on migrating to a PEP 495-compliant implementation, see https://pytz-deprecation-shim.readthedocs.io/en/latest/migration.html\n",
      "  now = self.get_local_tz().localize(now)\n",
      "C:\\Users\\Sree Vidya\\AppData\\Local\\Temp\\ipykernel_11400\\3600050919.py:6: FutureWarning: The frame.append method is deprecated and will be removed from pandas in a future version. Use pandas.concat instead.\n",
      "  post_df_full = post_df_full.append(fb_post_df)\n"
     ]
    },
    {
     "name": "stdout",
     "output_type": "stream",
     "text": [
      "8120240194714749 get\n"
     ]
    },
    {
     "name": "stderr",
     "output_type": "stream",
     "text": [
      "C:\\Users\\Sree Vidya\\anaconda3\\lib\\site-packages\\facebook_scraper\\facebook_scraper.py:912: UserWarning: Facebook says 'Unsupported Browser'\n",
      "  warnings.warn(f\"Facebook says 'Unsupported Browser'\")\n",
      "C:\\Users\\Sree Vidya\\anaconda3\\lib\\site-packages\\dateparser\\freshness_date_parser.py:76: PytzUsageWarning: The localize method is no longer necessary, as this time zone supports the fold attribute (PEP 495). For more details on migrating to a PEP 495-compliant implementation, see https://pytz-deprecation-shim.readthedocs.io/en/latest/migration.html\n",
      "  now = self.get_local_tz().localize(now)\n",
      "C:\\Users\\Sree Vidya\\AppData\\Local\\Temp\\ipykernel_11400\\3600050919.py:6: FutureWarning: The frame.append method is deprecated and will be removed from pandas in a future version. Use pandas.concat instead.\n",
      "  post_df_full = post_df_full.append(fb_post_df)\n"
     ]
    },
    {
     "name": "stdout",
     "output_type": "stream",
     "text": [
      "8118848204853948 get\n"
     ]
    },
    {
     "name": "stderr",
     "output_type": "stream",
     "text": [
      "C:\\Users\\Sree Vidya\\anaconda3\\lib\\site-packages\\facebook_scraper\\facebook_scraper.py:912: UserWarning: Facebook says 'Unsupported Browser'\n",
      "  warnings.warn(f\"Facebook says 'Unsupported Browser'\")\n",
      "C:\\Users\\Sree Vidya\\anaconda3\\lib\\site-packages\\dateparser\\freshness_date_parser.py:76: PytzUsageWarning: The localize method is no longer necessary, as this time zone supports the fold attribute (PEP 495). For more details on migrating to a PEP 495-compliant implementation, see https://pytz-deprecation-shim.readthedocs.io/en/latest/migration.html\n",
      "  now = self.get_local_tz().localize(now)\n",
      "C:\\Users\\Sree Vidya\\AppData\\Local\\Temp\\ipykernel_11400\\3600050919.py:6: FutureWarning: The frame.append method is deprecated and will be removed from pandas in a future version. Use pandas.concat instead.\n",
      "  post_df_full = post_df_full.append(fb_post_df)\n"
     ]
    },
    {
     "name": "stdout",
     "output_type": "stream",
     "text": [
      "8115996425139126 get\n"
     ]
    },
    {
     "name": "stderr",
     "output_type": "stream",
     "text": [
      "C:\\Users\\Sree Vidya\\anaconda3\\lib\\site-packages\\facebook_scraper\\facebook_scraper.py:912: UserWarning: Facebook says 'Unsupported Browser'\n",
      "  warnings.warn(f\"Facebook says 'Unsupported Browser'\")\n",
      "C:\\Users\\Sree Vidya\\anaconda3\\lib\\site-packages\\dateparser\\freshness_date_parser.py:76: PytzUsageWarning: The localize method is no longer necessary, as this time zone supports the fold attribute (PEP 495). For more details on migrating to a PEP 495-compliant implementation, see https://pytz-deprecation-shim.readthedocs.io/en/latest/migration.html\n",
      "  now = self.get_local_tz().localize(now)\n",
      "C:\\Users\\Sree Vidya\\AppData\\Local\\Temp\\ipykernel_11400\\3600050919.py:6: FutureWarning: The frame.append method is deprecated and will be removed from pandas in a future version. Use pandas.concat instead.\n",
      "  post_df_full = post_df_full.append(fb_post_df)\n"
     ]
    },
    {
     "name": "stdout",
     "output_type": "stream",
     "text": [
      "8115495305189238 get\n"
     ]
    },
    {
     "name": "stderr",
     "output_type": "stream",
     "text": [
      "C:\\Users\\Sree Vidya\\anaconda3\\lib\\site-packages\\facebook_scraper\\facebook_scraper.py:912: UserWarning: Facebook says 'Unsupported Browser'\n",
      "  warnings.warn(f\"Facebook says 'Unsupported Browser'\")\n",
      "C:\\Users\\Sree Vidya\\anaconda3\\lib\\site-packages\\dateparser\\freshness_date_parser.py:76: PytzUsageWarning: The localize method is no longer necessary, as this time zone supports the fold attribute (PEP 495). For more details on migrating to a PEP 495-compliant implementation, see https://pytz-deprecation-shim.readthedocs.io/en/latest/migration.html\n",
      "  now = self.get_local_tz().localize(now)\n",
      "C:\\Users\\Sree Vidya\\AppData\\Local\\Temp\\ipykernel_11400\\3600050919.py:6: FutureWarning: The frame.append method is deprecated and will be removed from pandas in a future version. Use pandas.concat instead.\n",
      "  post_df_full = post_df_full.append(fb_post_df)\n"
     ]
    },
    {
     "name": "stdout",
     "output_type": "stream",
     "text": [
      "8112121908859911 get\n"
     ]
    },
    {
     "name": "stderr",
     "output_type": "stream",
     "text": [
      "C:\\Users\\Sree Vidya\\anaconda3\\lib\\site-packages\\facebook_scraper\\facebook_scraper.py:912: UserWarning: Facebook says 'Unsupported Browser'\n",
      "  warnings.warn(f\"Facebook says 'Unsupported Browser'\")\n",
      "C:\\Users\\Sree Vidya\\AppData\\Local\\Temp\\ipykernel_11400\\3600050919.py:6: FutureWarning: The frame.append method is deprecated and will be removed from pandas in a future version. Use pandas.concat instead.\n",
      "  post_df_full = post_df_full.append(fb_post_df)\n"
     ]
    },
    {
     "name": "stdout",
     "output_type": "stream",
     "text": [
      "8110356822369753 get\n"
     ]
    },
    {
     "name": "stderr",
     "output_type": "stream",
     "text": [
      "C:\\Users\\Sree Vidya\\anaconda3\\lib\\site-packages\\facebook_scraper\\facebook_scraper.py:912: UserWarning: Facebook says 'Unsupported Browser'\n",
      "  warnings.warn(f\"Facebook says 'Unsupported Browser'\")\n",
      "C:\\Users\\Sree Vidya\\AppData\\Local\\Temp\\ipykernel_11400\\3600050919.py:6: FutureWarning: The frame.append method is deprecated and will be removed from pandas in a future version. Use pandas.concat instead.\n",
      "  post_df_full = post_df_full.append(fb_post_df)\n"
     ]
    },
    {
     "name": "stdout",
     "output_type": "stream",
     "text": [
      "8107229732682462 get\n"
     ]
    },
    {
     "name": "stderr",
     "output_type": "stream",
     "text": [
      "C:\\Users\\Sree Vidya\\anaconda3\\lib\\site-packages\\facebook_scraper\\facebook_scraper.py:912: UserWarning: Facebook says 'Unsupported Browser'\n",
      "  warnings.warn(f\"Facebook says 'Unsupported Browser'\")\n",
      "C:\\Users\\Sree Vidya\\AppData\\Local\\Temp\\ipykernel_11400\\3600050919.py:6: FutureWarning: The frame.append method is deprecated and will be removed from pandas in a future version. Use pandas.concat instead.\n",
      "  post_df_full = post_df_full.append(fb_post_df)\n"
     ]
    },
    {
     "name": "stdout",
     "output_type": "stream",
     "text": [
      "8102974323108003 get\n"
     ]
    },
    {
     "name": "stderr",
     "output_type": "stream",
     "text": [
      "C:\\Users\\Sree Vidya\\anaconda3\\lib\\site-packages\\facebook_scraper\\facebook_scraper.py:912: UserWarning: Facebook says 'Unsupported Browser'\n",
      "  warnings.warn(f\"Facebook says 'Unsupported Browser'\")\n",
      "C:\\Users\\Sree Vidya\\anaconda3\\lib\\site-packages\\dateparser\\freshness_date_parser.py:76: PytzUsageWarning: The localize method is no longer necessary, as this time zone supports the fold attribute (PEP 495). For more details on migrating to a PEP 495-compliant implementation, see https://pytz-deprecation-shim.readthedocs.io/en/latest/migration.html\n",
      "  now = self.get_local_tz().localize(now)\n",
      "C:\\Users\\Sree Vidya\\AppData\\Local\\Temp\\ipykernel_11400\\3600050919.py:6: FutureWarning: The frame.append method is deprecated and will be removed from pandas in a future version. Use pandas.concat instead.\n",
      "  post_df_full = post_df_full.append(fb_post_df)\n"
     ]
    },
    {
     "name": "stdout",
     "output_type": "stream",
     "text": [
      "8101721336566635 get\n"
     ]
    },
    {
     "name": "stderr",
     "output_type": "stream",
     "text": [
      "C:\\Users\\Sree Vidya\\anaconda3\\lib\\site-packages\\facebook_scraper\\facebook_scraper.py:912: UserWarning: Facebook says 'Unsupported Browser'\n",
      "  warnings.warn(f\"Facebook says 'Unsupported Browser'\")\n",
      "C:\\Users\\Sree Vidya\\AppData\\Local\\Temp\\ipykernel_11400\\3600050919.py:6: FutureWarning: The frame.append method is deprecated and will be removed from pandas in a future version. Use pandas.concat instead.\n",
      "  post_df_full = post_df_full.append(fb_post_df)\n"
     ]
    },
    {
     "name": "stdout",
     "output_type": "stream",
     "text": [
      "8098285576910211 get\n"
     ]
    },
    {
     "name": "stderr",
     "output_type": "stream",
     "text": [
      "C:\\Users\\Sree Vidya\\anaconda3\\lib\\site-packages\\facebook_scraper\\facebook_scraper.py:912: UserWarning: Facebook says 'Unsupported Browser'\n",
      "  warnings.warn(f\"Facebook says 'Unsupported Browser'\")\n",
      "C:\\Users\\Sree Vidya\\AppData\\Local\\Temp\\ipykernel_11400\\3600050919.py:6: FutureWarning: The frame.append method is deprecated and will be removed from pandas in a future version. Use pandas.concat instead.\n",
      "  post_df_full = post_df_full.append(fb_post_df)\n"
     ]
    },
    {
     "name": "stdout",
     "output_type": "stream",
     "text": [
      "8092763440795758 get\n"
     ]
    },
    {
     "name": "stderr",
     "output_type": "stream",
     "text": [
      "C:\\Users\\Sree Vidya\\anaconda3\\lib\\site-packages\\facebook_scraper\\facebook_scraper.py:912: UserWarning: Facebook says 'Unsupported Browser'\n",
      "  warnings.warn(f\"Facebook says 'Unsupported Browser'\")\n",
      "C:\\Users\\Sree Vidya\\anaconda3\\lib\\site-packages\\dateparser\\freshness_date_parser.py:76: PytzUsageWarning: The localize method is no longer necessary, as this time zone supports the fold attribute (PEP 495). For more details on migrating to a PEP 495-compliant implementation, see https://pytz-deprecation-shim.readthedocs.io/en/latest/migration.html\n",
      "  now = self.get_local_tz().localize(now)\n",
      "C:\\Users\\Sree Vidya\\AppData\\Local\\Temp\\ipykernel_11400\\3600050919.py:6: FutureWarning: The frame.append method is deprecated and will be removed from pandas in a future version. Use pandas.concat instead.\n",
      "  post_df_full = post_df_full.append(fb_post_df)\n"
     ]
    },
    {
     "name": "stdout",
     "output_type": "stream",
     "text": [
      "8092257564179679 get\n"
     ]
    },
    {
     "name": "stderr",
     "output_type": "stream",
     "text": [
      "C:\\Users\\Sree Vidya\\anaconda3\\lib\\site-packages\\facebook_scraper\\facebook_scraper.py:912: UserWarning: Facebook says 'Unsupported Browser'\n",
      "  warnings.warn(f\"Facebook says 'Unsupported Browser'\")\n",
      "C:\\Users\\Sree Vidya\\anaconda3\\lib\\site-packages\\dateparser\\freshness_date_parser.py:76: PytzUsageWarning: The localize method is no longer necessary, as this time zone supports the fold attribute (PEP 495). For more details on migrating to a PEP 495-compliant implementation, see https://pytz-deprecation-shim.readthedocs.io/en/latest/migration.html\n",
      "  now = self.get_local_tz().localize(now)\n",
      "C:\\Users\\Sree Vidya\\AppData\\Local\\Temp\\ipykernel_11400\\3600050919.py:6: FutureWarning: The frame.append method is deprecated and will be removed from pandas in a future version. Use pandas.concat instead.\n",
      "  post_df_full = post_df_full.append(fb_post_df)\n"
     ]
    },
    {
     "name": "stdout",
     "output_type": "stream",
     "text": [
      "8091917610880341 get\n"
     ]
    },
    {
     "name": "stderr",
     "output_type": "stream",
     "text": [
      "C:\\Users\\Sree Vidya\\anaconda3\\lib\\site-packages\\facebook_scraper\\facebook_scraper.py:912: UserWarning: Facebook says 'Unsupported Browser'\n",
      "  warnings.warn(f\"Facebook says 'Unsupported Browser'\")\n",
      "C:\\Users\\Sree Vidya\\AppData\\Local\\Temp\\ipykernel_11400\\3600050919.py:6: FutureWarning: The frame.append method is deprecated and will be removed from pandas in a future version. Use pandas.concat instead.\n",
      "  post_df_full = post_df_full.append(fb_post_df)\n"
     ]
    },
    {
     "name": "stdout",
     "output_type": "stream",
     "text": [
      "8088283047910464 get\n"
     ]
    },
    {
     "name": "stderr",
     "output_type": "stream",
     "text": [
      "C:\\Users\\Sree Vidya\\anaconda3\\lib\\site-packages\\facebook_scraper\\facebook_scraper.py:912: UserWarning: Facebook says 'Unsupported Browser'\n",
      "  warnings.warn(f\"Facebook says 'Unsupported Browser'\")\n",
      "C:\\Users\\Sree Vidya\\anaconda3\\lib\\site-packages\\dateparser\\freshness_date_parser.py:76: PytzUsageWarning: The localize method is no longer necessary, as this time zone supports the fold attribute (PEP 495). For more details on migrating to a PEP 495-compliant implementation, see https://pytz-deprecation-shim.readthedocs.io/en/latest/migration.html\n",
      "  now = self.get_local_tz().localize(now)\n",
      "C:\\Users\\Sree Vidya\\AppData\\Local\\Temp\\ipykernel_11400\\3600050919.py:6: FutureWarning: The frame.append method is deprecated and will be removed from pandas in a future version. Use pandas.concat instead.\n",
      "  post_df_full = post_df_full.append(fb_post_df)\n"
     ]
    },
    {
     "name": "stdout",
     "output_type": "stream",
     "text": [
      "8087509471321155 get\n"
     ]
    },
    {
     "name": "stderr",
     "output_type": "stream",
     "text": [
      "C:\\Users\\Sree Vidya\\anaconda3\\lib\\site-packages\\facebook_scraper\\facebook_scraper.py:912: UserWarning: Facebook says 'Unsupported Browser'\n",
      "  warnings.warn(f\"Facebook says 'Unsupported Browser'\")\n",
      "C:\\Users\\Sree Vidya\\AppData\\Local\\Temp\\ipykernel_11400\\3600050919.py:6: FutureWarning: The frame.append method is deprecated and will be removed from pandas in a future version. Use pandas.concat instead.\n",
      "  post_df_full = post_df_full.append(fb_post_df)\n"
     ]
    },
    {
     "name": "stdout",
     "output_type": "stream",
     "text": [
      "8084725148266254 get\n"
     ]
    },
    {
     "name": "stderr",
     "output_type": "stream",
     "text": [
      "C:\\Users\\Sree Vidya\\anaconda3\\lib\\site-packages\\facebook_scraper\\facebook_scraper.py:912: UserWarning: Facebook says 'Unsupported Browser'\n",
      "  warnings.warn(f\"Facebook says 'Unsupported Browser'\")\n",
      "C:\\Users\\Sree Vidya\\AppData\\Local\\Temp\\ipykernel_11400\\3600050919.py:6: FutureWarning: The frame.append method is deprecated and will be removed from pandas in a future version. Use pandas.concat instead.\n",
      "  post_df_full = post_df_full.append(fb_post_df)\n"
     ]
    },
    {
     "name": "stdout",
     "output_type": "stream",
     "text": [
      "8083852991686803 get\n"
     ]
    },
    {
     "name": "stderr",
     "output_type": "stream",
     "text": [
      "C:\\Users\\Sree Vidya\\anaconda3\\lib\\site-packages\\facebook_scraper\\facebook_scraper.py:912: UserWarning: Facebook says 'Unsupported Browser'\n",
      "  warnings.warn(f\"Facebook says 'Unsupported Browser'\")\n",
      "C:\\Users\\Sree Vidya\\anaconda3\\lib\\site-packages\\dateparser\\freshness_date_parser.py:76: PytzUsageWarning: The localize method is no longer necessary, as this time zone supports the fold attribute (PEP 495). For more details on migrating to a PEP 495-compliant implementation, see https://pytz-deprecation-shim.readthedocs.io/en/latest/migration.html\n",
      "  now = self.get_local_tz().localize(now)\n",
      "C:\\Users\\Sree Vidya\\AppData\\Local\\Temp\\ipykernel_11400\\3600050919.py:6: FutureWarning: The frame.append method is deprecated and will be removed from pandas in a future version. Use pandas.concat instead.\n",
      "  post_df_full = post_df_full.append(fb_post_df)\n"
     ]
    },
    {
     "name": "stdout",
     "output_type": "stream",
     "text": [
      "8083037601768342 get\n"
     ]
    },
    {
     "name": "stderr",
     "output_type": "stream",
     "text": [
      "C:\\Users\\Sree Vidya\\anaconda3\\lib\\site-packages\\facebook_scraper\\facebook_scraper.py:912: UserWarning: Facebook says 'Unsupported Browser'\n",
      "  warnings.warn(f\"Facebook says 'Unsupported Browser'\")\n",
      "C:\\Users\\Sree Vidya\\AppData\\Local\\Temp\\ipykernel_11400\\3600050919.py:6: FutureWarning: The frame.append method is deprecated and will be removed from pandas in a future version. Use pandas.concat instead.\n",
      "  post_df_full = post_df_full.append(fb_post_df)\n"
     ]
    },
    {
     "name": "stdout",
     "output_type": "stream",
     "text": [
      "8082994721772630 get\n"
     ]
    },
    {
     "name": "stderr",
     "output_type": "stream",
     "text": [
      "C:\\Users\\Sree Vidya\\anaconda3\\lib\\site-packages\\facebook_scraper\\facebook_scraper.py:912: UserWarning: Facebook says 'Unsupported Browser'\n",
      "  warnings.warn(f\"Facebook says 'Unsupported Browser'\")\n",
      "C:\\Users\\Sree Vidya\\anaconda3\\lib\\site-packages\\dateparser\\freshness_date_parser.py:76: PytzUsageWarning: The localize method is no longer necessary, as this time zone supports the fold attribute (PEP 495). For more details on migrating to a PEP 495-compliant implementation, see https://pytz-deprecation-shim.readthedocs.io/en/latest/migration.html\n",
      "  now = self.get_local_tz().localize(now)\n",
      "C:\\Users\\Sree Vidya\\AppData\\Local\\Temp\\ipykernel_11400\\3600050919.py:6: FutureWarning: The frame.append method is deprecated and will be removed from pandas in a future version. Use pandas.concat instead.\n",
      "  post_df_full = post_df_full.append(fb_post_df)\n"
     ]
    },
    {
     "name": "stdout",
     "output_type": "stream",
     "text": [
      "8079045665500869 get\n"
     ]
    },
    {
     "name": "stderr",
     "output_type": "stream",
     "text": [
      "C:\\Users\\Sree Vidya\\anaconda3\\lib\\site-packages\\facebook_scraper\\facebook_scraper.py:912: UserWarning: Facebook says 'Unsupported Browser'\n",
      "  warnings.warn(f\"Facebook says 'Unsupported Browser'\")\n",
      "C:\\Users\\Sree Vidya\\anaconda3\\lib\\site-packages\\dateparser\\freshness_date_parser.py:76: PytzUsageWarning: The localize method is no longer necessary, as this time zone supports the fold attribute (PEP 495). For more details on migrating to a PEP 495-compliant implementation, see https://pytz-deprecation-shim.readthedocs.io/en/latest/migration.html\n",
      "  now = self.get_local_tz().localize(now)\n",
      "C:\\Users\\Sree Vidya\\AppData\\Local\\Temp\\ipykernel_11400\\3600050919.py:6: FutureWarning: The frame.append method is deprecated and will be removed from pandas in a future version. Use pandas.concat instead.\n",
      "  post_df_full = post_df_full.append(fb_post_df)\n"
     ]
    },
    {
     "name": "stdout",
     "output_type": "stream",
     "text": [
      "8078400425565393 get\n"
     ]
    },
    {
     "name": "stderr",
     "output_type": "stream",
     "text": [
      "C:\\Users\\Sree Vidya\\anaconda3\\lib\\site-packages\\facebook_scraper\\facebook_scraper.py:912: UserWarning: Facebook says 'Unsupported Browser'\n",
      "  warnings.warn(f\"Facebook says 'Unsupported Browser'\")\n",
      "C:\\Users\\Sree Vidya\\anaconda3\\lib\\site-packages\\dateparser\\freshness_date_parser.py:76: PytzUsageWarning: The localize method is no longer necessary, as this time zone supports the fold attribute (PEP 495). For more details on migrating to a PEP 495-compliant implementation, see https://pytz-deprecation-shim.readthedocs.io/en/latest/migration.html\n",
      "  now = self.get_local_tz().localize(now)\n",
      "C:\\Users\\Sree Vidya\\AppData\\Local\\Temp\\ipykernel_11400\\3600050919.py:6: FutureWarning: The frame.append method is deprecated and will be removed from pandas in a future version. Use pandas.concat instead.\n",
      "  post_df_full = post_df_full.append(fb_post_df)\n"
     ]
    },
    {
     "name": "stdout",
     "output_type": "stream",
     "text": [
      "8076074779131291 get\n"
     ]
    },
    {
     "name": "stderr",
     "output_type": "stream",
     "text": [
      "C:\\Users\\Sree Vidya\\anaconda3\\lib\\site-packages\\facebook_scraper\\facebook_scraper.py:912: UserWarning: Facebook says 'Unsupported Browser'\n",
      "  warnings.warn(f\"Facebook says 'Unsupported Browser'\")\n",
      "C:\\Users\\Sree Vidya\\AppData\\Local\\Temp\\ipykernel_11400\\3600050919.py:6: FutureWarning: The frame.append method is deprecated and will be removed from pandas in a future version. Use pandas.concat instead.\n",
      "  post_df_full = post_df_full.append(fb_post_df)\n"
     ]
    },
    {
     "name": "stdout",
     "output_type": "stream",
     "text": [
      "8070765996328836 get\n"
     ]
    },
    {
     "name": "stderr",
     "output_type": "stream",
     "text": [
      "C:\\Users\\Sree Vidya\\anaconda3\\lib\\site-packages\\facebook_scraper\\facebook_scraper.py:912: UserWarning: Facebook says 'Unsupported Browser'\n",
      "  warnings.warn(f\"Facebook says 'Unsupported Browser'\")\n",
      "C:\\Users\\Sree Vidya\\AppData\\Local\\Temp\\ipykernel_11400\\3600050919.py:6: FutureWarning: The frame.append method is deprecated and will be removed from pandas in a future version. Use pandas.concat instead.\n",
      "  post_df_full = post_df_full.append(fb_post_df)\n"
     ]
    },
    {
     "name": "stdout",
     "output_type": "stream",
     "text": [
      "8061046850634084 get\n"
     ]
    },
    {
     "name": "stderr",
     "output_type": "stream",
     "text": [
      "C:\\Users\\Sree Vidya\\anaconda3\\lib\\site-packages\\facebook_scraper\\facebook_scraper.py:912: UserWarning: Facebook says 'Unsupported Browser'\n",
      "  warnings.warn(f\"Facebook says 'Unsupported Browser'\")\n",
      "C:\\Users\\Sree Vidya\\anaconda3\\lib\\site-packages\\dateparser\\freshness_date_parser.py:76: PytzUsageWarning: The localize method is no longer necessary, as this time zone supports the fold attribute (PEP 495). For more details on migrating to a PEP 495-compliant implementation, see https://pytz-deprecation-shim.readthedocs.io/en/latest/migration.html\n",
      "  now = self.get_local_tz().localize(now)\n",
      "C:\\Users\\Sree Vidya\\AppData\\Local\\Temp\\ipykernel_11400\\3600050919.py:6: FutureWarning: The frame.append method is deprecated and will be removed from pandas in a future version. Use pandas.concat instead.\n",
      "  post_df_full = post_df_full.append(fb_post_df)\n"
     ]
    },
    {
     "name": "stdout",
     "output_type": "stream",
     "text": [
      "8057475974324505 get\n"
     ]
    },
    {
     "name": "stderr",
     "output_type": "stream",
     "text": [
      "C:\\Users\\Sree Vidya\\anaconda3\\lib\\site-packages\\facebook_scraper\\facebook_scraper.py:912: UserWarning: Facebook says 'Unsupported Browser'\n",
      "  warnings.warn(f\"Facebook says 'Unsupported Browser'\")\n",
      "C:\\Users\\Sree Vidya\\anaconda3\\lib\\site-packages\\dateparser\\freshness_date_parser.py:76: PytzUsageWarning: The localize method is no longer necessary, as this time zone supports the fold attribute (PEP 495). For more details on migrating to a PEP 495-compliant implementation, see https://pytz-deprecation-shim.readthedocs.io/en/latest/migration.html\n",
      "  now = self.get_local_tz().localize(now)\n",
      "C:\\Users\\Sree Vidya\\AppData\\Local\\Temp\\ipykernel_11400\\3600050919.py:6: FutureWarning: The frame.append method is deprecated and will be removed from pandas in a future version. Use pandas.concat instead.\n",
      "  post_df_full = post_df_full.append(fb_post_df)\n"
     ]
    },
    {
     "name": "stdout",
     "output_type": "stream",
     "text": [
      "8056157401123029 get\n"
     ]
    },
    {
     "name": "stderr",
     "output_type": "stream",
     "text": [
      "C:\\Users\\Sree Vidya\\anaconda3\\lib\\site-packages\\facebook_scraper\\facebook_scraper.py:912: UserWarning: Facebook says 'Unsupported Browser'\n",
      "  warnings.warn(f\"Facebook says 'Unsupported Browser'\")\n",
      "C:\\Users\\Sree Vidya\\AppData\\Local\\Temp\\ipykernel_11400\\3600050919.py:6: FutureWarning: The frame.append method is deprecated and will be removed from pandas in a future version. Use pandas.concat instead.\n",
      "  post_df_full = post_df_full.append(fb_post_df)\n"
     ]
    },
    {
     "name": "stdout",
     "output_type": "stream",
     "text": [
      "8055669674505135 get\n"
     ]
    },
    {
     "name": "stderr",
     "output_type": "stream",
     "text": [
      "C:\\Users\\Sree Vidya\\anaconda3\\lib\\site-packages\\facebook_scraper\\facebook_scraper.py:912: UserWarning: Facebook says 'Unsupported Browser'\n",
      "  warnings.warn(f\"Facebook says 'Unsupported Browser'\")\n",
      "C:\\Users\\Sree Vidya\\AppData\\Local\\Temp\\ipykernel_11400\\3600050919.py:6: FutureWarning: The frame.append method is deprecated and will be removed from pandas in a future version. Use pandas.concat instead.\n",
      "  post_df_full = post_df_full.append(fb_post_df)\n"
     ]
    },
    {
     "name": "stdout",
     "output_type": "stream",
     "text": [
      "8052061678199268 get\n"
     ]
    },
    {
     "name": "stderr",
     "output_type": "stream",
     "text": [
      "C:\\Users\\Sree Vidya\\anaconda3\\lib\\site-packages\\facebook_scraper\\facebook_scraper.py:912: UserWarning: Facebook says 'Unsupported Browser'\n",
      "  warnings.warn(f\"Facebook says 'Unsupported Browser'\")\n",
      "C:\\Users\\Sree Vidya\\anaconda3\\lib\\site-packages\\dateparser\\freshness_date_parser.py:76: PytzUsageWarning: The localize method is no longer necessary, as this time zone supports the fold attribute (PEP 495). For more details on migrating to a PEP 495-compliant implementation, see https://pytz-deprecation-shim.readthedocs.io/en/latest/migration.html\n",
      "  now = self.get_local_tz().localize(now)\n",
      "C:\\Users\\Sree Vidya\\AppData\\Local\\Temp\\ipykernel_11400\\3600050919.py:6: FutureWarning: The frame.append method is deprecated and will be removed from pandas in a future version. Use pandas.concat instead.\n",
      "  post_df_full = post_df_full.append(fb_post_df)\n"
     ]
    },
    {
     "name": "stdout",
     "output_type": "stream",
     "text": [
      "8051350901603679 get\n"
     ]
    },
    {
     "name": "stderr",
     "output_type": "stream",
     "text": [
      "C:\\Users\\Sree Vidya\\anaconda3\\lib\\site-packages\\facebook_scraper\\facebook_scraper.py:912: UserWarning: Facebook says 'Unsupported Browser'\n",
      "  warnings.warn(f\"Facebook says 'Unsupported Browser'\")\n",
      "C:\\Users\\Sree Vidya\\anaconda3\\lib\\site-packages\\dateparser\\freshness_date_parser.py:76: PytzUsageWarning: The localize method is no longer necessary, as this time zone supports the fold attribute (PEP 495). For more details on migrating to a PEP 495-compliant implementation, see https://pytz-deprecation-shim.readthedocs.io/en/latest/migration.html\n",
      "  now = self.get_local_tz().localize(now)\n",
      "C:\\Users\\Sree Vidya\\AppData\\Local\\Temp\\ipykernel_11400\\3600050919.py:6: FutureWarning: The frame.append method is deprecated and will be removed from pandas in a future version. Use pandas.concat instead.\n",
      "  post_df_full = post_df_full.append(fb_post_df)\n"
     ]
    },
    {
     "name": "stdout",
     "output_type": "stream",
     "text": [
      "8047160292022740 get\n"
     ]
    },
    {
     "name": "stderr",
     "output_type": "stream",
     "text": [
      "C:\\Users\\Sree Vidya\\anaconda3\\lib\\site-packages\\facebook_scraper\\facebook_scraper.py:912: UserWarning: Facebook says 'Unsupported Browser'\n",
      "  warnings.warn(f\"Facebook says 'Unsupported Browser'\")\n",
      "C:\\Users\\Sree Vidya\\anaconda3\\lib\\site-packages\\dateparser\\freshness_date_parser.py:76: PytzUsageWarning: The localize method is no longer necessary, as this time zone supports the fold attribute (PEP 495). For more details on migrating to a PEP 495-compliant implementation, see https://pytz-deprecation-shim.readthedocs.io/en/latest/migration.html\n",
      "  now = self.get_local_tz().localize(now)\n",
      "C:\\Users\\Sree Vidya\\AppData\\Local\\Temp\\ipykernel_11400\\3600050919.py:6: FutureWarning: The frame.append method is deprecated and will be removed from pandas in a future version. Use pandas.concat instead.\n",
      "  post_df_full = post_df_full.append(fb_post_df)\n"
     ]
    },
    {
     "name": "stdout",
     "output_type": "stream",
     "text": [
      "8044181425653960 get\n"
     ]
    },
    {
     "name": "stderr",
     "output_type": "stream",
     "text": [
      "C:\\Users\\Sree Vidya\\anaconda3\\lib\\site-packages\\facebook_scraper\\facebook_scraper.py:912: UserWarning: Facebook says 'Unsupported Browser'\n",
      "  warnings.warn(f\"Facebook says 'Unsupported Browser'\")\n",
      "C:\\Users\\Sree Vidya\\anaconda3\\lib\\site-packages\\dateparser\\freshness_date_parser.py:76: PytzUsageWarning: The localize method is no longer necessary, as this time zone supports the fold attribute (PEP 495). For more details on migrating to a PEP 495-compliant implementation, see https://pytz-deprecation-shim.readthedocs.io/en/latest/migration.html\n",
      "  now = self.get_local_tz().localize(now)\n",
      "C:\\Users\\Sree Vidya\\AppData\\Local\\Temp\\ipykernel_11400\\3600050919.py:6: FutureWarning: The frame.append method is deprecated and will be removed from pandas in a future version. Use pandas.concat instead.\n",
      "  post_df_full = post_df_full.append(fb_post_df)\n"
     ]
    },
    {
     "name": "stdout",
     "output_type": "stream",
     "text": [
      "8043793979026038 get\n"
     ]
    },
    {
     "name": "stderr",
     "output_type": "stream",
     "text": [
      "C:\\Users\\Sree Vidya\\anaconda3\\lib\\site-packages\\facebook_scraper\\facebook_scraper.py:912: UserWarning: Facebook says 'Unsupported Browser'\n",
      "  warnings.warn(f\"Facebook says 'Unsupported Browser'\")\n",
      "C:\\Users\\Sree Vidya\\anaconda3\\lib\\site-packages\\dateparser\\freshness_date_parser.py:76: PytzUsageWarning: The localize method is no longer necessary, as this time zone supports the fold attribute (PEP 495). For more details on migrating to a PEP 495-compliant implementation, see https://pytz-deprecation-shim.readthedocs.io/en/latest/migration.html\n",
      "  now = self.get_local_tz().localize(now)\n",
      "C:\\Users\\Sree Vidya\\AppData\\Local\\Temp\\ipykernel_11400\\3600050919.py:6: FutureWarning: The frame.append method is deprecated and will be removed from pandas in a future version. Use pandas.concat instead.\n",
      "  post_df_full = post_df_full.append(fb_post_df)\n"
     ]
    },
    {
     "name": "stdout",
     "output_type": "stream",
     "text": [
      "8043453862393383 get\n"
     ]
    },
    {
     "name": "stderr",
     "output_type": "stream",
     "text": [
      "C:\\Users\\Sree Vidya\\anaconda3\\lib\\site-packages\\facebook_scraper\\facebook_scraper.py:912: UserWarning: Facebook says 'Unsupported Browser'\n",
      "  warnings.warn(f\"Facebook says 'Unsupported Browser'\")\n",
      "C:\\Users\\Sree Vidya\\anaconda3\\lib\\site-packages\\dateparser\\freshness_date_parser.py:76: PytzUsageWarning: The localize method is no longer necessary, as this time zone supports the fold attribute (PEP 495). For more details on migrating to a PEP 495-compliant implementation, see https://pytz-deprecation-shim.readthedocs.io/en/latest/migration.html\n",
      "  now = self.get_local_tz().localize(now)\n",
      "C:\\Users\\Sree Vidya\\AppData\\Local\\Temp\\ipykernel_11400\\3600050919.py:6: FutureWarning: The frame.append method is deprecated and will be removed from pandas in a future version. Use pandas.concat instead.\n",
      "  post_df_full = post_df_full.append(fb_post_df)\n"
     ]
    },
    {
     "name": "stdout",
     "output_type": "stream",
     "text": [
      "8042056232533146 get\n"
     ]
    },
    {
     "name": "stderr",
     "output_type": "stream",
     "text": [
      "C:\\Users\\Sree Vidya\\anaconda3\\lib\\site-packages\\facebook_scraper\\facebook_scraper.py:912: UserWarning: Facebook says 'Unsupported Browser'\n",
      "  warnings.warn(f\"Facebook says 'Unsupported Browser'\")\n",
      "C:\\Users\\Sree Vidya\\anaconda3\\lib\\site-packages\\dateparser\\freshness_date_parser.py:76: PytzUsageWarning: The localize method is no longer necessary, as this time zone supports the fold attribute (PEP 495). For more details on migrating to a PEP 495-compliant implementation, see https://pytz-deprecation-shim.readthedocs.io/en/latest/migration.html\n",
      "  now = self.get_local_tz().localize(now)\n",
      "C:\\Users\\Sree Vidya\\AppData\\Local\\Temp\\ipykernel_11400\\3600050919.py:6: FutureWarning: The frame.append method is deprecated and will be removed from pandas in a future version. Use pandas.concat instead.\n",
      "  post_df_full = post_df_full.append(fb_post_df)\n"
     ]
    },
    {
     "name": "stdout",
     "output_type": "stream",
     "text": [
      "8039354239470012 get\n"
     ]
    },
    {
     "name": "stderr",
     "output_type": "stream",
     "text": [
      "C:\\Users\\Sree Vidya\\anaconda3\\lib\\site-packages\\facebook_scraper\\facebook_scraper.py:912: UserWarning: Facebook says 'Unsupported Browser'\n",
      "  warnings.warn(f\"Facebook says 'Unsupported Browser'\")\n",
      "C:\\Users\\Sree Vidya\\anaconda3\\lib\\site-packages\\dateparser\\freshness_date_parser.py:76: PytzUsageWarning: The localize method is no longer necessary, as this time zone supports the fold attribute (PEP 495). For more details on migrating to a PEP 495-compliant implementation, see https://pytz-deprecation-shim.readthedocs.io/en/latest/migration.html\n",
      "  now = self.get_local_tz().localize(now)\n",
      "C:\\Users\\Sree Vidya\\AppData\\Local\\Temp\\ipykernel_11400\\3600050919.py:6: FutureWarning: The frame.append method is deprecated and will be removed from pandas in a future version. Use pandas.concat instead.\n",
      "  post_df_full = post_df_full.append(fb_post_df)\n"
     ]
    },
    {
     "name": "stdout",
     "output_type": "stream",
     "text": [
      "8038216946250408 get\n"
     ]
    },
    {
     "name": "stderr",
     "output_type": "stream",
     "text": [
      "C:\\Users\\Sree Vidya\\anaconda3\\lib\\site-packages\\facebook_scraper\\facebook_scraper.py:912: UserWarning: Facebook says 'Unsupported Browser'\n",
      "  warnings.warn(f\"Facebook says 'Unsupported Browser'\")\n",
      "C:\\Users\\Sree Vidya\\AppData\\Local\\Temp\\ipykernel_11400\\3600050919.py:6: FutureWarning: The frame.append method is deprecated and will be removed from pandas in a future version. Use pandas.concat instead.\n",
      "  post_df_full = post_df_full.append(fb_post_df)\n"
     ]
    },
    {
     "name": "stdout",
     "output_type": "stream",
     "text": [
      "8038144242924345 get\n"
     ]
    },
    {
     "name": "stderr",
     "output_type": "stream",
     "text": [
      "C:\\Users\\Sree Vidya\\anaconda3\\lib\\site-packages\\facebook_scraper\\facebook_scraper.py:912: UserWarning: Facebook says 'Unsupported Browser'\n",
      "  warnings.warn(f\"Facebook says 'Unsupported Browser'\")\n",
      "C:\\Users\\Sree Vidya\\anaconda3\\lib\\site-packages\\dateparser\\freshness_date_parser.py:76: PytzUsageWarning: The localize method is no longer necessary, as this time zone supports the fold attribute (PEP 495). For more details on migrating to a PEP 495-compliant implementation, see https://pytz-deprecation-shim.readthedocs.io/en/latest/migration.html\n",
      "  now = self.get_local_tz().localize(now)\n",
      "C:\\Users\\Sree Vidya\\AppData\\Local\\Temp\\ipykernel_11400\\3600050919.py:6: FutureWarning: The frame.append method is deprecated and will be removed from pandas in a future version. Use pandas.concat instead.\n",
      "  post_df_full = post_df_full.append(fb_post_df)\n"
     ]
    },
    {
     "name": "stdout",
     "output_type": "stream",
     "text": [
      "8038126946259408 get\n"
     ]
    },
    {
     "name": "stderr",
     "output_type": "stream",
     "text": [
      "C:\\Users\\Sree Vidya\\anaconda3\\lib\\site-packages\\facebook_scraper\\facebook_scraper.py:912: UserWarning: Facebook says 'Unsupported Browser'\n",
      "  warnings.warn(f\"Facebook says 'Unsupported Browser'\")\n",
      "C:\\Users\\Sree Vidya\\AppData\\Local\\Temp\\ipykernel_11400\\3600050919.py:6: FutureWarning: The frame.append method is deprecated and will be removed from pandas in a future version. Use pandas.concat instead.\n",
      "  post_df_full = post_df_full.append(fb_post_df)\n"
     ]
    },
    {
     "name": "stdout",
     "output_type": "stream",
     "text": [
      "8037723742966395 get\n"
     ]
    },
    {
     "name": "stderr",
     "output_type": "stream",
     "text": [
      "C:\\Users\\Sree Vidya\\anaconda3\\lib\\site-packages\\facebook_scraper\\facebook_scraper.py:912: UserWarning: Facebook says 'Unsupported Browser'\n",
      "  warnings.warn(f\"Facebook says 'Unsupported Browser'\")\n",
      "C:\\Users\\Sree Vidya\\AppData\\Local\\Temp\\ipykernel_11400\\3600050919.py:6: FutureWarning: The frame.append method is deprecated and will be removed from pandas in a future version. Use pandas.concat instead.\n",
      "  post_df_full = post_df_full.append(fb_post_df)\n"
     ]
    },
    {
     "name": "stdout",
     "output_type": "stream",
     "text": [
      "8029148283823941 get\n"
     ]
    },
    {
     "name": "stderr",
     "output_type": "stream",
     "text": [
      "C:\\Users\\Sree Vidya\\anaconda3\\lib\\site-packages\\facebook_scraper\\facebook_scraper.py:912: UserWarning: Facebook says 'Unsupported Browser'\n",
      "  warnings.warn(f\"Facebook says 'Unsupported Browser'\")\n",
      "C:\\Users\\Sree Vidya\\anaconda3\\lib\\site-packages\\dateparser\\freshness_date_parser.py:76: PytzUsageWarning: The localize method is no longer necessary, as this time zone supports the fold attribute (PEP 495). For more details on migrating to a PEP 495-compliant implementation, see https://pytz-deprecation-shim.readthedocs.io/en/latest/migration.html\n",
      "  now = self.get_local_tz().localize(now)\n",
      "C:\\Users\\Sree Vidya\\AppData\\Local\\Temp\\ipykernel_11400\\3600050919.py:6: FutureWarning: The frame.append method is deprecated and will be removed from pandas in a future version. Use pandas.concat instead.\n",
      "  post_df_full = post_df_full.append(fb_post_df)\n"
     ]
    },
    {
     "name": "stdout",
     "output_type": "stream",
     "text": [
      "8025638354174934 get\n"
     ]
    },
    {
     "name": "stderr",
     "output_type": "stream",
     "text": [
      "C:\\Users\\Sree Vidya\\anaconda3\\lib\\site-packages\\facebook_scraper\\facebook_scraper.py:912: UserWarning: Facebook says 'Unsupported Browser'\n",
      "  warnings.warn(f\"Facebook says 'Unsupported Browser'\")\n",
      "C:\\Users\\Sree Vidya\\anaconda3\\lib\\site-packages\\dateparser\\freshness_date_parser.py:76: PytzUsageWarning: The localize method is no longer necessary, as this time zone supports the fold attribute (PEP 495). For more details on migrating to a PEP 495-compliant implementation, see https://pytz-deprecation-shim.readthedocs.io/en/latest/migration.html\n",
      "  now = self.get_local_tz().localize(now)\n",
      "C:\\Users\\Sree Vidya\\AppData\\Local\\Temp\\ipykernel_11400\\3600050919.py:6: FutureWarning: The frame.append method is deprecated and will be removed from pandas in a future version. Use pandas.concat instead.\n",
      "  post_df_full = post_df_full.append(fb_post_df)\n"
     ]
    },
    {
     "name": "stdout",
     "output_type": "stream",
     "text": [
      "8023966737675429 get\n"
     ]
    },
    {
     "name": "stderr",
     "output_type": "stream",
     "text": [
      "C:\\Users\\Sree Vidya\\anaconda3\\lib\\site-packages\\facebook_scraper\\facebook_scraper.py:912: UserWarning: Facebook says 'Unsupported Browser'\n",
      "  warnings.warn(f\"Facebook says 'Unsupported Browser'\")\n",
      "C:\\Users\\Sree Vidya\\AppData\\Local\\Temp\\ipykernel_11400\\3600050919.py:6: FutureWarning: The frame.append method is deprecated and will be removed from pandas in a future version. Use pandas.concat instead.\n",
      "  post_df_full = post_df_full.append(fb_post_df)\n"
     ]
    },
    {
     "name": "stdout",
     "output_type": "stream",
     "text": [
      "8019701441435292 get\n"
     ]
    },
    {
     "name": "stderr",
     "output_type": "stream",
     "text": [
      "C:\\Users\\Sree Vidya\\anaconda3\\lib\\site-packages\\facebook_scraper\\facebook_scraper.py:912: UserWarning: Facebook says 'Unsupported Browser'\n",
      "  warnings.warn(f\"Facebook says 'Unsupported Browser'\")\n",
      "C:\\Users\\Sree Vidya\\AppData\\Local\\Temp\\ipykernel_11400\\3600050919.py:6: FutureWarning: The frame.append method is deprecated and will be removed from pandas in a future version. Use pandas.concat instead.\n",
      "  post_df_full = post_df_full.append(fb_post_df)\n"
     ]
    },
    {
     "name": "stdout",
     "output_type": "stream",
     "text": [
      "8014222928649810 get\n"
     ]
    },
    {
     "name": "stderr",
     "output_type": "stream",
     "text": [
      "C:\\Users\\Sree Vidya\\anaconda3\\lib\\site-packages\\facebook_scraper\\facebook_scraper.py:912: UserWarning: Facebook says 'Unsupported Browser'\n",
      "  warnings.warn(f\"Facebook says 'Unsupported Browser'\")\n",
      "C:\\Users\\Sree Vidya\\anaconda3\\lib\\site-packages\\dateparser\\freshness_date_parser.py:76: PytzUsageWarning: The localize method is no longer necessary, as this time zone supports the fold attribute (PEP 495). For more details on migrating to a PEP 495-compliant implementation, see https://pytz-deprecation-shim.readthedocs.io/en/latest/migration.html\n",
      "  now = self.get_local_tz().localize(now)\n",
      "C:\\Users\\Sree Vidya\\AppData\\Local\\Temp\\ipykernel_11400\\3600050919.py:6: FutureWarning: The frame.append method is deprecated and will be removed from pandas in a future version. Use pandas.concat instead.\n",
      "  post_df_full = post_df_full.append(fb_post_df)\n"
     ]
    },
    {
     "name": "stdout",
     "output_type": "stream",
     "text": [
      "8011917482213688 get\n"
     ]
    },
    {
     "name": "stderr",
     "output_type": "stream",
     "text": [
      "C:\\Users\\Sree Vidya\\anaconda3\\lib\\site-packages\\facebook_scraper\\facebook_scraper.py:912: UserWarning: Facebook says 'Unsupported Browser'\n",
      "  warnings.warn(f\"Facebook says 'Unsupported Browser'\")\n",
      "C:\\Users\\Sree Vidya\\anaconda3\\lib\\site-packages\\dateparser\\freshness_date_parser.py:76: PytzUsageWarning: The localize method is no longer necessary, as this time zone supports the fold attribute (PEP 495). For more details on migrating to a PEP 495-compliant implementation, see https://pytz-deprecation-shim.readthedocs.io/en/latest/migration.html\n",
      "  now = self.get_local_tz().localize(now)\n",
      "C:\\Users\\Sree Vidya\\AppData\\Local\\Temp\\ipykernel_11400\\3600050919.py:6: FutureWarning: The frame.append method is deprecated and will be removed from pandas in a future version. Use pandas.concat instead.\n",
      "  post_df_full = post_df_full.append(fb_post_df)\n"
     ]
    },
    {
     "name": "stdout",
     "output_type": "stream",
     "text": [
      "8010433405695429 get\n"
     ]
    },
    {
     "name": "stderr",
     "output_type": "stream",
     "text": [
      "C:\\Users\\Sree Vidya\\anaconda3\\lib\\site-packages\\facebook_scraper\\facebook_scraper.py:912: UserWarning: Facebook says 'Unsupported Browser'\n",
      "  warnings.warn(f\"Facebook says 'Unsupported Browser'\")\n",
      "C:\\Users\\Sree Vidya\\AppData\\Local\\Temp\\ipykernel_11400\\3600050919.py:6: FutureWarning: The frame.append method is deprecated and will be removed from pandas in a future version. Use pandas.concat instead.\n",
      "  post_df_full = post_df_full.append(fb_post_df)\n"
     ]
    },
    {
     "name": "stdout",
     "output_type": "stream",
     "text": [
      "8010242312381205 get\n"
     ]
    },
    {
     "name": "stderr",
     "output_type": "stream",
     "text": [
      "C:\\Users\\Sree Vidya\\anaconda3\\lib\\site-packages\\facebook_scraper\\facebook_scraper.py:912: UserWarning: Facebook says 'Unsupported Browser'\n",
      "  warnings.warn(f\"Facebook says 'Unsupported Browser'\")\n",
      "C:\\Users\\Sree Vidya\\anaconda3\\lib\\site-packages\\dateparser\\freshness_date_parser.py:76: PytzUsageWarning: The localize method is no longer necessary, as this time zone supports the fold attribute (PEP 495). For more details on migrating to a PEP 495-compliant implementation, see https://pytz-deprecation-shim.readthedocs.io/en/latest/migration.html\n",
      "  now = self.get_local_tz().localize(now)\n",
      "C:\\Users\\Sree Vidya\\AppData\\Local\\Temp\\ipykernel_11400\\3600050919.py:6: FutureWarning: The frame.append method is deprecated and will be removed from pandas in a future version. Use pandas.concat instead.\n",
      "  post_df_full = post_df_full.append(fb_post_df)\n"
     ]
    },
    {
     "name": "stdout",
     "output_type": "stream",
     "text": [
      "8006276326111137 get\n"
     ]
    },
    {
     "name": "stderr",
     "output_type": "stream",
     "text": [
      "C:\\Users\\Sree Vidya\\anaconda3\\lib\\site-packages\\facebook_scraper\\facebook_scraper.py:912: UserWarning: Facebook says 'Unsupported Browser'\n",
      "  warnings.warn(f\"Facebook says 'Unsupported Browser'\")\n",
      "C:\\Users\\Sree Vidya\\anaconda3\\lib\\site-packages\\dateparser\\freshness_date_parser.py:76: PytzUsageWarning: The localize method is no longer necessary, as this time zone supports the fold attribute (PEP 495). For more details on migrating to a PEP 495-compliant implementation, see https://pytz-deprecation-shim.readthedocs.io/en/latest/migration.html\n",
      "  now = self.get_local_tz().localize(now)\n",
      "C:\\Users\\Sree Vidya\\AppData\\Local\\Temp\\ipykernel_11400\\3600050919.py:6: FutureWarning: The frame.append method is deprecated and will be removed from pandas in a future version. Use pandas.concat instead.\n",
      "  post_df_full = post_df_full.append(fb_post_df)\n"
     ]
    },
    {
     "name": "stdout",
     "output_type": "stream",
     "text": [
      "8002474793157957 get\n"
     ]
    },
    {
     "name": "stderr",
     "output_type": "stream",
     "text": [
      "C:\\Users\\Sree Vidya\\anaconda3\\lib\\site-packages\\facebook_scraper\\facebook_scraper.py:912: UserWarning: Facebook says 'Unsupported Browser'\n",
      "  warnings.warn(f\"Facebook says 'Unsupported Browser'\")\n",
      "C:\\Users\\Sree Vidya\\AppData\\Local\\Temp\\ipykernel_11400\\3600050919.py:6: FutureWarning: The frame.append method is deprecated and will be removed from pandas in a future version. Use pandas.concat instead.\n",
      "  post_df_full = post_df_full.append(fb_post_df)\n"
     ]
    },
    {
     "name": "stdout",
     "output_type": "stream",
     "text": [
      "610199153827102 get\n"
     ]
    },
    {
     "name": "stderr",
     "output_type": "stream",
     "text": [
      "C:\\Users\\Sree Vidya\\anaconda3\\lib\\site-packages\\facebook_scraper\\facebook_scraper.py:912: UserWarning: Facebook says 'Unsupported Browser'\n",
      "  warnings.warn(f\"Facebook says 'Unsupported Browser'\")\n",
      "C:\\Users\\Sree Vidya\\AppData\\Local\\Temp\\ipykernel_11400\\3600050919.py:6: FutureWarning: The frame.append method is deprecated and will be removed from pandas in a future version. Use pandas.concat instead.\n",
      "  post_df_full = post_df_full.append(fb_post_df)\n"
     ]
    },
    {
     "name": "stdout",
     "output_type": "stream",
     "text": [
      "7995696213835815 get\n"
     ]
    },
    {
     "name": "stderr",
     "output_type": "stream",
     "text": [
      "C:\\Users\\Sree Vidya\\anaconda3\\lib\\site-packages\\facebook_scraper\\facebook_scraper.py:912: UserWarning: Facebook says 'Unsupported Browser'\n",
      "  warnings.warn(f\"Facebook says 'Unsupported Browser'\")\n",
      "C:\\Users\\Sree Vidya\\anaconda3\\lib\\site-packages\\dateparser\\freshness_date_parser.py:76: PytzUsageWarning: The localize method is no longer necessary, as this time zone supports the fold attribute (PEP 495). For more details on migrating to a PEP 495-compliant implementation, see https://pytz-deprecation-shim.readthedocs.io/en/latest/migration.html\n",
      "  now = self.get_local_tz().localize(now)\n",
      "C:\\Users\\Sree Vidya\\AppData\\Local\\Temp\\ipykernel_11400\\3600050919.py:6: FutureWarning: The frame.append method is deprecated and will be removed from pandas in a future version. Use pandas.concat instead.\n",
      "  post_df_full = post_df_full.append(fb_post_df)\n"
     ]
    },
    {
     "name": "stdout",
     "output_type": "stream",
     "text": [
      "7993180857420684 get\n"
     ]
    },
    {
     "name": "stderr",
     "output_type": "stream",
     "text": [
      "C:\\Users\\Sree Vidya\\anaconda3\\lib\\site-packages\\facebook_scraper\\facebook_scraper.py:912: UserWarning: Facebook says 'Unsupported Browser'\n",
      "  warnings.warn(f\"Facebook says 'Unsupported Browser'\")\n",
      "C:\\Users\\Sree Vidya\\anaconda3\\lib\\site-packages\\dateparser\\freshness_date_parser.py:76: PytzUsageWarning: The localize method is no longer necessary, as this time zone supports the fold attribute (PEP 495). For more details on migrating to a PEP 495-compliant implementation, see https://pytz-deprecation-shim.readthedocs.io/en/latest/migration.html\n",
      "  now = self.get_local_tz().localize(now)\n",
      "C:\\Users\\Sree Vidya\\AppData\\Local\\Temp\\ipykernel_11400\\3600050919.py:6: FutureWarning: The frame.append method is deprecated and will be removed from pandas in a future version. Use pandas.concat instead.\n",
      "  post_df_full = post_df_full.append(fb_post_df)\n"
     ]
    },
    {
     "name": "stdout",
     "output_type": "stream",
     "text": [
      "7992352700836833 get\n"
     ]
    },
    {
     "name": "stderr",
     "output_type": "stream",
     "text": [
      "C:\\Users\\Sree Vidya\\anaconda3\\lib\\site-packages\\facebook_scraper\\facebook_scraper.py:912: UserWarning: Facebook says 'Unsupported Browser'\n",
      "  warnings.warn(f\"Facebook says 'Unsupported Browser'\")\n",
      "C:\\Users\\Sree Vidya\\anaconda3\\lib\\site-packages\\dateparser\\freshness_date_parser.py:76: PytzUsageWarning: The localize method is no longer necessary, as this time zone supports the fold attribute (PEP 495). For more details on migrating to a PEP 495-compliant implementation, see https://pytz-deprecation-shim.readthedocs.io/en/latest/migration.html\n",
      "  now = self.get_local_tz().localize(now)\n",
      "C:\\Users\\Sree Vidya\\AppData\\Local\\Temp\\ipykernel_11400\\3600050919.py:6: FutureWarning: The frame.append method is deprecated and will be removed from pandas in a future version. Use pandas.concat instead.\n",
      "  post_df_full = post_df_full.append(fb_post_df)\n"
     ]
    },
    {
     "name": "stdout",
     "output_type": "stream",
     "text": [
      "7987338734671563 get\n"
     ]
    },
    {
     "name": "stderr",
     "output_type": "stream",
     "text": [
      "C:\\Users\\Sree Vidya\\anaconda3\\lib\\site-packages\\facebook_scraper\\facebook_scraper.py:912: UserWarning: Facebook says 'Unsupported Browser'\n",
      "  warnings.warn(f\"Facebook says 'Unsupported Browser'\")\n",
      "C:\\Users\\Sree Vidya\\anaconda3\\lib\\site-packages\\dateparser\\freshness_date_parser.py:76: PytzUsageWarning: The localize method is no longer necessary, as this time zone supports the fold attribute (PEP 495). For more details on migrating to a PEP 495-compliant implementation, see https://pytz-deprecation-shim.readthedocs.io/en/latest/migration.html\n",
      "  now = self.get_local_tz().localize(now)\n",
      "C:\\Users\\Sree Vidya\\AppData\\Local\\Temp\\ipykernel_11400\\3600050919.py:6: FutureWarning: The frame.append method is deprecated and will be removed from pandas in a future version. Use pandas.concat instead.\n",
      "  post_df_full = post_df_full.append(fb_post_df)\n"
     ]
    },
    {
     "name": "stdout",
     "output_type": "stream",
     "text": [
      "7986277158111054 get\n"
     ]
    },
    {
     "name": "stderr",
     "output_type": "stream",
     "text": [
      "C:\\Users\\Sree Vidya\\anaconda3\\lib\\site-packages\\facebook_scraper\\facebook_scraper.py:912: UserWarning: Facebook says 'Unsupported Browser'\n",
      "  warnings.warn(f\"Facebook says 'Unsupported Browser'\")\n",
      "C:\\Users\\Sree Vidya\\anaconda3\\lib\\site-packages\\dateparser\\freshness_date_parser.py:76: PytzUsageWarning: The localize method is no longer necessary, as this time zone supports the fold attribute (PEP 495). For more details on migrating to a PEP 495-compliant implementation, see https://pytz-deprecation-shim.readthedocs.io/en/latest/migration.html\n",
      "  now = self.get_local_tz().localize(now)\n",
      "C:\\Users\\Sree Vidya\\AppData\\Local\\Temp\\ipykernel_11400\\3600050919.py:6: FutureWarning: The frame.append method is deprecated and will be removed from pandas in a future version. Use pandas.concat instead.\n",
      "  post_df_full = post_df_full.append(fb_post_df)\n"
     ]
    },
    {
     "name": "stdout",
     "output_type": "stream",
     "text": [
      "7982726005132836 get\n"
     ]
    },
    {
     "name": "stderr",
     "output_type": "stream",
     "text": [
      "C:\\Users\\Sree Vidya\\anaconda3\\lib\\site-packages\\facebook_scraper\\facebook_scraper.py:912: UserWarning: Facebook says 'Unsupported Browser'\n",
      "  warnings.warn(f\"Facebook says 'Unsupported Browser'\")\n",
      "C:\\Users\\Sree Vidya\\anaconda3\\lib\\site-packages\\dateparser\\freshness_date_parser.py:76: PytzUsageWarning: The localize method is no longer necessary, as this time zone supports the fold attribute (PEP 495). For more details on migrating to a PEP 495-compliant implementation, see https://pytz-deprecation-shim.readthedocs.io/en/latest/migration.html\n",
      "  now = self.get_local_tz().localize(now)\n",
      "C:\\Users\\Sree Vidya\\AppData\\Local\\Temp\\ipykernel_11400\\3600050919.py:6: FutureWarning: The frame.append method is deprecated and will be removed from pandas in a future version. Use pandas.concat instead.\n",
      "  post_df_full = post_df_full.append(fb_post_df)\n"
     ]
    },
    {
     "name": "stdout",
     "output_type": "stream",
     "text": [
      "7977357842336319 get\n"
     ]
    },
    {
     "name": "stderr",
     "output_type": "stream",
     "text": [
      "C:\\Users\\Sree Vidya\\anaconda3\\lib\\site-packages\\facebook_scraper\\facebook_scraper.py:912: UserWarning: Facebook says 'Unsupported Browser'\n",
      "  warnings.warn(f\"Facebook says 'Unsupported Browser'\")\n",
      "C:\\Users\\Sree Vidya\\anaconda3\\lib\\site-packages\\dateparser\\freshness_date_parser.py:76: PytzUsageWarning: The localize method is no longer necessary, as this time zone supports the fold attribute (PEP 495). For more details on migrating to a PEP 495-compliant implementation, see https://pytz-deprecation-shim.readthedocs.io/en/latest/migration.html\n",
      "  now = self.get_local_tz().localize(now)\n",
      "C:\\Users\\Sree Vidya\\AppData\\Local\\Temp\\ipykernel_11400\\3600050919.py:6: FutureWarning: The frame.append method is deprecated and will be removed from pandas in a future version. Use pandas.concat instead.\n",
      "  post_df_full = post_df_full.append(fb_post_df)\n"
     ]
    },
    {
     "name": "stdout",
     "output_type": "stream",
     "text": [
      "7974149852657118 get\n"
     ]
    },
    {
     "name": "stderr",
     "output_type": "stream",
     "text": [
      "C:\\Users\\Sree Vidya\\anaconda3\\lib\\site-packages\\facebook_scraper\\facebook_scraper.py:912: UserWarning: Facebook says 'Unsupported Browser'\n",
      "  warnings.warn(f\"Facebook says 'Unsupported Browser'\")\n",
      "C:\\Users\\Sree Vidya\\anaconda3\\lib\\site-packages\\dateparser\\freshness_date_parser.py:76: PytzUsageWarning: The localize method is no longer necessary, as this time zone supports the fold attribute (PEP 495). For more details on migrating to a PEP 495-compliant implementation, see https://pytz-deprecation-shim.readthedocs.io/en/latest/migration.html\n",
      "  now = self.get_local_tz().localize(now)\n",
      "C:\\Users\\Sree Vidya\\AppData\\Local\\Temp\\ipykernel_11400\\3600050919.py:6: FutureWarning: The frame.append method is deprecated and will be removed from pandas in a future version. Use pandas.concat instead.\n",
      "  post_df_full = post_df_full.append(fb_post_df)\n"
     ]
    },
    {
     "name": "stdout",
     "output_type": "stream",
     "text": [
      "7960167807388656 get\n"
     ]
    },
    {
     "name": "stderr",
     "output_type": "stream",
     "text": [
      "C:\\Users\\Sree Vidya\\anaconda3\\lib\\site-packages\\facebook_scraper\\facebook_scraper.py:912: UserWarning: Facebook says 'Unsupported Browser'\n",
      "  warnings.warn(f\"Facebook says 'Unsupported Browser'\")\n",
      "C:\\Users\\Sree Vidya\\anaconda3\\lib\\site-packages\\dateparser\\freshness_date_parser.py:76: PytzUsageWarning: The localize method is no longer necessary, as this time zone supports the fold attribute (PEP 495). For more details on migrating to a PEP 495-compliant implementation, see https://pytz-deprecation-shim.readthedocs.io/en/latest/migration.html\n",
      "  now = self.get_local_tz().localize(now)\n",
      "C:\\Users\\Sree Vidya\\AppData\\Local\\Temp\\ipykernel_11400\\3600050919.py:6: FutureWarning: The frame.append method is deprecated and will be removed from pandas in a future version. Use pandas.concat instead.\n",
      "  post_df_full = post_df_full.append(fb_post_df)\n"
     ]
    },
    {
     "name": "stdout",
     "output_type": "stream",
     "text": [
      "7959040997501337 get\n"
     ]
    },
    {
     "name": "stderr",
     "output_type": "stream",
     "text": [
      "C:\\Users\\Sree Vidya\\anaconda3\\lib\\site-packages\\facebook_scraper\\facebook_scraper.py:912: UserWarning: Facebook says 'Unsupported Browser'\n",
      "  warnings.warn(f\"Facebook says 'Unsupported Browser'\")\n",
      "C:\\Users\\Sree Vidya\\anaconda3\\lib\\site-packages\\dateparser\\freshness_date_parser.py:76: PytzUsageWarning: The localize method is no longer necessary, as this time zone supports the fold attribute (PEP 495). For more details on migrating to a PEP 495-compliant implementation, see https://pytz-deprecation-shim.readthedocs.io/en/latest/migration.html\n",
      "  now = self.get_local_tz().localize(now)\n",
      "C:\\Users\\Sree Vidya\\AppData\\Local\\Temp\\ipykernel_11400\\3600050919.py:6: FutureWarning: The frame.append method is deprecated and will be removed from pandas in a future version. Use pandas.concat instead.\n",
      "  post_df_full = post_df_full.append(fb_post_df)\n"
     ]
    },
    {
     "name": "stdout",
     "output_type": "stream",
     "text": [
      "7949976245074479 get\n"
     ]
    },
    {
     "name": "stderr",
     "output_type": "stream",
     "text": [
      "C:\\Users\\Sree Vidya\\anaconda3\\lib\\site-packages\\facebook_scraper\\facebook_scraper.py:912: UserWarning: Facebook says 'Unsupported Browser'\n",
      "  warnings.warn(f\"Facebook says 'Unsupported Browser'\")\n",
      "C:\\Users\\Sree Vidya\\AppData\\Local\\Temp\\ipykernel_11400\\3600050919.py:6: FutureWarning: The frame.append method is deprecated and will be removed from pandas in a future version. Use pandas.concat instead.\n",
      "  post_df_full = post_df_full.append(fb_post_df)\n"
     ]
    },
    {
     "name": "stdout",
     "output_type": "stream",
     "text": [
      "7940061076065996 get\n"
     ]
    },
    {
     "name": "stderr",
     "output_type": "stream",
     "text": [
      "C:\\Users\\Sree Vidya\\anaconda3\\lib\\site-packages\\facebook_scraper\\facebook_scraper.py:912: UserWarning: Facebook says 'Unsupported Browser'\n",
      "  warnings.warn(f\"Facebook says 'Unsupported Browser'\")\n",
      "C:\\Users\\Sree Vidya\\AppData\\Local\\Temp\\ipykernel_11400\\3600050919.py:6: FutureWarning: The frame.append method is deprecated and will be removed from pandas in a future version. Use pandas.concat instead.\n",
      "  post_df_full = post_df_full.append(fb_post_df)\n"
     ]
    },
    {
     "name": "stdout",
     "output_type": "stream",
     "text": [
      "7939711922767578 get\n"
     ]
    },
    {
     "name": "stderr",
     "output_type": "stream",
     "text": [
      "C:\\Users\\Sree Vidya\\anaconda3\\lib\\site-packages\\facebook_scraper\\facebook_scraper.py:912: UserWarning: Facebook says 'Unsupported Browser'\n",
      "  warnings.warn(f\"Facebook says 'Unsupported Browser'\")\n",
      "C:\\Users\\Sree Vidya\\AppData\\Local\\Temp\\ipykernel_11400\\3600050919.py:6: FutureWarning: The frame.append method is deprecated and will be removed from pandas in a future version. Use pandas.concat instead.\n",
      "  post_df_full = post_df_full.append(fb_post_df)\n"
     ]
    },
    {
     "name": "stdout",
     "output_type": "stream",
     "text": [
      "7939590806113023 get\n"
     ]
    },
    {
     "name": "stderr",
     "output_type": "stream",
     "text": [
      "C:\\Users\\Sree Vidya\\anaconda3\\lib\\site-packages\\facebook_scraper\\facebook_scraper.py:912: UserWarning: Facebook says 'Unsupported Browser'\n",
      "  warnings.warn(f\"Facebook says 'Unsupported Browser'\")\n",
      "C:\\Users\\Sree Vidya\\AppData\\Local\\Temp\\ipykernel_11400\\3600050919.py:6: FutureWarning: The frame.append method is deprecated and will be removed from pandas in a future version. Use pandas.concat instead.\n",
      "  post_df_full = post_df_full.append(fb_post_df)\n"
     ]
    },
    {
     "name": "stdout",
     "output_type": "stream",
     "text": [
      "7938249136247190 get\n"
     ]
    },
    {
     "name": "stderr",
     "output_type": "stream",
     "text": [
      "C:\\Users\\Sree Vidya\\anaconda3\\lib\\site-packages\\facebook_scraper\\facebook_scraper.py:912: UserWarning: Facebook says 'Unsupported Browser'\n",
      "  warnings.warn(f\"Facebook says 'Unsupported Browser'\")\n",
      "C:\\Users\\Sree Vidya\\AppData\\Local\\Temp\\ipykernel_11400\\3600050919.py:6: FutureWarning: The frame.append method is deprecated and will be removed from pandas in a future version. Use pandas.concat instead.\n",
      "  post_df_full = post_df_full.append(fb_post_df)\n"
     ]
    },
    {
     "name": "stdout",
     "output_type": "stream",
     "text": [
      "7935818309823606 get\n"
     ]
    },
    {
     "name": "stderr",
     "output_type": "stream",
     "text": [
      "C:\\Users\\Sree Vidya\\anaconda3\\lib\\site-packages\\facebook_scraper\\facebook_scraper.py:912: UserWarning: Facebook says 'Unsupported Browser'\n",
      "  warnings.warn(f\"Facebook says 'Unsupported Browser'\")\n",
      "C:\\Users\\Sree Vidya\\AppData\\Local\\Temp\\ipykernel_11400\\3600050919.py:6: FutureWarning: The frame.append method is deprecated and will be removed from pandas in a future version. Use pandas.concat instead.\n",
      "  post_df_full = post_df_full.append(fb_post_df)\n"
     ]
    },
    {
     "name": "stdout",
     "output_type": "stream",
     "text": [
      "7930218837050220 get\n"
     ]
    },
    {
     "name": "stderr",
     "output_type": "stream",
     "text": [
      "C:\\Users\\Sree Vidya\\anaconda3\\lib\\site-packages\\facebook_scraper\\facebook_scraper.py:912: UserWarning: Facebook says 'Unsupported Browser'\n",
      "  warnings.warn(f\"Facebook says 'Unsupported Browser'\")\n",
      "C:\\Users\\Sree Vidya\\AppData\\Local\\Temp\\ipykernel_11400\\3600050919.py:6: FutureWarning: The frame.append method is deprecated and will be removed from pandas in a future version. Use pandas.concat instead.\n",
      "  post_df_full = post_df_full.append(fb_post_df)\n"
     ]
    },
    {
     "name": "stdout",
     "output_type": "stream",
     "text": [
      "7929677953770975 get\n"
     ]
    },
    {
     "name": "stderr",
     "output_type": "stream",
     "text": [
      "C:\\Users\\Sree Vidya\\anaconda3\\lib\\site-packages\\facebook_scraper\\facebook_scraper.py:912: UserWarning: Facebook says 'Unsupported Browser'\n",
      "  warnings.warn(f\"Facebook says 'Unsupported Browser'\")\n",
      "C:\\Users\\Sree Vidya\\anaconda3\\lib\\site-packages\\dateparser\\freshness_date_parser.py:76: PytzUsageWarning: The localize method is no longer necessary, as this time zone supports the fold attribute (PEP 495). For more details on migrating to a PEP 495-compliant implementation, see https://pytz-deprecation-shim.readthedocs.io/en/latest/migration.html\n",
      "  now = self.get_local_tz().localize(now)\n",
      "C:\\Users\\Sree Vidya\\AppData\\Local\\Temp\\ipykernel_11400\\3600050919.py:6: FutureWarning: The frame.append method is deprecated and will be removed from pandas in a future version. Use pandas.concat instead.\n",
      "  post_df_full = post_df_full.append(fb_post_df)\n"
     ]
    },
    {
     "name": "stdout",
     "output_type": "stream",
     "text": [
      "7927052794033491 get\n"
     ]
    },
    {
     "name": "stderr",
     "output_type": "stream",
     "text": [
      "C:\\Users\\Sree Vidya\\anaconda3\\lib\\site-packages\\facebook_scraper\\facebook_scraper.py:912: UserWarning: Facebook says 'Unsupported Browser'\n",
      "  warnings.warn(f\"Facebook says 'Unsupported Browser'\")\n",
      "C:\\Users\\Sree Vidya\\AppData\\Local\\Temp\\ipykernel_11400\\3600050919.py:6: FutureWarning: The frame.append method is deprecated and will be removed from pandas in a future version. Use pandas.concat instead.\n",
      "  post_df_full = post_df_full.append(fb_post_df)\n"
     ]
    },
    {
     "name": "stdout",
     "output_type": "stream",
     "text": [
      "7926163834122387 get\n"
     ]
    },
    {
     "name": "stderr",
     "output_type": "stream",
     "text": [
      "C:\\Users\\Sree Vidya\\anaconda3\\lib\\site-packages\\facebook_scraper\\facebook_scraper.py:912: UserWarning: Facebook says 'Unsupported Browser'\n",
      "  warnings.warn(f\"Facebook says 'Unsupported Browser'\")\n",
      "C:\\Users\\Sree Vidya\\anaconda3\\lib\\site-packages\\dateparser\\freshness_date_parser.py:76: PytzUsageWarning: The localize method is no longer necessary, as this time zone supports the fold attribute (PEP 495). For more details on migrating to a PEP 495-compliant implementation, see https://pytz-deprecation-shim.readthedocs.io/en/latest/migration.html\n",
      "  now = self.get_local_tz().localize(now)\n",
      "C:\\Users\\Sree Vidya\\AppData\\Local\\Temp\\ipykernel_11400\\3600050919.py:6: FutureWarning: The frame.append method is deprecated and will be removed from pandas in a future version. Use pandas.concat instead.\n",
      "  post_df_full = post_df_full.append(fb_post_df)\n"
     ]
    },
    {
     "name": "stdout",
     "output_type": "stream",
     "text": [
      "7925406547531449 get\n"
     ]
    },
    {
     "name": "stderr",
     "output_type": "stream",
     "text": [
      "C:\\Users\\Sree Vidya\\anaconda3\\lib\\site-packages\\facebook_scraper\\facebook_scraper.py:912: UserWarning: Facebook says 'Unsupported Browser'\n",
      "  warnings.warn(f\"Facebook says 'Unsupported Browser'\")\n",
      "C:\\Users\\Sree Vidya\\anaconda3\\lib\\site-packages\\dateparser\\freshness_date_parser.py:76: PytzUsageWarning: The localize method is no longer necessary, as this time zone supports the fold attribute (PEP 495). For more details on migrating to a PEP 495-compliant implementation, see https://pytz-deprecation-shim.readthedocs.io/en/latest/migration.html\n",
      "  now = self.get_local_tz().localize(now)\n",
      "C:\\Users\\Sree Vidya\\AppData\\Local\\Temp\\ipykernel_11400\\3600050919.py:6: FutureWarning: The frame.append method is deprecated and will be removed from pandas in a future version. Use pandas.concat instead.\n",
      "  post_df_full = post_df_full.append(fb_post_df)\n"
     ]
    },
    {
     "name": "stdout",
     "output_type": "stream",
     "text": [
      "7922103277861776 get\n"
     ]
    },
    {
     "name": "stderr",
     "output_type": "stream",
     "text": [
      "C:\\Users\\Sree Vidya\\anaconda3\\lib\\site-packages\\facebook_scraper\\facebook_scraper.py:912: UserWarning: Facebook says 'Unsupported Browser'\n",
      "  warnings.warn(f\"Facebook says 'Unsupported Browser'\")\n",
      "C:\\Users\\Sree Vidya\\anaconda3\\lib\\site-packages\\dateparser\\freshness_date_parser.py:76: PytzUsageWarning: The localize method is no longer necessary, as this time zone supports the fold attribute (PEP 495). For more details on migrating to a PEP 495-compliant implementation, see https://pytz-deprecation-shim.readthedocs.io/en/latest/migration.html\n",
      "  now = self.get_local_tz().localize(now)\n",
      "C:\\Users\\Sree Vidya\\AppData\\Local\\Temp\\ipykernel_11400\\3600050919.py:6: FutureWarning: The frame.append method is deprecated and will be removed from pandas in a future version. Use pandas.concat instead.\n",
      "  post_df_full = post_df_full.append(fb_post_df)\n"
     ]
    },
    {
     "name": "stdout",
     "output_type": "stream",
     "text": [
      "7921096137962490 get\n"
     ]
    },
    {
     "name": "stderr",
     "output_type": "stream",
     "text": [
      "C:\\Users\\Sree Vidya\\anaconda3\\lib\\site-packages\\facebook_scraper\\facebook_scraper.py:912: UserWarning: Facebook says 'Unsupported Browser'\n",
      "  warnings.warn(f\"Facebook says 'Unsupported Browser'\")\n",
      "C:\\Users\\Sree Vidya\\AppData\\Local\\Temp\\ipykernel_11400\\3600050919.py:6: FutureWarning: The frame.append method is deprecated and will be removed from pandas in a future version. Use pandas.concat instead.\n",
      "  post_df_full = post_df_full.append(fb_post_df)\n"
     ]
    },
    {
     "name": "stdout",
     "output_type": "stream",
     "text": [
      "7916180498454054 get\n"
     ]
    },
    {
     "name": "stderr",
     "output_type": "stream",
     "text": [
      "C:\\Users\\Sree Vidya\\anaconda3\\lib\\site-packages\\facebook_scraper\\facebook_scraper.py:912: UserWarning: Facebook says 'Unsupported Browser'\n",
      "  warnings.warn(f\"Facebook says 'Unsupported Browser'\")\n",
      "C:\\Users\\Sree Vidya\\AppData\\Local\\Temp\\ipykernel_11400\\3600050919.py:6: FutureWarning: The frame.append method is deprecated and will be removed from pandas in a future version. Use pandas.concat instead.\n",
      "  post_df_full = post_df_full.append(fb_post_df)\n"
     ]
    },
    {
     "name": "stdout",
     "output_type": "stream",
     "text": [
      "7916029635135807 get\n"
     ]
    },
    {
     "name": "stderr",
     "output_type": "stream",
     "text": [
      "C:\\Users\\Sree Vidya\\anaconda3\\lib\\site-packages\\facebook_scraper\\facebook_scraper.py:912: UserWarning: Facebook says 'Unsupported Browser'\n",
      "  warnings.warn(f\"Facebook says 'Unsupported Browser'\")\n",
      "C:\\Users\\Sree Vidya\\anaconda3\\lib\\site-packages\\dateparser\\freshness_date_parser.py:76: PytzUsageWarning: The localize method is no longer necessary, as this time zone supports the fold attribute (PEP 495). For more details on migrating to a PEP 495-compliant implementation, see https://pytz-deprecation-shim.readthedocs.io/en/latest/migration.html\n",
      "  now = self.get_local_tz().localize(now)\n",
      "C:\\Users\\Sree Vidya\\AppData\\Local\\Temp\\ipykernel_11400\\3600050919.py:6: FutureWarning: The frame.append method is deprecated and will be removed from pandas in a future version. Use pandas.concat instead.\n",
      "  post_df_full = post_df_full.append(fb_post_df)\n"
     ]
    },
    {
     "name": "stdout",
     "output_type": "stream",
     "text": [
      "7915910951814342 get\n"
     ]
    },
    {
     "name": "stderr",
     "output_type": "stream",
     "text": [
      "C:\\Users\\Sree Vidya\\anaconda3\\lib\\site-packages\\facebook_scraper\\facebook_scraper.py:912: UserWarning: Facebook says 'Unsupported Browser'\n",
      "  warnings.warn(f\"Facebook says 'Unsupported Browser'\")\n",
      "C:\\Users\\Sree Vidya\\anaconda3\\lib\\site-packages\\dateparser\\freshness_date_parser.py:76: PytzUsageWarning: The localize method is no longer necessary, as this time zone supports the fold attribute (PEP 495). For more details on migrating to a PEP 495-compliant implementation, see https://pytz-deprecation-shim.readthedocs.io/en/latest/migration.html\n",
      "  now = self.get_local_tz().localize(now)\n",
      "C:\\Users\\Sree Vidya\\AppData\\Local\\Temp\\ipykernel_11400\\3600050919.py:6: FutureWarning: The frame.append method is deprecated and will be removed from pandas in a future version. Use pandas.concat instead.\n",
      "  post_df_full = post_df_full.append(fb_post_df)\n"
     ]
    },
    {
     "name": "stdout",
     "output_type": "stream",
     "text": [
      "7915254598546644 get\n"
     ]
    },
    {
     "name": "stderr",
     "output_type": "stream",
     "text": [
      "C:\\Users\\Sree Vidya\\anaconda3\\lib\\site-packages\\facebook_scraper\\facebook_scraper.py:912: UserWarning: Facebook says 'Unsupported Browser'\n",
      "  warnings.warn(f\"Facebook says 'Unsupported Browser'\")\n",
      "C:\\Users\\Sree Vidya\\anaconda3\\lib\\site-packages\\dateparser\\freshness_date_parser.py:76: PytzUsageWarning: The localize method is no longer necessary, as this time zone supports the fold attribute (PEP 495). For more details on migrating to a PEP 495-compliant implementation, see https://pytz-deprecation-shim.readthedocs.io/en/latest/migration.html\n",
      "  now = self.get_local_tz().localize(now)\n",
      "C:\\Users\\Sree Vidya\\AppData\\Local\\Temp\\ipykernel_11400\\3600050919.py:6: FutureWarning: The frame.append method is deprecated and will be removed from pandas in a future version. Use pandas.concat instead.\n",
      "  post_df_full = post_df_full.append(fb_post_df)\n"
     ]
    },
    {
     "name": "stdout",
     "output_type": "stream",
     "text": [
      "7912404412164996 get\n"
     ]
    },
    {
     "name": "stderr",
     "output_type": "stream",
     "text": [
      "C:\\Users\\Sree Vidya\\anaconda3\\lib\\site-packages\\facebook_scraper\\facebook_scraper.py:912: UserWarning: Facebook says 'Unsupported Browser'\n",
      "  warnings.warn(f\"Facebook says 'Unsupported Browser'\")\n",
      "C:\\Users\\Sree Vidya\\anaconda3\\lib\\site-packages\\dateparser\\freshness_date_parser.py:76: PytzUsageWarning: The localize method is no longer necessary, as this time zone supports the fold attribute (PEP 495). For more details on migrating to a PEP 495-compliant implementation, see https://pytz-deprecation-shim.readthedocs.io/en/latest/migration.html\n",
      "  now = self.get_local_tz().localize(now)\n",
      "C:\\Users\\Sree Vidya\\AppData\\Local\\Temp\\ipykernel_11400\\3600050919.py:6: FutureWarning: The frame.append method is deprecated and will be removed from pandas in a future version. Use pandas.concat instead.\n",
      "  post_df_full = post_df_full.append(fb_post_df)\n"
     ]
    },
    {
     "name": "stdout",
     "output_type": "stream",
     "text": [
      "7912175105521260 get\n"
     ]
    },
    {
     "name": "stderr",
     "output_type": "stream",
     "text": [
      "C:\\Users\\Sree Vidya\\anaconda3\\lib\\site-packages\\facebook_scraper\\facebook_scraper.py:912: UserWarning: Facebook says 'Unsupported Browser'\n",
      "  warnings.warn(f\"Facebook says 'Unsupported Browser'\")\n",
      "C:\\Users\\Sree Vidya\\anaconda3\\lib\\site-packages\\dateparser\\freshness_date_parser.py:76: PytzUsageWarning: The localize method is no longer necessary, as this time zone supports the fold attribute (PEP 495). For more details on migrating to a PEP 495-compliant implementation, see https://pytz-deprecation-shim.readthedocs.io/en/latest/migration.html\n",
      "  now = self.get_local_tz().localize(now)\n",
      "C:\\Users\\Sree Vidya\\AppData\\Local\\Temp\\ipykernel_11400\\3600050919.py:6: FutureWarning: The frame.append method is deprecated and will be removed from pandas in a future version. Use pandas.concat instead.\n",
      "  post_df_full = post_df_full.append(fb_post_df)\n"
     ]
    },
    {
     "name": "stdout",
     "output_type": "stream",
     "text": [
      "7910678152337622 get\n"
     ]
    },
    {
     "name": "stderr",
     "output_type": "stream",
     "text": [
      "C:\\Users\\Sree Vidya\\anaconda3\\lib\\site-packages\\facebook_scraper\\facebook_scraper.py:912: UserWarning: Facebook says 'Unsupported Browser'\n",
      "  warnings.warn(f\"Facebook says 'Unsupported Browser'\")\n",
      "C:\\Users\\Sree Vidya\\anaconda3\\lib\\site-packages\\dateparser\\freshness_date_parser.py:76: PytzUsageWarning: The localize method is no longer necessary, as this time zone supports the fold attribute (PEP 495). For more details on migrating to a PEP 495-compliant implementation, see https://pytz-deprecation-shim.readthedocs.io/en/latest/migration.html\n",
      "  now = self.get_local_tz().localize(now)\n",
      "C:\\Users\\Sree Vidya\\AppData\\Local\\Temp\\ipykernel_11400\\3600050919.py:6: FutureWarning: The frame.append method is deprecated and will be removed from pandas in a future version. Use pandas.concat instead.\n",
      "  post_df_full = post_df_full.append(fb_post_df)\n"
     ]
    },
    {
     "name": "stdout",
     "output_type": "stream",
     "text": [
      "7907962549275849 get\n"
     ]
    },
    {
     "name": "stderr",
     "output_type": "stream",
     "text": [
      "C:\\Users\\Sree Vidya\\anaconda3\\lib\\site-packages\\facebook_scraper\\facebook_scraper.py:912: UserWarning: Facebook says 'Unsupported Browser'\n",
      "  warnings.warn(f\"Facebook says 'Unsupported Browser'\")\n",
      "C:\\Users\\Sree Vidya\\anaconda3\\lib\\site-packages\\dateparser\\freshness_date_parser.py:76: PytzUsageWarning: The localize method is no longer necessary, as this time zone supports the fold attribute (PEP 495). For more details on migrating to a PEP 495-compliant implementation, see https://pytz-deprecation-shim.readthedocs.io/en/latest/migration.html\n",
      "  now = self.get_local_tz().localize(now)\n",
      "C:\\Users\\Sree Vidya\\AppData\\Local\\Temp\\ipykernel_11400\\3600050919.py:6: FutureWarning: The frame.append method is deprecated and will be removed from pandas in a future version. Use pandas.concat instead.\n",
      "  post_df_full = post_df_full.append(fb_post_df)\n"
     ]
    },
    {
     "name": "stdout",
     "output_type": "stream",
     "text": [
      "7906562006082570 get\n"
     ]
    },
    {
     "name": "stderr",
     "output_type": "stream",
     "text": [
      "C:\\Users\\Sree Vidya\\anaconda3\\lib\\site-packages\\facebook_scraper\\facebook_scraper.py:912: UserWarning: Facebook says 'Unsupported Browser'\n",
      "  warnings.warn(f\"Facebook says 'Unsupported Browser'\")\n",
      "C:\\Users\\Sree Vidya\\anaconda3\\lib\\site-packages\\dateparser\\freshness_date_parser.py:76: PytzUsageWarning: The localize method is no longer necessary, as this time zone supports the fold attribute (PEP 495). For more details on migrating to a PEP 495-compliant implementation, see https://pytz-deprecation-shim.readthedocs.io/en/latest/migration.html\n",
      "  now = self.get_local_tz().localize(now)\n",
      "C:\\Users\\Sree Vidya\\AppData\\Local\\Temp\\ipykernel_11400\\3600050919.py:6: FutureWarning: The frame.append method is deprecated and will be removed from pandas in a future version. Use pandas.concat instead.\n",
      "  post_df_full = post_df_full.append(fb_post_df)\n"
     ]
    },
    {
     "name": "stdout",
     "output_type": "stream",
     "text": [
      "7905826986156072 get\n"
     ]
    },
    {
     "name": "stderr",
     "output_type": "stream",
     "text": [
      "C:\\Users\\Sree Vidya\\anaconda3\\lib\\site-packages\\facebook_scraper\\facebook_scraper.py:912: UserWarning: Facebook says 'Unsupported Browser'\n",
      "  warnings.warn(f\"Facebook says 'Unsupported Browser'\")\n",
      "C:\\Users\\Sree Vidya\\anaconda3\\lib\\site-packages\\dateparser\\freshness_date_parser.py:76: PytzUsageWarning: The localize method is no longer necessary, as this time zone supports the fold attribute (PEP 495). For more details on migrating to a PEP 495-compliant implementation, see https://pytz-deprecation-shim.readthedocs.io/en/latest/migration.html\n",
      "  now = self.get_local_tz().localize(now)\n",
      "C:\\Users\\Sree Vidya\\AppData\\Local\\Temp\\ipykernel_11400\\3600050919.py:6: FutureWarning: The frame.append method is deprecated and will be removed from pandas in a future version. Use pandas.concat instead.\n",
      "  post_df_full = post_df_full.append(fb_post_df)\n"
     ]
    },
    {
     "name": "stdout",
     "output_type": "stream",
     "text": [
      "7898592363546201 get\n"
     ]
    },
    {
     "name": "stderr",
     "output_type": "stream",
     "text": [
      "C:\\Users\\Sree Vidya\\anaconda3\\lib\\site-packages\\facebook_scraper\\facebook_scraper.py:912: UserWarning: Facebook says 'Unsupported Browser'\n",
      "  warnings.warn(f\"Facebook says 'Unsupported Browser'\")\n",
      "C:\\Users\\Sree Vidya\\anaconda3\\lib\\site-packages\\dateparser\\freshness_date_parser.py:76: PytzUsageWarning: The localize method is no longer necessary, as this time zone supports the fold attribute (PEP 495). For more details on migrating to a PEP 495-compliant implementation, see https://pytz-deprecation-shim.readthedocs.io/en/latest/migration.html\n",
      "  now = self.get_local_tz().localize(now)\n",
      "C:\\Users\\Sree Vidya\\AppData\\Local\\Temp\\ipykernel_11400\\3600050919.py:6: FutureWarning: The frame.append method is deprecated and will be removed from pandas in a future version. Use pandas.concat instead.\n",
      "  post_df_full = post_df_full.append(fb_post_df)\n"
     ]
    },
    {
     "name": "stdout",
     "output_type": "stream",
     "text": [
      "7889966591075445 get\n"
     ]
    },
    {
     "name": "stderr",
     "output_type": "stream",
     "text": [
      "C:\\Users\\Sree Vidya\\anaconda3\\lib\\site-packages\\facebook_scraper\\facebook_scraper.py:912: UserWarning: Facebook says 'Unsupported Browser'\n",
      "  warnings.warn(f\"Facebook says 'Unsupported Browser'\")\n",
      "C:\\Users\\Sree Vidya\\anaconda3\\lib\\site-packages\\dateparser\\freshness_date_parser.py:76: PytzUsageWarning: The localize method is no longer necessary, as this time zone supports the fold attribute (PEP 495). For more details on migrating to a PEP 495-compliant implementation, see https://pytz-deprecation-shim.readthedocs.io/en/latest/migration.html\n",
      "  now = self.get_local_tz().localize(now)\n",
      "C:\\Users\\Sree Vidya\\AppData\\Local\\Temp\\ipykernel_11400\\3600050919.py:6: FutureWarning: The frame.append method is deprecated and will be removed from pandas in a future version. Use pandas.concat instead.\n",
      "  post_df_full = post_df_full.append(fb_post_df)\n"
     ]
    },
    {
     "name": "stdout",
     "output_type": "stream",
     "text": [
      "7888588071213297 get\n"
     ]
    },
    {
     "name": "stderr",
     "output_type": "stream",
     "text": [
      "C:\\Users\\Sree Vidya\\anaconda3\\lib\\site-packages\\facebook_scraper\\facebook_scraper.py:912: UserWarning: Facebook says 'Unsupported Browser'\n",
      "  warnings.warn(f\"Facebook says 'Unsupported Browser'\")\n",
      "C:\\Users\\Sree Vidya\\AppData\\Local\\Temp\\ipykernel_11400\\3600050919.py:6: FutureWarning: The frame.append method is deprecated and will be removed from pandas in a future version. Use pandas.concat instead.\n",
      "  post_df_full = post_df_full.append(fb_post_df)\n"
     ]
    },
    {
     "name": "stdout",
     "output_type": "stream",
     "text": [
      "7880069855398452 get\n"
     ]
    },
    {
     "name": "stderr",
     "output_type": "stream",
     "text": [
      "C:\\Users\\Sree Vidya\\anaconda3\\lib\\site-packages\\facebook_scraper\\facebook_scraper.py:912: UserWarning: Facebook says 'Unsupported Browser'\n",
      "  warnings.warn(f\"Facebook says 'Unsupported Browser'\")\n",
      "C:\\Users\\Sree Vidya\\anaconda3\\lib\\site-packages\\dateparser\\freshness_date_parser.py:76: PytzUsageWarning: The localize method is no longer necessary, as this time zone supports the fold attribute (PEP 495). For more details on migrating to a PEP 495-compliant implementation, see https://pytz-deprecation-shim.readthedocs.io/en/latest/migration.html\n",
      "  now = self.get_local_tz().localize(now)\n",
      "C:\\Users\\Sree Vidya\\AppData\\Local\\Temp\\ipykernel_11400\\3600050919.py:6: FutureWarning: The frame.append method is deprecated and will be removed from pandas in a future version. Use pandas.concat instead.\n",
      "  post_df_full = post_df_full.append(fb_post_df)\n"
     ]
    },
    {
     "name": "stdout",
     "output_type": "stream",
     "text": [
      "7880053092066795 get\n"
     ]
    },
    {
     "name": "stderr",
     "output_type": "stream",
     "text": [
      "C:\\Users\\Sree Vidya\\anaconda3\\lib\\site-packages\\facebook_scraper\\facebook_scraper.py:912: UserWarning: Facebook says 'Unsupported Browser'\n",
      "  warnings.warn(f\"Facebook says 'Unsupported Browser'\")\n",
      "C:\\Users\\Sree Vidya\\anaconda3\\lib\\site-packages\\dateparser\\freshness_date_parser.py:76: PytzUsageWarning: The localize method is no longer necessary, as this time zone supports the fold attribute (PEP 495). For more details on migrating to a PEP 495-compliant implementation, see https://pytz-deprecation-shim.readthedocs.io/en/latest/migration.html\n",
      "  now = self.get_local_tz().localize(now)\n",
      "C:\\Users\\Sree Vidya\\AppData\\Local\\Temp\\ipykernel_11400\\3600050919.py:6: FutureWarning: The frame.append method is deprecated and will be removed from pandas in a future version. Use pandas.concat instead.\n",
      "  post_df_full = post_df_full.append(fb_post_df)\n"
     ]
    },
    {
     "name": "stdout",
     "output_type": "stream",
     "text": [
      "7879524778786293 get\n"
     ]
    },
    {
     "name": "stderr",
     "output_type": "stream",
     "text": [
      "C:\\Users\\Sree Vidya\\anaconda3\\lib\\site-packages\\facebook_scraper\\facebook_scraper.py:912: UserWarning: Facebook says 'Unsupported Browser'\n",
      "  warnings.warn(f\"Facebook says 'Unsupported Browser'\")\n",
      "C:\\Users\\Sree Vidya\\anaconda3\\lib\\site-packages\\dateparser\\freshness_date_parser.py:76: PytzUsageWarning: The localize method is no longer necessary, as this time zone supports the fold attribute (PEP 495). For more details on migrating to a PEP 495-compliant implementation, see https://pytz-deprecation-shim.readthedocs.io/en/latest/migration.html\n",
      "  now = self.get_local_tz().localize(now)\n",
      "C:\\Users\\Sree Vidya\\AppData\\Local\\Temp\\ipykernel_11400\\3600050919.py:6: FutureWarning: The frame.append method is deprecated and will be removed from pandas in a future version. Use pandas.concat instead.\n",
      "  post_df_full = post_df_full.append(fb_post_df)\n"
     ]
    },
    {
     "name": "stdout",
     "output_type": "stream",
     "text": [
      "7875686919170079 get\n"
     ]
    },
    {
     "name": "stderr",
     "output_type": "stream",
     "text": [
      "C:\\Users\\Sree Vidya\\anaconda3\\lib\\site-packages\\facebook_scraper\\facebook_scraper.py:912: UserWarning: Facebook says 'Unsupported Browser'\n",
      "  warnings.warn(f\"Facebook says 'Unsupported Browser'\")\n",
      "C:\\Users\\Sree Vidya\\anaconda3\\lib\\site-packages\\dateparser\\freshness_date_parser.py:76: PytzUsageWarning: The localize method is no longer necessary, as this time zone supports the fold attribute (PEP 495). For more details on migrating to a PEP 495-compliant implementation, see https://pytz-deprecation-shim.readthedocs.io/en/latest/migration.html\n",
      "  now = self.get_local_tz().localize(now)\n",
      "C:\\Users\\Sree Vidya\\AppData\\Local\\Temp\\ipykernel_11400\\3600050919.py:6: FutureWarning: The frame.append method is deprecated and will be removed from pandas in a future version. Use pandas.concat instead.\n",
      "  post_df_full = post_df_full.append(fb_post_df)\n"
     ]
    },
    {
     "name": "stdout",
     "output_type": "stream",
     "text": [
      "7874346915970746 get\n"
     ]
    },
    {
     "name": "stderr",
     "output_type": "stream",
     "text": [
      "C:\\Users\\Sree Vidya\\anaconda3\\lib\\site-packages\\facebook_scraper\\facebook_scraper.py:912: UserWarning: Facebook says 'Unsupported Browser'\n",
      "  warnings.warn(f\"Facebook says 'Unsupported Browser'\")\n",
      "C:\\Users\\Sree Vidya\\anaconda3\\lib\\site-packages\\dateparser\\freshness_date_parser.py:76: PytzUsageWarning: The localize method is no longer necessary, as this time zone supports the fold attribute (PEP 495). For more details on migrating to a PEP 495-compliant implementation, see https://pytz-deprecation-shim.readthedocs.io/en/latest/migration.html\n",
      "  now = self.get_local_tz().localize(now)\n",
      "C:\\Users\\Sree Vidya\\AppData\\Local\\Temp\\ipykernel_11400\\3600050919.py:6: FutureWarning: The frame.append method is deprecated and will be removed from pandas in a future version. Use pandas.concat instead.\n",
      "  post_df_full = post_df_full.append(fb_post_df)\n"
     ]
    },
    {
     "name": "stdout",
     "output_type": "stream",
     "text": [
      "7872094746195963 get\n"
     ]
    },
    {
     "name": "stderr",
     "output_type": "stream",
     "text": [
      "C:\\Users\\Sree Vidya\\anaconda3\\lib\\site-packages\\facebook_scraper\\facebook_scraper.py:912: UserWarning: Facebook says 'Unsupported Browser'\n",
      "  warnings.warn(f\"Facebook says 'Unsupported Browser'\")\n",
      "C:\\Users\\Sree Vidya\\anaconda3\\lib\\site-packages\\dateparser\\freshness_date_parser.py:76: PytzUsageWarning: The localize method is no longer necessary, as this time zone supports the fold attribute (PEP 495). For more details on migrating to a PEP 495-compliant implementation, see https://pytz-deprecation-shim.readthedocs.io/en/latest/migration.html\n",
      "  now = self.get_local_tz().localize(now)\n",
      "C:\\Users\\Sree Vidya\\AppData\\Local\\Temp\\ipykernel_11400\\3600050919.py:6: FutureWarning: The frame.append method is deprecated and will be removed from pandas in a future version. Use pandas.concat instead.\n",
      "  post_df_full = post_df_full.append(fb_post_df)\n"
     ]
    },
    {
     "name": "stdout",
     "output_type": "stream",
     "text": [
      "7869529169785854 get\n"
     ]
    },
    {
     "name": "stderr",
     "output_type": "stream",
     "text": [
      "C:\\Users\\Sree Vidya\\anaconda3\\lib\\site-packages\\facebook_scraper\\facebook_scraper.py:912: UserWarning: Facebook says 'Unsupported Browser'\n",
      "  warnings.warn(f\"Facebook says 'Unsupported Browser'\")\n",
      "C:\\Users\\Sree Vidya\\anaconda3\\lib\\site-packages\\dateparser\\freshness_date_parser.py:76: PytzUsageWarning: The localize method is no longer necessary, as this time zone supports the fold attribute (PEP 495). For more details on migrating to a PEP 495-compliant implementation, see https://pytz-deprecation-shim.readthedocs.io/en/latest/migration.html\n",
      "  now = self.get_local_tz().localize(now)\n",
      "C:\\Users\\Sree Vidya\\AppData\\Local\\Temp\\ipykernel_11400\\3600050919.py:6: FutureWarning: The frame.append method is deprecated and will be removed from pandas in a future version. Use pandas.concat instead.\n",
      "  post_df_full = post_df_full.append(fb_post_df)\n"
     ]
    },
    {
     "name": "stdout",
     "output_type": "stream",
     "text": [
      "7857285167676921 get\n"
     ]
    },
    {
     "name": "stderr",
     "output_type": "stream",
     "text": [
      "C:\\Users\\Sree Vidya\\anaconda3\\lib\\site-packages\\facebook_scraper\\facebook_scraper.py:912: UserWarning: Facebook says 'Unsupported Browser'\n",
      "  warnings.warn(f\"Facebook says 'Unsupported Browser'\")\n",
      "C:\\Users\\Sree Vidya\\anaconda3\\lib\\site-packages\\dateparser\\freshness_date_parser.py:76: PytzUsageWarning: The localize method is no longer necessary, as this time zone supports the fold attribute (PEP 495). For more details on migrating to a PEP 495-compliant implementation, see https://pytz-deprecation-shim.readthedocs.io/en/latest/migration.html\n",
      "  now = self.get_local_tz().localize(now)\n",
      "C:\\Users\\Sree Vidya\\AppData\\Local\\Temp\\ipykernel_11400\\3600050919.py:6: FutureWarning: The frame.append method is deprecated and will be removed from pandas in a future version. Use pandas.concat instead.\n",
      "  post_df_full = post_df_full.append(fb_post_df)\n"
     ]
    },
    {
     "name": "stdout",
     "output_type": "stream",
     "text": [
      "7856251847780253 get\n"
     ]
    },
    {
     "name": "stderr",
     "output_type": "stream",
     "text": [
      "C:\\Users\\Sree Vidya\\anaconda3\\lib\\site-packages\\facebook_scraper\\facebook_scraper.py:912: UserWarning: Facebook says 'Unsupported Browser'\n",
      "  warnings.warn(f\"Facebook says 'Unsupported Browser'\")\n",
      "C:\\Users\\Sree Vidya\\anaconda3\\lib\\site-packages\\dateparser\\freshness_date_parser.py:76: PytzUsageWarning: The localize method is no longer necessary, as this time zone supports the fold attribute (PEP 495). For more details on migrating to a PEP 495-compliant implementation, see https://pytz-deprecation-shim.readthedocs.io/en/latest/migration.html\n",
      "  now = self.get_local_tz().localize(now)\n",
      "C:\\Users\\Sree Vidya\\AppData\\Local\\Temp\\ipykernel_11400\\3600050919.py:6: FutureWarning: The frame.append method is deprecated and will be removed from pandas in a future version. Use pandas.concat instead.\n",
      "  post_df_full = post_df_full.append(fb_post_df)\n"
     ]
    },
    {
     "name": "stdout",
     "output_type": "stream",
     "text": [
      "7853842791354492 get\n"
     ]
    },
    {
     "name": "stderr",
     "output_type": "stream",
     "text": [
      "C:\\Users\\Sree Vidya\\anaconda3\\lib\\site-packages\\facebook_scraper\\facebook_scraper.py:912: UserWarning: Facebook says 'Unsupported Browser'\n",
      "  warnings.warn(f\"Facebook says 'Unsupported Browser'\")\n",
      "C:\\Users\\Sree Vidya\\AppData\\Local\\Temp\\ipykernel_11400\\3600050919.py:6: FutureWarning: The frame.append method is deprecated and will be removed from pandas in a future version. Use pandas.concat instead.\n",
      "  post_df_full = post_df_full.append(fb_post_df)\n"
     ]
    },
    {
     "name": "stdout",
     "output_type": "stream",
     "text": [
      "7847954145276690 get\n"
     ]
    },
    {
     "name": "stderr",
     "output_type": "stream",
     "text": [
      "C:\\Users\\Sree Vidya\\anaconda3\\lib\\site-packages\\facebook_scraper\\facebook_scraper.py:912: UserWarning: Facebook says 'Unsupported Browser'\n",
      "  warnings.warn(f\"Facebook says 'Unsupported Browser'\")\n",
      "C:\\Users\\Sree Vidya\\anaconda3\\lib\\site-packages\\dateparser\\freshness_date_parser.py:76: PytzUsageWarning: The localize method is no longer necessary, as this time zone supports the fold attribute (PEP 495). For more details on migrating to a PEP 495-compliant implementation, see https://pytz-deprecation-shim.readthedocs.io/en/latest/migration.html\n",
      "  now = self.get_local_tz().localize(now)\n",
      "C:\\Users\\Sree Vidya\\AppData\\Local\\Temp\\ipykernel_11400\\3600050919.py:6: FutureWarning: The frame.append method is deprecated and will be removed from pandas in a future version. Use pandas.concat instead.\n",
      "  post_df_full = post_df_full.append(fb_post_df)\n"
     ]
    },
    {
     "name": "stdout",
     "output_type": "stream",
     "text": [
      "7843824525689652 get\n"
     ]
    },
    {
     "name": "stderr",
     "output_type": "stream",
     "text": [
      "C:\\Users\\Sree Vidya\\anaconda3\\lib\\site-packages\\facebook_scraper\\facebook_scraper.py:912: UserWarning: Facebook says 'Unsupported Browser'\n",
      "  warnings.warn(f\"Facebook says 'Unsupported Browser'\")\n",
      "C:\\Users\\Sree Vidya\\anaconda3\\lib\\site-packages\\dateparser\\freshness_date_parser.py:76: PytzUsageWarning: The localize method is no longer necessary, as this time zone supports the fold attribute (PEP 495). For more details on migrating to a PEP 495-compliant implementation, see https://pytz-deprecation-shim.readthedocs.io/en/latest/migration.html\n",
      "  now = self.get_local_tz().localize(now)\n",
      "C:\\Users\\Sree Vidya\\AppData\\Local\\Temp\\ipykernel_11400\\3600050919.py:6: FutureWarning: The frame.append method is deprecated and will be removed from pandas in a future version. Use pandas.concat instead.\n",
      "  post_df_full = post_df_full.append(fb_post_df)\n"
     ]
    },
    {
     "name": "stdout",
     "output_type": "stream",
     "text": [
      "7835312266540878 get\n"
     ]
    },
    {
     "name": "stderr",
     "output_type": "stream",
     "text": [
      "C:\\Users\\Sree Vidya\\anaconda3\\lib\\site-packages\\facebook_scraper\\facebook_scraper.py:912: UserWarning: Facebook says 'Unsupported Browser'\n",
      "  warnings.warn(f\"Facebook says 'Unsupported Browser'\")\n",
      "C:\\Users\\Sree Vidya\\anaconda3\\lib\\site-packages\\dateparser\\freshness_date_parser.py:76: PytzUsageWarning: The localize method is no longer necessary, as this time zone supports the fold attribute (PEP 495). For more details on migrating to a PEP 495-compliant implementation, see https://pytz-deprecation-shim.readthedocs.io/en/latest/migration.html\n",
      "  now = self.get_local_tz().localize(now)\n",
      "C:\\Users\\Sree Vidya\\AppData\\Local\\Temp\\ipykernel_11400\\3600050919.py:6: FutureWarning: The frame.append method is deprecated and will be removed from pandas in a future version. Use pandas.concat instead.\n",
      "  post_df_full = post_df_full.append(fb_post_df)\n"
     ]
    },
    {
     "name": "stdout",
     "output_type": "stream",
     "text": [
      "7833233260082112 get\n"
     ]
    },
    {
     "name": "stderr",
     "output_type": "stream",
     "text": [
      "C:\\Users\\Sree Vidya\\anaconda3\\lib\\site-packages\\facebook_scraper\\facebook_scraper.py:912: UserWarning: Facebook says 'Unsupported Browser'\n",
      "  warnings.warn(f\"Facebook says 'Unsupported Browser'\")\n",
      "C:\\Users\\Sree Vidya\\anaconda3\\lib\\site-packages\\dateparser\\freshness_date_parser.py:76: PytzUsageWarning: The localize method is no longer necessary, as this time zone supports the fold attribute (PEP 495). For more details on migrating to a PEP 495-compliant implementation, see https://pytz-deprecation-shim.readthedocs.io/en/latest/migration.html\n",
      "  now = self.get_local_tz().localize(now)\n",
      "C:\\Users\\Sree Vidya\\AppData\\Local\\Temp\\ipykernel_11400\\3600050919.py:6: FutureWarning: The frame.append method is deprecated and will be removed from pandas in a future version. Use pandas.concat instead.\n",
      "  post_df_full = post_df_full.append(fb_post_df)\n"
     ]
    },
    {
     "name": "stdout",
     "output_type": "stream",
     "text": [
      "7833044643434307 get\n"
     ]
    },
    {
     "name": "stderr",
     "output_type": "stream",
     "text": [
      "C:\\Users\\Sree Vidya\\anaconda3\\lib\\site-packages\\facebook_scraper\\facebook_scraper.py:912: UserWarning: Facebook says 'Unsupported Browser'\n",
      "  warnings.warn(f\"Facebook says 'Unsupported Browser'\")\n",
      "C:\\Users\\Sree Vidya\\anaconda3\\lib\\site-packages\\dateparser\\freshness_date_parser.py:76: PytzUsageWarning: The localize method is no longer necessary, as this time zone supports the fold attribute (PEP 495). For more details on migrating to a PEP 495-compliant implementation, see https://pytz-deprecation-shim.readthedocs.io/en/latest/migration.html\n",
      "  now = self.get_local_tz().localize(now)\n",
      "C:\\Users\\Sree Vidya\\AppData\\Local\\Temp\\ipykernel_11400\\3600050919.py:6: FutureWarning: The frame.append method is deprecated and will be removed from pandas in a future version. Use pandas.concat instead.\n",
      "  post_df_full = post_df_full.append(fb_post_df)\n"
     ]
    },
    {
     "name": "stdout",
     "output_type": "stream",
     "text": [
      "7832903150115123 get\n"
     ]
    },
    {
     "name": "stderr",
     "output_type": "stream",
     "text": [
      "C:\\Users\\Sree Vidya\\anaconda3\\lib\\site-packages\\facebook_scraper\\facebook_scraper.py:912: UserWarning: Facebook says 'Unsupported Browser'\n",
      "  warnings.warn(f\"Facebook says 'Unsupported Browser'\")\n",
      "C:\\Users\\Sree Vidya\\anaconda3\\lib\\site-packages\\dateparser\\freshness_date_parser.py:76: PytzUsageWarning: The localize method is no longer necessary, as this time zone supports the fold attribute (PEP 495). For more details on migrating to a PEP 495-compliant implementation, see https://pytz-deprecation-shim.readthedocs.io/en/latest/migration.html\n",
      "  now = self.get_local_tz().localize(now)\n",
      "C:\\Users\\Sree Vidya\\AppData\\Local\\Temp\\ipykernel_11400\\3600050919.py:6: FutureWarning: The frame.append method is deprecated and will be removed from pandas in a future version. Use pandas.concat instead.\n",
      "  post_df_full = post_df_full.append(fb_post_df)\n"
     ]
    },
    {
     "name": "stdout",
     "output_type": "stream",
     "text": [
      "7832364680168970 get\n"
     ]
    },
    {
     "name": "stderr",
     "output_type": "stream",
     "text": [
      "C:\\Users\\Sree Vidya\\anaconda3\\lib\\site-packages\\facebook_scraper\\facebook_scraper.py:912: UserWarning: Facebook says 'Unsupported Browser'\n",
      "  warnings.warn(f\"Facebook says 'Unsupported Browser'\")\n",
      "C:\\Users\\Sree Vidya\\anaconda3\\lib\\site-packages\\dateparser\\freshness_date_parser.py:76: PytzUsageWarning: The localize method is no longer necessary, as this time zone supports the fold attribute (PEP 495). For more details on migrating to a PEP 495-compliant implementation, see https://pytz-deprecation-shim.readthedocs.io/en/latest/migration.html\n",
      "  now = self.get_local_tz().localize(now)\n",
      "C:\\Users\\Sree Vidya\\AppData\\Local\\Temp\\ipykernel_11400\\3600050919.py:6: FutureWarning: The frame.append method is deprecated and will be removed from pandas in a future version. Use pandas.concat instead.\n",
      "  post_df_full = post_df_full.append(fb_post_df)\n"
     ]
    },
    {
     "name": "stdout",
     "output_type": "stream",
     "text": [
      "7831993856872719 get\n"
     ]
    },
    {
     "name": "stderr",
     "output_type": "stream",
     "text": [
      "C:\\Users\\Sree Vidya\\anaconda3\\lib\\site-packages\\facebook_scraper\\facebook_scraper.py:912: UserWarning: Facebook says 'Unsupported Browser'\n",
      "  warnings.warn(f\"Facebook says 'Unsupported Browser'\")\n",
      "C:\\Users\\Sree Vidya\\anaconda3\\lib\\site-packages\\dateparser\\freshness_date_parser.py:76: PytzUsageWarning: The localize method is no longer necessary, as this time zone supports the fold attribute (PEP 495). For more details on migrating to a PEP 495-compliant implementation, see https://pytz-deprecation-shim.readthedocs.io/en/latest/migration.html\n",
      "  now = self.get_local_tz().localize(now)\n",
      "C:\\Users\\Sree Vidya\\AppData\\Local\\Temp\\ipykernel_11400\\3600050919.py:6: FutureWarning: The frame.append method is deprecated and will be removed from pandas in a future version. Use pandas.concat instead.\n",
      "  post_df_full = post_df_full.append(fb_post_df)\n"
     ]
    },
    {
     "name": "stdout",
     "output_type": "stream",
     "text": [
      "7827710550634383 get\n"
     ]
    },
    {
     "name": "stderr",
     "output_type": "stream",
     "text": [
      "C:\\Users\\Sree Vidya\\anaconda3\\lib\\site-packages\\facebook_scraper\\facebook_scraper.py:912: UserWarning: Facebook says 'Unsupported Browser'\n",
      "  warnings.warn(f\"Facebook says 'Unsupported Browser'\")\n",
      "C:\\Users\\Sree Vidya\\anaconda3\\lib\\site-packages\\dateparser\\freshness_date_parser.py:76: PytzUsageWarning: The localize method is no longer necessary, as this time zone supports the fold attribute (PEP 495). For more details on migrating to a PEP 495-compliant implementation, see https://pytz-deprecation-shim.readthedocs.io/en/latest/migration.html\n",
      "  now = self.get_local_tz().localize(now)\n",
      "C:\\Users\\Sree Vidya\\AppData\\Local\\Temp\\ipykernel_11400\\3600050919.py:6: FutureWarning: The frame.append method is deprecated and will be removed from pandas in a future version. Use pandas.concat instead.\n",
      "  post_df_full = post_df_full.append(fb_post_df)\n"
     ]
    },
    {
     "name": "stdout",
     "output_type": "stream",
     "text": [
      "7826588730746565 get\n"
     ]
    },
    {
     "name": "stderr",
     "output_type": "stream",
     "text": [
      "C:\\Users\\Sree Vidya\\anaconda3\\lib\\site-packages\\facebook_scraper\\facebook_scraper.py:912: UserWarning: Facebook says 'Unsupported Browser'\n",
      "  warnings.warn(f\"Facebook says 'Unsupported Browser'\")\n",
      "C:\\Users\\Sree Vidya\\anaconda3\\lib\\site-packages\\dateparser\\freshness_date_parser.py:76: PytzUsageWarning: The localize method is no longer necessary, as this time zone supports the fold attribute (PEP 495). For more details on migrating to a PEP 495-compliant implementation, see https://pytz-deprecation-shim.readthedocs.io/en/latest/migration.html\n",
      "  now = self.get_local_tz().localize(now)\n",
      "C:\\Users\\Sree Vidya\\AppData\\Local\\Temp\\ipykernel_11400\\3600050919.py:6: FutureWarning: The frame.append method is deprecated and will be removed from pandas in a future version. Use pandas.concat instead.\n",
      "  post_df_full = post_df_full.append(fb_post_df)\n"
     ]
    },
    {
     "name": "stdout",
     "output_type": "stream",
     "text": [
      "7823759034362868 get\n"
     ]
    },
    {
     "name": "stderr",
     "output_type": "stream",
     "text": [
      "C:\\Users\\Sree Vidya\\anaconda3\\lib\\site-packages\\facebook_scraper\\facebook_scraper.py:912: UserWarning: Facebook says 'Unsupported Browser'\n",
      "  warnings.warn(f\"Facebook says 'Unsupported Browser'\")\n",
      "C:\\Users\\Sree Vidya\\anaconda3\\lib\\site-packages\\dateparser\\freshness_date_parser.py:76: PytzUsageWarning: The localize method is no longer necessary, as this time zone supports the fold attribute (PEP 495). For more details on migrating to a PEP 495-compliant implementation, see https://pytz-deprecation-shim.readthedocs.io/en/latest/migration.html\n",
      "  now = self.get_local_tz().localize(now)\n",
      "C:\\Users\\Sree Vidya\\AppData\\Local\\Temp\\ipykernel_11400\\3600050919.py:6: FutureWarning: The frame.append method is deprecated and will be removed from pandas in a future version. Use pandas.concat instead.\n",
      "  post_df_full = post_df_full.append(fb_post_df)\n"
     ]
    },
    {
     "name": "stdout",
     "output_type": "stream",
     "text": [
      "7822951174443654 get\n"
     ]
    },
    {
     "name": "stderr",
     "output_type": "stream",
     "text": [
      "C:\\Users\\Sree Vidya\\anaconda3\\lib\\site-packages\\facebook_scraper\\facebook_scraper.py:912: UserWarning: Facebook says 'Unsupported Browser'\n",
      "  warnings.warn(f\"Facebook says 'Unsupported Browser'\")\n",
      "C:\\Users\\Sree Vidya\\AppData\\Local\\Temp\\ipykernel_11400\\3600050919.py:6: FutureWarning: The frame.append method is deprecated and will be removed from pandas in a future version. Use pandas.concat instead.\n",
      "  post_df_full = post_df_full.append(fb_post_df)\n"
     ]
    },
    {
     "name": "stdout",
     "output_type": "stream",
     "text": [
      "7822337711171667 get\n"
     ]
    },
    {
     "name": "stderr",
     "output_type": "stream",
     "text": [
      "C:\\Users\\Sree Vidya\\anaconda3\\lib\\site-packages\\facebook_scraper\\facebook_scraper.py:912: UserWarning: Facebook says 'Unsupported Browser'\n",
      "  warnings.warn(f\"Facebook says 'Unsupported Browser'\")\n",
      "C:\\Users\\Sree Vidya\\anaconda3\\lib\\site-packages\\dateparser\\freshness_date_parser.py:76: PytzUsageWarning: The localize method is no longer necessary, as this time zone supports the fold attribute (PEP 495). For more details on migrating to a PEP 495-compliant implementation, see https://pytz-deprecation-shim.readthedocs.io/en/latest/migration.html\n",
      "  now = self.get_local_tz().localize(now)\n",
      "C:\\Users\\Sree Vidya\\AppData\\Local\\Temp\\ipykernel_11400\\3600050919.py:6: FutureWarning: The frame.append method is deprecated and will be removed from pandas in a future version. Use pandas.concat instead.\n",
      "  post_df_full = post_df_full.append(fb_post_df)\n"
     ]
    },
    {
     "name": "stdout",
     "output_type": "stream",
     "text": [
      "7822305517841553 get\n"
     ]
    },
    {
     "name": "stderr",
     "output_type": "stream",
     "text": [
      "C:\\Users\\Sree Vidya\\anaconda3\\lib\\site-packages\\facebook_scraper\\facebook_scraper.py:912: UserWarning: Facebook says 'Unsupported Browser'\n",
      "  warnings.warn(f\"Facebook says 'Unsupported Browser'\")\n",
      "C:\\Users\\Sree Vidya\\anaconda3\\lib\\site-packages\\dateparser\\freshness_date_parser.py:76: PytzUsageWarning: The localize method is no longer necessary, as this time zone supports the fold attribute (PEP 495). For more details on migrating to a PEP 495-compliant implementation, see https://pytz-deprecation-shim.readthedocs.io/en/latest/migration.html\n",
      "  now = self.get_local_tz().localize(now)\n",
      "C:\\Users\\Sree Vidya\\AppData\\Local\\Temp\\ipykernel_11400\\3600050919.py:6: FutureWarning: The frame.append method is deprecated and will be removed from pandas in a future version. Use pandas.concat instead.\n",
      "  post_df_full = post_df_full.append(fb_post_df)\n"
     ]
    },
    {
     "name": "stdout",
     "output_type": "stream",
     "text": [
      "7816957215043050 get\n"
     ]
    },
    {
     "name": "stderr",
     "output_type": "stream",
     "text": [
      "C:\\Users\\Sree Vidya\\anaconda3\\lib\\site-packages\\facebook_scraper\\facebook_scraper.py:912: UserWarning: Facebook says 'Unsupported Browser'\n",
      "  warnings.warn(f\"Facebook says 'Unsupported Browser'\")\n",
      "C:\\Users\\Sree Vidya\\anaconda3\\lib\\site-packages\\dateparser\\freshness_date_parser.py:76: PytzUsageWarning: The localize method is no longer necessary, as this time zone supports the fold attribute (PEP 495). For more details on migrating to a PEP 495-compliant implementation, see https://pytz-deprecation-shim.readthedocs.io/en/latest/migration.html\n",
      "  now = self.get_local_tz().localize(now)\n",
      "C:\\Users\\Sree Vidya\\AppData\\Local\\Temp\\ipykernel_11400\\3600050919.py:6: FutureWarning: The frame.append method is deprecated and will be removed from pandas in a future version. Use pandas.concat instead.\n",
      "  post_df_full = post_df_full.append(fb_post_df)\n"
     ]
    },
    {
     "name": "stdout",
     "output_type": "stream",
     "text": [
      "7816940231711415 get\n"
     ]
    },
    {
     "name": "stderr",
     "output_type": "stream",
     "text": [
      "C:\\Users\\Sree Vidya\\anaconda3\\lib\\site-packages\\facebook_scraper\\facebook_scraper.py:912: UserWarning: Facebook says 'Unsupported Browser'\n",
      "  warnings.warn(f\"Facebook says 'Unsupported Browser'\")\n",
      "C:\\Users\\Sree Vidya\\AppData\\Local\\Temp\\ipykernel_11400\\3600050919.py:6: FutureWarning: The frame.append method is deprecated and will be removed from pandas in a future version. Use pandas.concat instead.\n",
      "  post_df_full = post_df_full.append(fb_post_df)\n"
     ]
    },
    {
     "name": "stdout",
     "output_type": "stream",
     "text": [
      "7807973885941383 get\n"
     ]
    },
    {
     "name": "stderr",
     "output_type": "stream",
     "text": [
      "C:\\Users\\Sree Vidya\\anaconda3\\lib\\site-packages\\facebook_scraper\\facebook_scraper.py:912: UserWarning: Facebook says 'Unsupported Browser'\n",
      "  warnings.warn(f\"Facebook says 'Unsupported Browser'\")\n",
      "C:\\Users\\Sree Vidya\\anaconda3\\lib\\site-packages\\dateparser\\freshness_date_parser.py:76: PytzUsageWarning: The localize method is no longer necessary, as this time zone supports the fold attribute (PEP 495). For more details on migrating to a PEP 495-compliant implementation, see https://pytz-deprecation-shim.readthedocs.io/en/latest/migration.html\n",
      "  now = self.get_local_tz().localize(now)\n",
      "C:\\Users\\Sree Vidya\\AppData\\Local\\Temp\\ipykernel_11400\\3600050919.py:6: FutureWarning: The frame.append method is deprecated and will be removed from pandas in a future version. Use pandas.concat instead.\n",
      "  post_df_full = post_df_full.append(fb_post_df)\n"
     ]
    },
    {
     "name": "stdout",
     "output_type": "stream",
     "text": [
      "7798916100180495 get\n"
     ]
    },
    {
     "name": "stderr",
     "output_type": "stream",
     "text": [
      "C:\\Users\\Sree Vidya\\anaconda3\\lib\\site-packages\\facebook_scraper\\facebook_scraper.py:912: UserWarning: Facebook says 'Unsupported Browser'\n",
      "  warnings.warn(f\"Facebook says 'Unsupported Browser'\")\n",
      "C:\\Users\\Sree Vidya\\anaconda3\\lib\\site-packages\\dateparser\\freshness_date_parser.py:76: PytzUsageWarning: The localize method is no longer necessary, as this time zone supports the fold attribute (PEP 495). For more details on migrating to a PEP 495-compliant implementation, see https://pytz-deprecation-shim.readthedocs.io/en/latest/migration.html\n",
      "  now = self.get_local_tz().localize(now)\n",
      "C:\\Users\\Sree Vidya\\AppData\\Local\\Temp\\ipykernel_11400\\3600050919.py:6: FutureWarning: The frame.append method is deprecated and will be removed from pandas in a future version. Use pandas.concat instead.\n",
      "  post_df_full = post_df_full.append(fb_post_df)\n"
     ]
    },
    {
     "name": "stdout",
     "output_type": "stream",
     "text": [
      "7796161680455937 get\n"
     ]
    },
    {
     "name": "stderr",
     "output_type": "stream",
     "text": [
      "C:\\Users\\Sree Vidya\\anaconda3\\lib\\site-packages\\facebook_scraper\\facebook_scraper.py:912: UserWarning: Facebook says 'Unsupported Browser'\n",
      "  warnings.warn(f\"Facebook says 'Unsupported Browser'\")\n",
      "C:\\Users\\Sree Vidya\\anaconda3\\lib\\site-packages\\dateparser\\freshness_date_parser.py:76: PytzUsageWarning: The localize method is no longer necessary, as this time zone supports the fold attribute (PEP 495). For more details on migrating to a PEP 495-compliant implementation, see https://pytz-deprecation-shim.readthedocs.io/en/latest/migration.html\n",
      "  now = self.get_local_tz().localize(now)\n",
      "C:\\Users\\Sree Vidya\\AppData\\Local\\Temp\\ipykernel_11400\\3600050919.py:6: FutureWarning: The frame.append method is deprecated and will be removed from pandas in a future version. Use pandas.concat instead.\n",
      "  post_df_full = post_df_full.append(fb_post_df)\n"
     ]
    },
    {
     "name": "stdout",
     "output_type": "stream",
     "text": [
      "7793324860739619 get\n"
     ]
    },
    {
     "name": "stderr",
     "output_type": "stream",
     "text": [
      "C:\\Users\\Sree Vidya\\anaconda3\\lib\\site-packages\\facebook_scraper\\facebook_scraper.py:912: UserWarning: Facebook says 'Unsupported Browser'\n",
      "  warnings.warn(f\"Facebook says 'Unsupported Browser'\")\n",
      "C:\\Users\\Sree Vidya\\anaconda3\\lib\\site-packages\\dateparser\\freshness_date_parser.py:76: PytzUsageWarning: The localize method is no longer necessary, as this time zone supports the fold attribute (PEP 495). For more details on migrating to a PEP 495-compliant implementation, see https://pytz-deprecation-shim.readthedocs.io/en/latest/migration.html\n",
      "  now = self.get_local_tz().localize(now)\n",
      "C:\\Users\\Sree Vidya\\AppData\\Local\\Temp\\ipykernel_11400\\3600050919.py:6: FutureWarning: The frame.append method is deprecated and will be removed from pandas in a future version. Use pandas.concat instead.\n",
      "  post_df_full = post_df_full.append(fb_post_df)\n"
     ]
    },
    {
     "name": "stdout",
     "output_type": "stream",
     "text": [
      "7792522217486550 get\n"
     ]
    },
    {
     "name": "stderr",
     "output_type": "stream",
     "text": [
      "C:\\Users\\Sree Vidya\\anaconda3\\lib\\site-packages\\facebook_scraper\\facebook_scraper.py:912: UserWarning: Facebook says 'Unsupported Browser'\n",
      "  warnings.warn(f\"Facebook says 'Unsupported Browser'\")\n",
      "C:\\Users\\Sree Vidya\\anaconda3\\lib\\site-packages\\dateparser\\freshness_date_parser.py:76: PytzUsageWarning: The localize method is no longer necessary, as this time zone supports the fold attribute (PEP 495). For more details on migrating to a PEP 495-compliant implementation, see https://pytz-deprecation-shim.readthedocs.io/en/latest/migration.html\n",
      "  now = self.get_local_tz().localize(now)\n",
      "C:\\Users\\Sree Vidya\\AppData\\Local\\Temp\\ipykernel_11400\\3600050919.py:6: FutureWarning: The frame.append method is deprecated and will be removed from pandas in a future version. Use pandas.concat instead.\n",
      "  post_df_full = post_df_full.append(fb_post_df)\n"
     ]
    },
    {
     "name": "stdout",
     "output_type": "stream",
     "text": [
      "7787829497955822 get\n"
     ]
    },
    {
     "name": "stderr",
     "output_type": "stream",
     "text": [
      "C:\\Users\\Sree Vidya\\anaconda3\\lib\\site-packages\\facebook_scraper\\facebook_scraper.py:912: UserWarning: Facebook says 'Unsupported Browser'\n",
      "  warnings.warn(f\"Facebook says 'Unsupported Browser'\")\n",
      "C:\\Users\\Sree Vidya\\AppData\\Local\\Temp\\ipykernel_11400\\3600050919.py:6: FutureWarning: The frame.append method is deprecated and will be removed from pandas in a future version. Use pandas.concat instead.\n",
      "  post_df_full = post_df_full.append(fb_post_df)\n"
     ]
    },
    {
     "name": "stdout",
     "output_type": "stream",
     "text": [
      "7781900621882043 get\n"
     ]
    },
    {
     "name": "stderr",
     "output_type": "stream",
     "text": [
      "C:\\Users\\Sree Vidya\\anaconda3\\lib\\site-packages\\facebook_scraper\\facebook_scraper.py:912: UserWarning: Facebook says 'Unsupported Browser'\n",
      "  warnings.warn(f\"Facebook says 'Unsupported Browser'\")\n",
      "C:\\Users\\Sree Vidya\\AppData\\Local\\Temp\\ipykernel_11400\\3600050919.py:6: FutureWarning: The frame.append method is deprecated and will be removed from pandas in a future version. Use pandas.concat instead.\n",
      "  post_df_full = post_df_full.append(fb_post_df)\n"
     ]
    },
    {
     "name": "stdout",
     "output_type": "stream",
     "text": [
      "7766952356710203 get\n"
     ]
    },
    {
     "name": "stderr",
     "output_type": "stream",
     "text": [
      "C:\\Users\\Sree Vidya\\anaconda3\\lib\\site-packages\\facebook_scraper\\facebook_scraper.py:912: UserWarning: Facebook says 'Unsupported Browser'\n",
      "  warnings.warn(f\"Facebook says 'Unsupported Browser'\")\n",
      "C:\\Users\\Sree Vidya\\anaconda3\\lib\\site-packages\\dateparser\\freshness_date_parser.py:76: PytzUsageWarning: The localize method is no longer necessary, as this time zone supports the fold attribute (PEP 495). For more details on migrating to a PEP 495-compliant implementation, see https://pytz-deprecation-shim.readthedocs.io/en/latest/migration.html\n",
      "  now = self.get_local_tz().localize(now)\n",
      "C:\\Users\\Sree Vidya\\AppData\\Local\\Temp\\ipykernel_11400\\3600050919.py:6: FutureWarning: The frame.append method is deprecated and will be removed from pandas in a future version. Use pandas.concat instead.\n",
      "  post_df_full = post_df_full.append(fb_post_df)\n"
     ]
    },
    {
     "name": "stdout",
     "output_type": "stream",
     "text": [
      "7759355777469861 get\n"
     ]
    },
    {
     "name": "stderr",
     "output_type": "stream",
     "text": [
      "C:\\Users\\Sree Vidya\\anaconda3\\lib\\site-packages\\facebook_scraper\\facebook_scraper.py:912: UserWarning: Facebook says 'Unsupported Browser'\n",
      "  warnings.warn(f\"Facebook says 'Unsupported Browser'\")\n",
      "C:\\Users\\Sree Vidya\\anaconda3\\lib\\site-packages\\dateparser\\freshness_date_parser.py:76: PytzUsageWarning: The localize method is no longer necessary, as this time zone supports the fold attribute (PEP 495). For more details on migrating to a PEP 495-compliant implementation, see https://pytz-deprecation-shim.readthedocs.io/en/latest/migration.html\n",
      "  now = self.get_local_tz().localize(now)\n",
      "C:\\Users\\Sree Vidya\\AppData\\Local\\Temp\\ipykernel_11400\\3600050919.py:6: FutureWarning: The frame.append method is deprecated and will be removed from pandas in a future version. Use pandas.concat instead.\n",
      "  post_df_full = post_df_full.append(fb_post_df)\n"
     ]
    },
    {
     "name": "stdout",
     "output_type": "stream",
     "text": [
      "7757915154280590 get\n"
     ]
    },
    {
     "name": "stderr",
     "output_type": "stream",
     "text": [
      "C:\\Users\\Sree Vidya\\anaconda3\\lib\\site-packages\\facebook_scraper\\facebook_scraper.py:912: UserWarning: Facebook says 'Unsupported Browser'\n",
      "  warnings.warn(f\"Facebook says 'Unsupported Browser'\")\n",
      "C:\\Users\\Sree Vidya\\anaconda3\\lib\\site-packages\\dateparser\\freshness_date_parser.py:76: PytzUsageWarning: The localize method is no longer necessary, as this time zone supports the fold attribute (PEP 495). For more details on migrating to a PEP 495-compliant implementation, see https://pytz-deprecation-shim.readthedocs.io/en/latest/migration.html\n",
      "  now = self.get_local_tz().localize(now)\n",
      "C:\\Users\\Sree Vidya\\AppData\\Local\\Temp\\ipykernel_11400\\3600050919.py:6: FutureWarning: The frame.append method is deprecated and will be removed from pandas in a future version. Use pandas.concat instead.\n",
      "  post_df_full = post_df_full.append(fb_post_df)\n"
     ]
    },
    {
     "name": "stdout",
     "output_type": "stream",
     "text": [
      "7754677771270995 get\n"
     ]
    },
    {
     "name": "stderr",
     "output_type": "stream",
     "text": [
      "C:\\Users\\Sree Vidya\\anaconda3\\lib\\site-packages\\facebook_scraper\\facebook_scraper.py:912: UserWarning: Facebook says 'Unsupported Browser'\n",
      "  warnings.warn(f\"Facebook says 'Unsupported Browser'\")\n",
      "C:\\Users\\Sree Vidya\\anaconda3\\lib\\site-packages\\dateparser\\freshness_date_parser.py:76: PytzUsageWarning: The localize method is no longer necessary, as this time zone supports the fold attribute (PEP 495). For more details on migrating to a PEP 495-compliant implementation, see https://pytz-deprecation-shim.readthedocs.io/en/latest/migration.html\n",
      "  now = self.get_local_tz().localize(now)\n",
      "C:\\Users\\Sree Vidya\\AppData\\Local\\Temp\\ipykernel_11400\\3600050919.py:6: FutureWarning: The frame.append method is deprecated and will be removed from pandas in a future version. Use pandas.concat instead.\n",
      "  post_df_full = post_df_full.append(fb_post_df)\n"
     ]
    },
    {
     "name": "stdout",
     "output_type": "stream",
     "text": [
      "7754141424657963 get\n"
     ]
    },
    {
     "name": "stderr",
     "output_type": "stream",
     "text": [
      "C:\\Users\\Sree Vidya\\anaconda3\\lib\\site-packages\\facebook_scraper\\facebook_scraper.py:912: UserWarning: Facebook says 'Unsupported Browser'\n",
      "  warnings.warn(f\"Facebook says 'Unsupported Browser'\")\n",
      "C:\\Users\\Sree Vidya\\AppData\\Local\\Temp\\ipykernel_11400\\3600050919.py:6: FutureWarning: The frame.append method is deprecated and will be removed from pandas in a future version. Use pandas.concat instead.\n",
      "  post_df_full = post_df_full.append(fb_post_df)\n"
     ]
    },
    {
     "name": "stdout",
     "output_type": "stream",
     "text": [
      "7749417715130334 get\n"
     ]
    },
    {
     "name": "stderr",
     "output_type": "stream",
     "text": [
      "C:\\Users\\Sree Vidya\\anaconda3\\lib\\site-packages\\facebook_scraper\\facebook_scraper.py:912: UserWarning: Facebook says 'Unsupported Browser'\n",
      "  warnings.warn(f\"Facebook says 'Unsupported Browser'\")\n",
      "C:\\Users\\Sree Vidya\\anaconda3\\lib\\site-packages\\dateparser\\freshness_date_parser.py:76: PytzUsageWarning: The localize method is no longer necessary, as this time zone supports the fold attribute (PEP 495). For more details on migrating to a PEP 495-compliant implementation, see https://pytz-deprecation-shim.readthedocs.io/en/latest/migration.html\n",
      "  now = self.get_local_tz().localize(now)\n",
      "C:\\Users\\Sree Vidya\\AppData\\Local\\Temp\\ipykernel_11400\\3600050919.py:6: FutureWarning: The frame.append method is deprecated and will be removed from pandas in a future version. Use pandas.concat instead.\n",
      "  post_df_full = post_df_full.append(fb_post_df)\n"
     ]
    },
    {
     "name": "stdout",
     "output_type": "stream",
     "text": [
      "7736270099778429 get\n"
     ]
    },
    {
     "name": "stderr",
     "output_type": "stream",
     "text": [
      "C:\\Users\\Sree Vidya\\anaconda3\\lib\\site-packages\\facebook_scraper\\facebook_scraper.py:912: UserWarning: Facebook says 'Unsupported Browser'\n",
      "  warnings.warn(f\"Facebook says 'Unsupported Browser'\")\n",
      "C:\\Users\\Sree Vidya\\AppData\\Local\\Temp\\ipykernel_11400\\3600050919.py:6: FutureWarning: The frame.append method is deprecated and will be removed from pandas in a future version. Use pandas.concat instead.\n",
      "  post_df_full = post_df_full.append(fb_post_df)\n"
     ]
    },
    {
     "name": "stdout",
     "output_type": "stream",
     "text": [
      "7731689753569797 get\n"
     ]
    },
    {
     "name": "stderr",
     "output_type": "stream",
     "text": [
      "C:\\Users\\Sree Vidya\\anaconda3\\lib\\site-packages\\facebook_scraper\\facebook_scraper.py:912: UserWarning: Facebook says 'Unsupported Browser'\n",
      "  warnings.warn(f\"Facebook says 'Unsupported Browser'\")\n",
      "C:\\Users\\Sree Vidya\\anaconda3\\lib\\site-packages\\dateparser\\freshness_date_parser.py:76: PytzUsageWarning: The localize method is no longer necessary, as this time zone supports the fold attribute (PEP 495). For more details on migrating to a PEP 495-compliant implementation, see https://pytz-deprecation-shim.readthedocs.io/en/latest/migration.html\n",
      "  now = self.get_local_tz().localize(now)\n",
      "C:\\Users\\Sree Vidya\\AppData\\Local\\Temp\\ipykernel_11400\\3600050919.py:6: FutureWarning: The frame.append method is deprecated and will be removed from pandas in a future version. Use pandas.concat instead.\n",
      "  post_df_full = post_df_full.append(fb_post_df)\n"
     ]
    },
    {
     "name": "stdout",
     "output_type": "stream",
     "text": [
      "7728504690554970 get\n"
     ]
    },
    {
     "name": "stderr",
     "output_type": "stream",
     "text": [
      "C:\\Users\\Sree Vidya\\anaconda3\\lib\\site-packages\\facebook_scraper\\facebook_scraper.py:912: UserWarning: Facebook says 'Unsupported Browser'\n",
      "  warnings.warn(f\"Facebook says 'Unsupported Browser'\")\n",
      "C:\\Users\\Sree Vidya\\anaconda3\\lib\\site-packages\\dateparser\\freshness_date_parser.py:76: PytzUsageWarning: The localize method is no longer necessary, as this time zone supports the fold attribute (PEP 495). For more details on migrating to a PEP 495-compliant implementation, see https://pytz-deprecation-shim.readthedocs.io/en/latest/migration.html\n",
      "  now = self.get_local_tz().localize(now)\n",
      "C:\\Users\\Sree Vidya\\AppData\\Local\\Temp\\ipykernel_11400\\3600050919.py:6: FutureWarning: The frame.append method is deprecated and will be removed from pandas in a future version. Use pandas.concat instead.\n",
      "  post_df_full = post_df_full.append(fb_post_df)\n"
     ]
    },
    {
     "name": "stdout",
     "output_type": "stream",
     "text": [
      "7727153654023407 get\n"
     ]
    },
    {
     "name": "stderr",
     "output_type": "stream",
     "text": [
      "C:\\Users\\Sree Vidya\\anaconda3\\lib\\site-packages\\facebook_scraper\\facebook_scraper.py:912: UserWarning: Facebook says 'Unsupported Browser'\n",
      "  warnings.warn(f\"Facebook says 'Unsupported Browser'\")\n",
      "C:\\Users\\Sree Vidya\\AppData\\Local\\Temp\\ipykernel_11400\\3600050919.py:6: FutureWarning: The frame.append method is deprecated and will be removed from pandas in a future version. Use pandas.concat instead.\n",
      "  post_df_full = post_df_full.append(fb_post_df)\n"
     ]
    },
    {
     "name": "stdout",
     "output_type": "stream",
     "text": [
      "7723504527721653 get\n"
     ]
    },
    {
     "name": "stderr",
     "output_type": "stream",
     "text": [
      "C:\\Users\\Sree Vidya\\anaconda3\\lib\\site-packages\\facebook_scraper\\facebook_scraper.py:912: UserWarning: Facebook says 'Unsupported Browser'\n",
      "  warnings.warn(f\"Facebook says 'Unsupported Browser'\")\n",
      "C:\\Users\\Sree Vidya\\AppData\\Local\\Temp\\ipykernel_11400\\3600050919.py:6: FutureWarning: The frame.append method is deprecated and will be removed from pandas in a future version. Use pandas.concat instead.\n",
      "  post_df_full = post_df_full.append(fb_post_df)\n"
     ]
    },
    {
     "name": "stdout",
     "output_type": "stream",
     "text": [
      "7718235588248547 get\n"
     ]
    },
    {
     "name": "stderr",
     "output_type": "stream",
     "text": [
      "C:\\Users\\Sree Vidya\\anaconda3\\lib\\site-packages\\facebook_scraper\\facebook_scraper.py:912: UserWarning: Facebook says 'Unsupported Browser'\n",
      "  warnings.warn(f\"Facebook says 'Unsupported Browser'\")\n",
      "C:\\Users\\Sree Vidya\\anaconda3\\lib\\site-packages\\dateparser\\freshness_date_parser.py:76: PytzUsageWarning: The localize method is no longer necessary, as this time zone supports the fold attribute (PEP 495). For more details on migrating to a PEP 495-compliant implementation, see https://pytz-deprecation-shim.readthedocs.io/en/latest/migration.html\n",
      "  now = self.get_local_tz().localize(now)\n",
      "C:\\Users\\Sree Vidya\\AppData\\Local\\Temp\\ipykernel_11400\\3600050919.py:6: FutureWarning: The frame.append method is deprecated and will be removed from pandas in a future version. Use pandas.concat instead.\n",
      "  post_df_full = post_df_full.append(fb_post_df)\n"
     ]
    },
    {
     "name": "stdout",
     "output_type": "stream",
     "text": [
      "7713954285343344 get\n"
     ]
    },
    {
     "name": "stderr",
     "output_type": "stream",
     "text": [
      "C:\\Users\\Sree Vidya\\anaconda3\\lib\\site-packages\\facebook_scraper\\facebook_scraper.py:912: UserWarning: Facebook says 'Unsupported Browser'\n",
      "  warnings.warn(f\"Facebook says 'Unsupported Browser'\")\n",
      "C:\\Users\\Sree Vidya\\anaconda3\\lib\\site-packages\\dateparser\\freshness_date_parser.py:76: PytzUsageWarning: The localize method is no longer necessary, as this time zone supports the fold attribute (PEP 495). For more details on migrating to a PEP 495-compliant implementation, see https://pytz-deprecation-shim.readthedocs.io/en/latest/migration.html\n",
      "  now = self.get_local_tz().localize(now)\n",
      "C:\\Users\\Sree Vidya\\AppData\\Local\\Temp\\ipykernel_11400\\3600050919.py:6: FutureWarning: The frame.append method is deprecated and will be removed from pandas in a future version. Use pandas.concat instead.\n",
      "  post_df_full = post_df_full.append(fb_post_df)\n"
     ]
    },
    {
     "name": "stdout",
     "output_type": "stream",
     "text": [
      "7709648725773900 get\n"
     ]
    },
    {
     "name": "stderr",
     "output_type": "stream",
     "text": [
      "C:\\Users\\Sree Vidya\\anaconda3\\lib\\site-packages\\facebook_scraper\\facebook_scraper.py:912: UserWarning: Facebook says 'Unsupported Browser'\n",
      "  warnings.warn(f\"Facebook says 'Unsupported Browser'\")\n",
      "C:\\Users\\Sree Vidya\\anaconda3\\lib\\site-packages\\dateparser\\freshness_date_parser.py:76: PytzUsageWarning: The localize method is no longer necessary, as this time zone supports the fold attribute (PEP 495). For more details on migrating to a PEP 495-compliant implementation, see https://pytz-deprecation-shim.readthedocs.io/en/latest/migration.html\n",
      "  now = self.get_local_tz().localize(now)\n",
      "C:\\Users\\Sree Vidya\\AppData\\Local\\Temp\\ipykernel_11400\\3600050919.py:6: FutureWarning: The frame.append method is deprecated and will be removed from pandas in a future version. Use pandas.concat instead.\n",
      "  post_df_full = post_df_full.append(fb_post_df)\n"
     ]
    },
    {
     "name": "stdout",
     "output_type": "stream",
     "text": [
      "7700930349979071 get\n"
     ]
    },
    {
     "name": "stderr",
     "output_type": "stream",
     "text": [
      "C:\\Users\\Sree Vidya\\anaconda3\\lib\\site-packages\\facebook_scraper\\facebook_scraper.py:912: UserWarning: Facebook says 'Unsupported Browser'\n",
      "  warnings.warn(f\"Facebook says 'Unsupported Browser'\")\n",
      "C:\\Users\\Sree Vidya\\AppData\\Local\\Temp\\ipykernel_11400\\3600050919.py:6: FutureWarning: The frame.append method is deprecated and will be removed from pandas in a future version. Use pandas.concat instead.\n",
      "  post_df_full = post_df_full.append(fb_post_df)\n"
     ]
    },
    {
     "name": "stdout",
     "output_type": "stream",
     "text": [
      "7699088716829901 get\n"
     ]
    },
    {
     "name": "stderr",
     "output_type": "stream",
     "text": [
      "C:\\Users\\Sree Vidya\\anaconda3\\lib\\site-packages\\facebook_scraper\\facebook_scraper.py:912: UserWarning: Facebook says 'Unsupported Browser'\n",
      "  warnings.warn(f\"Facebook says 'Unsupported Browser'\")\n",
      "C:\\Users\\Sree Vidya\\anaconda3\\lib\\site-packages\\dateparser\\freshness_date_parser.py:76: PytzUsageWarning: The localize method is no longer necessary, as this time zone supports the fold attribute (PEP 495). For more details on migrating to a PEP 495-compliant implementation, see https://pytz-deprecation-shim.readthedocs.io/en/latest/migration.html\n",
      "  now = self.get_local_tz().localize(now)\n",
      "C:\\Users\\Sree Vidya\\AppData\\Local\\Temp\\ipykernel_11400\\3600050919.py:6: FutureWarning: The frame.append method is deprecated and will be removed from pandas in a future version. Use pandas.concat instead.\n",
      "  post_df_full = post_df_full.append(fb_post_df)\n"
     ]
    },
    {
     "name": "stdout",
     "output_type": "stream",
     "text": [
      "7690468931025213 get\n"
     ]
    },
    {
     "name": "stderr",
     "output_type": "stream",
     "text": [
      "C:\\Users\\Sree Vidya\\anaconda3\\lib\\site-packages\\facebook_scraper\\facebook_scraper.py:912: UserWarning: Facebook says 'Unsupported Browser'\n",
      "  warnings.warn(f\"Facebook says 'Unsupported Browser'\")\n",
      "C:\\Users\\Sree Vidya\\AppData\\Local\\Temp\\ipykernel_11400\\3600050919.py:6: FutureWarning: The frame.append method is deprecated and will be removed from pandas in a future version. Use pandas.concat instead.\n",
      "  post_df_full = post_df_full.append(fb_post_df)\n"
     ]
    },
    {
     "name": "stdout",
     "output_type": "stream",
     "text": [
      "7689435391128567 get\n"
     ]
    },
    {
     "name": "stderr",
     "output_type": "stream",
     "text": [
      "C:\\Users\\Sree Vidya\\anaconda3\\lib\\site-packages\\facebook_scraper\\facebook_scraper.py:912: UserWarning: Facebook says 'Unsupported Browser'\n",
      "  warnings.warn(f\"Facebook says 'Unsupported Browser'\")\n",
      "C:\\Users\\Sree Vidya\\anaconda3\\lib\\site-packages\\dateparser\\freshness_date_parser.py:76: PytzUsageWarning: The localize method is no longer necessary, as this time zone supports the fold attribute (PEP 495). For more details on migrating to a PEP 495-compliant implementation, see https://pytz-deprecation-shim.readthedocs.io/en/latest/migration.html\n",
      "  now = self.get_local_tz().localize(now)\n",
      "C:\\Users\\Sree Vidya\\AppData\\Local\\Temp\\ipykernel_11400\\3600050919.py:6: FutureWarning: The frame.append method is deprecated and will be removed from pandas in a future version. Use pandas.concat instead.\n",
      "  post_df_full = post_df_full.append(fb_post_df)\n"
     ]
    },
    {
     "name": "stdout",
     "output_type": "stream",
     "text": [
      "7684407048298068 get\n"
     ]
    },
    {
     "name": "stderr",
     "output_type": "stream",
     "text": [
      "C:\\Users\\Sree Vidya\\anaconda3\\lib\\site-packages\\facebook_scraper\\facebook_scraper.py:912: UserWarning: Facebook says 'Unsupported Browser'\n",
      "  warnings.warn(f\"Facebook says 'Unsupported Browser'\")\n",
      "C:\\Users\\Sree Vidya\\anaconda3\\lib\\site-packages\\dateparser\\freshness_date_parser.py:76: PytzUsageWarning: The localize method is no longer necessary, as this time zone supports the fold attribute (PEP 495). For more details on migrating to a PEP 495-compliant implementation, see https://pytz-deprecation-shim.readthedocs.io/en/latest/migration.html\n",
      "  now = self.get_local_tz().localize(now)\n",
      "C:\\Users\\Sree Vidya\\AppData\\Local\\Temp\\ipykernel_11400\\3600050919.py:6: FutureWarning: The frame.append method is deprecated and will be removed from pandas in a future version. Use pandas.concat instead.\n",
      "  post_df_full = post_df_full.append(fb_post_df)\n"
     ]
    },
    {
     "name": "stdout",
     "output_type": "stream",
     "text": [
      "7676147522457354 get\n"
     ]
    },
    {
     "name": "stderr",
     "output_type": "stream",
     "text": [
      "C:\\Users\\Sree Vidya\\anaconda3\\lib\\site-packages\\facebook_scraper\\facebook_scraper.py:912: UserWarning: Facebook says 'Unsupported Browser'\n",
      "  warnings.warn(f\"Facebook says 'Unsupported Browser'\")\n",
      "C:\\Users\\Sree Vidya\\anaconda3\\lib\\site-packages\\dateparser\\freshness_date_parser.py:76: PytzUsageWarning: The localize method is no longer necessary, as this time zone supports the fold attribute (PEP 495). For more details on migrating to a PEP 495-compliant implementation, see https://pytz-deprecation-shim.readthedocs.io/en/latest/migration.html\n",
      "  now = self.get_local_tz().localize(now)\n",
      "C:\\Users\\Sree Vidya\\AppData\\Local\\Temp\\ipykernel_11400\\3600050919.py:6: FutureWarning: The frame.append method is deprecated and will be removed from pandas in a future version. Use pandas.concat instead.\n",
      "  post_df_full = post_df_full.append(fb_post_df)\n"
     ]
    },
    {
     "name": "stdout",
     "output_type": "stream",
     "text": [
      "7667373783334728 get\n"
     ]
    },
    {
     "name": "stderr",
     "output_type": "stream",
     "text": [
      "C:\\Users\\Sree Vidya\\anaconda3\\lib\\site-packages\\facebook_scraper\\facebook_scraper.py:912: UserWarning: Facebook says 'Unsupported Browser'\n",
      "  warnings.warn(f\"Facebook says 'Unsupported Browser'\")\n",
      "C:\\Users\\Sree Vidya\\anaconda3\\lib\\site-packages\\dateparser\\freshness_date_parser.py:76: PytzUsageWarning: The localize method is no longer necessary, as this time zone supports the fold attribute (PEP 495). For more details on migrating to a PEP 495-compliant implementation, see https://pytz-deprecation-shim.readthedocs.io/en/latest/migration.html\n",
      "  now = self.get_local_tz().localize(now)\n",
      "C:\\Users\\Sree Vidya\\AppData\\Local\\Temp\\ipykernel_11400\\3600050919.py:6: FutureWarning: The frame.append method is deprecated and will be removed from pandas in a future version. Use pandas.concat instead.\n",
      "  post_df_full = post_df_full.append(fb_post_df)\n"
     ]
    },
    {
     "name": "stdout",
     "output_type": "stream",
     "text": [
      "7657857140953059 get\n"
     ]
    },
    {
     "name": "stderr",
     "output_type": "stream",
     "text": [
      "C:\\Users\\Sree Vidya\\anaconda3\\lib\\site-packages\\facebook_scraper\\facebook_scraper.py:912: UserWarning: Facebook says 'Unsupported Browser'\n",
      "  warnings.warn(f\"Facebook says 'Unsupported Browser'\")\n",
      "C:\\Users\\Sree Vidya\\anaconda3\\lib\\site-packages\\dateparser\\freshness_date_parser.py:76: PytzUsageWarning: The localize method is no longer necessary, as this time zone supports the fold attribute (PEP 495). For more details on migrating to a PEP 495-compliant implementation, see https://pytz-deprecation-shim.readthedocs.io/en/latest/migration.html\n",
      "  now = self.get_local_tz().localize(now)\n",
      "C:\\Users\\Sree Vidya\\AppData\\Local\\Temp\\ipykernel_11400\\3600050919.py:6: FutureWarning: The frame.append method is deprecated and will be removed from pandas in a future version. Use pandas.concat instead.\n",
      "  post_df_full = post_df_full.append(fb_post_df)\n"
     ]
    },
    {
     "name": "stdout",
     "output_type": "stream",
     "text": [
      "7656483424423764 get\n"
     ]
    },
    {
     "name": "stderr",
     "output_type": "stream",
     "text": [
      "C:\\Users\\Sree Vidya\\anaconda3\\lib\\site-packages\\facebook_scraper\\facebook_scraper.py:912: UserWarning: Facebook says 'Unsupported Browser'\n",
      "  warnings.warn(f\"Facebook says 'Unsupported Browser'\")\n",
      "C:\\Users\\Sree Vidya\\anaconda3\\lib\\site-packages\\dateparser\\freshness_date_parser.py:76: PytzUsageWarning: The localize method is no longer necessary, as this time zone supports the fold attribute (PEP 495). For more details on migrating to a PEP 495-compliant implementation, see https://pytz-deprecation-shim.readthedocs.io/en/latest/migration.html\n",
      "  now = self.get_local_tz().localize(now)\n",
      "C:\\Users\\Sree Vidya\\AppData\\Local\\Temp\\ipykernel_11400\\3600050919.py:6: FutureWarning: The frame.append method is deprecated and will be removed from pandas in a future version. Use pandas.concat instead.\n",
      "  post_df_full = post_df_full.append(fb_post_df)\n"
     ]
    },
    {
     "name": "stdout",
     "output_type": "stream",
     "text": [
      "7655246387880801 get\n"
     ]
    },
    {
     "name": "stderr",
     "output_type": "stream",
     "text": [
      "C:\\Users\\Sree Vidya\\anaconda3\\lib\\site-packages\\facebook_scraper\\facebook_scraper.py:912: UserWarning: Facebook says 'Unsupported Browser'\n",
      "  warnings.warn(f\"Facebook says 'Unsupported Browser'\")\n",
      "C:\\Users\\Sree Vidya\\anaconda3\\lib\\site-packages\\dateparser\\freshness_date_parser.py:76: PytzUsageWarning: The localize method is no longer necessary, as this time zone supports the fold attribute (PEP 495). For more details on migrating to a PEP 495-compliant implementation, see https://pytz-deprecation-shim.readthedocs.io/en/latest/migration.html\n",
      "  now = self.get_local_tz().localize(now)\n",
      "C:\\Users\\Sree Vidya\\AppData\\Local\\Temp\\ipykernel_11400\\3600050919.py:6: FutureWarning: The frame.append method is deprecated and will be removed from pandas in a future version. Use pandas.concat instead.\n",
      "  post_df_full = post_df_full.append(fb_post_df)\n"
     ]
    },
    {
     "name": "stdout",
     "output_type": "stream",
     "text": [
      "7651325738272866 get\n"
     ]
    },
    {
     "name": "stderr",
     "output_type": "stream",
     "text": [
      "C:\\Users\\Sree Vidya\\anaconda3\\lib\\site-packages\\facebook_scraper\\facebook_scraper.py:912: UserWarning: Facebook says 'Unsupported Browser'\n",
      "  warnings.warn(f\"Facebook says 'Unsupported Browser'\")\n",
      "C:\\Users\\Sree Vidya\\anaconda3\\lib\\site-packages\\dateparser\\freshness_date_parser.py:76: PytzUsageWarning: The localize method is no longer necessary, as this time zone supports the fold attribute (PEP 495). For more details on migrating to a PEP 495-compliant implementation, see https://pytz-deprecation-shim.readthedocs.io/en/latest/migration.html\n",
      "  now = self.get_local_tz().localize(now)\n",
      "C:\\Users\\Sree Vidya\\AppData\\Local\\Temp\\ipykernel_11400\\3600050919.py:6: FutureWarning: The frame.append method is deprecated and will be removed from pandas in a future version. Use pandas.concat instead.\n",
      "  post_df_full = post_df_full.append(fb_post_df)\n"
     ]
    },
    {
     "name": "stdout",
     "output_type": "stream",
     "text": [
      "7648136025258504 get\n"
     ]
    },
    {
     "name": "stderr",
     "output_type": "stream",
     "text": [
      "C:\\Users\\Sree Vidya\\anaconda3\\lib\\site-packages\\facebook_scraper\\facebook_scraper.py:912: UserWarning: Facebook says 'Unsupported Browser'\n",
      "  warnings.warn(f\"Facebook says 'Unsupported Browser'\")\n",
      "C:\\Users\\Sree Vidya\\anaconda3\\lib\\site-packages\\dateparser\\freshness_date_parser.py:76: PytzUsageWarning: The localize method is no longer necessary, as this time zone supports the fold attribute (PEP 495). For more details on migrating to a PEP 495-compliant implementation, see https://pytz-deprecation-shim.readthedocs.io/en/latest/migration.html\n",
      "  now = self.get_local_tz().localize(now)\n",
      "C:\\Users\\Sree Vidya\\AppData\\Local\\Temp\\ipykernel_11400\\3600050919.py:6: FutureWarning: The frame.append method is deprecated and will be removed from pandas in a future version. Use pandas.concat instead.\n",
      "  post_df_full = post_df_full.append(fb_post_df)\n"
     ]
    },
    {
     "name": "stdout",
     "output_type": "stream",
     "text": [
      "7646667042072069 get\n"
     ]
    },
    {
     "name": "stderr",
     "output_type": "stream",
     "text": [
      "C:\\Users\\Sree Vidya\\anaconda3\\lib\\site-packages\\facebook_scraper\\facebook_scraper.py:912: UserWarning: Facebook says 'Unsupported Browser'\n",
      "  warnings.warn(f\"Facebook says 'Unsupported Browser'\")\n",
      "C:\\Users\\Sree Vidya\\AppData\\Local\\Temp\\ipykernel_11400\\3600050919.py:6: FutureWarning: The frame.append method is deprecated and will be removed from pandas in a future version. Use pandas.concat instead.\n",
      "  post_df_full = post_df_full.append(fb_post_df)\n"
     ]
    },
    {
     "name": "stdout",
     "output_type": "stream",
     "text": [
      "7637349109670529 get\n"
     ]
    },
    {
     "name": "stderr",
     "output_type": "stream",
     "text": [
      "C:\\Users\\Sree Vidya\\anaconda3\\lib\\site-packages\\facebook_scraper\\facebook_scraper.py:912: UserWarning: Facebook says 'Unsupported Browser'\n",
      "  warnings.warn(f\"Facebook says 'Unsupported Browser'\")\n",
      "C:\\Users\\Sree Vidya\\AppData\\Local\\Temp\\ipykernel_11400\\3600050919.py:6: FutureWarning: The frame.append method is deprecated and will be removed from pandas in a future version. Use pandas.concat instead.\n",
      "  post_df_full = post_df_full.append(fb_post_df)\n"
     ]
    },
    {
     "name": "stdout",
     "output_type": "stream",
     "text": [
      "7632357320169708 get\n"
     ]
    },
    {
     "name": "stderr",
     "output_type": "stream",
     "text": [
      "C:\\Users\\Sree Vidya\\anaconda3\\lib\\site-packages\\facebook_scraper\\facebook_scraper.py:912: UserWarning: Facebook says 'Unsupported Browser'\n",
      "  warnings.warn(f\"Facebook says 'Unsupported Browser'\")\n",
      "C:\\Users\\Sree Vidya\\AppData\\Local\\Temp\\ipykernel_11400\\3600050919.py:6: FutureWarning: The frame.append method is deprecated and will be removed from pandas in a future version. Use pandas.concat instead.\n",
      "  post_df_full = post_df_full.append(fb_post_df)\n"
     ]
    },
    {
     "name": "stdout",
     "output_type": "stream",
     "text": [
      "7628902587181848 get\n"
     ]
    },
    {
     "name": "stderr",
     "output_type": "stream",
     "text": [
      "C:\\Users\\Sree Vidya\\anaconda3\\lib\\site-packages\\facebook_scraper\\facebook_scraper.py:912: UserWarning: Facebook says 'Unsupported Browser'\n",
      "  warnings.warn(f\"Facebook says 'Unsupported Browser'\")\n",
      "C:\\Users\\Sree Vidya\\anaconda3\\lib\\site-packages\\dateparser\\freshness_date_parser.py:76: PytzUsageWarning: The localize method is no longer necessary, as this time zone supports the fold attribute (PEP 495). For more details on migrating to a PEP 495-compliant implementation, see https://pytz-deprecation-shim.readthedocs.io/en/latest/migration.html\n",
      "  now = self.get_local_tz().localize(now)\n",
      "C:\\Users\\Sree Vidya\\AppData\\Local\\Temp\\ipykernel_11400\\3600050919.py:6: FutureWarning: The frame.append method is deprecated and will be removed from pandas in a future version. Use pandas.concat instead.\n",
      "  post_df_full = post_df_full.append(fb_post_df)\n"
     ]
    },
    {
     "name": "stdout",
     "output_type": "stream",
     "text": [
      "7628841877187919 get\n"
     ]
    },
    {
     "name": "stderr",
     "output_type": "stream",
     "text": [
      "C:\\Users\\Sree Vidya\\anaconda3\\lib\\site-packages\\facebook_scraper\\facebook_scraper.py:912: UserWarning: Facebook says 'Unsupported Browser'\n",
      "  warnings.warn(f\"Facebook says 'Unsupported Browser'\")\n",
      "C:\\Users\\Sree Vidya\\AppData\\Local\\Temp\\ipykernel_11400\\3600050919.py:6: FutureWarning: The frame.append method is deprecated and will be removed from pandas in a future version. Use pandas.concat instead.\n",
      "  post_df_full = post_df_full.append(fb_post_df)\n"
     ]
    },
    {
     "name": "stdout",
     "output_type": "stream",
     "text": [
      "7627887930616647 get\n"
     ]
    },
    {
     "name": "stderr",
     "output_type": "stream",
     "text": [
      "C:\\Users\\Sree Vidya\\anaconda3\\lib\\site-packages\\facebook_scraper\\facebook_scraper.py:912: UserWarning: Facebook says 'Unsupported Browser'\n",
      "  warnings.warn(f\"Facebook says 'Unsupported Browser'\")\n",
      "C:\\Users\\Sree Vidya\\anaconda3\\lib\\site-packages\\dateparser\\freshness_date_parser.py:76: PytzUsageWarning: The localize method is no longer necessary, as this time zone supports the fold attribute (PEP 495). For more details on migrating to a PEP 495-compliant implementation, see https://pytz-deprecation-shim.readthedocs.io/en/latest/migration.html\n",
      "  now = self.get_local_tz().localize(now)\n",
      "C:\\Users\\Sree Vidya\\AppData\\Local\\Temp\\ipykernel_11400\\3600050919.py:6: FutureWarning: The frame.append method is deprecated and will be removed from pandas in a future version. Use pandas.concat instead.\n",
      "  post_df_full = post_df_full.append(fb_post_df)\n"
     ]
    },
    {
     "name": "stdout",
     "output_type": "stream",
     "text": [
      "7618138998258207 get\n"
     ]
    },
    {
     "name": "stderr",
     "output_type": "stream",
     "text": [
      "C:\\Users\\Sree Vidya\\anaconda3\\lib\\site-packages\\facebook_scraper\\facebook_scraper.py:912: UserWarning: Facebook says 'Unsupported Browser'\n",
      "  warnings.warn(f\"Facebook says 'Unsupported Browser'\")\n",
      "C:\\Users\\Sree Vidya\\AppData\\Local\\Temp\\ipykernel_11400\\3600050919.py:6: FutureWarning: The frame.append method is deprecated and will be removed from pandas in a future version. Use pandas.concat instead.\n",
      "  post_df_full = post_df_full.append(fb_post_df)\n"
     ]
    },
    {
     "name": "stdout",
     "output_type": "stream",
     "text": [
      "7610021352403305 get\n"
     ]
    },
    {
     "name": "stderr",
     "output_type": "stream",
     "text": [
      "C:\\Users\\Sree Vidya\\anaconda3\\lib\\site-packages\\facebook_scraper\\facebook_scraper.py:912: UserWarning: Facebook says 'Unsupported Browser'\n",
      "  warnings.warn(f\"Facebook says 'Unsupported Browser'\")\n",
      "C:\\Users\\Sree Vidya\\anaconda3\\lib\\site-packages\\dateparser\\freshness_date_parser.py:76: PytzUsageWarning: The localize method is no longer necessary, as this time zone supports the fold attribute (PEP 495). For more details on migrating to a PEP 495-compliant implementation, see https://pytz-deprecation-shim.readthedocs.io/en/latest/migration.html\n",
      "  now = self.get_local_tz().localize(now)\n",
      "C:\\Users\\Sree Vidya\\AppData\\Local\\Temp\\ipykernel_11400\\3600050919.py:6: FutureWarning: The frame.append method is deprecated and will be removed from pandas in a future version. Use pandas.concat instead.\n",
      "  post_df_full = post_df_full.append(fb_post_df)\n"
     ]
    },
    {
     "name": "stdout",
     "output_type": "stream",
     "text": [
      "7608959832509457 get\n"
     ]
    },
    {
     "name": "stderr",
     "output_type": "stream",
     "text": [
      "C:\\Users\\Sree Vidya\\anaconda3\\lib\\site-packages\\facebook_scraper\\facebook_scraper.py:912: UserWarning: Facebook says 'Unsupported Browser'\n",
      "  warnings.warn(f\"Facebook says 'Unsupported Browser'\")\n",
      "C:\\Users\\Sree Vidya\\anaconda3\\lib\\site-packages\\dateparser\\freshness_date_parser.py:76: PytzUsageWarning: The localize method is no longer necessary, as this time zone supports the fold attribute (PEP 495). For more details on migrating to a PEP 495-compliant implementation, see https://pytz-deprecation-shim.readthedocs.io/en/latest/migration.html\n",
      "  now = self.get_local_tz().localize(now)\n",
      "C:\\Users\\Sree Vidya\\AppData\\Local\\Temp\\ipykernel_11400\\3600050919.py:6: FutureWarning: The frame.append method is deprecated and will be removed from pandas in a future version. Use pandas.concat instead.\n",
      "  post_df_full = post_df_full.append(fb_post_df)\n"
     ]
    },
    {
     "name": "stdout",
     "output_type": "stream",
     "text": [
      "7605733526165421 get\n"
     ]
    },
    {
     "name": "stderr",
     "output_type": "stream",
     "text": [
      "C:\\Users\\Sree Vidya\\anaconda3\\lib\\site-packages\\facebook_scraper\\facebook_scraper.py:912: UserWarning: Facebook says 'Unsupported Browser'\n",
      "  warnings.warn(f\"Facebook says 'Unsupported Browser'\")\n",
      "C:\\Users\\Sree Vidya\\anaconda3\\lib\\site-packages\\dateparser\\freshness_date_parser.py:76: PytzUsageWarning: The localize method is no longer necessary, as this time zone supports the fold attribute (PEP 495). For more details on migrating to a PEP 495-compliant implementation, see https://pytz-deprecation-shim.readthedocs.io/en/latest/migration.html\n",
      "  now = self.get_local_tz().localize(now)\n",
      "C:\\Users\\Sree Vidya\\AppData\\Local\\Temp\\ipykernel_11400\\3600050919.py:6: FutureWarning: The frame.append method is deprecated and will be removed from pandas in a future version. Use pandas.concat instead.\n",
      "  post_df_full = post_df_full.append(fb_post_df)\n"
     ]
    },
    {
     "name": "stdout",
     "output_type": "stream",
     "text": [
      "7595469713858469 get\n"
     ]
    },
    {
     "name": "stderr",
     "output_type": "stream",
     "text": [
      "C:\\Users\\Sree Vidya\\anaconda3\\lib\\site-packages\\facebook_scraper\\facebook_scraper.py:912: UserWarning: Facebook says 'Unsupported Browser'\n",
      "  warnings.warn(f\"Facebook says 'Unsupported Browser'\")\n",
      "C:\\Users\\Sree Vidya\\anaconda3\\lib\\site-packages\\dateparser\\freshness_date_parser.py:76: PytzUsageWarning: The localize method is no longer necessary, as this time zone supports the fold attribute (PEP 495). For more details on migrating to a PEP 495-compliant implementation, see https://pytz-deprecation-shim.readthedocs.io/en/latest/migration.html\n",
      "  now = self.get_local_tz().localize(now)\n",
      "C:\\Users\\Sree Vidya\\AppData\\Local\\Temp\\ipykernel_11400\\3600050919.py:6: FutureWarning: The frame.append method is deprecated and will be removed from pandas in a future version. Use pandas.concat instead.\n",
      "  post_df_full = post_df_full.append(fb_post_df)\n"
     ]
    },
    {
     "name": "stdout",
     "output_type": "stream",
     "text": [
      "7590265737712200 get\n"
     ]
    },
    {
     "name": "stderr",
     "output_type": "stream",
     "text": [
      "C:\\Users\\Sree Vidya\\anaconda3\\lib\\site-packages\\facebook_scraper\\facebook_scraper.py:912: UserWarning: Facebook says 'Unsupported Browser'\n",
      "  warnings.warn(f\"Facebook says 'Unsupported Browser'\")\n",
      "C:\\Users\\Sree Vidya\\anaconda3\\lib\\site-packages\\dateparser\\freshness_date_parser.py:76: PytzUsageWarning: The localize method is no longer necessary, as this time zone supports the fold attribute (PEP 495). For more details on migrating to a PEP 495-compliant implementation, see https://pytz-deprecation-shim.readthedocs.io/en/latest/migration.html\n",
      "  now = self.get_local_tz().localize(now)\n",
      "C:\\Users\\Sree Vidya\\AppData\\Local\\Temp\\ipykernel_11400\\3600050919.py:6: FutureWarning: The frame.append method is deprecated and will be removed from pandas in a future version. Use pandas.concat instead.\n",
      "  post_df_full = post_df_full.append(fb_post_df)\n"
     ]
    },
    {
     "name": "stdout",
     "output_type": "stream",
     "text": [
      "7579482112123896 get\n"
     ]
    },
    {
     "name": "stderr",
     "output_type": "stream",
     "text": [
      "C:\\Users\\Sree Vidya\\anaconda3\\lib\\site-packages\\facebook_scraper\\facebook_scraper.py:912: UserWarning: Facebook says 'Unsupported Browser'\n",
      "  warnings.warn(f\"Facebook says 'Unsupported Browser'\")\n",
      "C:\\Users\\Sree Vidya\\anaconda3\\lib\\site-packages\\dateparser\\freshness_date_parser.py:76: PytzUsageWarning: The localize method is no longer necessary, as this time zone supports the fold attribute (PEP 495). For more details on migrating to a PEP 495-compliant implementation, see https://pytz-deprecation-shim.readthedocs.io/en/latest/migration.html\n",
      "  now = self.get_local_tz().localize(now)\n",
      "C:\\Users\\Sree Vidya\\AppData\\Local\\Temp\\ipykernel_11400\\3600050919.py:6: FutureWarning: The frame.append method is deprecated and will be removed from pandas in a future version. Use pandas.concat instead.\n",
      "  post_df_full = post_df_full.append(fb_post_df)\n"
     ]
    },
    {
     "name": "stdout",
     "output_type": "stream",
     "text": [
      "7555538331184941 get\n"
     ]
    },
    {
     "name": "stderr",
     "output_type": "stream",
     "text": [
      "C:\\Users\\Sree Vidya\\anaconda3\\lib\\site-packages\\facebook_scraper\\facebook_scraper.py:912: UserWarning: Facebook says 'Unsupported Browser'\n",
      "  warnings.warn(f\"Facebook says 'Unsupported Browser'\")\n",
      "C:\\Users\\Sree Vidya\\anaconda3\\lib\\site-packages\\dateparser\\freshness_date_parser.py:76: PytzUsageWarning: The localize method is no longer necessary, as this time zone supports the fold attribute (PEP 495). For more details on migrating to a PEP 495-compliant implementation, see https://pytz-deprecation-shim.readthedocs.io/en/latest/migration.html\n",
      "  now = self.get_local_tz().localize(now)\n",
      "C:\\Users\\Sree Vidya\\AppData\\Local\\Temp\\ipykernel_11400\\3600050919.py:6: FutureWarning: The frame.append method is deprecated and will be removed from pandas in a future version. Use pandas.concat instead.\n",
      "  post_df_full = post_df_full.append(fb_post_df)\n"
     ]
    },
    {
     "name": "stdout",
     "output_type": "stream",
     "text": [
      "7554746451264129 get\n"
     ]
    },
    {
     "name": "stderr",
     "output_type": "stream",
     "text": [
      "C:\\Users\\Sree Vidya\\anaconda3\\lib\\site-packages\\facebook_scraper\\facebook_scraper.py:912: UserWarning: Facebook says 'Unsupported Browser'\n",
      "  warnings.warn(f\"Facebook says 'Unsupported Browser'\")\n",
      "C:\\Users\\Sree Vidya\\anaconda3\\lib\\site-packages\\dateparser\\freshness_date_parser.py:76: PytzUsageWarning: The localize method is no longer necessary, as this time zone supports the fold attribute (PEP 495). For more details on migrating to a PEP 495-compliant implementation, see https://pytz-deprecation-shim.readthedocs.io/en/latest/migration.html\n",
      "  now = self.get_local_tz().localize(now)\n",
      "C:\\Users\\Sree Vidya\\AppData\\Local\\Temp\\ipykernel_11400\\3600050919.py:6: FutureWarning: The frame.append method is deprecated and will be removed from pandas in a future version. Use pandas.concat instead.\n",
      "  post_df_full = post_df_full.append(fb_post_df)\n"
     ]
    },
    {
     "name": "stdout",
     "output_type": "stream",
     "text": [
      "7550353831703391 get\n"
     ]
    },
    {
     "name": "stderr",
     "output_type": "stream",
     "text": [
      "C:\\Users\\Sree Vidya\\anaconda3\\lib\\site-packages\\facebook_scraper\\facebook_scraper.py:912: UserWarning: Facebook says 'Unsupported Browser'\n",
      "  warnings.warn(f\"Facebook says 'Unsupported Browser'\")\n",
      "C:\\Users\\Sree Vidya\\anaconda3\\lib\\site-packages\\dateparser\\freshness_date_parser.py:76: PytzUsageWarning: The localize method is no longer necessary, as this time zone supports the fold attribute (PEP 495). For more details on migrating to a PEP 495-compliant implementation, see https://pytz-deprecation-shim.readthedocs.io/en/latest/migration.html\n",
      "  now = self.get_local_tz().localize(now)\n",
      "C:\\Users\\Sree Vidya\\AppData\\Local\\Temp\\ipykernel_11400\\3600050919.py:6: FutureWarning: The frame.append method is deprecated and will be removed from pandas in a future version. Use pandas.concat instead.\n",
      "  post_df_full = post_df_full.append(fb_post_df)\n"
     ]
    },
    {
     "name": "stdout",
     "output_type": "stream",
     "text": [
      "7550333721705402 get\n"
     ]
    },
    {
     "name": "stderr",
     "output_type": "stream",
     "text": [
      "C:\\Users\\Sree Vidya\\anaconda3\\lib\\site-packages\\facebook_scraper\\facebook_scraper.py:912: UserWarning: Facebook says 'Unsupported Browser'\n",
      "  warnings.warn(f\"Facebook says 'Unsupported Browser'\")\n",
      "C:\\Users\\Sree Vidya\\anaconda3\\lib\\site-packages\\dateparser\\freshness_date_parser.py:76: PytzUsageWarning: The localize method is no longer necessary, as this time zone supports the fold attribute (PEP 495). For more details on migrating to a PEP 495-compliant implementation, see https://pytz-deprecation-shim.readthedocs.io/en/latest/migration.html\n",
      "  now = self.get_local_tz().localize(now)\n",
      "C:\\Users\\Sree Vidya\\AppData\\Local\\Temp\\ipykernel_11400\\3600050919.py:6: FutureWarning: The frame.append method is deprecated and will be removed from pandas in a future version. Use pandas.concat instead.\n",
      "  post_df_full = post_df_full.append(fb_post_df)\n"
     ]
    },
    {
     "name": "stdout",
     "output_type": "stream",
     "text": [
      "7544414542297320 get\n"
     ]
    },
    {
     "name": "stderr",
     "output_type": "stream",
     "text": [
      "C:\\Users\\Sree Vidya\\anaconda3\\lib\\site-packages\\facebook_scraper\\facebook_scraper.py:912: UserWarning: Facebook says 'Unsupported Browser'\n",
      "  warnings.warn(f\"Facebook says 'Unsupported Browser'\")\n",
      "C:\\Users\\Sree Vidya\\anaconda3\\lib\\site-packages\\dateparser\\freshness_date_parser.py:76: PytzUsageWarning: The localize method is no longer necessary, as this time zone supports the fold attribute (PEP 495). For more details on migrating to a PEP 495-compliant implementation, see https://pytz-deprecation-shim.readthedocs.io/en/latest/migration.html\n",
      "  now = self.get_local_tz().localize(now)\n",
      "C:\\Users\\Sree Vidya\\AppData\\Local\\Temp\\ipykernel_11400\\3600050919.py:6: FutureWarning: The frame.append method is deprecated and will be removed from pandas in a future version. Use pandas.concat instead.\n",
      "  post_df_full = post_df_full.append(fb_post_df)\n"
     ]
    },
    {
     "name": "stdout",
     "output_type": "stream",
     "text": [
      "7530682360337205 get\n"
     ]
    },
    {
     "name": "stderr",
     "output_type": "stream",
     "text": [
      "C:\\Users\\Sree Vidya\\anaconda3\\lib\\site-packages\\facebook_scraper\\facebook_scraper.py:912: UserWarning: Facebook says 'Unsupported Browser'\n",
      "  warnings.warn(f\"Facebook says 'Unsupported Browser'\")\n",
      "C:\\Users\\Sree Vidya\\anaconda3\\lib\\site-packages\\dateparser\\freshness_date_parser.py:76: PytzUsageWarning: The localize method is no longer necessary, as this time zone supports the fold attribute (PEP 495). For more details on migrating to a PEP 495-compliant implementation, see https://pytz-deprecation-shim.readthedocs.io/en/latest/migration.html\n",
      "  now = self.get_local_tz().localize(now)\n",
      "C:\\Users\\Sree Vidya\\AppData\\Local\\Temp\\ipykernel_11400\\3600050919.py:6: FutureWarning: The frame.append method is deprecated and will be removed from pandas in a future version. Use pandas.concat instead.\n",
      "  post_df_full = post_df_full.append(fb_post_df)\n"
     ]
    },
    {
     "name": "stdout",
     "output_type": "stream",
     "text": [
      "7530498253688949 get\n"
     ]
    },
    {
     "name": "stderr",
     "output_type": "stream",
     "text": [
      "C:\\Users\\Sree Vidya\\anaconda3\\lib\\site-packages\\facebook_scraper\\facebook_scraper.py:912: UserWarning: Facebook says 'Unsupported Browser'\n",
      "  warnings.warn(f\"Facebook says 'Unsupported Browser'\")\n",
      "C:\\Users\\Sree Vidya\\anaconda3\\lib\\site-packages\\dateparser\\freshness_date_parser.py:76: PytzUsageWarning: The localize method is no longer necessary, as this time zone supports the fold attribute (PEP 495). For more details on migrating to a PEP 495-compliant implementation, see https://pytz-deprecation-shim.readthedocs.io/en/latest/migration.html\n",
      "  now = self.get_local_tz().localize(now)\n",
      "C:\\Users\\Sree Vidya\\AppData\\Local\\Temp\\ipykernel_11400\\3600050919.py:6: FutureWarning: The frame.append method is deprecated and will be removed from pandas in a future version. Use pandas.concat instead.\n",
      "  post_df_full = post_df_full.append(fb_post_df)\n"
     ]
    },
    {
     "name": "stdout",
     "output_type": "stream",
     "text": [
      "7529733530432088 get\n"
     ]
    },
    {
     "name": "stderr",
     "output_type": "stream",
     "text": [
      "C:\\Users\\Sree Vidya\\anaconda3\\lib\\site-packages\\facebook_scraper\\facebook_scraper.py:912: UserWarning: Facebook says 'Unsupported Browser'\n",
      "  warnings.warn(f\"Facebook says 'Unsupported Browser'\")\n",
      "C:\\Users\\Sree Vidya\\anaconda3\\lib\\site-packages\\dateparser\\freshness_date_parser.py:76: PytzUsageWarning: The localize method is no longer necessary, as this time zone supports the fold attribute (PEP 495). For more details on migrating to a PEP 495-compliant implementation, see https://pytz-deprecation-shim.readthedocs.io/en/latest/migration.html\n",
      "  now = self.get_local_tz().localize(now)\n",
      "C:\\Users\\Sree Vidya\\AppData\\Local\\Temp\\ipykernel_11400\\3600050919.py:6: FutureWarning: The frame.append method is deprecated and will be removed from pandas in a future version. Use pandas.concat instead.\n",
      "  post_df_full = post_df_full.append(fb_post_df)\n"
     ]
    },
    {
     "name": "stdout",
     "output_type": "stream",
     "text": [
      "7528411497230958 get\n"
     ]
    },
    {
     "name": "stderr",
     "output_type": "stream",
     "text": [
      "C:\\Users\\Sree Vidya\\anaconda3\\lib\\site-packages\\facebook_scraper\\facebook_scraper.py:912: UserWarning: Facebook says 'Unsupported Browser'\n",
      "  warnings.warn(f\"Facebook says 'Unsupported Browser'\")\n",
      "C:\\Users\\Sree Vidya\\anaconda3\\lib\\site-packages\\dateparser\\freshness_date_parser.py:76: PytzUsageWarning: The localize method is no longer necessary, as this time zone supports the fold attribute (PEP 495). For more details on migrating to a PEP 495-compliant implementation, see https://pytz-deprecation-shim.readthedocs.io/en/latest/migration.html\n",
      "  now = self.get_local_tz().localize(now)\n",
      "C:\\Users\\Sree Vidya\\AppData\\Local\\Temp\\ipykernel_11400\\3600050919.py:6: FutureWarning: The frame.append method is deprecated and will be removed from pandas in a future version. Use pandas.concat instead.\n",
      "  post_df_full = post_df_full.append(fb_post_df)\n"
     ]
    },
    {
     "name": "stdout",
     "output_type": "stream",
     "text": [
      "7524404394298335 get\n"
     ]
    },
    {
     "name": "stderr",
     "output_type": "stream",
     "text": [
      "C:\\Users\\Sree Vidya\\anaconda3\\lib\\site-packages\\facebook_scraper\\facebook_scraper.py:912: UserWarning: Facebook says 'Unsupported Browser'\n",
      "  warnings.warn(f\"Facebook says 'Unsupported Browser'\")\n",
      "C:\\Users\\Sree Vidya\\anaconda3\\lib\\site-packages\\dateparser\\freshness_date_parser.py:76: PytzUsageWarning: The localize method is no longer necessary, as this time zone supports the fold attribute (PEP 495). For more details on migrating to a PEP 495-compliant implementation, see https://pytz-deprecation-shim.readthedocs.io/en/latest/migration.html\n",
      "  now = self.get_local_tz().localize(now)\n",
      "C:\\Users\\Sree Vidya\\AppData\\Local\\Temp\\ipykernel_11400\\3600050919.py:6: FutureWarning: The frame.append method is deprecated and will be removed from pandas in a future version. Use pandas.concat instead.\n",
      "  post_df_full = post_df_full.append(fb_post_df)\n"
     ]
    },
    {
     "name": "stdout",
     "output_type": "stream",
     "text": [
      "7523824111023030 get\n"
     ]
    },
    {
     "name": "stderr",
     "output_type": "stream",
     "text": [
      "C:\\Users\\Sree Vidya\\anaconda3\\lib\\site-packages\\facebook_scraper\\facebook_scraper.py:912: UserWarning: Facebook says 'Unsupported Browser'\n",
      "  warnings.warn(f\"Facebook says 'Unsupported Browser'\")\n",
      "C:\\Users\\Sree Vidya\\anaconda3\\lib\\site-packages\\dateparser\\freshness_date_parser.py:76: PytzUsageWarning: The localize method is no longer necessary, as this time zone supports the fold attribute (PEP 495). For more details on migrating to a PEP 495-compliant implementation, see https://pytz-deprecation-shim.readthedocs.io/en/latest/migration.html\n",
      "  now = self.get_local_tz().localize(now)\n",
      "C:\\Users\\Sree Vidya\\AppData\\Local\\Temp\\ipykernel_11400\\3600050919.py:6: FutureWarning: The frame.append method is deprecated and will be removed from pandas in a future version. Use pandas.concat instead.\n",
      "  post_df_full = post_df_full.append(fb_post_df)\n"
     ]
    },
    {
     "name": "stdout",
     "output_type": "stream",
     "text": [
      "7523369071068534 get\n"
     ]
    },
    {
     "name": "stderr",
     "output_type": "stream",
     "text": [
      "C:\\Users\\Sree Vidya\\anaconda3\\lib\\site-packages\\facebook_scraper\\facebook_scraper.py:912: UserWarning: Facebook says 'Unsupported Browser'\n",
      "  warnings.warn(f\"Facebook says 'Unsupported Browser'\")\n",
      "C:\\Users\\Sree Vidya\\anaconda3\\lib\\site-packages\\dateparser\\freshness_date_parser.py:76: PytzUsageWarning: The localize method is no longer necessary, as this time zone supports the fold attribute (PEP 495). For more details on migrating to a PEP 495-compliant implementation, see https://pytz-deprecation-shim.readthedocs.io/en/latest/migration.html\n",
      "  now = self.get_local_tz().localize(now)\n",
      "C:\\Users\\Sree Vidya\\AppData\\Local\\Temp\\ipykernel_11400\\3600050919.py:6: FutureWarning: The frame.append method is deprecated and will be removed from pandas in a future version. Use pandas.concat instead.\n",
      "  post_df_full = post_df_full.append(fb_post_df)\n"
     ]
    },
    {
     "name": "stdout",
     "output_type": "stream",
     "text": [
      "7519771664761608 get\n"
     ]
    },
    {
     "name": "stderr",
     "output_type": "stream",
     "text": [
      "C:\\Users\\Sree Vidya\\anaconda3\\lib\\site-packages\\facebook_scraper\\facebook_scraper.py:912: UserWarning: Facebook says 'Unsupported Browser'\n",
      "  warnings.warn(f\"Facebook says 'Unsupported Browser'\")\n",
      "C:\\Users\\Sree Vidya\\anaconda3\\lib\\site-packages\\dateparser\\freshness_date_parser.py:76: PytzUsageWarning: The localize method is no longer necessary, as this time zone supports the fold attribute (PEP 495). For more details on migrating to a PEP 495-compliant implementation, see https://pytz-deprecation-shim.readthedocs.io/en/latest/migration.html\n",
      "  now = self.get_local_tz().localize(now)\n",
      "C:\\Users\\Sree Vidya\\AppData\\Local\\Temp\\ipykernel_11400\\3600050919.py:6: FutureWarning: The frame.append method is deprecated and will be removed from pandas in a future version. Use pandas.concat instead.\n",
      "  post_df_full = post_df_full.append(fb_post_df)\n"
     ]
    },
    {
     "name": "stdout",
     "output_type": "stream",
     "text": [
      "7518176538254454 get\n"
     ]
    },
    {
     "name": "stderr",
     "output_type": "stream",
     "text": [
      "C:\\Users\\Sree Vidya\\anaconda3\\lib\\site-packages\\facebook_scraper\\facebook_scraper.py:912: UserWarning: Facebook says 'Unsupported Browser'\n",
      "  warnings.warn(f\"Facebook says 'Unsupported Browser'\")\n",
      "C:\\Users\\Sree Vidya\\anaconda3\\lib\\site-packages\\dateparser\\freshness_date_parser.py:76: PytzUsageWarning: The localize method is no longer necessary, as this time zone supports the fold attribute (PEP 495). For more details on migrating to a PEP 495-compliant implementation, see https://pytz-deprecation-shim.readthedocs.io/en/latest/migration.html\n",
      "  now = self.get_local_tz().localize(now)\n",
      "C:\\Users\\Sree Vidya\\AppData\\Local\\Temp\\ipykernel_11400\\3600050919.py:6: FutureWarning: The frame.append method is deprecated and will be removed from pandas in a future version. Use pandas.concat instead.\n",
      "  post_df_full = post_df_full.append(fb_post_df)\n"
     ]
    },
    {
     "name": "stdout",
     "output_type": "stream",
     "text": [
      "7515101668561941 get\n"
     ]
    },
    {
     "name": "stderr",
     "output_type": "stream",
     "text": [
      "C:\\Users\\Sree Vidya\\anaconda3\\lib\\site-packages\\facebook_scraper\\facebook_scraper.py:912: UserWarning: Facebook says 'Unsupported Browser'\n",
      "  warnings.warn(f\"Facebook says 'Unsupported Browser'\")\n",
      "C:\\Users\\Sree Vidya\\anaconda3\\lib\\site-packages\\dateparser\\freshness_date_parser.py:76: PytzUsageWarning: The localize method is no longer necessary, as this time zone supports the fold attribute (PEP 495). For more details on migrating to a PEP 495-compliant implementation, see https://pytz-deprecation-shim.readthedocs.io/en/latest/migration.html\n",
      "  now = self.get_local_tz().localize(now)\n",
      "C:\\Users\\Sree Vidya\\AppData\\Local\\Temp\\ipykernel_11400\\3600050919.py:6: FutureWarning: The frame.append method is deprecated and will be removed from pandas in a future version. Use pandas.concat instead.\n",
      "  post_df_full = post_df_full.append(fb_post_df)\n"
     ]
    },
    {
     "name": "stdout",
     "output_type": "stream",
     "text": [
      "7513539795384795 get\n"
     ]
    },
    {
     "name": "stderr",
     "output_type": "stream",
     "text": [
      "C:\\Users\\Sree Vidya\\anaconda3\\lib\\site-packages\\facebook_scraper\\facebook_scraper.py:912: UserWarning: Facebook says 'Unsupported Browser'\n",
      "  warnings.warn(f\"Facebook says 'Unsupported Browser'\")\n",
      "C:\\Users\\Sree Vidya\\anaconda3\\lib\\site-packages\\dateparser\\freshness_date_parser.py:76: PytzUsageWarning: The localize method is no longer necessary, as this time zone supports the fold attribute (PEP 495). For more details on migrating to a PEP 495-compliant implementation, see https://pytz-deprecation-shim.readthedocs.io/en/latest/migration.html\n",
      "  now = self.get_local_tz().localize(now)\n",
      "C:\\Users\\Sree Vidya\\AppData\\Local\\Temp\\ipykernel_11400\\3600050919.py:6: FutureWarning: The frame.append method is deprecated and will be removed from pandas in a future version. Use pandas.concat instead.\n",
      "  post_df_full = post_df_full.append(fb_post_df)\n"
     ]
    },
    {
     "name": "stdout",
     "output_type": "stream",
     "text": [
      "7510737812331660 get\n"
     ]
    },
    {
     "name": "stderr",
     "output_type": "stream",
     "text": [
      "C:\\Users\\Sree Vidya\\anaconda3\\lib\\site-packages\\facebook_scraper\\facebook_scraper.py:912: UserWarning: Facebook says 'Unsupported Browser'\n",
      "  warnings.warn(f\"Facebook says 'Unsupported Browser'\")\n",
      "C:\\Users\\Sree Vidya\\anaconda3\\lib\\site-packages\\dateparser\\freshness_date_parser.py:76: PytzUsageWarning: The localize method is no longer necessary, as this time zone supports the fold attribute (PEP 495). For more details on migrating to a PEP 495-compliant implementation, see https://pytz-deprecation-shim.readthedocs.io/en/latest/migration.html\n",
      "  now = self.get_local_tz().localize(now)\n",
      "C:\\Users\\Sree Vidya\\AppData\\Local\\Temp\\ipykernel_11400\\3600050919.py:6: FutureWarning: The frame.append method is deprecated and will be removed from pandas in a future version. Use pandas.concat instead.\n",
      "  post_df_full = post_df_full.append(fb_post_df)\n"
     ]
    },
    {
     "name": "stdout",
     "output_type": "stream",
     "text": [
      "7509223245816450 get\n"
     ]
    },
    {
     "name": "stderr",
     "output_type": "stream",
     "text": [
      "C:\\Users\\Sree Vidya\\anaconda3\\lib\\site-packages\\facebook_scraper\\facebook_scraper.py:912: UserWarning: Facebook says 'Unsupported Browser'\n",
      "  warnings.warn(f\"Facebook says 'Unsupported Browser'\")\n",
      "C:\\Users\\Sree Vidya\\anaconda3\\lib\\site-packages\\dateparser\\freshness_date_parser.py:76: PytzUsageWarning: The localize method is no longer necessary, as this time zone supports the fold attribute (PEP 495). For more details on migrating to a PEP 495-compliant implementation, see https://pytz-deprecation-shim.readthedocs.io/en/latest/migration.html\n",
      "  now = self.get_local_tz().localize(now)\n",
      "C:\\Users\\Sree Vidya\\AppData\\Local\\Temp\\ipykernel_11400\\3600050919.py:6: FutureWarning: The frame.append method is deprecated and will be removed from pandas in a future version. Use pandas.concat instead.\n",
      "  post_df_full = post_df_full.append(fb_post_df)\n"
     ]
    },
    {
     "name": "stdout",
     "output_type": "stream",
     "text": [
      "7504965216242253 get\n"
     ]
    },
    {
     "name": "stderr",
     "output_type": "stream",
     "text": [
      "C:\\Users\\Sree Vidya\\anaconda3\\lib\\site-packages\\facebook_scraper\\facebook_scraper.py:912: UserWarning: Facebook says 'Unsupported Browser'\n",
      "  warnings.warn(f\"Facebook says 'Unsupported Browser'\")\n",
      "C:\\Users\\Sree Vidya\\anaconda3\\lib\\site-packages\\dateparser\\freshness_date_parser.py:76: PytzUsageWarning: The localize method is no longer necessary, as this time zone supports the fold attribute (PEP 495). For more details on migrating to a PEP 495-compliant implementation, see https://pytz-deprecation-shim.readthedocs.io/en/latest/migration.html\n",
      "  now = self.get_local_tz().localize(now)\n",
      "C:\\Users\\Sree Vidya\\AppData\\Local\\Temp\\ipykernel_11400\\3600050919.py:6: FutureWarning: The frame.append method is deprecated and will be removed from pandas in a future version. Use pandas.concat instead.\n",
      "  post_df_full = post_df_full.append(fb_post_df)\n"
     ]
    },
    {
     "name": "stdout",
     "output_type": "stream",
     "text": [
      "7499066496832125 get\n"
     ]
    },
    {
     "name": "stderr",
     "output_type": "stream",
     "text": [
      "C:\\Users\\Sree Vidya\\anaconda3\\lib\\site-packages\\facebook_scraper\\facebook_scraper.py:912: UserWarning: Facebook says 'Unsupported Browser'\n",
      "  warnings.warn(f\"Facebook says 'Unsupported Browser'\")\n",
      "C:\\Users\\Sree Vidya\\anaconda3\\lib\\site-packages\\dateparser\\freshness_date_parser.py:76: PytzUsageWarning: The localize method is no longer necessary, as this time zone supports the fold attribute (PEP 495). For more details on migrating to a PEP 495-compliant implementation, see https://pytz-deprecation-shim.readthedocs.io/en/latest/migration.html\n",
      "  now = self.get_local_tz().localize(now)\n",
      "C:\\Users\\Sree Vidya\\AppData\\Local\\Temp\\ipykernel_11400\\3600050919.py:6: FutureWarning: The frame.append method is deprecated and will be removed from pandas in a future version. Use pandas.concat instead.\n",
      "  post_df_full = post_df_full.append(fb_post_df)\n"
     ]
    },
    {
     "name": "stdout",
     "output_type": "stream",
     "text": [
      "7492100254195416 get\n"
     ]
    },
    {
     "name": "stderr",
     "output_type": "stream",
     "text": [
      "C:\\Users\\Sree Vidya\\anaconda3\\lib\\site-packages\\facebook_scraper\\facebook_scraper.py:912: UserWarning: Facebook says 'Unsupported Browser'\n",
      "  warnings.warn(f\"Facebook says 'Unsupported Browser'\")\n",
      "C:\\Users\\Sree Vidya\\anaconda3\\lib\\site-packages\\dateparser\\freshness_date_parser.py:76: PytzUsageWarning: The localize method is no longer necessary, as this time zone supports the fold attribute (PEP 495). For more details on migrating to a PEP 495-compliant implementation, see https://pytz-deprecation-shim.readthedocs.io/en/latest/migration.html\n",
      "  now = self.get_local_tz().localize(now)\n",
      "C:\\Users\\Sree Vidya\\AppData\\Local\\Temp\\ipykernel_11400\\3600050919.py:6: FutureWarning: The frame.append method is deprecated and will be removed from pandas in a future version. Use pandas.concat instead.\n",
      "  post_df_full = post_df_full.append(fb_post_df)\n"
     ]
    },
    {
     "name": "stdout",
     "output_type": "stream",
     "text": [
      "7476836015721840 get\n"
     ]
    },
    {
     "name": "stderr",
     "output_type": "stream",
     "text": [
      "C:\\Users\\Sree Vidya\\anaconda3\\lib\\site-packages\\facebook_scraper\\facebook_scraper.py:912: UserWarning: Facebook says 'Unsupported Browser'\n",
      "  warnings.warn(f\"Facebook says 'Unsupported Browser'\")\n",
      "C:\\Users\\Sree Vidya\\anaconda3\\lib\\site-packages\\dateparser\\freshness_date_parser.py:76: PytzUsageWarning: The localize method is no longer necessary, as this time zone supports the fold attribute (PEP 495). For more details on migrating to a PEP 495-compliant implementation, see https://pytz-deprecation-shim.readthedocs.io/en/latest/migration.html\n",
      "  now = self.get_local_tz().localize(now)\n",
      "C:\\Users\\Sree Vidya\\AppData\\Local\\Temp\\ipykernel_11400\\3600050919.py:6: FutureWarning: The frame.append method is deprecated and will be removed from pandas in a future version. Use pandas.concat instead.\n",
      "  post_df_full = post_df_full.append(fb_post_df)\n"
     ]
    },
    {
     "name": "stdout",
     "output_type": "stream",
     "text": [
      "7463903640348411 get\n"
     ]
    },
    {
     "name": "stderr",
     "output_type": "stream",
     "text": [
      "C:\\Users\\Sree Vidya\\anaconda3\\lib\\site-packages\\facebook_scraper\\facebook_scraper.py:912: UserWarning: Facebook says 'Unsupported Browser'\n",
      "  warnings.warn(f\"Facebook says 'Unsupported Browser'\")\n",
      "C:\\Users\\Sree Vidya\\anaconda3\\lib\\site-packages\\dateparser\\freshness_date_parser.py:76: PytzUsageWarning: The localize method is no longer necessary, as this time zone supports the fold attribute (PEP 495). For more details on migrating to a PEP 495-compliant implementation, see https://pytz-deprecation-shim.readthedocs.io/en/latest/migration.html\n",
      "  now = self.get_local_tz().localize(now)\n",
      "C:\\Users\\Sree Vidya\\AppData\\Local\\Temp\\ipykernel_11400\\3600050919.py:6: FutureWarning: The frame.append method is deprecated and will be removed from pandas in a future version. Use pandas.concat instead.\n",
      "  post_df_full = post_df_full.append(fb_post_df)\n"
     ]
    },
    {
     "name": "stdout",
     "output_type": "stream",
     "text": [
      "7463873933684715 get\n"
     ]
    },
    {
     "name": "stderr",
     "output_type": "stream",
     "text": [
      "C:\\Users\\Sree Vidya\\anaconda3\\lib\\site-packages\\facebook_scraper\\facebook_scraper.py:912: UserWarning: Facebook says 'Unsupported Browser'\n",
      "  warnings.warn(f\"Facebook says 'Unsupported Browser'\")\n",
      "C:\\Users\\Sree Vidya\\anaconda3\\lib\\site-packages\\dateparser\\freshness_date_parser.py:76: PytzUsageWarning: The localize method is no longer necessary, as this time zone supports the fold attribute (PEP 495). For more details on migrating to a PEP 495-compliant implementation, see https://pytz-deprecation-shim.readthedocs.io/en/latest/migration.html\n",
      "  now = self.get_local_tz().localize(now)\n",
      "C:\\Users\\Sree Vidya\\AppData\\Local\\Temp\\ipykernel_11400\\3600050919.py:6: FutureWarning: The frame.append method is deprecated and will be removed from pandas in a future version. Use pandas.concat instead.\n",
      "  post_df_full = post_df_full.append(fb_post_df)\n"
     ]
    },
    {
     "name": "stdout",
     "output_type": "stream",
     "text": [
      "7463213613750747 get\n"
     ]
    },
    {
     "name": "stderr",
     "output_type": "stream",
     "text": [
      "C:\\Users\\Sree Vidya\\anaconda3\\lib\\site-packages\\facebook_scraper\\facebook_scraper.py:912: UserWarning: Facebook says 'Unsupported Browser'\n",
      "  warnings.warn(f\"Facebook says 'Unsupported Browser'\")\n",
      "C:\\Users\\Sree Vidya\\anaconda3\\lib\\site-packages\\dateparser\\freshness_date_parser.py:76: PytzUsageWarning: The localize method is no longer necessary, as this time zone supports the fold attribute (PEP 495). For more details on migrating to a PEP 495-compliant implementation, see https://pytz-deprecation-shim.readthedocs.io/en/latest/migration.html\n",
      "  now = self.get_local_tz().localize(now)\n",
      "C:\\Users\\Sree Vidya\\AppData\\Local\\Temp\\ipykernel_11400\\3600050919.py:6: FutureWarning: The frame.append method is deprecated and will be removed from pandas in a future version. Use pandas.concat instead.\n",
      "  post_df_full = post_df_full.append(fb_post_df)\n"
     ]
    },
    {
     "name": "stdout",
     "output_type": "stream",
     "text": [
      "7452728001465975 get\n"
     ]
    },
    {
     "name": "stderr",
     "output_type": "stream",
     "text": [
      "C:\\Users\\Sree Vidya\\anaconda3\\lib\\site-packages\\facebook_scraper\\facebook_scraper.py:912: UserWarning: Facebook says 'Unsupported Browser'\n",
      "  warnings.warn(f\"Facebook says 'Unsupported Browser'\")\n",
      "C:\\Users\\Sree Vidya\\anaconda3\\lib\\site-packages\\dateparser\\freshness_date_parser.py:76: PytzUsageWarning: The localize method is no longer necessary, as this time zone supports the fold attribute (PEP 495). For more details on migrating to a PEP 495-compliant implementation, see https://pytz-deprecation-shim.readthedocs.io/en/latest/migration.html\n",
      "  now = self.get_local_tz().localize(now)\n",
      "C:\\Users\\Sree Vidya\\AppData\\Local\\Temp\\ipykernel_11400\\3600050919.py:6: FutureWarning: The frame.append method is deprecated and will be removed from pandas in a future version. Use pandas.concat instead.\n",
      "  post_df_full = post_df_full.append(fb_post_df)\n"
     ]
    },
    {
     "name": "stdout",
     "output_type": "stream",
     "text": [
      "7448758065196302 get\n"
     ]
    },
    {
     "name": "stderr",
     "output_type": "stream",
     "text": [
      "C:\\Users\\Sree Vidya\\anaconda3\\lib\\site-packages\\facebook_scraper\\facebook_scraper.py:912: UserWarning: Facebook says 'Unsupported Browser'\n",
      "  warnings.warn(f\"Facebook says 'Unsupported Browser'\")\n",
      "C:\\Users\\Sree Vidya\\anaconda3\\lib\\site-packages\\dateparser\\freshness_date_parser.py:76: PytzUsageWarning: The localize method is no longer necessary, as this time zone supports the fold attribute (PEP 495). For more details on migrating to a PEP 495-compliant implementation, see https://pytz-deprecation-shim.readthedocs.io/en/latest/migration.html\n",
      "  now = self.get_local_tz().localize(now)\n",
      "C:\\Users\\Sree Vidya\\AppData\\Local\\Temp\\ipykernel_11400\\3600050919.py:6: FutureWarning: The frame.append method is deprecated and will be removed from pandas in a future version. Use pandas.concat instead.\n",
      "  post_df_full = post_df_full.append(fb_post_df)\n"
     ]
    },
    {
     "name": "stdout",
     "output_type": "stream",
     "text": [
      "7448694991869276 get\n"
     ]
    },
    {
     "name": "stderr",
     "output_type": "stream",
     "text": [
      "C:\\Users\\Sree Vidya\\anaconda3\\lib\\site-packages\\facebook_scraper\\facebook_scraper.py:912: UserWarning: Facebook says 'Unsupported Browser'\n",
      "  warnings.warn(f\"Facebook says 'Unsupported Browser'\")\n",
      "C:\\Users\\Sree Vidya\\anaconda3\\lib\\site-packages\\dateparser\\freshness_date_parser.py:76: PytzUsageWarning: The localize method is no longer necessary, as this time zone supports the fold attribute (PEP 495). For more details on migrating to a PEP 495-compliant implementation, see https://pytz-deprecation-shim.readthedocs.io/en/latest/migration.html\n",
      "  now = self.get_local_tz().localize(now)\n",
      "C:\\Users\\Sree Vidya\\AppData\\Local\\Temp\\ipykernel_11400\\3600050919.py:6: FutureWarning: The frame.append method is deprecated and will be removed from pandas in a future version. Use pandas.concat instead.\n",
      "  post_df_full = post_df_full.append(fb_post_df)\n"
     ]
    },
    {
     "name": "stdout",
     "output_type": "stream",
     "text": [
      "7448001095271999 get\n"
     ]
    },
    {
     "name": "stderr",
     "output_type": "stream",
     "text": [
      "C:\\Users\\Sree Vidya\\anaconda3\\lib\\site-packages\\facebook_scraper\\facebook_scraper.py:912: UserWarning: Facebook says 'Unsupported Browser'\n",
      "  warnings.warn(f\"Facebook says 'Unsupported Browser'\")\n",
      "C:\\Users\\Sree Vidya\\anaconda3\\lib\\site-packages\\dateparser\\freshness_date_parser.py:76: PytzUsageWarning: The localize method is no longer necessary, as this time zone supports the fold attribute (PEP 495). For more details on migrating to a PEP 495-compliant implementation, see https://pytz-deprecation-shim.readthedocs.io/en/latest/migration.html\n",
      "  now = self.get_local_tz().localize(now)\n"
     ]
    },
    {
     "name": "stdout",
     "output_type": "stream",
     "text": [
      "7443889332349842 get\n"
     ]
    },
    {
     "name": "stderr",
     "output_type": "stream",
     "text": [
      "C:\\Users\\Sree Vidya\\AppData\\Local\\Temp\\ipykernel_11400\\3600050919.py:6: FutureWarning: The frame.append method is deprecated and will be removed from pandas in a future version. Use pandas.concat instead.\n",
      "  post_df_full = post_df_full.append(fb_post_df)\n"
     ]
    }
   ],
   "source": [
    "post_df_full = pd.DataFrame(columns = [])\n",
    "for post in get_posts('RelianceIndustriesLimited', extra_info=True, pages=100, options={\"comments\": True}):\n",
    "    post_entry = post\n",
    "    fb_post_df = pd.DataFrame.from_dict(post_entry, orient='index')\n",
    "    fb_post_df = fb_post_df.transpose()\n",
    "    post_df_full = post_df_full.append(fb_post_df)\n",
    "    print(post['post_id']+' get')"
   ]
  },
  {
   "cell_type": "code",
   "execution_count": 3,
   "id": "56604a56",
   "metadata": {},
   "outputs": [
    {
     "name": "stdout",
     "output_type": "stream",
     "text": [
      "<class 'pandas.core.frame.DataFrame'>\n",
      "Int64Index: 396 entries, 0 to 0\n",
      "Data columns (total 56 columns):\n",
      " #   Column                         Non-Null Count  Dtype         \n",
      "---  ------                         --------------  -----         \n",
      " 0   post_id                        396 non-null    object        \n",
      " 1   text                           371 non-null    object        \n",
      " 2   post_text                      371 non-null    object        \n",
      " 3   shared_text                    368 non-null    object        \n",
      " 4   original_text                  93 non-null     object        \n",
      " 5   time                           396 non-null    datetime64[ns]\n",
      " 6   timestamp                      396 non-null    object        \n",
      " 7   image                          215 non-null    object        \n",
      " 8   image_lowquality               395 non-null    object        \n",
      " 9   images                         287 non-null    object        \n",
      " 10  images_description             287 non-null    object        \n",
      " 11  images_lowquality              396 non-null    object        \n",
      " 12  images_lowquality_description  396 non-null    object        \n",
      " 13  video                          207 non-null    object        \n",
      " 14  video_duration_seconds         0 non-null      object        \n",
      " 15  video_height                   0 non-null      object        \n",
      " 16  video_id                       207 non-null    object        \n",
      " 17  video_quality                  0 non-null      object        \n",
      " 18  video_size_MB                  0 non-null      object        \n",
      " 19  video_thumbnail                207 non-null    object        \n",
      " 20  video_watches                  0 non-null      object        \n",
      " 21  video_width                    0 non-null      object        \n",
      " 22  likes                          396 non-null    object        \n",
      " 23  comments                       396 non-null    object        \n",
      " 24  shares                         394 non-null    object        \n",
      " 25  post_url                       396 non-null    object        \n",
      " 26  link                           183 non-null    object        \n",
      " 27  links                          396 non-null    object        \n",
      " 28  user_id                        396 non-null    object        \n",
      " 29  username                       396 non-null    object        \n",
      " 30  user_url                       396 non-null    object        \n",
      " 31  is_live                        396 non-null    object        \n",
      " 32  factcheck                      0 non-null      object        \n",
      " 33  shared_post_id                 75 non-null     object        \n",
      " 34  shared_time                    75 non-null     object        \n",
      " 35  shared_user_id                 75 non-null     object        \n",
      " 36  shared_username                75 non-null     object        \n",
      " 37  shared_post_url                75 non-null     object        \n",
      " 38  available                      396 non-null    object        \n",
      " 39  comments_full                  396 non-null    object        \n",
      " 40  reactors                       0 non-null      object        \n",
      " 41  w3_fb_url                      0 non-null      object        \n",
      " 42  reactions                      0 non-null      object        \n",
      " 43  reaction_count                 396 non-null    object        \n",
      " 44  with                           316 non-null    object        \n",
      " 45  page_id                        396 non-null    object        \n",
      " 46  sharers                        0 non-null      object        \n",
      " 47  image_id                       199 non-null    object        \n",
      " 48  image_ids                      396 non-null    object        \n",
      " 49  was_live                       396 non-null    object        \n",
      " 50  listing_title                  55 non-null     object        \n",
      " 51  listing_price                  55 non-null     object        \n",
      " 52  listing_location               55 non-null     object        \n",
      " 53  header                         316 non-null    object        \n",
      " 54  video_ids                      4 non-null      object        \n",
      " 55  videos                         4 non-null      object        \n",
      "dtypes: datetime64[ns](1), object(55)\n",
      "memory usage: 176.3+ KB\n"
     ]
    }
   ],
   "source": [
    "post_df_full.info()"
   ]
  },
  {
   "cell_type": "code",
   "execution_count": 4,
   "id": "e63ccd85",
   "metadata": {},
   "outputs": [
    {
     "data": {
      "text/plain": [
       "396"
      ]
     },
     "execution_count": 4,
     "metadata": {},
     "output_type": "execute_result"
    }
   ],
   "source": [
    "len(post_df_full)"
   ]
  },
  {
   "cell_type": "code",
   "execution_count": 5,
   "id": "c6f56b2d",
   "metadata": {},
   "outputs": [
    {
     "data": {
      "text/html": [
       "<div>\n",
       "<style scoped>\n",
       "    .dataframe tbody tr th:only-of-type {\n",
       "        vertical-align: middle;\n",
       "    }\n",
       "\n",
       "    .dataframe tbody tr th {\n",
       "        vertical-align: top;\n",
       "    }\n",
       "\n",
       "    .dataframe thead th {\n",
       "        text-align: right;\n",
       "    }\n",
       "</style>\n",
       "<table border=\"1\" class=\"dataframe\">\n",
       "  <thead>\n",
       "    <tr style=\"text-align: right;\">\n",
       "      <th></th>\n",
       "      <th>post_id</th>\n",
       "      <th>text</th>\n",
       "      <th>post_text</th>\n",
       "      <th>shared_text</th>\n",
       "      <th>original_text</th>\n",
       "      <th>time</th>\n",
       "      <th>timestamp</th>\n",
       "      <th>image</th>\n",
       "      <th>image_lowquality</th>\n",
       "      <th>images</th>\n",
       "      <th>...</th>\n",
       "      <th>sharers</th>\n",
       "      <th>image_id</th>\n",
       "      <th>image_ids</th>\n",
       "      <th>was_live</th>\n",
       "      <th>listing_title</th>\n",
       "      <th>listing_price</th>\n",
       "      <th>listing_location</th>\n",
       "      <th>header</th>\n",
       "      <th>video_ids</th>\n",
       "      <th>videos</th>\n",
       "    </tr>\n",
       "  </thead>\n",
       "  <tbody>\n",
       "    <tr>\n",
       "      <th>0</th>\n",
       "      <td>7452728001465975</td>\n",
       "      <td>Jio Institute invites you to meet the faculty ...</td>\n",
       "      <td>Jio Institute invites you to meet the faculty ...</td>\n",
       "      <td></td>\n",
       "      <td>None</td>\n",
       "      <td>2022-05-04 12:50:35</td>\n",
       "      <td>1651648835</td>\n",
       "      <td>https://scontent.fmaa12-3.fna.fbcdn.net/v/t39....</td>\n",
       "      <td>https://scontent.fmaa12-3.fna.fbcdn.net/v/t39....</td>\n",
       "      <td>[https://scontent.fmaa12-3.fna.fbcdn.net/v/t39...</td>\n",
       "      <td>...</td>\n",
       "      <td>None</td>\n",
       "      <td>527581248974068</td>\n",
       "      <td>[527581248974068]</td>\n",
       "      <td>False</td>\n",
       "      <td>NaN</td>\n",
       "      <td>NaN</td>\n",
       "      <td>NaN</td>\n",
       "      <td>Reliance Industries Limited\\n4 May 2022 at 12:...</td>\n",
       "      <td>NaN</td>\n",
       "      <td>NaN</td>\n",
       "    </tr>\n",
       "    <tr>\n",
       "      <th>0</th>\n",
       "      <td>7448758065196302</td>\n",
       "      <td>May this auspicious day be the start of someth...</td>\n",
       "      <td>May this auspicious day be the start of someth...</td>\n",
       "      <td>Reliance Industries Limited\\n3 May 2022 at 15:...</td>\n",
       "      <td>None</td>\n",
       "      <td>2022-05-03 16:07:32</td>\n",
       "      <td>1651574252</td>\n",
       "      <td>https://scontent.fmaa12-3.fna.fbcdn.net/v/t39....</td>\n",
       "      <td>https://scontent.fmaa12-3.fna.fbcdn.net/v/t15....</td>\n",
       "      <td>[https://scontent.fmaa12-3.fna.fbcdn.net/v/t39...</td>\n",
       "      <td>...</td>\n",
       "      <td>None</td>\n",
       "      <td>7448694928535949</td>\n",
       "      <td>[7448694928535949, 7448001095271999]</td>\n",
       "      <td>False</td>\n",
       "      <td>NaN</td>\n",
       "      <td>NaN</td>\n",
       "      <td>NaN</td>\n",
       "      <td>Reliance Industries Limited\\n3 May 2022 at 16:...</td>\n",
       "      <td>NaN</td>\n",
       "      <td>NaN</td>\n",
       "    </tr>\n",
       "    <tr>\n",
       "      <th>0</th>\n",
       "      <td>7448694991869276</td>\n",
       "      <td>Eid Mubarak!\\n306 Likes14 comments\\nBrijesh Az...</td>\n",
       "      <td>Eid Mubarak!\\n306 Likes14 comments\\nBrijesh Az...</td>\n",
       "      <td>Reliance Industries Limited updated their cove...</td>\n",
       "      <td>None</td>\n",
       "      <td>2022-05-03 15:45:52</td>\n",
       "      <td>1651572952</td>\n",
       "      <td>https://scontent.fmaa12-3.fna.fbcdn.net/v/t39....</td>\n",
       "      <td>https://scontent.fmaa12-3.fna.fbcdn.net/v/t39....</td>\n",
       "      <td>[https://scontent.fmaa12-3.fna.fbcdn.net/v/t39...</td>\n",
       "      <td>...</td>\n",
       "      <td>None</td>\n",
       "      <td>7448694928535949</td>\n",
       "      <td>[7448694928535949, 7448001095271999]</td>\n",
       "      <td>False</td>\n",
       "      <td>NaN</td>\n",
       "      <td>NaN</td>\n",
       "      <td>NaN</td>\n",
       "      <td>Reliance Industries Limited\\n3 May 2022 at 15:...</td>\n",
       "      <td>NaN</td>\n",
       "      <td>NaN</td>\n",
       "    </tr>\n",
       "    <tr>\n",
       "      <th>0</th>\n",
       "      <td>7448001095271999</td>\n",
       "      <td>FIFA+ goes live with its first Indian sports d...</td>\n",
       "      <td>FIFA+ goes live with its first Indian sports d...</td>\n",
       "      <td></td>\n",
       "      <td>None</td>\n",
       "      <td>2022-05-03 11:45:13</td>\n",
       "      <td>1651558513</td>\n",
       "      <td>None</td>\n",
       "      <td>https://scontent.fmaa12-1.fna.fbcdn.net/v/t39....</td>\n",
       "      <td>None</td>\n",
       "      <td>...</td>\n",
       "      <td>None</td>\n",
       "      <td>7448001095271999</td>\n",
       "      <td>[7448001095271999]</td>\n",
       "      <td>False</td>\n",
       "      <td>NaN</td>\n",
       "      <td>NaN</td>\n",
       "      <td>NaN</td>\n",
       "      <td>Reliance Industries Limited updated their cove...</td>\n",
       "      <td>NaN</td>\n",
       "      <td>NaN</td>\n",
       "    </tr>\n",
       "    <tr>\n",
       "      <th>0</th>\n",
       "      <td>7443889332349842</td>\n",
       "      <td>FIFA+ goes live with its first Indian sports d...</td>\n",
       "      <td>FIFA+ goes live with its first Indian sports d...</td>\n",
       "      <td></td>\n",
       "      <td>None</td>\n",
       "      <td>2022-05-02 13:21:44</td>\n",
       "      <td>1651477904</td>\n",
       "      <td>None</td>\n",
       "      <td>https://scontent.fmaa12-2.fna.fbcdn.net/v/t39....</td>\n",
       "      <td>None</td>\n",
       "      <td>...</td>\n",
       "      <td>None</td>\n",
       "      <td>None</td>\n",
       "      <td>[]</td>\n",
       "      <td>False</td>\n",
       "      <td>NaN</td>\n",
       "      <td>NaN</td>\n",
       "      <td>NaN</td>\n",
       "      <td>NaN</td>\n",
       "      <td>NaN</td>\n",
       "      <td>NaN</td>\n",
       "    </tr>\n",
       "  </tbody>\n",
       "</table>\n",
       "<p>5 rows × 56 columns</p>\n",
       "</div>"
      ],
      "text/plain": [
       "            post_id                                               text  \\\n",
       "0  7452728001465975  Jio Institute invites you to meet the faculty ...   \n",
       "0  7448758065196302  May this auspicious day be the start of someth...   \n",
       "0  7448694991869276  Eid Mubarak!\\n306 Likes14 comments\\nBrijesh Az...   \n",
       "0  7448001095271999  FIFA+ goes live with its first Indian sports d...   \n",
       "0  7443889332349842  FIFA+ goes live with its first Indian sports d...   \n",
       "\n",
       "                                           post_text  \\\n",
       "0  Jio Institute invites you to meet the faculty ...   \n",
       "0  May this auspicious day be the start of someth...   \n",
       "0  Eid Mubarak!\\n306 Likes14 comments\\nBrijesh Az...   \n",
       "0  FIFA+ goes live with its first Indian sports d...   \n",
       "0  FIFA+ goes live with its first Indian sports d...   \n",
       "\n",
       "                                         shared_text original_text  \\\n",
       "0                                                             None   \n",
       "0  Reliance Industries Limited\\n3 May 2022 at 15:...          None   \n",
       "0  Reliance Industries Limited updated their cove...          None   \n",
       "0                                                             None   \n",
       "0                                                             None   \n",
       "\n",
       "                 time   timestamp  \\\n",
       "0 2022-05-04 12:50:35  1651648835   \n",
       "0 2022-05-03 16:07:32  1651574252   \n",
       "0 2022-05-03 15:45:52  1651572952   \n",
       "0 2022-05-03 11:45:13  1651558513   \n",
       "0 2022-05-02 13:21:44  1651477904   \n",
       "\n",
       "                                               image  \\\n",
       "0  https://scontent.fmaa12-3.fna.fbcdn.net/v/t39....   \n",
       "0  https://scontent.fmaa12-3.fna.fbcdn.net/v/t39....   \n",
       "0  https://scontent.fmaa12-3.fna.fbcdn.net/v/t39....   \n",
       "0                                               None   \n",
       "0                                               None   \n",
       "\n",
       "                                    image_lowquality  \\\n",
       "0  https://scontent.fmaa12-3.fna.fbcdn.net/v/t39....   \n",
       "0  https://scontent.fmaa12-3.fna.fbcdn.net/v/t15....   \n",
       "0  https://scontent.fmaa12-3.fna.fbcdn.net/v/t39....   \n",
       "0  https://scontent.fmaa12-1.fna.fbcdn.net/v/t39....   \n",
       "0  https://scontent.fmaa12-2.fna.fbcdn.net/v/t39....   \n",
       "\n",
       "                                              images  ... sharers  \\\n",
       "0  [https://scontent.fmaa12-3.fna.fbcdn.net/v/t39...  ...    None   \n",
       "0  [https://scontent.fmaa12-3.fna.fbcdn.net/v/t39...  ...    None   \n",
       "0  [https://scontent.fmaa12-3.fna.fbcdn.net/v/t39...  ...    None   \n",
       "0                                               None  ...    None   \n",
       "0                                               None  ...    None   \n",
       "\n",
       "           image_id                             image_ids was_live  \\\n",
       "0   527581248974068                     [527581248974068]    False   \n",
       "0  7448694928535949  [7448694928535949, 7448001095271999]    False   \n",
       "0  7448694928535949  [7448694928535949, 7448001095271999]    False   \n",
       "0  7448001095271999                    [7448001095271999]    False   \n",
       "0              None                                    []    False   \n",
       "\n",
       "  listing_title listing_price listing_location  \\\n",
       "0           NaN           NaN              NaN   \n",
       "0           NaN           NaN              NaN   \n",
       "0           NaN           NaN              NaN   \n",
       "0           NaN           NaN              NaN   \n",
       "0           NaN           NaN              NaN   \n",
       "\n",
       "                                              header video_ids videos  \n",
       "0  Reliance Industries Limited\\n4 May 2022 at 12:...       NaN    NaN  \n",
       "0  Reliance Industries Limited\\n3 May 2022 at 16:...       NaN    NaN  \n",
       "0  Reliance Industries Limited\\n3 May 2022 at 15:...       NaN    NaN  \n",
       "0  Reliance Industries Limited updated their cove...       NaN    NaN  \n",
       "0                                                NaN       NaN    NaN  \n",
       "\n",
       "[5 rows x 56 columns]"
      ]
     },
     "execution_count": 5,
     "metadata": {},
     "output_type": "execute_result"
    }
   ],
   "source": [
    "post_df_full.tail()"
   ]
  },
  {
   "cell_type": "code",
   "execution_count": 8,
   "id": "10a0a556",
   "metadata": {},
   "outputs": [],
   "source": [
    "#post_df_full.to_csv(r'fb_scrapped_data.csv', index = False)"
   ]
  },
  {
   "cell_type": "code",
   "execution_count": 6,
   "id": "069fdc0a",
   "metadata": {},
   "outputs": [],
   "source": [
    "final_data = post_df_full"
   ]
  },
  {
   "cell_type": "code",
   "execution_count": 8,
   "id": "fc39084d",
   "metadata": {},
   "outputs": [],
   "source": [
    "final_data = final_data[[\"post_text\",\"time\"]]"
   ]
  },
  {
   "cell_type": "code",
   "execution_count": 9,
   "id": "9f5d39c8",
   "metadata": {},
   "outputs": [
    {
     "data": {
      "text/html": [
       "<div>\n",
       "<style scoped>\n",
       "    .dataframe tbody tr th:only-of-type {\n",
       "        vertical-align: middle;\n",
       "    }\n",
       "\n",
       "    .dataframe tbody tr th {\n",
       "        vertical-align: top;\n",
       "    }\n",
       "\n",
       "    .dataframe thead th {\n",
       "        text-align: right;\n",
       "    }\n",
       "</style>\n",
       "<table border=\"1\" class=\"dataframe\">\n",
       "  <thead>\n",
       "    <tr style=\"text-align: right;\">\n",
       "      <th></th>\n",
       "      <th>post_text</th>\n",
       "      <th>time</th>\n",
       "    </tr>\n",
       "  </thead>\n",
       "  <tbody>\n",
       "    <tr>\n",
       "      <th>0</th>\n",
       "      <td>Media Release - Hon'ble Chief Minister of Raja...</td>\n",
       "      <td>2023-01-07 17:14:19</td>\n",
       "    </tr>\n",
       "    <tr>\n",
       "      <th>0</th>\n",
       "      <td>Media Release - Jio Announces True 5G Launch i...</td>\n",
       "      <td>2023-01-06 12:41:20</td>\n",
       "    </tr>\n",
       "    <tr>\n",
       "      <th>0</th>\n",
       "      <td>Media Release - Hamdard Signs agreement with R...</td>\n",
       "      <td>2023-01-05 17:21:50</td>\n",
       "    </tr>\n",
       "    <tr>\n",
       "      <th>0</th>\n",
       "      <td>Jio Launches True 5G in Odisha\\n#True5G\\nPlay ...</td>\n",
       "      <td>2023-01-05 14:33:50</td>\n",
       "    </tr>\n",
       "    <tr>\n",
       "      <th>0</th>\n",
       "      <td>Media Release: Jio Launches True 5G in Odisha\\...</td>\n",
       "      <td>2023-01-05 13:50:02</td>\n",
       "    </tr>\n",
       "    <tr>\n",
       "      <th>...</th>\n",
       "      <td>...</td>\n",
       "      <td>...</td>\n",
       "    </tr>\n",
       "    <tr>\n",
       "      <th>0</th>\n",
       "      <td>Jio Institute invites you to meet the faculty ...</td>\n",
       "      <td>2022-05-04 12:50:35</td>\n",
       "    </tr>\n",
       "    <tr>\n",
       "      <th>0</th>\n",
       "      <td>May this auspicious day be the start of someth...</td>\n",
       "      <td>2022-05-03 16:07:32</td>\n",
       "    </tr>\n",
       "    <tr>\n",
       "      <th>0</th>\n",
       "      <td>Eid Mubarak!\\n306 Likes14 comments\\nBrijesh Az...</td>\n",
       "      <td>2022-05-03 15:45:52</td>\n",
       "    </tr>\n",
       "    <tr>\n",
       "      <th>0</th>\n",
       "      <td>FIFA+ goes live with its first Indian sports d...</td>\n",
       "      <td>2022-05-03 11:45:13</td>\n",
       "    </tr>\n",
       "    <tr>\n",
       "      <th>0</th>\n",
       "      <td>FIFA+ goes live with its first Indian sports d...</td>\n",
       "      <td>2022-05-02 13:21:44</td>\n",
       "    </tr>\n",
       "  </tbody>\n",
       "</table>\n",
       "<p>396 rows × 2 columns</p>\n",
       "</div>"
      ],
      "text/plain": [
       "                                            post_text                time\n",
       "0   Media Release - Hon'ble Chief Minister of Raja... 2023-01-07 17:14:19\n",
       "0   Media Release - Jio Announces True 5G Launch i... 2023-01-06 12:41:20\n",
       "0   Media Release - Hamdard Signs agreement with R... 2023-01-05 17:21:50\n",
       "0   Jio Launches True 5G in Odisha\\n#True5G\\nPlay ... 2023-01-05 14:33:50\n",
       "0   Media Release: Jio Launches True 5G in Odisha\\... 2023-01-05 13:50:02\n",
       "..                                                ...                 ...\n",
       "0   Jio Institute invites you to meet the faculty ... 2022-05-04 12:50:35\n",
       "0   May this auspicious day be the start of someth... 2022-05-03 16:07:32\n",
       "0   Eid Mubarak!\\n306 Likes14 comments\\nBrijesh Az... 2022-05-03 15:45:52\n",
       "0   FIFA+ goes live with its first Indian sports d... 2022-05-03 11:45:13\n",
       "0   FIFA+ goes live with its first Indian sports d... 2022-05-02 13:21:44\n",
       "\n",
       "[396 rows x 2 columns]"
      ]
     },
     "execution_count": 9,
     "metadata": {},
     "output_type": "execute_result"
    }
   ],
   "source": [
    "final_data"
   ]
  },
  {
   "cell_type": "code",
   "execution_count": 10,
   "id": "2bdc9987",
   "metadata": {},
   "outputs": [],
   "source": [
    "import datetime\n",
    "from datetime import datetime"
   ]
  },
  {
   "cell_type": "code",
   "execution_count": 12,
   "id": "58cfe5ce",
   "metadata": {},
   "outputs": [
    {
     "name": "stderr",
     "output_type": "stream",
     "text": [
      "C:\\Users\\Sree Vidya\\AppData\\Local\\Temp\\ipykernel_11400\\3540571764.py:1: SettingWithCopyWarning: \n",
      "A value is trying to be set on a copy of a slice from a DataFrame.\n",
      "Try using .loc[row_indexer,col_indexer] = value instead\n",
      "\n",
      "See the caveats in the documentation: https://pandas.pydata.org/pandas-docs/stable/user_guide/indexing.html#returning-a-view-versus-a-copy\n",
      "  final_data['date'] = pd.to_datetime(final_data['time']).dt.date\n"
     ]
    },
    {
     "data": {
      "text/html": [
       "<div>\n",
       "<style scoped>\n",
       "    .dataframe tbody tr th:only-of-type {\n",
       "        vertical-align: middle;\n",
       "    }\n",
       "\n",
       "    .dataframe tbody tr th {\n",
       "        vertical-align: top;\n",
       "    }\n",
       "\n",
       "    .dataframe thead th {\n",
       "        text-align: right;\n",
       "    }\n",
       "</style>\n",
       "<table border=\"1\" class=\"dataframe\">\n",
       "  <thead>\n",
       "    <tr style=\"text-align: right;\">\n",
       "      <th></th>\n",
       "      <th>post_text</th>\n",
       "      <th>time</th>\n",
       "      <th>date</th>\n",
       "    </tr>\n",
       "  </thead>\n",
       "  <tbody>\n",
       "    <tr>\n",
       "      <th>0</th>\n",
       "      <td>Media Release - Hon'ble Chief Minister of Raja...</td>\n",
       "      <td>2023-01-07 17:14:19</td>\n",
       "      <td>2023-01-07</td>\n",
       "    </tr>\n",
       "    <tr>\n",
       "      <th>0</th>\n",
       "      <td>Media Release - Jio Announces True 5G Launch i...</td>\n",
       "      <td>2023-01-06 12:41:20</td>\n",
       "      <td>2023-01-06</td>\n",
       "    </tr>\n",
       "    <tr>\n",
       "      <th>0</th>\n",
       "      <td>Media Release - Hamdard Signs agreement with R...</td>\n",
       "      <td>2023-01-05 17:21:50</td>\n",
       "      <td>2023-01-05</td>\n",
       "    </tr>\n",
       "    <tr>\n",
       "      <th>0</th>\n",
       "      <td>Jio Launches True 5G in Odisha\\n#True5G\\nPlay ...</td>\n",
       "      <td>2023-01-05 14:33:50</td>\n",
       "      <td>2023-01-05</td>\n",
       "    </tr>\n",
       "    <tr>\n",
       "      <th>0</th>\n",
       "      <td>Media Release: Jio Launches True 5G in Odisha\\...</td>\n",
       "      <td>2023-01-05 13:50:02</td>\n",
       "      <td>2023-01-05</td>\n",
       "    </tr>\n",
       "    <tr>\n",
       "      <th>...</th>\n",
       "      <td>...</td>\n",
       "      <td>...</td>\n",
       "      <td>...</td>\n",
       "    </tr>\n",
       "    <tr>\n",
       "      <th>0</th>\n",
       "      <td>Jio Institute invites you to meet the faculty ...</td>\n",
       "      <td>2022-05-04 12:50:35</td>\n",
       "      <td>2022-05-04</td>\n",
       "    </tr>\n",
       "    <tr>\n",
       "      <th>0</th>\n",
       "      <td>May this auspicious day be the start of someth...</td>\n",
       "      <td>2022-05-03 16:07:32</td>\n",
       "      <td>2022-05-03</td>\n",
       "    </tr>\n",
       "    <tr>\n",
       "      <th>0</th>\n",
       "      <td>Eid Mubarak!\\n306 Likes14 comments\\nBrijesh Az...</td>\n",
       "      <td>2022-05-03 15:45:52</td>\n",
       "      <td>2022-05-03</td>\n",
       "    </tr>\n",
       "    <tr>\n",
       "      <th>0</th>\n",
       "      <td>FIFA+ goes live with its first Indian sports d...</td>\n",
       "      <td>2022-05-03 11:45:13</td>\n",
       "      <td>2022-05-03</td>\n",
       "    </tr>\n",
       "    <tr>\n",
       "      <th>0</th>\n",
       "      <td>FIFA+ goes live with its first Indian sports d...</td>\n",
       "      <td>2022-05-02 13:21:44</td>\n",
       "      <td>2022-05-02</td>\n",
       "    </tr>\n",
       "  </tbody>\n",
       "</table>\n",
       "<p>396 rows × 3 columns</p>\n",
       "</div>"
      ],
      "text/plain": [
       "                                            post_text                time  \\\n",
       "0   Media Release - Hon'ble Chief Minister of Raja... 2023-01-07 17:14:19   \n",
       "0   Media Release - Jio Announces True 5G Launch i... 2023-01-06 12:41:20   \n",
       "0   Media Release - Hamdard Signs agreement with R... 2023-01-05 17:21:50   \n",
       "0   Jio Launches True 5G in Odisha\\n#True5G\\nPlay ... 2023-01-05 14:33:50   \n",
       "0   Media Release: Jio Launches True 5G in Odisha\\... 2023-01-05 13:50:02   \n",
       "..                                                ...                 ...   \n",
       "0   Jio Institute invites you to meet the faculty ... 2022-05-04 12:50:35   \n",
       "0   May this auspicious day be the start of someth... 2022-05-03 16:07:32   \n",
       "0   Eid Mubarak!\\n306 Likes14 comments\\nBrijesh Az... 2022-05-03 15:45:52   \n",
       "0   FIFA+ goes live with its first Indian sports d... 2022-05-03 11:45:13   \n",
       "0   FIFA+ goes live with its first Indian sports d... 2022-05-02 13:21:44   \n",
       "\n",
       "          date  \n",
       "0   2023-01-07  \n",
       "0   2023-01-06  \n",
       "0   2023-01-05  \n",
       "0   2023-01-05  \n",
       "0   2023-01-05  \n",
       "..         ...  \n",
       "0   2022-05-04  \n",
       "0   2022-05-03  \n",
       "0   2022-05-03  \n",
       "0   2022-05-03  \n",
       "0   2022-05-02  \n",
       "\n",
       "[396 rows x 3 columns]"
      ]
     },
     "execution_count": 12,
     "metadata": {},
     "output_type": "execute_result"
    }
   ],
   "source": [
    "\n",
    "final_data['date'] = pd.to_datetime(final_data['time']).dt.date\n",
    "final_data"
   ]
  },
  {
   "cell_type": "code",
   "execution_count": 41,
   "id": "44f1e723",
   "metadata": {},
   "outputs": [
    {
     "data": {
      "text/html": [
       "<div>\n",
       "<style scoped>\n",
       "    .dataframe tbody tr th:only-of-type {\n",
       "        vertical-align: middle;\n",
       "    }\n",
       "\n",
       "    .dataframe tbody tr th {\n",
       "        vertical-align: top;\n",
       "    }\n",
       "\n",
       "    .dataframe thead th {\n",
       "        text-align: right;\n",
       "    }\n",
       "</style>\n",
       "<table border=\"1\" class=\"dataframe\">\n",
       "  <thead>\n",
       "    <tr style=\"text-align: right;\">\n",
       "      <th></th>\n",
       "      <th>date</th>\n",
       "      <th>post_text</th>\n",
       "    </tr>\n",
       "  </thead>\n",
       "  <tbody>\n",
       "    <tr>\n",
       "      <th>0</th>\n",
       "      <td>2022-05-04</td>\n",
       "      <td>Jio Institute invites you to meet the faculty ...</td>\n",
       "    </tr>\n",
       "    <tr>\n",
       "      <th>0</th>\n",
       "      <td>2022-05-03</td>\n",
       "      <td>May this auspicious day be the start of someth...</td>\n",
       "    </tr>\n",
       "    <tr>\n",
       "      <th>0</th>\n",
       "      <td>2022-05-03</td>\n",
       "      <td>Eid Mubarak!\\n306 Likes14 comments\\nBrijesh Az...</td>\n",
       "    </tr>\n",
       "    <tr>\n",
       "      <th>0</th>\n",
       "      <td>2022-05-03</td>\n",
       "      <td>FIFA+ goes live with its first Indian sports d...</td>\n",
       "    </tr>\n",
       "    <tr>\n",
       "      <th>0</th>\n",
       "      <td>2022-05-02</td>\n",
       "      <td>FIFA+ goes live with its first Indian sports d...</td>\n",
       "    </tr>\n",
       "  </tbody>\n",
       "</table>\n",
       "</div>"
      ],
      "text/plain": [
       "         date                                          post_text\n",
       "0  2022-05-04  Jio Institute invites you to meet the faculty ...\n",
       "0  2022-05-03  May this auspicious day be the start of someth...\n",
       "0  2022-05-03  Eid Mubarak!\\n306 Likes14 comments\\nBrijesh Az...\n",
       "0  2022-05-03  FIFA+ goes live with its first Indian sports d...\n",
       "0  2022-05-02  FIFA+ goes live with its first Indian sports d..."
      ]
     },
     "execution_count": 41,
     "metadata": {},
     "output_type": "execute_result"
    }
   ],
   "source": [
    "Facebook = final_data[[\"date\",\"post_text\"]]\n",
    "Facebook.tail()"
   ]
  },
  {
   "cell_type": "code",
   "execution_count": 15,
   "id": "932e3a45",
   "metadata": {},
   "outputs": [],
   "source": [
    "Facebook.to_csv(r'facebook_data.csv', index = False) "
   ]
  },
  {
   "cell_type": "code",
   "execution_count": null,
   "id": "afa82d92",
   "metadata": {},
   "outputs": [],
   "source": []
  }
 ],
 "metadata": {
  "kernelspec": {
   "display_name": "Python 3 (ipykernel)",
   "language": "python",
   "name": "python3"
  },
  "language_info": {
   "codemirror_mode": {
    "name": "ipython",
    "version": 3
   },
   "file_extension": ".py",
   "mimetype": "text/x-python",
   "name": "python",
   "nbconvert_exporter": "python",
   "pygments_lexer": "ipython3",
   "version": "3.9.12"
  }
 },
 "nbformat": 4,
 "nbformat_minor": 5
}
