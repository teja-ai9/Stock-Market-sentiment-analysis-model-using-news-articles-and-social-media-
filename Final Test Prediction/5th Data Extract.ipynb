{
 "cells": [
  {
   "cell_type": "markdown",
   "id": "2484a6f4",
   "metadata": {},
   "source": [
    "Twitter Data - 5th Jan"
   ]
  },
  {
   "cell_type": "code",
   "execution_count": 2,
   "id": "e8b3f624",
   "metadata": {},
   "outputs": [],
   "source": [
    "import pandas as pd\n",
    "twitter = pd.read_csv(\"C:/Users/Sree Vidya/Downloads/5jan.csv\")"
   ]
  },
  {
   "cell_type": "code",
   "execution_count": 4,
   "id": "087ef496",
   "metadata": {},
   "outputs": [
    {
     "data": {
      "text/html": [
       "<div>\n",
       "<style scoped>\n",
       "    .dataframe tbody tr th:only-of-type {\n",
       "        vertical-align: middle;\n",
       "    }\n",
       "\n",
       "    .dataframe tbody tr th {\n",
       "        vertical-align: top;\n",
       "    }\n",
       "\n",
       "    .dataframe thead th {\n",
       "        text-align: right;\n",
       "    }\n",
       "</style>\n",
       "<table border=\"1\" class=\"dataframe\">\n",
       "  <thead>\n",
       "    <tr style=\"text-align: right;\">\n",
       "      <th></th>\n",
       "      <th>Unnamed: 0</th>\n",
       "      <th>User</th>\n",
       "      <th>Date Created</th>\n",
       "      <th>Number of Likes</th>\n",
       "      <th>Source of Tweet</th>\n",
       "      <th>Tweet</th>\n",
       "      <th>Follower Count</th>\n",
       "      <th>Date</th>\n",
       "      <th>Created</th>\n",
       "    </tr>\n",
       "  </thead>\n",
       "  <tbody>\n",
       "    <tr>\n",
       "      <th>0</th>\n",
       "      <td>275</td>\n",
       "      <td>AlArabiya_Eng</td>\n",
       "      <td>2023-01-05 22:00:00+00:00</td>\n",
       "      <td>0</td>\n",
       "      <td>Sprinklr</td>\n",
       "      <td>#MukeshAmbani, the billionaire chairman of #Re...</td>\n",
       "      <td>924899</td>\n",
       "      <td>1/5/2023</td>\n",
       "      <td>22:00:00+00:00</td>\n",
       "    </tr>\n",
       "    <tr>\n",
       "      <th>1</th>\n",
       "      <td>276</td>\n",
       "      <td>Skywaaaalker</td>\n",
       "      <td>2023-01-05 20:41:42+00:00</td>\n",
       "      <td>1</td>\n",
       "      <td>Twitter for iPhone</td>\n",
       "      <td>#Germany #increases #renewables #reliance in 2...</td>\n",
       "      <td>1194</td>\n",
       "      <td>1/5/2023</td>\n",
       "      <td>20:41:42+00:00</td>\n",
       "    </tr>\n",
       "    <tr>\n",
       "      <th>2</th>\n",
       "      <td>277</td>\n",
       "      <td>Raj_Ranga2002</td>\n",
       "      <td>2023-01-05 19:14:55+00:00</td>\n",
       "      <td>4</td>\n",
       "      <td>Twitter for Android</td>\n",
       "      <td>#Reliance 2514 -&amp;gt; 2575-&amp;gt; 2611 \\nNegates ...</td>\n",
       "      <td>2015</td>\n",
       "      <td>1/5/2023</td>\n",
       "      <td>19:14:55+00:00</td>\n",
       "    </tr>\n",
       "    <tr>\n",
       "      <th>3</th>\n",
       "      <td>278</td>\n",
       "      <td>asison80</td>\n",
       "      <td>2023-01-05 18:56:49+00:00</td>\n",
       "      <td>2</td>\n",
       "      <td>LinkedIn</td>\n",
       "      <td>Neden Elektrikli forklift üretmeliyim ?\\n\\n#Ma...</td>\n",
       "      <td>181</td>\n",
       "      <td>1/5/2023</td>\n",
       "      <td>18:56:49+00:00</td>\n",
       "    </tr>\n",
       "    <tr>\n",
       "      <th>4</th>\n",
       "      <td>279</td>\n",
       "      <td>Niku_21</td>\n",
       "      <td>2023-01-05 18:29:07+00:00</td>\n",
       "      <td>2</td>\n",
       "      <td>Twitter for Android</td>\n",
       "      <td>@iHrithik Remember this .?? \\n\\n\"Glimpse of me...</td>\n",
       "      <td>72</td>\n",
       "      <td>1/5/2023</td>\n",
       "      <td>18:29:07+00:00</td>\n",
       "    </tr>\n",
       "  </tbody>\n",
       "</table>\n",
       "</div>"
      ],
      "text/plain": [
       "   Unnamed: 0           User               Date Created  Number of Likes  \\\n",
       "0         275  AlArabiya_Eng  2023-01-05 22:00:00+00:00                0   \n",
       "1         276   Skywaaaalker  2023-01-05 20:41:42+00:00                1   \n",
       "2         277  Raj_Ranga2002  2023-01-05 19:14:55+00:00                4   \n",
       "3         278       asison80  2023-01-05 18:56:49+00:00                2   \n",
       "4         279        Niku_21  2023-01-05 18:29:07+00:00                2   \n",
       "\n",
       "       Source of Tweet                                              Tweet  \\\n",
       "0             Sprinklr  #MukeshAmbani, the billionaire chairman of #Re...   \n",
       "1   Twitter for iPhone  #Germany #increases #renewables #reliance in 2...   \n",
       "2  Twitter for Android  #Reliance 2514 -&gt; 2575-&gt; 2611 \\nNegates ...   \n",
       "3             LinkedIn  Neden Elektrikli forklift üretmeliyim ?\\n\\n#Ma...   \n",
       "4  Twitter for Android  @iHrithik Remember this .?? \\n\\n\"Glimpse of me...   \n",
       "\n",
       "   Follower Count      Date         Created  \n",
       "0          924899  1/5/2023  22:00:00+00:00  \n",
       "1            1194  1/5/2023  20:41:42+00:00  \n",
       "2            2015  1/5/2023  19:14:55+00:00  \n",
       "3             181  1/5/2023  18:56:49+00:00  \n",
       "4              72  1/5/2023  18:29:07+00:00  "
      ]
     },
     "execution_count": 4,
     "metadata": {},
     "output_type": "execute_result"
    }
   ],
   "source": [
    "twitter.head()"
   ]
  },
  {
   "cell_type": "code",
   "execution_count": 5,
   "id": "dd6c4334",
   "metadata": {},
   "outputs": [],
   "source": [
    "df1 = twitter[[\"Date\",\"Tweet\"]]"
   ]
  },
  {
   "cell_type": "code",
   "execution_count": 6,
   "id": "0c07f3ef",
   "metadata": {},
   "outputs": [],
   "source": [
    "df2 = df1.copy()\n",
    "# concatenate the string\n",
    "df2['Tweet'] = df2.groupby(['Date'])['Tweet'].transform(lambda x : ' '.join(x))\n",
    "  \n",
    "# drop duplicate data\n",
    "df2 = df2.drop_duplicates()"
   ]
  },
  {
   "cell_type": "code",
   "execution_count": 7,
   "id": "f0543da5",
   "metadata": {},
   "outputs": [
    {
     "data": {
      "text/html": [
       "<div>\n",
       "<style scoped>\n",
       "    .dataframe tbody tr th:only-of-type {\n",
       "        vertical-align: middle;\n",
       "    }\n",
       "\n",
       "    .dataframe tbody tr th {\n",
       "        vertical-align: top;\n",
       "    }\n",
       "\n",
       "    .dataframe thead th {\n",
       "        text-align: right;\n",
       "    }\n",
       "</style>\n",
       "<table border=\"1\" class=\"dataframe\">\n",
       "  <thead>\n",
       "    <tr style=\"text-align: right;\">\n",
       "      <th></th>\n",
       "      <th>Date</th>\n",
       "      <th>Tweet</th>\n",
       "    </tr>\n",
       "  </thead>\n",
       "  <tbody>\n",
       "    <tr>\n",
       "      <th>0</th>\n",
       "      <td>1/5/2023</td>\n",
       "      <td>#MukeshAmbani, the billionaire chairman of #Re...</td>\n",
       "    </tr>\n",
       "  </tbody>\n",
       "</table>\n",
       "</div>"
      ],
      "text/plain": [
       "       Date                                              Tweet\n",
       "0  1/5/2023  #MukeshAmbani, the billionaire chairman of #Re..."
      ]
     },
     "execution_count": 7,
     "metadata": {},
     "output_type": "execute_result"
    }
   ],
   "source": [
    "df2"
   ]
  },
  {
   "cell_type": "code",
   "execution_count": 8,
   "id": "da5c6654",
   "metadata": {},
   "outputs": [],
   "source": [
    "df2.to_excel(r'tw.xlsx', index = False) "
   ]
  },
  {
   "cell_type": "code",
   "execution_count": null,
   "id": "4952bffb",
   "metadata": {},
   "outputs": [],
   "source": []
  },
  {
   "cell_type": "markdown",
   "id": "08e74d3a",
   "metadata": {},
   "source": [
    "Facebook data - 5th Jan"
   ]
  },
  {
   "cell_type": "code",
   "execution_count": 9,
   "id": "06eade92",
   "metadata": {},
   "outputs": [],
   "source": [
    "import pandas as pd\n",
    "df = pd.read_csv(\"C:/Users/Sree Vidya/Desktop/ISB/Term 2/Foundation Project 1/facebook_data.csv\")"
   ]
  },
  {
   "cell_type": "code",
   "execution_count": 10,
   "id": "074aff47",
   "metadata": {},
   "outputs": [],
   "source": [
    "df3 = df[df[\"date\"] == \"2023-01-05\"]"
   ]
  },
  {
   "cell_type": "code",
   "execution_count": 11,
   "id": "0ff92886",
   "metadata": {},
   "outputs": [
    {
     "data": {
      "text/html": [
       "<div>\n",
       "<style scoped>\n",
       "    .dataframe tbody tr th:only-of-type {\n",
       "        vertical-align: middle;\n",
       "    }\n",
       "\n",
       "    .dataframe tbody tr th {\n",
       "        vertical-align: top;\n",
       "    }\n",
       "\n",
       "    .dataframe thead th {\n",
       "        text-align: right;\n",
       "    }\n",
       "</style>\n",
       "<table border=\"1\" class=\"dataframe\">\n",
       "  <thead>\n",
       "    <tr style=\"text-align: right;\">\n",
       "      <th></th>\n",
       "      <th>date</th>\n",
       "      <th>post_text</th>\n",
       "    </tr>\n",
       "  </thead>\n",
       "  <tbody>\n",
       "    <tr>\n",
       "      <th>2</th>\n",
       "      <td>2023-01-05</td>\n",
       "      <td>Media Release - Hamdard Signs agreement with R...</td>\n",
       "    </tr>\n",
       "  </tbody>\n",
       "</table>\n",
       "</div>"
      ],
      "text/plain": [
       "         date                                          post_text\n",
       "2  2023-01-05  Media Release - Hamdard Signs agreement with R..."
      ]
     },
     "execution_count": 11,
     "metadata": {},
     "output_type": "execute_result"
    }
   ],
   "source": [
    "df3"
   ]
  },
  {
   "cell_type": "code",
   "execution_count": 12,
   "id": "bd52ca32",
   "metadata": {},
   "outputs": [],
   "source": [
    "df3.to_excel(r'fa.xlsx', index = False) "
   ]
  },
  {
   "cell_type": "markdown",
   "id": "b20f8b97",
   "metadata": {},
   "source": [
    "Combined data - twitter and facebook data - 5th Jan "
   ]
  }
 ],
 "metadata": {
  "kernelspec": {
   "display_name": "Python 3 (ipykernel)",
   "language": "python",
   "name": "python3"
  },
  "language_info": {
   "codemirror_mode": {
    "name": "ipython",
    "version": 3
   },
   "file_extension": ".py",
   "mimetype": "text/x-python",
   "name": "python",
   "nbconvert_exporter": "python",
   "pygments_lexer": "ipython3",
   "version": "3.9.12"
  }
 },
 "nbformat": 4,
 "nbformat_minor": 5
}
